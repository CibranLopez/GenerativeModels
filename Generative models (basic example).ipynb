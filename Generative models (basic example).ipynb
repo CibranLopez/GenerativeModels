{
 "cells": [
  {
   "cell_type": "code",
   "execution_count": 8,
   "id": "6a69f99f",
   "metadata": {},
   "outputs": [],
   "source": [
    "import torch.nn    as nn\n",
    "import torch.optim as optim\n",
    "import GM_library  as GML\n",
    "import numpy       as np\n",
    "import torch\n",
    "\n",
    "from os                   import path, listdir\n",
    "from torch.utils.data     import random_split\n",
    "from torch_geometric.data import Data\n",
    "\n",
    "import sys\n",
    "sys.path.append('../')\n",
    "import MP.MP_library as MPL\n",
    "\n",
    "# Checking if pytorch can run in GPU, else CPU\n",
    "device = torch.device('cuda' if torch.cuda.is_available() else 'cpu')"
   ]
  },
  {
   "cell_type": "code",
   "execution_count": 15,
   "id": "75aa6001",
   "metadata": {},
   "outputs": [],
   "source": [
    "# Machine-learning parameters\n",
    "n_epochs      = 1000\n",
    "batch_size    = 128\n",
    "learning_rate = 0.0001\n",
    "\n",
    "# Number of diffusing and denoising steps, which can be different\n",
    "n_diffusing_steps = 20\n",
    "n_denoising_steps = 20\n",
    "\n",
    "# Decay of parameter alpha\n",
    "alpha_decay = 1e-5\n",
    "\n",
    "# Dropouts for node and edge models (independent of each other)\n",
    "dropout_node = 0.2\n",
    "dropout_edge = 0.2"
   ]
  },
  {
   "cell_type": "code",
   "execution_count": null,
   "id": "ee5804a7",
   "metadata": {},
   "outputs": [],
   "source": [
    "diffused_graph = GML.diffuse(graph, n_diffusing_steps,\n",
    "                             s=alpha_decay, plot_steps=True)"
   ]
  },
  {
   "cell_type": "code",
   "execution_count": null,
   "id": "bff71abe",
   "metadata": {},
   "outputs": [],
   "source": [
    "node_model = torch.load()\n",
    "edge_model = torch.load()"
   ]
  },
  {
   "cell_type": "code",
   "execution_count": null,
   "id": "40eab6f6",
   "metadata": {},
   "outputs": [],
   "source": [
    "denoised_graph = GML.denoise(diffused_graph, n_denoising_steps, node_model, edge_model,\n",
    "                             s=alpha_decay, plot_steps=True)"
   ]
  }
 ],
 "metadata": {
  "kernelspec": {
   "display_name": "Python 3 (ipykernel)",
   "language": "python",
   "name": "python3"
  },
  "language_info": {
   "codemirror_mode": {
    "name": "ipython",
    "version": 3
   },
   "file_extension": ".py",
   "mimetype": "text/x-python",
   "name": "python",
   "nbconvert_exporter": "python",
   "pygments_lexer": "ipython3",
   "version": "3.11.1"
  }
 },
 "nbformat": 4,
 "nbformat_minor": 5
}
