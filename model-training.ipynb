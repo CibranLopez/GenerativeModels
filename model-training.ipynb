{
 "cells": [
  {
   "cell_type": "code",
   "execution_count": 1,
   "id": "6a69f99f",
   "metadata": {
    "ExecuteTime": {
     "end_time": "2024-02-26T15:24:37.426894465Z",
     "start_time": "2024-02-26T15:24:36.299966273Z"
    }
   },
   "outputs": [],
   "source": [
    "import matplotlib.pyplot as plt \n",
    "import numpy             as np\n",
    "import torch\n",
    "import json\n",
    "import os\n",
    "\n",
    "from torch_geometric.data   import Data, Batch\n",
    "from torch_geometric.loader import DataLoader\n",
    "from libraries.model        import nGCNN, eGCNN, diffusion_step, get_graph_losses, add_features_to_graph, predict_noise, diffuse, denoise\n",
    "\n",
    "# Checking if pytorch can run in GPU, else CPU\n",
    "device = torch.device('cuda' if torch.cuda.is_available() else 'cpu')"
   ]
  },
  {
   "cell_type": "code",
   "outputs": [
    {
     "data": {
      "text/plain": "device(type='cuda')"
     },
     "execution_count": 2,
     "metadata": {},
     "output_type": "execute_result"
    }
   ],
   "source": [
    "device"
   ],
   "metadata": {
    "collapsed": false,
    "ExecuteTime": {
     "end_time": "2024-02-26T15:24:37.431699991Z",
     "start_time": "2024-02-26T15:24:37.428594836Z"
    }
   },
   "id": "74450972cebeaa56",
   "execution_count": 2
  },
  {
   "cell_type": "code",
   "execution_count": 3,
   "id": "686ad446",
   "metadata": {
    "ExecuteTime": {
     "end_time": "2024-02-26T15:24:37.432751691Z",
     "start_time": "2024-02-26T15:24:37.430838069Z"
    }
   },
   "outputs": [],
   "source": [
    "# Based on adding and removing noise to graphs\n",
    "# The models is able to learn hidden patterns\n",
    "# It can be conditionally trained with respect to some target property"
   ]
  },
  {
   "cell_type": "code",
   "execution_count": 4,
   "id": "33a85832",
   "metadata": {
    "ExecuteTime": {
     "end_time": "2024-02-26T15:24:37.626583679Z",
     "start_time": "2024-02-26T15:24:37.432496290Z"
    }
   },
   "outputs": [],
   "source": [
    "# Define name of data folder where reference dataset are contained\n",
    "# It shall be consistent with data_folder and data will be moved to models folder\n",
    "data_name = 'GM_BiSI'\n",
    "\n",
    "# Define folder in which data is stored\n",
    "data_folder   = f'data/{data_name}'\n",
    "\n",
    "# The folder is named as target_folder_vi (eg, target_folder_v0)\n",
    "general_folder = f'models/{data_name}'\n",
    "if not os.path.exists(general_folder):\n",
    "    # Generate new folder\n",
    "    os.system(f'mkdir {general_folder}')\n",
    "\n",
    "# Each new run generates a new folder, with different generations and training most likely (as data might vary as well)\n",
    "i = 0\n",
    "while True:\n",
    "    target_folder = f'{general_folder}/GM_v{i}'\n",
    "    if not os.path.exists(target_folder):\n",
    "        # Copy all data\n",
    "        os.system(f'cp -r {data_folder} {target_folder}')\n",
    "        break\n",
    "    i += 1\n",
    "\n",
    "edge_model_name = f'{target_folder}/edge_model.pt'\n",
    "node_model_name = f'{target_folder}/node_model.pt'"
   ]
  },
  {
   "cell_type": "code",
   "execution_count": 5,
   "id": "75aa6001",
   "metadata": {
    "ExecuteTime": {
     "end_time": "2024-02-26T15:24:37.671904396Z",
     "start_time": "2024-02-26T15:24:37.627908684Z"
    }
   },
   "outputs": [],
   "source": [
    "# Machine-learning parameters\n",
    "n_epochs      = 3000\n",
    "batch_size    = 32\n",
    "learning_rate = 0.0001\n",
    "\n",
    "# Number of diffusing and denoising steps\n",
    "n_t_steps = 5\n",
    "\n",
    "# Amount of noise for the generative process\n",
    "sigma = 0  # Zero for training purposes\n",
    "\n",
    "# Decay of parameter alpha\n",
    "noise_contribution = 0.05\n",
    "alpha_decay = 0.5 * (1 - noise_contribution**2)\n",
    "\n",
    "# Dropouts for node and edge models (independent of each other)\n",
    "dropout_node = 0.2\n",
    "dropout_edge = 0.2\n",
    "\n",
    "# Create and save as a dictionary\n",
    "model_parameters = {\n",
    "    'data_folder':        data_folder,\n",
    "    'n_epochs':           n_epochs,\n",
    "    'batch_size':         batch_size,\n",
    "    'learning_rate':      learning_rate,\n",
    "    'n_t_steps':          n_t_steps,\n",
    "    'sigma':              sigma,\n",
    "    'noise_contribution': noise_contribution,\n",
    "    'dropout_node':       dropout_node,\n",
    "    'dropout_edge':       dropout_edge\n",
    "}\n",
    "\n",
    "# Write the dictionary to the file in JSON format\n",
    "with open(f'{target_folder}/model_parameters.json', 'w') as json_file:\n",
    "    json.dump(model_parameters, json_file)"
   ]
  },
  {
   "cell_type": "markdown",
   "id": "4946b2e8",
   "metadata": {},
   "source": [
    "# Load of graph database for training"
   ]
  },
  {
   "cell_type": "markdown",
   "id": "9b5cbe57",
   "metadata": {},
   "source": [
    "Load the dataset, already standardized."
   ]
  },
  {
   "cell_type": "code",
   "execution_count": 6,
   "id": "96173a78",
   "metadata": {
    "ExecuteTime": {
     "end_time": "2024-02-26T15:24:39.176987173Z",
     "start_time": "2024-02-26T15:24:38.612311972Z"
    }
   },
   "outputs": [],
   "source": [
    "train_dataset_name_std      = f'{target_folder}/train_dataset.pt'\n",
    "test_dataset_name_std       = f'{target_folder}/test_dataset.pt'\n",
    "dataset_parameters_name_std = f'{target_folder}/standardized_parameters.json'  # Parameters for rescaling the predictions\n",
    "\n",
    "# Load the standardized dataset, with corresponding labels and parameters\n",
    "train_dataset = torch.load(train_dataset_name_std)\n",
    "test_dataset  = torch.load(test_dataset_name_std)\n",
    "\n",
    "# Load the data from the JSON file\n",
    "with open(dataset_parameters_name_std, 'r') as json_file:\n",
    "    numpy_dict = json.load(json_file)\n",
    "\n",
    "# Convert NumPy arrays back to PyTorch tensors\n",
    "dataset_parameters = {key: torch.tensor(value) for key, value in numpy_dict.items()}\n",
    "\n",
    "# Defining target factor\n",
    "target_factor = dataset_parameters['target_std'] / dataset_parameters['scale']"
   ]
  },
  {
   "cell_type": "code",
   "outputs": [],
   "source": [
    "test_dataset = []\n",
    "for i in range(500):\n",
    "    test_dataset.append(train_dataset[i])"
   ],
   "metadata": {
    "collapsed": false,
    "ExecuteTime": {
     "end_time": "2024-02-26T15:24:47.936215755Z",
     "start_time": "2024-02-26T15:24:47.925973274Z"
    }
   },
   "id": "70945317432384ff",
   "execution_count": 8
  },
  {
   "cell_type": "code",
   "outputs": [],
   "source": [
    "train_loader = DataLoader(train_dataset, batch_size=batch_size, shuffle=True, pin_memory=True)\n",
    "test_loader  = DataLoader(test_dataset,  batch_size=batch_size, shuffle=True, pin_memory=True)"
   ],
   "metadata": {
    "ExecuteTime": {
     "end_time": "2024-02-26T15:24:48.190198096Z",
     "start_time": "2024-02-26T15:24:48.184973641Z"
    }
   },
   "id": "86402c04-4b6c-4dfb-b112-6574fc89380d",
   "execution_count": 9
  },
  {
   "cell_type": "markdown",
   "source": [
    "# Definition of the model"
   ],
   "metadata": {
    "collapsed": false
   },
   "id": "28881dd9d41fdf8e"
  },
  {
   "cell_type": "code",
   "execution_count": 10,
   "id": "1591eccef168173b",
   "metadata": {
    "collapsed": false,
    "ExecuteTime": {
     "end_time": "2024-02-26T15:24:51.531178913Z",
     "start_time": "2024-02-26T15:24:51.188688727Z"
    }
   },
   "outputs": [
    {
     "name": "stdout",
     "output_type": "stream",
     "text": [
      "\n",
      "Node GCNN:\n",
      "nGCNN(\n",
      "  (conv1): GraphConv(6, 256)\n",
      "  (conv2): GraphConv(256, 5)\n",
      ")\n",
      "\n",
      "Edge GCNN:\n",
      "eGCNN(\n",
      "  (linear1): Linear(in_features=7, out_features=64, bias=True)\n",
      "  (linear2): Linear(in_features=64, out_features=1, bias=True)\n",
      ")\n"
     ]
    }
   ],
   "source": [
    "# Determine number of node-level features in dataset, considering the t_step information\n",
    "n_node_features = train_dataset[0].num_node_features + 1\n",
    "\n",
    "# Determine the number of graph-level features to be predicted\n",
    "n_graph_features = len(train_dataset[0].y)\n",
    "\n",
    "# Instantiate the models for nodes and edges\n",
    "node_model = nGCNN(n_node_features, n_graph_features, dropout_node).to(device)\n",
    "edge_model = eGCNN(n_node_features, n_graph_features, dropout_edge).to(device)\n",
    "\n",
    "# Moving models to device\n",
    "node_model = node_model.to(device)\n",
    "edge_model = edge_model.to(device)\n",
    "\n",
    "# Load previous model if available\n",
    "try:\n",
    "    # Load model state\n",
    "    node_model.load_state_dict(torch.load(node_model_name))\n",
    "    edge_model.load_state_dict(torch.load(edge_model_name))\n",
    "    \n",
    "    # Evaluate model state\n",
    "    node_model.eval()\n",
    "    edge_model.eval()\n",
    "except FileNotFoundError:\n",
    "    pass\n",
    "\n",
    "print('\\nNode GCNN:')\n",
    "print(node_model)\n",
    "print('\\nEdge GCNN:')\n",
    "print(edge_model)"
   ]
  },
  {
   "cell_type": "markdown",
   "source": [
    "# Training of the model"
   ],
   "metadata": {},
   "id": "31a76fc0"
  },
  {
   "cell_type": "code",
   "outputs": [
    {
     "ename": "IndentationError",
     "evalue": "expected an indented block after 'for' statement on line 48 (2034822223.py, line 54)",
     "output_type": "error",
     "traceback": [
      "\u001B[0;36m  Cell \u001B[0;32mIn[14], line 54\u001B[0;36m\u001B[0m\n\u001B[0;31m    t_step_std = torch.tensor([t_step/n_t_steps - 0.5], dtype=torch.float).to(device)  # Standard normalization\u001B[0m\n\u001B[0m    ^\u001B[0m\n\u001B[0;31mIndentationError\u001B[0m\u001B[0;31m:\u001B[0m expected an indented block after 'for' statement on line 48\n"
     ]
    }
   ],
   "source": [
    "# Loss factor for normalization\n",
    "loss_factor = len(train_dataset) * n_t_steps\n",
    "\n",
    "# Initialize the optimizers\n",
    "node_optimizer = torch.optim.Adam(node_model.parameters(), lr=learning_rate)\n",
    "edge_optimizer = torch.optim.Adam(edge_model.parameters(), lr=learning_rate)\n",
    "\n",
    "# Training loop\n",
    "total_train_losses = []\n",
    "edge_train_losses  = []\n",
    "node_train_losses  = []\n",
    "for epoch in range(n_epochs):\n",
    "    # Initialize train loss variable\n",
    "    total_loss_cum = 0\n",
    "    edge_loss_cum  = 0\n",
    "    node_loss_cum  = 0\n",
    "    for batch_0 in train_loader:  # train_loader\n",
    "        #print()\n",
    "        # Move batch data to GPU\n",
    "        g_batch_0 = batch_0.to(device)\n",
    "        \n",
    "        batch_size_0 = batch_0.num_graphs\n",
    "        \n",
    "        # Save graph-level embedding\n",
    "        embedding_batch_0 = []\n",
    "        for idx in range(batch_size_0):\n",
    "            embedding_batch_0.append(g_batch_0[idx].y.detach().to(device))\n",
    "        \n",
    "        # Initialize the gradient of the optimizers\n",
    "        node_optimizer.zero_grad()\n",
    "        edge_optimizer.zero_grad()\n",
    "        \n",
    "        # Start denoising-diffusing process\n",
    "        for t_step in np.arange(1, n_t_steps+1):\n",
    "            t_step_std = torch.tensor([t_step / n_t_steps - 0.5], dtype=torch.float).to(device)  # Standard normalization\n",
    "        \n",
    "            # Diffuse the graph with some noise\n",
    "            # print()\n",
    "            # print(f'Step: {t_step}')\n",
    "            # print('Diffusing...')\n",
    "            \n",
    "            g_batch_t = []\n",
    "            e_batch_t = []\n",
    "            for idx in range(batch_size_0):\n",
    "                graph_t, epsilon_t = diffusion_step(g_batch_0[idx], t_step, n_t_steps, alpha_decay)\n",
    "                g_batch_t.append(graph_t)\n",
    "                e_batch_t.append(epsilon_t)\n",
    "        \n",
    "                # Update diffused graph as next one\n",
    "                g_batch_0[idx] = g_batch_t[idx].clone()\n",
    "            \n",
    "            # Predict batch noise at given time step\n",
    "            pred_epsilon_t = predict_noise(g_batch_t, embedding_batch_0, t_step_std, node_model, edge_model, alpha_decay, batch_size_0)\n",
    "            \n",
    "            # Generate batch objects\n",
    "            g_batch_t = Batch.from_data_list(g_batch_t)\n",
    "            e_batch_t = Batch.from_data_list(e_batch_t)\n",
    "            \n",
    "            # Move data to device\n",
    "            g_batch_t = g_batch_t.to(device)\n",
    "            e_batch_t = e_batch_t.to(device)\n",
    "            \n",
    "            # Backpropagation and optimization step\n",
    "            #print('Backpropagating...')\n",
    "\n",
    "            # Calculate the loss for node features and edge attributes\n",
    "            node_loss, edge_loss = get_graph_losses(e_batch_t, pred_epsilon_t, batch_size_0)\n",
    "            \n",
    "            # Backpropagate and optimize node loss\n",
    "            node_loss.backward(retain_graph=True)\n",
    "            node_optimizer.step()\n",
    "\n",
    "            # Backpropagate and optimize edge loss\n",
    "            edge_loss.backward(retain_graph=True)\n",
    "            edge_optimizer.step()\n",
    "\n",
    "            # Accumulate the total training loss\n",
    "            loss = node_loss + edge_loss\n",
    "            \n",
    "            # Get items\n",
    "            total_loss_cum += loss.item()\n",
    "            edge_loss_cum  += edge_loss.item()\n",
    "            node_loss_cum  += node_loss.item()\n",
    "    \n",
    "    # Compute the average train loss\n",
    "    total_loss_cum /= loss_factor\n",
    "    edge_loss_cum  /= loss_factor\n",
    "    node_loss_cum  /= loss_factor\n",
    "    \n",
    "    # Append average losses\n",
    "    total_train_losses.append(total_loss_cum)\n",
    "    edge_train_losses.append(edge_loss_cum)\n",
    "    node_train_losses.append(node_loss_cum)\n",
    "    \n",
    "    print(f'Epoch: {epoch+1}, total loss: {total_loss_cum:.4f}, edge loss: {edge_loss_cum:.4f}, node loss: {node_loss_cum:.4f}')\n",
    "    \n",
    "    # Save some checkpoints\n",
    "    if (epoch % 20) == 0:\n",
    "        torch.save(node_model.state_dict(), node_model_name)\n",
    "        torch.save(edge_model.state_dict(), edge_model_name)\n",
    "\n",
    "torch.save(node_model.state_dict(), node_model_name)\n",
    "torch.save(edge_model.state_dict(), edge_model_name)"
   ],
   "metadata": {
    "collapsed": false,
    "ExecuteTime": {
     "end_time": "2024-02-26T17:23:04.164297978Z",
     "start_time": "2024-02-26T17:23:04.116181346Z"
    }
   },
   "id": "887a6b138d433d05",
   "execution_count": 14
  },
  {
   "cell_type": "code",
   "execution_count": 11,
   "id": "aeeffa13",
   "metadata": {
    "ExecuteTime": {
     "end_time": "2024-02-26T15:15:22.956150382Z",
     "start_time": "2024-02-26T15:15:22.877357282Z"
    }
   },
   "outputs": [
    {
     "data": {
      "text/plain": "<Figure size 640x480 with 1 Axes>",
      "image/png": "[encoded data removed]"
     },
     "metadata": {},
     "output_type": "display_data"
    }
   ],
   "source": [
    "plt.plot(np.log(total_train_losses), label='Total')\n",
    "plt.plot(np.log(edge_train_losses),  label='Edge')\n",
    "plt.plot(np.log(node_train_losses),  label='Node')\n",
    "plt.xlabel('Epoch')\n",
    "plt.ylabel('Loss function')\n",
    "plt.legend(loc='best')\n",
    "plt.show()"
   ]
  },
  {
   "cell_type": "markdown",
   "source": [
    "# Test of the model"
   ],
   "metadata": {
    "collapsed": false
   },
   "id": "aeebf15173f65e29"
  },
  {
   "cell_type": "code",
   "outputs": [
    {
     "ename": "RuntimeError",
     "evalue": "The size of tensor a (5) must match the size of tensor b (4) at non-singleton dimension 1",
     "output_type": "error",
     "traceback": [
      "\u001B[0;31m---------------------------------------------------------------------------\u001B[0m",
      "\u001B[0;31mRuntimeError\u001B[0m                              Traceback (most recent call last)",
      "Cell \u001B[0;32mIn[13], line 33\u001B[0m\n\u001B[1;32m     26\u001B[0m \u001B[38;5;66;03m# Denoise the diffused graph\u001B[39;00m\n\u001B[1;32m     27\u001B[0m \u001B[38;5;66;03m#print(f'Denoising...')\u001B[39;00m\n\u001B[1;32m     28\u001B[0m     \n\u001B[1;32m     29\u001B[0m \u001B[38;5;66;03m# Add graph-level embedding to graph_t as node embeddings\u001B[39;00m\n\u001B[1;32m     30\u001B[0m diffused_graph \u001B[38;5;241m=\u001B[39m add_features_to_graph(diffused_graph,\n\u001B[1;32m     31\u001B[0m                                        embedding_batch_0[idx])  \u001B[38;5;66;03m# To match graph.y shape\u001B[39;00m\n\u001B[0;32m---> 33\u001B[0m denoised_graph, _ \u001B[38;5;241m=\u001B[39m \u001B[43mdenoise\u001B[49m\u001B[43m(\u001B[49m\u001B[43mdiffused_graph\u001B[49m\u001B[43m,\u001B[49m\u001B[43m \u001B[49m\u001B[43mn_t_steps\u001B[49m\u001B[43m,\u001B[49m\u001B[43m \u001B[49m\u001B[43mnode_model\u001B[49m\u001B[43m,\u001B[49m\u001B[43m \u001B[49m\u001B[43medge_model\u001B[49m\u001B[43m,\u001B[49m\n\u001B[1;32m     34\u001B[0m \u001B[43m                            \u001B[49m\u001B[43ms\u001B[49m\u001B[38;5;241;43m=\u001B[39;49m\u001B[43malpha_decay\u001B[49m\u001B[43m,\u001B[49m\u001B[43m \u001B[49m\u001B[43msigma\u001B[49m\u001B[38;5;241;43m=\u001B[39;49m\u001B[43msigma\u001B[49m\u001B[43m)\u001B[49m\n\u001B[1;32m     36\u001B[0m \u001B[38;5;66;03m# Calculate the loss for node features and edge attributes\u001B[39;00m\n\u001B[1;32m     37\u001B[0m node_loss, edge_loss \u001B[38;5;241m=\u001B[39m get_graph_losses(diffused_graph, denoised_graph, \u001B[38;5;241m1\u001B[39m)\n",
      "File \u001B[0;32m~/cibran/Work/UPC/GenerativeModels/libraries/model.py:231\u001B[0m, in \u001B[0;36mdenoise\u001B[0;34m(graph_t, n_t_steps, node_model, edge_model, s, sigma, plot_steps, target)\u001B[0m\n\u001B[1;32m    228\u001B[0m     graph_0\u001B[38;5;241m.\u001B[39mx \u001B[38;5;241m=\u001B[39m graph_0\u001B[38;5;241m.\u001B[39mx[:, :\u001B[38;5;241m-\u001B[39m\u001B[38;5;241m1\u001B[39m]\n\u001B[1;32m    230\u001B[0m     \u001B[38;5;66;03m# Denoise the graph with the predicted noise\u001B[39;00m\n\u001B[0;32m--> 231\u001B[0m     graph_0 \u001B[38;5;241m=\u001B[39m \u001B[43mdenoising_step\u001B[49m\u001B[43m(\u001B[49m\u001B[43mgraph_0\u001B[49m\u001B[43m,\u001B[49m\u001B[43m \u001B[49m\u001B[43mnoise_graph\u001B[49m\u001B[43m,\u001B[49m\u001B[43m \u001B[49m\u001B[43mt_step\u001B[49m\u001B[43m,\u001B[49m\u001B[43m \u001B[49m\u001B[43mn_t_steps\u001B[49m\u001B[43m,\u001B[49m\u001B[43m \u001B[49m\u001B[43ms\u001B[49m\u001B[38;5;241;43m=\u001B[39;49m\u001B[43ms\u001B[49m\u001B[43m,\u001B[49m\u001B[43m \u001B[49m\u001B[43msigma\u001B[49m\u001B[38;5;241;43m=\u001B[39;49m\u001B[43msigma\u001B[49m\u001B[43m)\u001B[49m\n\u001B[1;32m    232\u001B[0m     all_graphs\u001B[38;5;241m.\u001B[39mappend(graph_0)\n\u001B[1;32m    234\u001B[0m \u001B[38;5;66;03m# Check if intermediate steps are plotted; then, plot the NetworkX graph\u001B[39;00m\n",
      "File \u001B[0;32m~/cibran/Work/UPC/GenerativeModels/libraries/model.py:272\u001B[0m, in \u001B[0;36mdenoising_step\u001B[0;34m(graph_t, epsilon, t, n_t_steps, s, sigma)\u001B[0m\n\u001B[1;32m    269\u001B[0m epsilon_t \u001B[38;5;241m=\u001B[39m get_random_graph(n_nodes, n_features, graph_t\u001B[38;5;241m.\u001B[39medge_index)\n\u001B[1;32m    271\u001B[0m \u001B[38;5;66;03m# Backard pass\u001B[39;00m\n\u001B[0;32m--> 272\u001B[0m graph_0\u001B[38;5;241m.\u001B[39mx         \u001B[38;5;241m=\u001B[39m \u001B[43mgraph_0\u001B[49m\u001B[38;5;241;43m.\u001B[39;49m\u001B[43mx\u001B[49m\u001B[43m         \u001B[49m\u001B[38;5;241;43m/\u001B[39;49m\u001B[43m \u001B[49m\u001B[43mtorch\u001B[49m\u001B[38;5;241;43m.\u001B[39;49m\u001B[43msqrt\u001B[49m\u001B[43m(\u001B[49m\u001B[43malpha_t\u001B[49m\u001B[43m)\u001B[49m\u001B[43m \u001B[49m\u001B[38;5;241;43m-\u001B[39;49m\u001B[43m \u001B[49m\u001B[43mtorch\u001B[49m\u001B[38;5;241;43m.\u001B[39;49m\u001B[43msqrt\u001B[49m\u001B[43m(\u001B[49m\u001B[43m(\u001B[49m\u001B[38;5;241;43m1\u001B[39;49m\u001B[43m \u001B[49m\u001B[38;5;241;43m-\u001B[39;49m\u001B[43m \u001B[49m\u001B[43malpha_t\u001B[49m\u001B[43m)\u001B[49m\u001B[43m \u001B[49m\u001B[38;5;241;43m/\u001B[39;49m\u001B[43m \u001B[49m\u001B[43malpha_t\u001B[49m\u001B[43m)\u001B[49m\u001B[43m \u001B[49m\u001B[38;5;241;43m*\u001B[39;49m\u001B[43m \u001B[49m\u001B[43mepsilon\u001B[49m\u001B[38;5;241;43m.\u001B[39;49m\u001B[43mx\u001B[49m         \u001B[38;5;241m+\u001B[39m sigma \u001B[38;5;241m*\u001B[39m epsilon_t\u001B[38;5;241m.\u001B[39mx\n\u001B[1;32m    273\u001B[0m graph_0\u001B[38;5;241m.\u001B[39medge_attr \u001B[38;5;241m=\u001B[39m graph_0\u001B[38;5;241m.\u001B[39medge_attr \u001B[38;5;241m/\u001B[39m torch\u001B[38;5;241m.\u001B[39msqrt(alpha_t) \u001B[38;5;241m-\u001B[39m torch\u001B[38;5;241m.\u001B[39msqrt((\u001B[38;5;241m1\u001B[39m \u001B[38;5;241m-\u001B[39m alpha_t) \u001B[38;5;241m/\u001B[39m alpha_t) \u001B[38;5;241m*\u001B[39m epsilon\u001B[38;5;241m.\u001B[39medge_attr \u001B[38;5;241m+\u001B[39m sigma \u001B[38;5;241m*\u001B[39m epsilon_t\u001B[38;5;241m.\u001B[39medge_attr\n\u001B[1;32m    274\u001B[0m \u001B[38;5;28;01mreturn\u001B[39;00m graph_0\n",
      "\u001B[0;31mRuntimeError\u001B[0m: The size of tensor a (5) must match the size of tensor b (4) at non-singleton dimension 1"
     ]
    }
   ],
   "source": [
    "# Training loop\n",
    "total_test_losses = []\n",
    "edge_test_losses  = []\n",
    "node_test_losses  = []\n",
    "for batch_0 in test_loader:\n",
    "    #print()\n",
    "    # Move batch data to GPU\n",
    "    g_batch_0 = batch_0.to(device)\n",
    "    \n",
    "    batch_size_0 = batch_0.num_graphs\n",
    "        \n",
    "    # Save graph-level embedding\n",
    "    embedding_batch_0 = []\n",
    "    for idx in range(batch_size_0):\n",
    "        embedding_batch_0.append(g_batch_0[idx].y.detach().to(device))\n",
    "    \n",
    "    for idx in range(batch_size_0):\n",
    "        graph = g_batch_0[idx]\n",
    "        \n",
    "        # Diffuse the graph with some noise\n",
    "        #print()\n",
    "        #print('Diffusing...')\n",
    "        diffused_graph, _ = diffuse(graph, n_t_steps,\n",
    "                                    s=alpha_decay)\n",
    "        \n",
    "        # Denoise the diffused graph\n",
    "        #print(f'Denoising...')\n",
    "            \n",
    "        # Add graph-level embedding to graph_t as node embeddings\n",
    "        diffused_graph = add_features_to_graph(diffused_graph,\n",
    "                                               embedding_batch_0[idx])  # To match graph.y shape\n",
    "        \n",
    "        denoised_graph, _ = denoise(diffused_graph, n_t_steps, node_model, edge_model,\n",
    "                                    s=alpha_decay, sigma=sigma)\n",
    "        \n",
    "        # Calculate the loss for node features and edge attributes\n",
    "        node_loss, edge_loss = get_graph_losses(diffused_graph, denoised_graph, 1)\n",
    "        \n",
    "        # Accumulate the total training loss\n",
    "        loss = node_loss + edge_loss\n",
    "        \n",
    "        # Get items\n",
    "        total_loss_cum = loss.item()\n",
    "        edge_loss_cum  = edge_loss.item()\n",
    "        node_loss_cum  = node_loss.item()\n",
    "        \n",
    "        # Compute the average train loss\n",
    "        total_loss_cum /= loss_factor\n",
    "        edge_loss_cum  /= loss_factor\n",
    "        node_loss_cum  /= loss_factor\n",
    "        \n",
    "        # Append average losses\n",
    "        total_test_losses.append(total_loss_cum)\n",
    "        edge_test_losses.append(edge_loss_cum)\n",
    "        node_test_losses.append(node_loss_cum)\n",
    "        \n",
    "        print(f'Graph: {idx}, total loss: {total_loss_cum:.4f}, edge loss: {edge_loss_cum:.4f}, node loss: {node_loss_cum:.4f}')"
   ],
   "metadata": {
    "collapsed": false,
    "ExecuteTime": {
     "end_time": "2024-02-26T15:31:22.678658476Z",
     "start_time": "2024-02-26T15:31:22.322949177Z"
    }
   },
   "id": "2fe8468fc69b364a",
   "execution_count": 13
  },
  {
   "cell_type": "code",
   "outputs": [],
   "source": [
    "plt.plot(np.log(total_test_losses), label='Total')\n",
    "plt.plot(np.log(edge_test_losses),  label='Edge')\n",
    "plt.plot(np.log(node_test_losses),  label='Node')\n",
    "plt.xlabel('Epoch')\n",
    "plt.ylabel('Loss function')\n",
    "plt.legend(loc='best')\n",
    "plt.show()"
   ],
   "metadata": {
    "collapsed": false
   },
   "id": "d196836e36b58174"
  }
 ],
 "metadata": {
  "kernelspec": {
   "display_name": "Python 3 (ipykernel)",
   "language": "python",
   "name": "python3"
  },
  "language_info": {
   "codemirror_mode": {
    "name": "ipython",
    "version": 3
   },
   "file_extension": ".py",
   "mimetype": "text/x-python",
   "name": "python",
   "nbconvert_exporter": "python",
   "pygments_lexer": "ipython3",
   "version": "3.10.12"
  }
 },
 "nbformat": 4,
 "nbformat_minor": 5
}
