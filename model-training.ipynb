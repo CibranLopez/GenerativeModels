{
 "cells": [
  {
   "cell_type": "code",
   "execution_count": 1,
   "id": "d6cb4ec9b58cab36",
   "metadata": {
    "ExecuteTime": {
     "end_time": "2024-10-25T18:21:52.337547907Z",
     "start_time": "2024-10-25T18:21:50.860763569Z"
    },
    "collapsed": false,
    "jupyter": {
     "outputs_hidden": false
    }
   },
   "outputs": [
    {
     "name": "stderr",
     "output_type": "stream",
     "text": [
      "/home/claudio/cibran/Work/UPC/GenerativeModels/venv/lib/python3.12/site-packages/matplotlib/projections/__init__.py:63: UserWarning: Unable to import Axes3D. This may be due to multiple versions of Matplotlib being installed (e.g. as a system package and as a pip package). As a result, the 3D projection is not available.\n",
      "  warnings.warn(\"Unable to import Axes3D. This may be due to multiple versions of \"\n"
     ]
    }
   ],
   "source": [
    "import matplotlib.pyplot as plt\n",
    "import numpy             as np\n",
    "import torch.nn          as nn\n",
    "import seaborn           as sns\n",
    "import torch\n",
    "import json\n",
    "import os\n",
    "import sys\n",
    "\n",
    "from torch_geometric.loader import DataLoader\n",
    "from libraries.model        import nGCNN, eGCNN, diffuse_t_steps, get_graph_losses, add_features_to_graph, predict_noise, denoise, EarlyStopping, get_alpha_t\n",
    "from libraries.dataset      import standardize_dataset, get_datasets\n",
    "\n",
    "# Set colormap\n",
    "cmap = plt.get_cmap('plasma')\n",
    "\n",
    "sns.set_theme()\n",
    "\n",
    "# Checking if pytorch can run in GPU, else CPU\n",
    "device = torch.device('cuda' if torch.cuda.is_available() else 'cpu')"
   ]
  },
  {
   "cell_type": "code",
   "execution_count": 2,
   "id": "d2bd0d03e0d6c4c0",
   "metadata": {
    "ExecuteTime": {
     "end_time": "2024-10-25T18:21:52.340618316Z",
     "start_time": "2024-10-25T18:21:52.338866625Z"
    },
    "collapsed": false,
    "jupyter": {
     "outputs_hidden": false
    }
   },
   "outputs": [
    {
     "data": {
      "text/plain": [
       "device(type='cuda')"
      ]
     },
     "execution_count": 2,
     "metadata": {},
     "output_type": "execute_result"
    }
   ],
   "source": [
    "device"
   ]
  },
  {
   "cell_type": "code",
   "execution_count": 3,
   "id": "d4cb0f2aacc0afab",
   "metadata": {
    "ExecuteTime": {
     "end_time": "2024-10-25T18:21:53.904185679Z",
     "start_time": "2024-10-25T18:21:53.901986317Z"
    },
    "collapsed": false,
    "jupyter": {
     "outputs_hidden": false
    }
   },
   "outputs": [],
   "source": [
    "# Based on adding and removing noise to graphs, he model is able to learn hidden patterns\n",
    "# It can be conditionally trained with respect to some target property\n",
    "# Although denoising includes noise, I think it is better not to add it when training"
   ]
  },
  {
   "cell_type": "code",
   "execution_count": 4,
   "id": "31459ad11c33a291",
   "metadata": {
    "ExecuteTime": {
     "end_time": "2024-10-25T18:21:54.246580214Z",
     "start_time": "2024-10-25T18:21:54.071379465Z"
    },
    "collapsed": false,
    "jupyter": {
     "outputs_hidden": false
    }
   },
   "outputs": [
    {
     "data": {
      "text/plain": [
       "'models/MChX/GM_v0'"
      ]
     },
     "execution_count": 4,
     "metadata": {},
     "output_type": "execute_result"
    }
   ],
   "source": [
    "# Define name of data folder where reference dataset are contained\n",
    "# It shall be consistent with data_folder and data will be moved to models folder\n",
    "data_name = 'MChX'  # 'Loaded_MP_bandgap-sphere-images'\n",
    "\n",
    "# Define folder in which data is stored\n",
    "data_folder = f'data/{data_name}'\n",
    "\n",
    "# The folder is named as target_folder_vi (eg, target_folder_v0)\n",
    "general_folder = f'models/{data_name}'\n",
    "if not os.path.exists(general_folder):\n",
    "    # Generate new folder\n",
    "    os.system(f'mkdir {general_folder}')\n",
    "\n",
    "target_folder = 'models/MChX/GM_v0'  # None\n",
    "if target_folder is None:\n",
    "    # Each new run generates a new folder, with different generations and training most likely (as data might vary as well)\n",
    "    i = 0\n",
    "    while True:\n",
    "        target_folder = f'{general_folder}/GM_v{i}'\n",
    "        if not os.path.exists(target_folder):\n",
    "            # Copy all data\n",
    "            os.system(f'cp -r {data_folder} {target_folder}')\n",
    "            break\n",
    "        i += 1\n",
    "\n",
    "edge_model_name = f'{target_folder}/edge_model.pt'\n",
    "node_model_name = f'{target_folder}/node_model.pt'\n",
    "target_folder"
   ]
  },
  {
   "cell_type": "code",
   "execution_count": 5,
   "id": "6208b4c9c572b6d2",
   "metadata": {
    "ExecuteTime": {
     "end_time": "2024-10-25T18:21:55.107143182Z",
     "start_time": "2024-10-25T18:21:55.004397445Z"
    },
    "collapsed": false,
    "jupyter": {
     "outputs_hidden": false
    }
   },
   "outputs": [],
   "source": [
    "# Machine-learning parameters\n",
    "n_epochs      = 2000\n",
    "batch_size    = 256\n",
    "learning_rate = 0.0001\n",
    "patience      = n_epochs\n",
    "delta         = 0.2\n",
    "check_labels  = False  # Whether to train-test split attending to labels or not\n",
    "\n",
    "n_eras = 10  # Number of training eras to train the model in denoising steps\n",
    "\n",
    "# Number of diffusing and denoising steps\n",
    "n_t_steps = torch.tensor(1000, dtype=torch.int, device=device)\n",
    "\n",
    "# Decay of parameter alpha\n",
    "alpha_decay = torch.tensor(0.0001, device=device)\n",
    "\n",
    "# Dropouts for node and edge models (independent of each other)\n",
    "dropout_node = 0.1\n",
    "dropout_edge = 0.1\n",
    "\n",
    "# Create and save as a dictionary\n",
    "model_parameters = {\n",
    "    'data_folder':   data_folder,\n",
    "    'n_eras':        n_eras,\n",
    "    'n_epochs':      n_epochs,\n",
    "    'batch_size':    batch_size,\n",
    "    'learning_rate': learning_rate,\n",
    "    'patience':      patience,\n",
    "    'delta':         delta,\n",
    "    'check_labels':  check_labels,\n",
    "    'n_t_steps':     n_t_steps.cpu().numpy().tolist(),\n",
    "    'alpha_decay':   alpha_decay.cpu().numpy().tolist(),\n",
    "    'dropout_node':  dropout_node,\n",
    "    'dropout_edge':  dropout_edge\n",
    "}\n",
    "\n",
    "# Write the dictionary to the file in JSON format\n",
    "with open(f'{target_folder}/model_parameters.json', 'w') as json_file:\n",
    "    json.dump(model_parameters, json_file)"
   ]
  },
  {
   "cell_type": "markdown",
   "id": "2dc757ea2296182",
   "metadata": {
    "collapsed": false,
    "jupyter": {
     "outputs_hidden": false
    }
   },
   "source": [
    "# Load of graph database for training"
   ]
  },
  {
   "cell_type": "markdown",
   "id": "4a0c94c5e9672e",
   "metadata": {
    "collapsed": false,
    "jupyter": {
     "outputs_hidden": false
    }
   },
   "source": [
    "Load the dataset, already standardized."
   ]
  },
  {
   "cell_type": "code",
   "execution_count": 6,
   "id": "81add81bc5efff72",
   "metadata": {
    "ExecuteTime": {
     "end_time": "2024-10-25T18:22:40.662937118Z",
     "start_time": "2024-10-25T18:21:56.570437488Z"
    },
    "collapsed": false,
    "jupyter": {
     "outputs_hidden": false
    }
   },
   "outputs": [],
   "source": [
    "labels_name                 = f'{target_folder}/labels.pt'\n",
    "dataset_name                = f'{target_folder}/dataset.pt'\n",
    "dataset_name_std            = f'{target_folder}/standardized_dataset.pt'\n",
    "labels_name_std             = f'{target_folder}/standardized_labels.pt'\n",
    "dataset_parameters_name_std = f'{target_folder}/standardized_parameters.json'  # Parameters for rescaling the predictions\n",
    "\n",
    "if os.path.exists(dataset_name_std) and os.path.exists(dataset_parameters_name_std) and os.path.exists(labels_name_std):\n",
    "    # Load the standardized dataset, with corresponding labels and parameters\n",
    "    dataset = torch.load(dataset_name_std, weights_only=False)\n",
    "    labels  = torch.load(labels_name_std,  weights_only=False)\n",
    "    \n",
    "    # Load the data from the JSON file\n",
    "    with open(dataset_parameters_name_std, 'r') as json_file:\n",
    "        numpy_dict = json.load(json_file)\n",
    "\n",
    "    # Convert NumPy arrays back to PyTorch tensors\n",
    "    dataset_parameters = {}\n",
    "    for key, value in numpy_dict.items():\n",
    "        try:\n",
    "            dataset_parameters[key] = torch.tensor(value)\n",
    "        except:\n",
    "            dataset_parameters[key] = value\n",
    "\n",
    "elif os.path.exists(dataset_name) and os.path.exists(labels_name):\n",
    "    # Load the raw dataset, with corresponding labels, and standardize it\n",
    "    dataset = torch.load(dataset_name, weights_only=False)\n",
    "    labels  = torch.load(labels_name,  weights_only=False)\n",
    "    \n",
    "    # Standardize dataset\n",
    "    dataset, labels, dataset_parameters = standardize_dataset(dataset, labels,\n",
    "                                                              transformation='inverse-quadratic')\n",
    "    \n",
    "    # Save standardized dataset\n",
    "    torch.save(dataset, dataset_name_std)\n",
    "    torch.save(labels,  labels_name_std)\n",
    "    \n",
    "    # Convert torch tensors to numpy arrays\n",
    "    numpy_dict = {}\n",
    "    for key, value in dataset_parameters.items():\n",
    "        try:\n",
    "            numpy_dict[key] = value.cpu().numpy().tolist()\n",
    "        except:\n",
    "            numpy_dict[key] = value\n",
    "\n",
    "    # Dump the dictionary with numpy arrays to a JSON file\n",
    "    with open(dataset_parameters_name_std, 'w') as json_file:\n",
    "        json.dump(numpy_dict, json_file)\n",
    "\n",
    "else:\n",
    "    sys.exit('Error: the database is not available')\n",
    "\n",
    "# Defining target factor\n",
    "target_factor = dataset_parameters['target_std'] / dataset_parameters['scale']"
   ]
  },
  {
   "cell_type": "markdown",
   "id": "a813e0dc-6328-4bb2-b3a3-ae979e84498d",
   "metadata": {},
   "source": [
    "Include features and prepare shape of dataset for training, considerably reducing CPU-GPU communication."
   ]
  },
  {
   "cell_type": "code",
   "execution_count": 7,
   "id": "9141a8aa0c071000",
   "metadata": {
    "ExecuteTime": {
     "end_time": "2024-10-25T18:22:41.223180138Z",
     "start_time": "2024-10-25T18:22:41.002003720Z"
    },
    "collapsed": false,
    "jupyter": {
     "outputs_hidden": false
    }
   },
   "outputs": [],
   "source": [
    "# Determine number of graphs in dataset\n",
    "n_graphs = len(dataset)\n",
    "\n",
    "# Determine number of node-level features in dataset\n",
    "n_node_features = dataset[0].num_node_features\n",
    "\n",
    "# Determine the number of graph-level features to be predicted\n",
    "n_graph_features = len(dataset[0].y)\n",
    "\n",
    "# Make room for n_graph_features and t_steps in the dataset\n",
    "for idx in range(n_graphs):\n",
    "    dataset[idx] = add_features_to_graph(dataset[idx],\n",
    "                                         torch.tensor([0, 0]))  #torch.tensor([dataset[idx].y, 0]))"
   ]
  },
  {
   "cell_type": "markdown",
   "id": "cdcd0afbf5b67ea7",
   "metadata": {
    "collapsed": false,
    "jupyter": {
     "outputs_hidden": false
    }
   },
   "source": [
    "Split in train, validation and test sets"
   ]
  },
  {
   "cell_type": "code",
   "execution_count": 8,
   "id": "f051cc1bf95d4aae",
   "metadata": {
    "ExecuteTime": {
     "end_time": "2024-10-25T18:22:56.683866473Z",
     "start_time": "2024-10-25T18:22:41.225372318Z"
    },
    "collapsed": false,
    "jupyter": {
     "outputs_hidden": false
    }
   },
   "outputs": [
    {
     "name": "stdout",
     "output_type": "stream",
     "text": [
      "Number of training   graphs: 343\n",
      "Number of validation graphs: 5\n",
      "Number of testing    graphs: 3\n"
     ]
    }
   ],
   "source": [
    "train_ratio = 0.98\n",
    "test_ratio  = 0.01\n",
    "\n",
    "# Check if data has been already split, else do it randomly\n",
    "path_to_train_labels = f'{target_folder}/train_labels.txt'\n",
    "path_to_val_labels   = f'{target_folder}/validation_labels.txt'\n",
    "path_to_test_labels  = f'{target_folder}/test_labels.txt'\n",
    "\n",
    "# Copy labels\n",
    "material_labels = labels.copy()\n",
    "\n",
    "if check_labels:\n",
    "    if os.path.exists(path_to_train_labels) and os.path.exists(path_to_val_labels) and os.path.exists(path_to_test_labels):\n",
    "        # Read labels splitting (which are strings)\n",
    "        train_labels = np.genfromtxt(path_to_train_labels, dtype='str').tolist()\n",
    "        val_labels   = np.genfromtxt(path_to_val_labels,   dtype='str').tolist()\n",
    "        test_labels  = np.genfromtxt(path_to_test_labels,  dtype='str').tolist()\n",
    "    else:\n",
    "        # Splitting into train-test sets considering that Fvs from the same materials must be in the same dataset\n",
    "        material_labels = [label.split()[0] for label in material_labels]\n",
    "        \n",
    "        # Define unique labels\n",
    "        unique_labels = np.unique(material_labels)\n",
    "        \n",
    "        # Shuffle the list of unique labels\n",
    "        np.random.shuffle(unique_labels)\n",
    "    \n",
    "        # Define the sizes of the train and test sets\n",
    "        # Corresponds to the size wrt the number of unique materials in the dataset\n",
    "        train_size = int(train_ratio * len(unique_labels))\n",
    "        test_size  = int(test_ratio  * len(unique_labels))\n",
    "        \n",
    "        train_labels = unique_labels[:train_size]\n",
    "        val_labels   = unique_labels[train_size:-test_size]\n",
    "        test_labels  = unique_labels[-test_size:]\n",
    "    \n",
    "        # Save this splitting for transfer-learning approaches\n",
    "        np.savetxt(path_to_train_labels, train_labels, fmt='%s')\n",
    "        np.savetxt(path_to_val_labels,   val_labels,   fmt='%s')\n",
    "        np.savetxt(path_to_test_labels,  test_labels,  fmt='%s')\n",
    "\n",
    "    # Use the computed indexes to generate train and test sets\n",
    "    # We iteratively check where labels equals a unique train/test labels and append the index to a list\n",
    "    train_dataset = get_datasets(train_labels, material_labels, dataset)\n",
    "    val_dataset   = get_datasets(val_labels,   material_labels, dataset)\n",
    "    test_dataset  = get_datasets(test_labels,  material_labels, dataset)\n",
    "else:\n",
    "    # Define the sizes of the train and test sets\n",
    "    # Corresponds to the size wrt the number of unique materials in the dataset\n",
    "    train_size = int(train_ratio * len(dataset))\n",
    "    test_size  = int(test_ratio  * len(dataset))\n",
    "\n",
    "    np.random.shuffle(dataset)\n",
    "    # Random, fast splitting\n",
    "    train_dataset = dataset[:train_size]\n",
    "    val_dataset   = dataset[train_size:-test_size]\n",
    "    test_dataset  = dataset[-test_size:]\n",
    "\n",
    "del dataset  # Free up CUDA memory\n",
    "\n",
    "print(f'Number of training   graphs: {len(train_dataset)}')\n",
    "print(f'Number of validation graphs: {len(val_dataset)}')\n",
    "print(f'Number of testing    graphs: {len(test_dataset)}')"
   ]
  },
  {
   "cell_type": "markdown",
   "id": "b2f25e2999d4d5ab",
   "metadata": {
    "collapsed": false,
    "jupyter": {
     "outputs_hidden": false
    }
   },
   "source": [
    "Define data loaders."
   ]
  },
  {
   "cell_type": "code",
   "execution_count": 9,
   "id": "86226627fd660ca4",
   "metadata": {
    "ExecuteTime": {
     "end_time": "2024-10-25T18:22:56.684414643Z",
     "start_time": "2024-10-25T18:22:56.683788707Z"
    },
    "collapsed": false,
    "jupyter": {
     "outputs_hidden": false
    }
   },
   "outputs": [],
   "source": [
    "train_loader = DataLoader(train_dataset, batch_size=batch_size, shuffle=True, num_workers=16, pin_memory=True)\n",
    "val_loader   = DataLoader(val_dataset,   batch_size=batch_size, shuffle=True, num_workers=16, pin_memory=True)\n",
    "test_loader  = DataLoader(test_dataset,  batch_size=batch_size, shuffle=True, num_workers=16, pin_memory=True)\n",
    "del train_dataset, val_dataset, test_dataset  # Free up CUDA memory"
   ]
  },
  {
   "cell_type": "markdown",
   "id": "95db14b7003fd1f8",
   "metadata": {
    "collapsed": false,
    "jupyter": {
     "outputs_hidden": false
    }
   },
   "source": [
    "# Definition of the model"
   ]
  },
  {
   "cell_type": "code",
   "execution_count": 10,
   "id": "7ead2e3b00e44faf",
   "metadata": {
    "ExecuteTime": {
     "end_time": "2024-10-25T18:22:56.698384348Z",
     "start_time": "2024-10-25T18:22:56.683874819Z"
    },
    "collapsed": false,
    "jupyter": {
     "outputs_hidden": false
    }
   },
   "outputs": [
    {
     "name": "stdout",
     "output_type": "stream",
     "text": [
      "\n",
      "Node GCNN:\n",
      "DataParallel(\n",
      "  (module): nGCNN(\n",
      "    (conv1): GraphConv(6, 256)\n",
      "    (conv2): GraphConv(256, 512)\n",
      "    (conv3): GraphConv(512, 256)\n",
      "    (conv4): GraphConv(256, 4)\n",
      "    (norm1): BatchNorm1d(256, eps=1e-05, momentum=0.1, affine=True, track_running_stats=True)\n",
      "  )\n",
      ")\n",
      "\n",
      "Edge GCNN:\n",
      "DataParallel(\n",
      "  (module): eGCNN(\n",
      "    (linear1): Linear(in_features=7, out_features=128, bias=True)\n",
      "    (linear2): Linear(in_features=128, out_features=256, bias=True)\n",
      "    (linear3): Linear(in_features=256, out_features=64, bias=True)\n",
      "    (linear4): Linear(in_features=64, out_features=1, bias=True)\n",
      "    (norm1): BatchNorm1d(64, eps=1e-05, momentum=0.1, affine=True, track_running_stats=True)\n",
      "  )\n",
      ")\n"
     ]
    }
   ],
   "source": [
    "# Instantiate the models for nodes and edges, considering the t_step information; n_graph_features+1 for accounting for the time step\n",
    "node_model = nGCNN(n_node_features, n_graph_features+1, dropout_node).to(device)\n",
    "edge_model = eGCNN(n_node_features, n_graph_features+1, dropout_edge).to(device)\n",
    "\n",
    "# Load previous model if available\n",
    "try:\n",
    "    # Load and evaluate model state\n",
    "    node_model.load_state_dict(torch.load(node_model_name, map_location=torch.device(device), weights_only=False))\n",
    "    node_model.eval()\n",
    "    edge_model.load_state_dict(torch.load(edge_model_name, map_location=torch.device(device), weights_only=False))\n",
    "    edge_model.eval()\n",
    "except FileNotFoundError:\n",
    "    pass\n",
    "\n",
    "# Allow data parallelization among multi-GPU\n",
    "node_model= nn.DataParallel(node_model)\n",
    "edge_model= nn.DataParallel(edge_model)\n",
    "\n",
    "print('\\nNode GCNN:')\n",
    "print(node_model)\n",
    "print('\\nEdge GCNN:')\n",
    "print(edge_model)"
   ]
  },
  {
   "cell_type": "markdown",
   "id": "2ca0f4a07f1c8daa",
   "metadata": {
    "collapsed": false,
    "jupyter": {
     "outputs_hidden": false
    }
   },
   "source": [
    "# Training of the model"
   ]
  },
  {
   "cell_type": "code",
   "execution_count": null,
   "id": "627e0753-870a-44c2-bbed-02a311bb521a",
   "metadata": {
    "ExecuteTime": {
     "end_time": "2024-10-25T18:22:57.625570410Z",
     "start_time": "2024-10-25T18:22:56.703077598Z"
    },
    "collapsed": false,
    "jupyter": {
     "outputs_hidden": false
    }
   },
   "outputs": [],
   "source": [
    "node_attributes_list = ['edge_attr', 'atomic_mass', 'charge', 'electronegativity', 'ionization_energy']\n",
    "\n",
    "# Initialize the optimizers\n",
    "node_optimizer = torch.optim.Adam(node_model.parameters(), lr=learning_rate)\n",
    "edge_optimizer = torch.optim.Adam(edge_model.parameters(), lr=learning_rate)\n",
    "\n",
    "# Initialize early stopping\n",
    "node_early_stopping = EarlyStopping(patience=patience, delta=delta, model_name=node_model_name)\n",
    "edge_early_stopping = EarlyStopping(patience=patience, delta=delta, model_name=edge_model_name)\n",
    "\n",
    "# Training loop\n",
    "edge_train_losses = []\n",
    "node_train_losses = []\n",
    "for epoch in range(n_epochs):\n",
    "    # Initialize train loss variable\n",
    "    edge_loss_cum = 0\n",
    "    node_loss_cum = np.zeros(n_node_features, dtype=float)\n",
    "    ground_truth = {k: [] for k in node_attributes_list}\n",
    "    prediction   = {k: [] for k in node_attributes_list}\n",
    "    \n",
    "    fig, ax = plt.subplots(1, len(node_attributes_list), figsize=(10, 2))\n",
    "\n",
    "    for batch_idx, batch_0 in enumerate(train_loader):\n",
    "        # Clone batch of graphs and move to device\n",
    "        g_batch_0 = batch_0.clone().to(device)\n",
    "\n",
    "        # Start denoising-diffusing process\n",
    "        for _ in range(n_eras):\n",
    "            # Generate a random t step\n",
    "            t_step = torch.randint(0, n_t_steps, (1,))[0]\n",
    "\n",
    "            # Initialize the gradient of the optimizers\n",
    "            node_optimizer.zero_grad()\n",
    "            edge_optimizer.zero_grad()\n",
    "            \n",
    "            # Standard normalization for the time step, which is added to node-level graph embeddings after \n",
    "            t_step_std = t_step / n_t_steps - 0.5 \n",
    "            \n",
    "            # Diffuse the entire batch of graphs with Gaussian noise\n",
    "            # Vectorized version of diffusion_step for batching\n",
    "            g_batch_t, e_batch_t = diffuse_t_steps(g_batch_0,\n",
    "                                                   t_step, n_t_steps, alpha_decay,\n",
    "                                                   n_features=n_node_features)\n",
    "            \n",
    "            # Stack time step across batch dimension \n",
    "            g_batch_t.x[:, -1] = t_step_std\n",
    "            \n",
    "            # Predict batch noise at given time step\n",
    "            pred_epsilon_t = predict_noise(g_batch_t, node_model, edge_model)\n",
    "\n",
    "            # Calculate the losses for node features and edge attributes\n",
    "            node_losses, edge_loss = get_graph_losses(e_batch_t, pred_epsilon_t)\n",
    "            \n",
    "            # Combine losses for each attribute tensors\n",
    "            node_loss = torch.stack(node_losses).sum()\n",
    "            \n",
    "            # Get items\n",
    "            node_loss_cum += np.array([node_loss.item() for node_loss in node_losses])\n",
    "            edge_loss_cum += edge_loss.item()\n",
    "            \n",
    "            # Backpropagate and optimize node loss\n",
    "            if not node_early_stopping.early_stop:\n",
    "                node_loss.backward(retain_graph=True)\n",
    "                torch.nn.utils.clip_grad_norm_(node_model.parameters(), max_norm=2.0)\n",
    "                node_optimizer.step()\n",
    "\n",
    "            # Backpropagate and optimize edge loss\n",
    "            if not edge_early_stopping.early_stop:\n",
    "                edge_loss.backward(retain_graph=True)\n",
    "                torch.nn.utils.clip_grad_norm_(edge_model.parameters(), max_norm=2.0)\n",
    "                edge_optimizer.step()\n",
    "\n",
    "            # Randomly sample batches to store data\n",
    "            if not t_step%1 and batch_idx == 0:\n",
    "                for key, idx in zip(node_attributes_list, range(n_node_features+1)):\n",
    "                    # In this order: edge_attr, x0, x1, x2, x3, ... to lists\n",
    "                    gt_value   = (     e_batch_t.edge_attr if not idx else      e_batch_t.x[:, idx-1]).cpu().detach().numpy().tolist()\n",
    "                    pred_value = (pred_epsilon_t.edge_attr if not idx else pred_epsilon_t.x[:, idx-1]).cpu().detach().numpy().tolist()\n",
    "\n",
    "                    # Append to dictionaries\n",
    "                    ground_truth[key].append(gt_value)\n",
    "                    prediction[key].append(pred_value)\n",
    "\n",
    "                    ax[idx].plot(gt_value, pred_value, '.', color=cmap(((t_step + 1) / n_t_steps).cpu().detach().numpy()))\n",
    "    \n",
    "    # Plot once per epoch\n",
    "    for idx, item in enumerate(ground_truth):\n",
    "        gt_values   = np.concatenate(ground_truth[item])\n",
    "        pred_values = np.concatenate(prediction[item])\n",
    "        \n",
    "        _min, _max = min(gt_values.min(), pred_values.min()), max(gt_values.max(), pred_values.max())\n",
    "        ax[idx].plot([_min, _max], [_min, _max], '-r')\n",
    "    plt.show()\n",
    "\n",
    "    # Compute the average train loss over n_t_steps\n",
    "    node_loss_cum /= (n_eras * len(train_loader))\n",
    "    edge_loss_cum /= (n_eras * len(train_loader))\n",
    "\n",
    "    # Append average losses\n",
    "    node_train_losses.append(node_loss_cum)\n",
    "    edge_train_losses.append(edge_loss_cum)\n",
    "\n",
    "    # Check early stopping criteria\n",
    "    node_early_stopping(node_loss_cum.sum(), node_model)\n",
    "    edge_early_stopping(edge_loss_cum,       edge_model)\n",
    "\n",
    "    if node_early_stopping.early_stop and edge_early_stopping.early_stop:\n",
    "        print('Early stopping')\n",
    "        break\n",
    "\n",
    "    print_node_loss = ' '.join([f'{node_loss:.4f}' for node_loss in node_loss_cum])\n",
    "    print(f'Epoch: {epoch+1}, edge loss: {edge_loss_cum:.4f}, node loss: {print_node_loss}')"
   ]
  },
  {
   "cell_type": "code",
   "execution_count": null,
   "id": "64005213-eece-4e4b-8ee6-2e4913e847c1",
   "metadata": {},
   "outputs": [],
   "source": [
    "rescaled_edge_train_losses = np.sqrt(edge_train_losses) * dataset_parameters['edge_std'].numpy() + dataset_parameters['edge_mean'].numpy()\n",
    "rescaled_edge_train_losses"
   ]
  },
  {
   "cell_type": "code",
   "execution_count": 14,
   "id": "8bfb8249-2ad7-47cb-84e9-d8549c6717f9",
   "metadata": {
    "ExecuteTime": {
     "end_time": "2024-06-30T20:03:31.369806601Z",
     "start_time": "2024-06-30T20:03:31.366148559Z"
    },
    "collapsed": false,
    "jupyter": {
     "outputs_hidden": false
    }
   },
   "outputs": [
    {
     "data": {
      "text/plain": [
       "array([[156.25337695,  64.36137412,   2.63953945,  10.34585641],\n",
       "       [153.90147556,  62.57532597,   2.62532158,  10.27397947],\n",
       "       [153.39465107,  62.2829982 ,   2.62254092,  10.26199176],\n",
       "       ...,\n",
       "       [131.09069421,  53.81580762,   2.50028403,   9.66680856],\n",
       "       [130.42468489,  53.69647935,   2.49673366,   9.64469772],\n",
       "       [130.24723731,  53.58551794,   2.49593617,   9.64426658]])"
      ]
     },
     "execution_count": 14,
     "metadata": {},
     "output_type": "execute_result"
    }
   ],
   "source": [
    "node_train_losses = np.array(node_train_losses)\n",
    "rescaled_node_loss_cum = np.sqrt(node_train_losses) * dataset_parameters['feat_std'].numpy() + dataset_parameters['feat_mean'].numpy()\n",
    "rescaled_node_loss_cum"
   ]
  },
  {
   "cell_type": "code",
   "execution_count": 15,
   "id": "c7d426ca-ff59-45c3-8cb2-2b0472170e70",
   "metadata": {
    "ExecuteTime": {
     "end_time": "2024-06-30T20:03:31.433903110Z",
     "start_time": "2024-06-30T20:03:31.371026869Z"
    },
    "collapsed": false,
    "jupyter": {
     "outputs_hidden": false
    }
   },
   "outputs": [
    {
     "data": {
      "image/png": "[encoded data removed]",
      "text/plain": [
       "<Figure size 640x480 with 1 Axes>"
      ]
     },
     "metadata": {},
     "output_type": "display_data"
    }
   ],
   "source": [
    "plt.plot(np.log(edge_train_losses), label='Edge')\n",
    "plt.xlabel('Epoch')\n",
    "plt.ylabel('Loss function')\n",
    "plt.legend(loc='best')\n",
    "plt.show()"
   ]
  },
  {
   "cell_type": "code",
   "execution_count": 16,
   "id": "9fa583ac-d357-497a-8f61-75f49754191f",
   "metadata": {
    "ExecuteTime": {
     "end_time": "2024-06-30T20:03:31.807704623Z",
     "start_time": "2024-06-30T20:03:31.486950285Z"
    },
    "collapsed": false,
    "jupyter": {
     "outputs_hidden": false
    }
   },
   "outputs": [
    {
     "name": "stderr",
     "output_type": "stream",
     "text": [
      "The PostScript backend does not support transparency; partially transparent artists will be rendered opaque.\n"
     ]
    },
    {
     "data": {
      "image/png": "[encoded data removed]",
      "text/plain": [
       "<Figure size 640x480 with 1 Axes>"
      ]
     },
     "metadata": {},
     "output_type": "display_data"
    }
   ],
   "source": [
    "plt.plot(np.log(np.array(node_train_losses)[:, 0]), label=f'Atomic mass')\n",
    "plt.plot(np.log(np.array(node_train_losses)[:, 1]), label=f'Charge')\n",
    "plt.plot(np.log(np.array(node_train_losses)[:, 2]), label=f'Electronegativity')\n",
    "plt.plot(np.log(np.array(node_train_losses)[:, 3]), label=f'Ionization energy')\n",
    "plt.xlabel('Epoch')\n",
    "plt.ylabel('Loss function')\n",
    "plt.legend(loc='best')\n",
    "plt.savefig('Losses.eps', dpi=50, bbox_inches='tight')\n",
    "plt.show()"
   ]
  },
  {
   "cell_type": "markdown",
   "id": "792c339357d9b80",
   "metadata": {
    "collapsed": false,
    "jupyter": {
     "outputs_hidden": false
    }
   },
   "source": [
    "# Test of the model"
   ]
  },
  {
   "cell_type": "code",
   "execution_count": 17,
   "id": "ebfaa164497b70e3",
   "metadata": {
    "ExecuteTime": {
     "end_time": "2024-06-30T20:07:31.265017721Z",
     "start_time": "2024-06-30T20:03:31.809107806Z"
    },
    "collapsed": false,
    "jupyter": {
     "outputs_hidden": false
    }
   },
   "outputs": [
    {
     "name": "stdout",
     "output_type": "stream",
     "text": [
      "Batch: 0, edge loss: nan, node loss: nan nan nan nan\n"
     ]
    }
   ],
   "source": [
    "# Training loop\n",
    "edge_test_losses = 0\n",
    "node_test_losses = np.zeros(n_node_features, dtype=float)\n",
    "with torch.no_grad():\n",
    "    for batch_idx, batch_0 in enumerate(test_loader):\n",
    "        # Move batch to device\n",
    "        batch_0 = batch_0.to(device)\n",
    "        \n",
    "        # Clone batch of graphs and move to device\n",
    "        g_batch_0 = batch_0.clone()\n",
    "        \n",
    "        # Diffuse batch\n",
    "        g_batch_t, _ = diffuse_t_steps(g_batch_0,\n",
    "                                       n_t_steps, n_t_steps, alpha_decay,\n",
    "                                       n_features=n_node_features)\n",
    "        \n",
    "        # Denoise batch\n",
    "        g_batch_0 = denoise(g_batch_t,\n",
    "                            n_t_steps, alpha_decay,\n",
    "                            node_model, edge_model,\n",
    "                            n_features=n_node_features)\n",
    "        \n",
    "        # Calculate the loss for node features and edge attributes\n",
    "        node_losses, edge_loss = get_graph_losses(batch_0, g_batch_0)\n",
    "        \n",
    "        # Get items\n",
    "        node_loss_cum = np.array([node_loss.item() for node_loss in node_losses])[:n_node_features]\n",
    "        edge_loss_cum = edge_loss.item()\n",
    "        \n",
    "        # Append average losses\n",
    "        edge_test_losses += edge_loss_cum\n",
    "        node_test_losses += node_loss_cum\n",
    "        \n",
    "        print_node_loss = ' '.join([f'{node_loss:.4f}' for node_loss in node_loss_cum])\n",
    "        print(f'Batch: {batch_idx}, edge loss: {edge_loss_cum:.4f}, node loss: {print_node_loss}')"
   ]
  },
  {
   "cell_type": "code",
   "execution_count": 13,
   "id": "c946d95d-f7c0-48fb-b054-8bd5efe604ae",
   "metadata": {},
   "outputs": [],
   "source": [
    "# Training loop\n",
    "edge_test_losses = 0\n",
    "node_test_losses = np.zeros(n_node_features, dtype=float)\n",
    "with torch.no_grad():\n",
    "    for batch_idx, batch_0 in enumerate(test_loader):\n",
    "        # Move batch to device\n",
    "        batch_0 = batch_0.to(device)\n",
    "        \n",
    "        # Clone batch of graphs and move to device\n",
    "        g_batch_0 = batch_0.clone()\n",
    "        \n",
    "        # Diffuse batch\n",
    "        g_batch_t, _ = diffuse_t_steps(g_batch_0,\n",
    "                                       n_t_steps, n_t_steps, alpha_decay,\n",
    "                                       n_features=n_node_features)"
   ]
  },
  {
   "cell_type": "code",
   "execution_count": null,
   "id": "6c95defd-47ab-423d-9aa6-2a0f7f918daa",
   "metadata": {},
   "outputs": [],
   "source": []
  },
  {
   "cell_type": "code",
   "execution_count": 18,
   "id": "58c472fb-62cb-430b-acf0-21b9b4bc3b8d",
   "metadata": {},
   "outputs": [],
   "source": [
    "import numpy               as np\n",
    "import matplotlib.pyplot   as plt\n",
    "import torch.nn.functional as F\n",
    "import torch.nn            as nn\n",
    "import networkx            as nx\n",
    "import torch\n",
    "import sys\n",
    "\n",
    "from torch_geometric.data          import Data, Batch\n",
    "from torch.nn                      import Linear\n",
    "from torch_geometric.nn            import GraphConv\n",
    "from torch_geometric.utils.convert import to_networkx\n",
    "\n",
    "# Checking if pytorch can run in GPU, else CPU\n",
    "device = torch.device('cuda' if torch.cuda.is_available() else 'cpu')\n",
    "\n",
    "\n",
    "def get_alpha_t(t_step, n_t_steps, alpha_decay):\n",
    "    \"\"\"Defines constant alpha at time-step t, given a parameter s < 0.5 (else alpha increases).\n",
    "    \n",
    "    \\\\alpha (t) = (1 - 2 s) \\\\left( 1 - \\\\left( \\\\frac{t}{T} \\\\right)^2 \\\\right) + s\n",
    "\n",
    "    Args:\n",
    "        t_step      (int):   time step (of diffusion or denoising) in which alpha is required.\n",
    "        n_t_steps   (int):   total number of steps.\n",
    "        alpha_decay (float): parameter which controls the decay of alpha with t.\n",
    "\n",
    "    Returns:\n",
    "        alpha (float): parameter which controls how much signal is retained.\n",
    "    \"\"\"\n",
    "\n",
    "    return (1 - 2 * alpha_decay) * (1 - (t_step / n_t_steps)**2) + alpha_decay\n",
    "\n",
    "\n",
    "def get_sigma_t(t_step, n_t_steps, alpha_decay):\n",
    "    \"\"\"Defines constant sigma at time-step t, given alpha at t.\n",
    "\n",
    "    \\\\sigma (t) = \\\\sqrt( 1 - \\\\alpha^2_t )\n",
    "\n",
    "    Args:\n",
    "        t_step      (int):   time step (of diffusion or denoising) in which alpha is required.\n",
    "        n_t_steps   (int):   total number of steps.\n",
    "        alpha_decay (float): parameter which controls the decay of alpha with t.\n",
    "\n",
    "    Returns:\n",
    "        sigma (float): parameter which controls how much noise is added.\n",
    "    \"\"\"\n",
    "\n",
    "    alpha_t = get_alpha_t(t_step, n_t_steps, alpha_decay)\n",
    "    return torch.sqrt(1 - alpha_t**2)\n",
    "\n",
    "\n",
    "def get_alpha_t_s(t, s, n_t_steps, alpha_decay):\n",
    "    \"\"\"Computes sigma_t over sigma_s.\n",
    "\n",
    "    \\\\alpha (t, s) = \\\\alpha_t / \\\\alpha_s\n",
    "\n",
    "    Args:\n",
    "        t           (int):   time step.\n",
    "        s           (int):   time step.\n",
    "        n_t_steps   (int):   total number of steps.\n",
    "        alpha_decay (float): parameter which controls the decay of alpha with t.\n",
    "\n",
    "    Returns:\n",
    "        alpha_t over alpha_s (float).\n",
    "    \"\"\"\n",
    "\n",
    "    alpha_t = get_alpha_t(t, n_t_steps, alpha_decay)\n",
    "    alpha_s = get_alpha_t(s, n_t_steps, alpha_decay)\n",
    "\n",
    "    return alpha_t / alpha_s\n",
    "\n",
    "\n",
    "def get_sigma_t_s(t, s, n_t_steps, alpha_decay):\n",
    "    \"\"\"Computes sigma_t over sigma_s.\n",
    "\n",
    "    \\\\sigma (t, s) = \\\\sqrt( \\\\sigma^2_t - \\\\alpha^2_{t,s} \\\\sigma^2_s )\n",
    "\n",
    "    Args:\n",
    "        t           (int):   time step.\n",
    "        s           (int):   time step.\n",
    "        n_t_steps   (int):   total number of steps.\n",
    "        alpha_decay (float): parameter which controls the decay of alpha with t.\n",
    "\n",
    "    Returns:\n",
    "        sigma_t over sigma_s (float).\n",
    "    \"\"\"\n",
    "\n",
    "    alpha_t_s = get_alpha_t_s(t, s, n_t_steps, alpha_decay)\n",
    "    sigma_t   = get_sigma_t(t, n_t_steps, alpha_decay)\n",
    "    sigma_s   = get_sigma_t(s, n_t_steps, alpha_decay)\n",
    "\n",
    "    return torch.sqrt(sigma_t**2 - alpha_t_s**2 * sigma_s**2)\n",
    "\n",
    "\n",
    "def get_sigma_t_to_s(t, s, n_t_steps, alpha_decay):\n",
    "    \"\"\"Computes sigma_t over sigma_s.\n",
    "\n",
    "    \\\\sigma (t, s) = \\\\sqrt( \\\\sigma^2_t - \\\\alpha^2_{t,s} \\\\sigma^2_s )\n",
    "\n",
    "    Args:\n",
    "        t           (int):   time step.\n",
    "        s           (int):   time step.\n",
    "        n_t_steps   (int):   total number of steps.\n",
    "        alpha_decay (float): parameter which controls the decay of alpha with t.\n",
    "\n",
    "    Returns:\n",
    "        sigma_t over sigma_s (float).\n",
    "    \"\"\"\n",
    "\n",
    "    sigma_t   = get_sigma_t(t, n_t_steps, alpha_decay)\n",
    "    sigma_s   = get_sigma_t(s, n_t_steps, alpha_decay)\n",
    "    sigma_t_s = get_sigma_t_s(t, s, n_t_steps, alpha_decay)\n",
    "\n",
    "    return sigma_t_s * sigma_s / sigma_t\n",
    "\n",
    "\n",
    "def predict_noise(batch_t, node_model, edge_model):\n",
    "    \"\"\"Predicts noise given some batch of noisy graphs using specified models.\n",
    "\n",
    "    Args:\n",
    "        batch_t    (torch_geometric.data.Data): Batch with noisy undirected graphs, consistent with model definitions.\n",
    "        node_model (torch.nn.Module):           Model for graph-node prediction.\n",
    "        edge_model (torch.nn.Module):           Model for graph-edge prediction.\n",
    "        \n",
    "\n",
    "    Returns:\n",
    "        pred_e_batch_t (torch_geometric.data.Data): Predicted noise for batch g_batch_t.\n",
    "    \"\"\"\n",
    "\n",
    "    batch_0 = batch_t.clone()\n",
    "\n",
    "    # Perform a single forward pass for predicting node features\n",
    "    out_x = node_model(batch_t.x, batch_t.edge_index, batch_t.edge_attr)\n",
    "\n",
    "    # Define x_i and x_j as features of every corresponding pair of nodes (same order than attributes)\n",
    "    x_i = batch_t.x[batch_t.edge_index[0]]\n",
    "    x_j = batch_t.x[batch_t.edge_index[1]]\n",
    "    \n",
    "    # Perform a single forward pass for predicting edge attributes\n",
    "    # Introduce previous edge attributes as features as well\n",
    "    out_attr = edge_model(x_i, x_j, batch_t.edge_attr).ravel()\n",
    "\n",
    "    # Update node features and edge attributes in g_batch_0 with the predicted out_x and out_attr\n",
    "    batch_0.x         = out_x\n",
    "    batch_0.edge_attr = out_attr\n",
    "    return batch_0\n",
    "\n",
    "\n",
    "def denoising_step(batch_t, epsilon_t, t_step, n_t_steps, alpha_decay, n_features=None):\n",
    "    \"\"\"Performs a forward step of a denoising chain.\n",
    "\n",
    "    Args:\n",
    "        batch_t    (Batch): Batch of graphs to be diffused.\n",
    "        epsilon_t  (Batch): Predicted noise to subtract at step t.\n",
    "        alpha_t    (float): Constant from the step of the diffusion process.\n",
    "        sigma      (float): Parameter which controls the amount of noised added when generating.\n",
    "        n_features (int):   Number of node features to be diffused (:n_features).\n",
    "\n",
    "    Returns:\n",
    "        graph_0 (torch_geometric.data.Data): Denoised graph (step t-1).\n",
    "    \"\"\"\n",
    "\n",
    "    # Clone the original batch of graphs to prevent in-place modifications\n",
    "    batch_s = batch_t.clone()\n",
    "\n",
    "    # Number of nodes and features per graph\n",
    "    n_nodes    = batch_s.x.size(0)\n",
    "    n_features = n_features if n_features is not None else batch_s.x.size(1)\n",
    "    \n",
    "    # Generate gaussian (normal) noise\n",
    "    epsilon = get_random_graph(n_nodes, n_features, batch_s.edge_index)\n",
    "\n",
    "    alpha_t_s    = get_alpha_t_s(t_step, t_step-1, n_t_steps, alpha_decay)\n",
    "    sigma_t      = get_sigma_t(t_step, n_t_steps, alpha_decay)\n",
    "    sigma_t_s    = get_sigma_t_s(t_step, t_step-1, n_t_steps, alpha_decay)\n",
    "    sigma_t_to_s = get_sigma_t_to_s(t_step, t_step-1, n_t_steps, alpha_decay)\n",
    "\n",
    "    aux = sigma_t_s**2 / (alpha_t_s * sigma_t)\n",
    "    \n",
    "    sigma_s = get_sigma_t(t_step-1, n_t_steps, alpha_decay)\n",
    "    alpha_t = get_alpha_t(t_step, n_t_steps, alpha_decay)\n",
    "    alpha_s = get_alpha_t(t_step-1, n_t_steps, alpha_decay)\n",
    "    print('alpha_t', alpha_t, 'alpha_s', alpha_s, 'alpha_t_s', alpha_t_s, 'sigma_t', sigma_t, 'sigma_s', sigma_s, 'sigma_t_s', sigma_t_s, 'sigma_t_to_s', sigma_t_to_s, 'aux', aux)\n",
    "\n",
    "    # Backward pass\n",
    "    batch_s.x[:, :n_features] = batch_s.x[:, :n_features] / alpha_t_s - aux * epsilon_t.x         + sigma_t_to_s * epsilon.x\n",
    "    batch_s.edge_attr         = batch_s.edge_attr         / alpha_t_s - aux * epsilon_t.edge_attr + sigma_t_to_s * epsilon.edge_attr\n",
    "    return batch_s\n",
    "\n",
    "\n",
    "def denoise(batch_t, n_t_steps, alpha_decay, node_model, edge_model, plot_steps=False, n_features=None):\n",
    "    \"\"\"Performs consecutive steps of diffusion in a reference batch of graphs.\n",
    "\n",
    "    Args:\n",
    "        batch_t     (Batch):           Reference batch of graphs to be denoised (step t-1).\n",
    "        n_t_steps   (int):             Number of diffusive steps.\n",
    "        alpha_decay (float):           Parameter which controls the decay of alpha with t.\n",
    "        node_model  (torch.nn.Module): Model for graph-node prediction.\n",
    "        edge_model  (torch.nn.Module): Model for graph-edge prediction.\n",
    "        plot_steps  (bool, int):       Whether to plot each intermediate step, or which graph from batch.\n",
    "        n_features  (int):             Number of node features to be diffused (:n_features).\n",
    "\n",
    "    Returns:\n",
    "        graph_0 (torch_geometric.data.Data): Graph with random node features and edge attributes (step t).\n",
    "    \"\"\"\n",
    "\n",
    "    # Clone batch of graphs and move to device\n",
    "    batch_s = batch_t.clone().to(device)\n",
    "\n",
    "    for t_step in torch.arange(n_t_steps, device=device):\n",
    "        # Standard normalization for the time step, which is added to node-level graph embeddings after\n",
    "        t_step_std = t_step / n_t_steps - 0.5\n",
    "\n",
    "        # Stack time step across batch dimension\n",
    "        batch_s.x[:, -1] = t_step_std\n",
    "\n",
    "        # Predict batch noise at given time step\n",
    "        pred_epsilon_t = predict_noise(batch_s,\n",
    "                                       node_model, edge_model)\n",
    "        \n",
    "        # Check if intermediate steps are plotted; then, plot the NetworkX graph\n",
    "        if plot_steps:\n",
    "            # Convert PyTorch graph to NetworkX graph\n",
    "            networkx_graph = to_networkx(batch_s[plot_steps])\n",
    "            pos            = nx.spring_layout(networkx_graph)\n",
    "            nx.draw(networkx_graph, pos, with_labels=True, node_size=batch_s[plot_steps].x, font_size=10)\n",
    "            plt.show()\n",
    "\n",
    "        # Compute alpha_t and denoise batch altogether\n",
    "        batch_s = denoising_step(batch_s, pred_epsilon_t,\n",
    "                                 t_step, n_t_steps, alpha_decay,\n",
    "                                 n_features=n_features)\n",
    "        print(batch_s.x[:2])\n",
    "        \n",
    "    # Check if intermediate steps are plotted; then, plot the NetworkX graph\n",
    "    if plot_steps:\n",
    "        # Convert PyTorch graph to NetworkX graph\n",
    "        networkx_graph = to_networkx(batch_s[plot_steps])\n",
    "        pos            = nx.spring_layout(networkx_graph)\n",
    "        nx.draw(networkx_graph, pos, with_labels=True, node_size=batch_s[plot_steps].x, font_size=10)\n",
    "        plt.show()\n",
    "    return batch_s"
   ]
  },
  {
   "cell_type": "code",
   "execution_count": 19,
   "id": "dbfa849d-e7db-47bd-b9b5-afa5825aea3e",
   "metadata": {},
   "outputs": [
    {
     "name": "stdout",
     "output_type": "stream",
     "text": [
      "alpha_t tensor(0.9999, device='cuda:0') alpha_s tensor(0.9999, device='cuda:0') alpha_t_s tensor(1.0000, device='cuda:0') sigma_t tensor(0.0141, device='cuda:0') sigma_s tensor(0.0142, device='cuda:0') sigma_t_s tensor(nan, device='cuda:0') sigma_t_to_s tensor(nan, device='cuda:0') aux tensor(nan, device='cuda:0')\n",
      "tensor([[    nan,     nan,     nan,     nan,  0.0000, -0.5000],\n",
      "        [    nan,     nan,     nan,     nan,  0.0000, -0.5000]],\n",
      "       device='cuda:0', grad_fn=<SliceBackward0>)\n",
      "alpha_t tensor(0.9999, device='cuda:0') alpha_s tensor(0.9999, device='cuda:0') alpha_t_s tensor(1.0000, device='cuda:0') sigma_t tensor(0.0142, device='cuda:0') sigma_s tensor(0.0141, device='cuda:0') sigma_t_s tensor(0.0014, device='cuda:0') sigma_t_to_s tensor(0.0014, device='cuda:0') aux tensor(0.0001, device='cuda:0')\n",
      "tensor([[    nan,     nan,     nan,     nan,  0.0000, -0.4990],\n",
      "        [    nan,     nan,     nan,     nan,  0.0000, -0.4990]],\n",
      "       device='cuda:0', grad_fn=<SliceBackward0>)\n",
      "alpha_t tensor(0.9999, device='cuda:0') alpha_s tensor(0.9999, device='cuda:0') alpha_t_s tensor(1.0000, device='cuda:0') sigma_t tensor(0.0144, device='cuda:0') sigma_s tensor(0.0142, device='cuda:0') sigma_t_s tensor(0.0024, device='cuda:0') sigma_t_to_s tensor(0.0024, device='cuda:0') aux tensor(0.0004, device='cuda:0')\n",
      "tensor([[    nan,     nan,     nan,     nan,  0.0000, -0.4980],\n",
      "        [    nan,     nan,     nan,     nan,  0.0000, -0.4980]],\n",
      "       device='cuda:0', grad_fn=<SliceBackward0>)\n",
      "alpha_t tensor(0.9999, device='cuda:0') alpha_s tensor(0.9999, device='cuda:0') alpha_t_s tensor(1.0000, device='cuda:0') sigma_t tensor(0.0148, device='cuda:0') sigma_s tensor(0.0144, device='cuda:0') sigma_t_s tensor(0.0032, device='cuda:0') sigma_t_to_s tensor(0.0031, device='cuda:0') aux tensor(0.0007, device='cuda:0')\n",
      "tensor([[    nan,     nan,     nan,     nan,  0.0000, -0.4970],\n",
      "        [    nan,     nan,     nan,     nan,  0.0000, -0.4970]],\n",
      "       device='cuda:0', grad_fn=<SliceBackward0>)\n",
      "alpha_t tensor(0.9999, device='cuda:0') alpha_s tensor(0.9999, device='cuda:0') alpha_t_s tensor(1.0000, device='cuda:0') sigma_t tensor(0.0152, device='cuda:0') sigma_s tensor(0.0148, device='cuda:0') sigma_t_s tensor(0.0037, device='cuda:0') sigma_t_to_s tensor(0.0036, device='cuda:0') aux tensor(0.0009, device='cuda:0')\n",
      "tensor([[    nan,     nan,     nan,     nan,  0.0000, -0.4960],\n",
      "        [    nan,     nan,     nan,     nan,  0.0000, -0.4960]],\n",
      "       device='cuda:0', grad_fn=<SliceBackward0>)\n",
      "alpha_t tensor(0.9999, device='cuda:0') alpha_s tensor(0.9999, device='cuda:0') alpha_t_s tensor(1.0000, device='cuda:0') sigma_t tensor(0.0158, device='cuda:0') sigma_s tensor(0.0152, device='cuda:0') sigma_t_s tensor(0.0042, device='cuda:0') sigma_t_to_s tensor(0.0041, device='cuda:0') aux tensor(0.0011, device='cuda:0')\n",
      "tensor([[    nan,     nan,     nan,     nan,  0.0000, -0.4950],\n",
      "        [    nan,     nan,     nan,     nan,  0.0000, -0.4950]],\n",
      "       device='cuda:0', grad_fn=<SliceBackward0>)\n",
      "alpha_t tensor(0.9999, device='cuda:0') alpha_s tensor(0.9999, device='cuda:0') alpha_t_s tensor(1.0000, device='cuda:0') sigma_t tensor(0.0165, device='cuda:0') sigma_s tensor(0.0158, device='cuda:0') sigma_t_s tensor(0.0047, device='cuda:0') sigma_t_to_s tensor(0.0045, device='cuda:0') aux tensor(0.0013, device='cuda:0')\n",
      "tensor([[    nan,     nan,     nan,     nan,  0.0000, -0.4940],\n",
      "        [    nan,     nan,     nan,     nan,  0.0000, -0.4940]],\n",
      "       device='cuda:0', grad_fn=<SliceBackward0>)\n",
      "alpha_t tensor(0.9999, device='cuda:0') alpha_s tensor(0.9999, device='cuda:0') alpha_t_s tensor(1.0000, device='cuda:0') sigma_t tensor(0.0173, device='cuda:0') sigma_s tensor(0.0165, device='cuda:0') sigma_t_s tensor(0.0051, device='cuda:0') sigma_t_to_s tensor(0.0049, device='cuda:0') aux tensor(0.0015, device='cuda:0')\n",
      "tensor([[    nan,     nan,     nan,     nan,  0.0000, -0.4930],\n",
      "        [    nan,     nan,     nan,     nan,  0.0000, -0.4930]],\n",
      "       device='cuda:0', grad_fn=<SliceBackward0>)\n",
      "alpha_t tensor(0.9998, device='cuda:0') alpha_s tensor(0.9999, device='cuda:0') alpha_t_s tensor(1.0000, device='cuda:0') sigma_t tensor(0.0181, device='cuda:0') sigma_s tensor(0.0173, device='cuda:0') sigma_t_s tensor(0.0055, device='cuda:0') sigma_t_to_s tensor(0.0052, device='cuda:0') aux tensor(0.0017, device='cuda:0')\n",
      "tensor([[    nan,     nan,     nan,     nan,  0.0000, -0.4920],\n",
      "        [    nan,     nan,     nan,     nan,  0.0000, -0.4920]],\n",
      "       device='cuda:0', grad_fn=<SliceBackward0>)\n",
      "alpha_t tensor(0.9998, device='cuda:0') alpha_s tensor(0.9998, device='cuda:0') alpha_t_s tensor(1.0000, device='cuda:0') sigma_t tensor(0.0190, device='cuda:0') sigma_s tensor(0.0181, device='cuda:0') sigma_t_s tensor(0.0058, device='cuda:0') sigma_t_to_s tensor(0.0055, device='cuda:0') aux tensor(0.0018, device='cuda:0')\n",
      "tensor([[    nan,     nan,     nan,     nan,  0.0000, -0.4910],\n",
      "        [    nan,     nan,     nan,     nan,  0.0000, -0.4910]],\n",
      "       device='cuda:0', grad_fn=<SliceBackward0>)\n",
      "alpha_t tensor(0.9998, device='cuda:0') alpha_s tensor(0.9998, device='cuda:0') alpha_t_s tensor(1.0000, device='cuda:0') sigma_t tensor(0.0200, device='cuda:0') sigma_s tensor(0.0190, device='cuda:0') sigma_t_s tensor(0.0062, device='cuda:0') sigma_t_to_s tensor(0.0059, device='cuda:0') aux tensor(0.0019, device='cuda:0')\n",
      "tensor([[    nan,     nan,     nan,     nan,  0.0000, -0.4900],\n",
      "        [    nan,     nan,     nan,     nan,  0.0000, -0.4900]],\n",
      "       device='cuda:0', grad_fn=<SliceBackward0>)\n",
      "alpha_t tensor(0.9998, device='cuda:0') alpha_s tensor(0.9998, device='cuda:0') alpha_t_s tensor(1.0000, device='cuda:0') sigma_t tensor(0.0210, device='cuda:0') sigma_s tensor(0.0200, device='cuda:0') sigma_t_s tensor(0.0065, device='cuda:0') sigma_t_to_s tensor(0.0062, device='cuda:0') aux tensor(0.0020, device='cuda:0')\n",
      "tensor([[    nan,     nan,     nan,     nan,  0.0000, -0.4890],\n",
      "        [    nan,     nan,     nan,     nan,  0.0000, -0.4890]],\n",
      "       device='cuda:0', grad_fn=<SliceBackward0>)\n",
      "alpha_t tensor(0.9998, device='cuda:0') alpha_s tensor(0.9998, device='cuda:0') alpha_t_s tensor(1.0000, device='cuda:0') sigma_t tensor(0.0221, device='cuda:0') sigma_s tensor(0.0210, device='cuda:0') sigma_t_s tensor(0.0068, device='cuda:0') sigma_t_to_s tensor(0.0065, device='cuda:0') aux tensor(0.0021, device='cuda:0')\n",
      "tensor([[    nan,     nan,     nan,     nan,  0.0000, -0.4880],\n",
      "        [    nan,     nan,     nan,     nan,  0.0000, -0.4880]],\n",
      "       device='cuda:0', grad_fn=<SliceBackward0>)\n",
      "alpha_t tensor(0.9997, device='cuda:0') alpha_s tensor(0.9998, device='cuda:0') alpha_t_s tensor(1.0000, device='cuda:0') sigma_t tensor(0.0232, device='cuda:0') sigma_s tensor(0.0221, device='cuda:0') sigma_t_s tensor(0.0071, device='cuda:0') sigma_t_to_s tensor(0.0067, device='cuda:0') aux tensor(0.0022, device='cuda:0')\n",
      "tensor([[    nan,     nan,     nan,     nan,  0.0000, -0.4870],\n",
      "        [    nan,     nan,     nan,     nan,  0.0000, -0.4870]],\n",
      "       device='cuda:0', grad_fn=<SliceBackward0>)\n",
      "alpha_t tensor(0.9997, device='cuda:0') alpha_s tensor(0.9997, device='cuda:0') alpha_t_s tensor(1.0000, device='cuda:0') sigma_t tensor(0.0243, device='cuda:0') sigma_s tensor(0.0232, device='cuda:0') sigma_t_s tensor(0.0074, device='cuda:0') sigma_t_to_s tensor(0.0070, device='cuda:0') aux tensor(0.0022, device='cuda:0')\n",
      "tensor([[    nan,     nan,     nan,     nan,  0.0000, -0.4860],\n",
      "        [    nan,     nan,     nan,     nan,  0.0000, -0.4860]],\n",
      "       device='cuda:0', grad_fn=<SliceBackward0>)\n",
      "alpha_t tensor(0.9997, device='cuda:0') alpha_s tensor(0.9997, device='cuda:0') alpha_t_s tensor(1.0000, device='cuda:0') sigma_t tensor(0.0255, device='cuda:0') sigma_s tensor(0.0243, device='cuda:0') sigma_t_s tensor(0.0076, device='cuda:0') sigma_t_to_s tensor(0.0073, device='cuda:0') aux tensor(0.0023, device='cuda:0')\n",
      "tensor([[    nan,     nan,     nan,     nan,  0.0000, -0.4850],\n",
      "        [    nan,     nan,     nan,     nan,  0.0000, -0.4850]],\n",
      "       device='cuda:0', grad_fn=<SliceBackward0>)\n",
      "alpha_t tensor(0.9996, device='cuda:0') alpha_s tensor(0.9997, device='cuda:0') alpha_t_s tensor(1.0000, device='cuda:0') sigma_t tensor(0.0267, device='cuda:0') sigma_s tensor(0.0255, device='cuda:0') sigma_t_s tensor(0.0079, device='cuda:0') sigma_t_to_s tensor(0.0075, device='cuda:0') aux tensor(0.0023, device='cuda:0')\n",
      "tensor([[    nan,     nan,     nan,     nan,  0.0000, -0.4840],\n",
      "        [    nan,     nan,     nan,     nan,  0.0000, -0.4840]],\n",
      "       device='cuda:0', grad_fn=<SliceBackward0>)\n",
      "alpha_t tensor(0.9996, device='cuda:0') alpha_s tensor(0.9996, device='cuda:0') alpha_t_s tensor(1.0000, device='cuda:0') sigma_t tensor(0.0279, device='cuda:0') sigma_s tensor(0.0267, device='cuda:0') sigma_t_s tensor(0.0081, device='cuda:0') sigma_t_to_s tensor(0.0078, device='cuda:0') aux tensor(0.0024, device='cuda:0')\n",
      "tensor([[    nan,     nan,     nan,     nan,  0.0000, -0.4830],\n",
      "        [    nan,     nan,     nan,     nan,  0.0000, -0.4830]],\n",
      "       device='cuda:0', grad_fn=<SliceBackward0>)\n",
      "alpha_t tensor(0.9996, device='cuda:0') alpha_s tensor(0.9996, device='cuda:0') alpha_t_s tensor(1.0000, device='cuda:0') sigma_t tensor(0.0291, device='cuda:0') sigma_s tensor(0.0279, device='cuda:0') sigma_t_s tensor(0.0084, device='cuda:0') sigma_t_to_s tensor(0.0080, device='cuda:0') aux tensor(0.0024, device='cuda:0')\n",
      "tensor([[    nan,     nan,     nan,     nan,  0.0000, -0.4820],\n",
      "        [    nan,     nan,     nan,     nan,  0.0000, -0.4820]],\n",
      "       device='cuda:0', grad_fn=<SliceBackward0>)\n",
      "alpha_t tensor(0.9995, device='cuda:0') alpha_s tensor(0.9996, device='cuda:0') alpha_t_s tensor(1.0000, device='cuda:0') sigma_t tensor(0.0304, device='cuda:0') sigma_s tensor(0.0291, device='cuda:0') sigma_t_s tensor(0.0086, device='cuda:0') sigma_t_to_s tensor(0.0083, device='cuda:0') aux tensor(0.0024, device='cuda:0')\n",
      "tensor([[    nan,     nan,     nan,     nan,  0.0000, -0.4810],\n",
      "        [    nan,     nan,     nan,     nan,  0.0000, -0.4810]],\n",
      "       device='cuda:0', grad_fn=<SliceBackward0>)\n",
      "alpha_t tensor(0.9995, device='cuda:0') alpha_s tensor(0.9995, device='cuda:0') alpha_t_s tensor(1.0000, device='cuda:0') sigma_t tensor(0.0316, device='cuda:0') sigma_s tensor(0.0304, device='cuda:0') sigma_t_s tensor(0.0088, device='cuda:0') sigma_t_to_s tensor(0.0085, device='cuda:0') aux tensor(0.0025, device='cuda:0')\n",
      "tensor([[    nan,     nan,     nan,     nan,  0.0000, -0.4800],\n",
      "        [    nan,     nan,     nan,     nan,  0.0000, -0.4800]],\n",
      "       device='cuda:0', grad_fn=<SliceBackward0>)\n",
      "alpha_t tensor(0.9995, device='cuda:0') alpha_s tensor(0.9995, device='cuda:0') alpha_t_s tensor(1.0000, device='cuda:0') sigma_t tensor(0.0329, device='cuda:0') sigma_s tensor(0.0316, device='cuda:0') sigma_t_s tensor(0.0091, device='cuda:0') sigma_t_to_s tensor(0.0087, device='cuda:0') aux tensor(0.0025, device='cuda:0')\n",
      "tensor([[    nan,     nan,     nan,     nan,  0.0000, -0.4790],\n",
      "        [    nan,     nan,     nan,     nan,  0.0000, -0.4790]],\n",
      "       device='cuda:0', grad_fn=<SliceBackward0>)\n",
      "alpha_t tensor(0.9994, device='cuda:0') alpha_s tensor(0.9995, device='cuda:0') alpha_t_s tensor(1.0000, device='cuda:0') sigma_t tensor(0.0342, device='cuda:0') sigma_s tensor(0.0329, device='cuda:0') sigma_t_s tensor(0.0093, device='cuda:0') sigma_t_to_s tensor(0.0089, device='cuda:0') aux tensor(0.0025, device='cuda:0')\n",
      "tensor([[    nan,     nan,     nan,     nan,  0.0000, -0.4780],\n",
      "        [    nan,     nan,     nan,     nan,  0.0000, -0.4780]],\n",
      "       device='cuda:0', grad_fn=<SliceBackward0>)\n",
      "alpha_t tensor(0.9994, device='cuda:0') alpha_s tensor(0.9994, device='cuda:0') alpha_t_s tensor(1.0000, device='cuda:0') sigma_t tensor(0.0355, device='cuda:0') sigma_s tensor(0.0342, device='cuda:0') sigma_t_s tensor(0.0095, device='cuda:0') sigma_t_to_s tensor(0.0091, device='cuda:0') aux tensor(0.0025, device='cuda:0')\n",
      "tensor([[    nan,     nan,     nan,     nan,  0.0000, -0.4770],\n",
      "        [    nan,     nan,     nan,     nan,  0.0000, -0.4770]],\n",
      "       device='cuda:0', grad_fn=<SliceBackward0>)\n",
      "alpha_t tensor(0.9993, device='cuda:0') alpha_s tensor(0.9994, device='cuda:0') alpha_t_s tensor(1.0000, device='cuda:0') sigma_t tensor(0.0368, device='cuda:0') sigma_s tensor(0.0355, device='cuda:0') sigma_t_s tensor(0.0097, device='cuda:0') sigma_t_to_s tensor(0.0094, device='cuda:0') aux tensor(0.0026, device='cuda:0')\n",
      "tensor([[    nan,     nan,     nan,     nan,  0.0000, -0.4760],\n",
      "        [    nan,     nan,     nan,     nan,  0.0000, -0.4760]],\n",
      "       device='cuda:0', grad_fn=<SliceBackward0>)\n",
      "alpha_t tensor(0.9993, device='cuda:0') alpha_s tensor(0.9993, device='cuda:0') alpha_t_s tensor(1.0000, device='cuda:0') sigma_t tensor(0.0381, device='cuda:0') sigma_s tensor(0.0368, device='cuda:0') sigma_t_s tensor(0.0099, device='cuda:0') sigma_t_to_s tensor(0.0096, device='cuda:0') aux tensor(0.0026, device='cuda:0')\n",
      "tensor([[    nan,     nan,     nan,     nan,  0.0000, -0.4750],\n",
      "        [    nan,     nan,     nan,     nan,  0.0000, -0.4750]],\n",
      "       device='cuda:0', grad_fn=<SliceBackward0>)\n",
      "alpha_t tensor(0.9992, device='cuda:0') alpha_s tensor(0.9993, device='cuda:0') alpha_t_s tensor(0.9999, device='cuda:0') sigma_t tensor(0.0394, device='cuda:0') sigma_s tensor(0.0381, device='cuda:0') sigma_t_s tensor(0.0101, device='cuda:0') sigma_t_to_s tensor(0.0098, device='cuda:0') aux tensor(0.0026, device='cuda:0')\n",
      "tensor([[    nan,     nan,     nan,     nan,  0.0000, -0.4740],\n",
      "        [    nan,     nan,     nan,     nan,  0.0000, -0.4740]],\n",
      "       device='cuda:0', grad_fn=<SliceBackward0>)\n",
      "alpha_t tensor(0.9992, device='cuda:0') alpha_s tensor(0.9992, device='cuda:0') alpha_t_s tensor(0.9999, device='cuda:0') sigma_t tensor(0.0407, device='cuda:0') sigma_s tensor(0.0394, device='cuda:0') sigma_t_s tensor(0.0103, device='cuda:0') sigma_t_to_s tensor(0.0100, device='cuda:0') aux tensor(0.0026, device='cuda:0')\n",
      "tensor([[    nan,     nan,     nan,     nan,  0.0000, -0.4730],\n",
      "        [    nan,     nan,     nan,     nan,  0.0000, -0.4730]],\n",
      "       device='cuda:0', grad_fn=<SliceBackward0>)\n",
      "alpha_t tensor(0.9991, device='cuda:0') alpha_s tensor(0.9992, device='cuda:0') alpha_t_s tensor(0.9999, device='cuda:0') sigma_t tensor(0.0420, device='cuda:0') sigma_s tensor(0.0407, device='cuda:0') sigma_t_s tensor(0.0105, device='cuda:0') sigma_t_to_s tensor(0.0102, device='cuda:0') aux tensor(0.0026, device='cuda:0')\n",
      "tensor([[    nan,     nan,     nan,     nan,  0.0000, -0.4720],\n",
      "        [    nan,     nan,     nan,     nan,  0.0000, -0.4720]],\n",
      "       device='cuda:0', grad_fn=<SliceBackward0>)\n",
      "alpha_t tensor(0.9991, device='cuda:0') alpha_s tensor(0.9991, device='cuda:0') alpha_t_s tensor(0.9999, device='cuda:0') sigma_t tensor(0.0434, device='cuda:0') sigma_s tensor(0.0420, device='cuda:0') sigma_t_s tensor(0.0107, device='cuda:0') sigma_t_to_s tensor(0.0104, device='cuda:0') aux tensor(0.0026, device='cuda:0')\n",
      "tensor([[    nan,     nan,     nan,     nan,  0.0000, -0.4710],\n",
      "        [    nan,     nan,     nan,     nan,  0.0000, -0.4710]],\n",
      "       device='cuda:0', grad_fn=<SliceBackward0>)\n",
      "alpha_t tensor(0.9990, device='cuda:0') alpha_s tensor(0.9991, device='cuda:0') alpha_t_s tensor(0.9999, device='cuda:0') sigma_t tensor(0.0447, device='cuda:0') sigma_s tensor(0.0434, device='cuda:0') sigma_t_s tensor(0.0109, device='cuda:0') sigma_t_to_s tensor(0.0105, device='cuda:0') aux tensor(0.0026, device='cuda:0')\n",
      "tensor([[    nan,     nan,     nan,     nan,  0.0000, -0.4700],\n",
      "        [    nan,     nan,     nan,     nan,  0.0000, -0.4700]],\n",
      "       device='cuda:0', grad_fn=<SliceBackward0>)\n",
      "alpha_t tensor(0.9989, device='cuda:0') alpha_s tensor(0.9990, device='cuda:0') alpha_t_s tensor(0.9999, device='cuda:0') sigma_t tensor(0.0460, device='cuda:0') sigma_s tensor(0.0447, device='cuda:0') sigma_t_s tensor(0.0111, device='cuda:0') sigma_t_to_s tensor(0.0107, device='cuda:0') aux tensor(0.0027, device='cuda:0')\n",
      "tensor([[    nan,     nan,     nan,     nan,  0.0000, -0.4690],\n",
      "        [    nan,     nan,     nan,     nan,  0.0000, -0.4690]],\n",
      "       device='cuda:0', grad_fn=<SliceBackward0>)\n",
      "alpha_t tensor(0.9989, device='cuda:0') alpha_s tensor(0.9989, device='cuda:0') alpha_t_s tensor(0.9999, device='cuda:0') sigma_t tensor(0.0474, device='cuda:0') sigma_s tensor(0.0460, device='cuda:0') sigma_t_s tensor(0.0112, device='cuda:0') sigma_t_to_s tensor(0.0109, device='cuda:0') aux tensor(0.0027, device='cuda:0')\n",
      "tensor([[    nan,     nan,     nan,     nan,  0.0000, -0.4680],\n",
      "        [    nan,     nan,     nan,     nan,  0.0000, -0.4680]],\n",
      "       device='cuda:0', grad_fn=<SliceBackward0>)\n",
      "alpha_t tensor(0.9988, device='cuda:0') alpha_s tensor(0.9989, device='cuda:0') alpha_t_s tensor(0.9999, device='cuda:0') sigma_t tensor(0.0487, device='cuda:0') sigma_s tensor(0.0474, device='cuda:0') sigma_t_s tensor(0.0114, device='cuda:0') sigma_t_to_s tensor(0.0111, device='cuda:0') aux tensor(0.0027, device='cuda:0')\n",
      "tensor([[    nan,     nan,     nan,     nan,  0.0000, -0.4670],\n",
      "        [    nan,     nan,     nan,     nan,  0.0000, -0.4670]],\n",
      "       device='cuda:0', grad_fn=<SliceBackward0>)\n",
      "alpha_t tensor(0.9987, device='cuda:0') alpha_s tensor(0.9988, device='cuda:0') alpha_t_s tensor(0.9999, device='cuda:0') sigma_t tensor(0.0501, device='cuda:0') sigma_s tensor(0.0487, device='cuda:0') sigma_t_s tensor(0.0116, device='cuda:0') sigma_t_to_s tensor(0.0113, device='cuda:0') aux tensor(0.0027, device='cuda:0')\n",
      "tensor([[    nan,     nan,     nan,     nan,  0.0000, -0.4660],\n",
      "        [    nan,     nan,     nan,     nan,  0.0000, -0.4660]],\n",
      "       device='cuda:0', grad_fn=<SliceBackward0>)\n",
      "alpha_t tensor(0.9987, device='cuda:0') alpha_s tensor(0.9987, device='cuda:0') alpha_t_s tensor(0.9999, device='cuda:0') sigma_t tensor(0.0515, device='cuda:0') sigma_s tensor(0.0501, device='cuda:0') sigma_t_s tensor(0.0118, device='cuda:0') sigma_t_to_s tensor(0.0114, device='cuda:0') aux tensor(0.0027, device='cuda:0')\n",
      "tensor([[    nan,     nan,     nan,     nan,  0.0000, -0.4650],\n",
      "        [    nan,     nan,     nan,     nan,  0.0000, -0.4650]],\n",
      "       device='cuda:0', grad_fn=<SliceBackward0>)\n",
      "alpha_t tensor(0.9986, device='cuda:0') alpha_s tensor(0.9987, device='cuda:0') alpha_t_s tensor(0.9999, device='cuda:0') sigma_t tensor(0.0528, device='cuda:0') sigma_s tensor(0.0515, device='cuda:0') sigma_t_s tensor(0.0119, device='cuda:0') sigma_t_to_s tensor(0.0116, device='cuda:0') aux tensor(0.0027, device='cuda:0')\n",
      "tensor([[    nan,     nan,     nan,     nan,  0.0000, -0.4640],\n",
      "        [    nan,     nan,     nan,     nan,  0.0000, -0.4640]],\n",
      "       device='cuda:0', grad_fn=<SliceBackward0>)\n",
      "alpha_t tensor(0.9985, device='cuda:0') alpha_s tensor(0.9986, device='cuda:0') alpha_t_s tensor(0.9999, device='cuda:0') sigma_t tensor(0.0542, device='cuda:0') sigma_s tensor(0.0528, device='cuda:0') sigma_t_s tensor(0.0121, device='cuda:0') sigma_t_to_s tensor(0.0118, device='cuda:0') aux tensor(0.0027, device='cuda:0')\n",
      "tensor([[    nan,     nan,     nan,     nan,  0.0000, -0.4630],\n",
      "        [    nan,     nan,     nan,     nan,  0.0000, -0.4630]],\n",
      "       device='cuda:0', grad_fn=<SliceBackward0>)\n",
      "alpha_t tensor(0.9985, device='cuda:0') alpha_s tensor(0.9985, device='cuda:0') alpha_t_s tensor(0.9999, device='cuda:0') sigma_t tensor(0.0555, device='cuda:0') sigma_s tensor(0.0542, device='cuda:0') sigma_t_s tensor(0.0123, device='cuda:0') sigma_t_to_s tensor(0.0120, device='cuda:0') aux tensor(0.0027, device='cuda:0')\n",
      "tensor([[    nan,     nan,     nan,     nan,  0.0000, -0.4620],\n",
      "        [    nan,     nan,     nan,     nan,  0.0000, -0.4620]],\n",
      "       device='cuda:0', grad_fn=<SliceBackward0>)\n",
      "alpha_t tensor(0.9984, device='cuda:0') alpha_s tensor(0.9985, device='cuda:0') alpha_t_s tensor(0.9999, device='cuda:0') sigma_t tensor(0.0569, device='cuda:0') sigma_s tensor(0.0555, device='cuda:0') sigma_t_s tensor(0.0124, device='cuda:0') sigma_t_to_s tensor(0.0121, device='cuda:0') aux tensor(0.0027, device='cuda:0')\n",
      "tensor([[    nan,     nan,     nan,     nan,  0.0000, -0.4610],\n",
      "        [    nan,     nan,     nan,     nan,  0.0000, -0.4610]],\n",
      "       device='cuda:0', grad_fn=<SliceBackward0>)\n",
      "alpha_t tensor(0.9983, device='cuda:0') alpha_s tensor(0.9984, device='cuda:0') alpha_t_s tensor(0.9999, device='cuda:0') sigma_t tensor(0.0583, device='cuda:0') sigma_s tensor(0.0569, device='cuda:0') sigma_t_s tensor(0.0126, device='cuda:0') sigma_t_to_s tensor(0.0123, device='cuda:0') aux tensor(0.0027, device='cuda:0')\n",
      "tensor([[    nan,     nan,     nan,     nan,  0.0000, -0.4600],\n",
      "        [    nan,     nan,     nan,     nan,  0.0000, -0.4600]],\n",
      "       device='cuda:0', grad_fn=<SliceBackward0>)\n",
      "alpha_t tensor(0.9982, device='cuda:0') alpha_s tensor(0.9983, device='cuda:0') alpha_t_s tensor(0.9999, device='cuda:0') sigma_t tensor(0.0596, device='cuda:0') sigma_s tensor(0.0583, device='cuda:0') sigma_t_s tensor(0.0127, device='cuda:0') sigma_t_to_s tensor(0.0124, device='cuda:0') aux tensor(0.0027, device='cuda:0')\n",
      "tensor([[    nan,     nan,     nan,     nan,  0.0000, -0.4590],\n",
      "        [    nan,     nan,     nan,     nan,  0.0000, -0.4590]],\n",
      "       device='cuda:0', grad_fn=<SliceBackward0>)\n",
      "alpha_t tensor(0.9981, device='cuda:0') alpha_s tensor(0.9982, device='cuda:0') alpha_t_s tensor(0.9999, device='cuda:0') sigma_t tensor(0.0610, device='cuda:0') sigma_s tensor(0.0596, device='cuda:0') sigma_t_s tensor(0.0129, device='cuda:0') sigma_t_to_s tensor(0.0126, device='cuda:0') aux tensor(0.0027, device='cuda:0')\n",
      "tensor([[    nan,     nan,     nan,     nan,  0.0000, -0.4580],\n",
      "        [    nan,     nan,     nan,     nan,  0.0000, -0.4580]],\n",
      "       device='cuda:0', grad_fn=<SliceBackward0>)\n",
      "alpha_t tensor(0.9981, device='cuda:0') alpha_s tensor(0.9981, device='cuda:0') alpha_t_s tensor(0.9999, device='cuda:0') sigma_t tensor(0.0624, device='cuda:0') sigma_s tensor(0.0610, device='cuda:0') sigma_t_s tensor(0.0130, device='cuda:0') sigma_t_to_s tensor(0.0128, device='cuda:0') aux tensor(0.0027, device='cuda:0')\n",
      "tensor([[    nan,     nan,     nan,     nan,  0.0000, -0.4570],\n",
      "        [    nan,     nan,     nan,     nan,  0.0000, -0.4570]],\n",
      "       device='cuda:0', grad_fn=<SliceBackward0>)\n",
      "alpha_t tensor(0.9980, device='cuda:0') alpha_s tensor(0.9981, device='cuda:0') alpha_t_s tensor(0.9999, device='cuda:0') sigma_t tensor(0.0638, device='cuda:0') sigma_s tensor(0.0624, device='cuda:0') sigma_t_s tensor(0.0132, device='cuda:0') sigma_t_to_s tensor(0.0129, device='cuda:0') aux tensor(0.0027, device='cuda:0')\n",
      "tensor([[    nan,     nan,     nan,     nan,  0.0000, -0.4560],\n",
      "        [    nan,     nan,     nan,     nan,  0.0000, -0.4560]],\n",
      "       device='cuda:0', grad_fn=<SliceBackward0>)\n",
      "alpha_t tensor(0.9979, device='cuda:0') alpha_s tensor(0.9980, device='cuda:0') alpha_t_s tensor(0.9999, device='cuda:0') sigma_t tensor(0.0652, device='cuda:0') sigma_s tensor(0.0638, device='cuda:0') sigma_t_s tensor(0.0134, device='cuda:0') sigma_t_to_s tensor(0.0131, device='cuda:0') aux tensor(0.0027, device='cuda:0')\n",
      "tensor([[    nan,     nan,     nan,     nan,  0.0000, -0.4550],\n",
      "        [    nan,     nan,     nan,     nan,  0.0000, -0.4550]],\n",
      "       device='cuda:0', grad_fn=<SliceBackward0>)\n",
      "alpha_t tensor(0.9978, device='cuda:0') alpha_s tensor(0.9979, device='cuda:0') alpha_t_s tensor(0.9999, device='cuda:0') sigma_t tensor(0.0665, device='cuda:0') sigma_s tensor(0.0652, device='cuda:0') sigma_t_s tensor(0.0135, device='cuda:0') sigma_t_to_s tensor(0.0132, device='cuda:0') aux tensor(0.0027, device='cuda:0')\n",
      "tensor([[    nan,     nan,     nan,     nan,  0.0000, -0.4540],\n",
      "        [    nan,     nan,     nan,     nan,  0.0000, -0.4540]],\n",
      "       device='cuda:0', grad_fn=<SliceBackward0>)\n",
      "alpha_t tensor(0.9977, device='cuda:0') alpha_s tensor(0.9978, device='cuda:0') alpha_t_s tensor(0.9999, device='cuda:0') sigma_t tensor(0.0679, device='cuda:0') sigma_s tensor(0.0665, device='cuda:0') sigma_t_s tensor(0.0137, device='cuda:0') sigma_t_to_s tensor(0.0134, device='cuda:0') aux tensor(0.0027, device='cuda:0')\n",
      "tensor([[    nan,     nan,     nan,     nan,  0.0000, -0.4530],\n",
      "        [    nan,     nan,     nan,     nan,  0.0000, -0.4530]],\n",
      "       device='cuda:0', grad_fn=<SliceBackward0>)\n",
      "alpha_t tensor(0.9976, device='cuda:0') alpha_s tensor(0.9977, device='cuda:0') alpha_t_s tensor(0.9999, device='cuda:0') sigma_t tensor(0.0693, device='cuda:0') sigma_s tensor(0.0679, device='cuda:0') sigma_t_s tensor(0.0138, device='cuda:0') sigma_t_to_s tensor(0.0135, device='cuda:0') aux tensor(0.0027, device='cuda:0')\n",
      "tensor([[    nan,     nan,     nan,     nan,  0.0000, -0.4520],\n",
      "        [    nan,     nan,     nan,     nan,  0.0000, -0.4520]],\n",
      "       device='cuda:0', grad_fn=<SliceBackward0>)\n",
      "alpha_t tensor(0.9975, device='cuda:0') alpha_s tensor(0.9976, device='cuda:0') alpha_t_s tensor(0.9999, device='cuda:0') sigma_t tensor(0.0707, device='cuda:0') sigma_s tensor(0.0693, device='cuda:0') sigma_t_s tensor(0.0139, device='cuda:0') sigma_t_to_s tensor(0.0137, device='cuda:0') aux tensor(0.0028, device='cuda:0')\n",
      "tensor([[    nan,     nan,     nan,     nan,  0.0000, -0.4510],\n",
      "        [    nan,     nan,     nan,     nan,  0.0000, -0.4510]],\n",
      "       device='cuda:0', grad_fn=<SliceBackward0>)\n",
      "alpha_t tensor(0.9974, device='cuda:0') alpha_s tensor(0.9975, device='cuda:0') alpha_t_s tensor(0.9999, device='cuda:0') sigma_t tensor(0.0721, device='cuda:0') sigma_s tensor(0.0707, device='cuda:0') sigma_t_s tensor(0.0141, device='cuda:0') sigma_t_to_s tensor(0.0138, device='cuda:0') aux tensor(0.0028, device='cuda:0')\n",
      "tensor([[    nan,     nan,     nan,     nan,  0.0000, -0.4500],\n",
      "        [    nan,     nan,     nan,     nan,  0.0000, -0.4500]],\n",
      "       device='cuda:0', grad_fn=<SliceBackward0>)\n",
      "alpha_t tensor(0.9973, device='cuda:0') alpha_s tensor(0.9974, device='cuda:0') alpha_t_s tensor(0.9999, device='cuda:0') sigma_t tensor(0.0734, device='cuda:0') sigma_s tensor(0.0721, device='cuda:0') sigma_t_s tensor(0.0142, device='cuda:0') sigma_t_to_s tensor(0.0140, device='cuda:0') aux tensor(0.0028, device='cuda:0')\n",
      "tensor([[    nan,     nan,     nan,     nan,  0.0000, -0.4490],\n",
      "        [    nan,     nan,     nan,     nan,  0.0000, -0.4490]],\n",
      "       device='cuda:0', grad_fn=<SliceBackward0>)\n",
      "alpha_t tensor(0.9972, device='cuda:0') alpha_s tensor(0.9973, device='cuda:0') alpha_t_s tensor(0.9999, device='cuda:0') sigma_t tensor(0.0748, device='cuda:0') sigma_s tensor(0.0734, device='cuda:0') sigma_t_s tensor(0.0144, device='cuda:0') sigma_t_to_s tensor(0.0141, device='cuda:0') aux tensor(0.0028, device='cuda:0')\n",
      "tensor([[    nan,     nan,     nan,     nan,  0.0000, -0.4480],\n",
      "        [    nan,     nan,     nan,     nan,  0.0000, -0.4480]],\n",
      "       device='cuda:0', grad_fn=<SliceBackward0>)\n",
      "alpha_t tensor(0.9971, device='cuda:0') alpha_s tensor(0.9972, device='cuda:0') alpha_t_s tensor(0.9999, device='cuda:0') sigma_t tensor(0.0762, device='cuda:0') sigma_s tensor(0.0748, device='cuda:0') sigma_t_s tensor(0.0145, device='cuda:0') sigma_t_to_s tensor(0.0142, device='cuda:0') aux tensor(0.0028, device='cuda:0')\n",
      "tensor([[    nan,     nan,     nan,     nan,  0.0000, -0.4470],\n",
      "        [    nan,     nan,     nan,     nan,  0.0000, -0.4470]],\n",
      "       device='cuda:0', grad_fn=<SliceBackward0>)\n",
      "alpha_t tensor(0.9970, device='cuda:0') alpha_s tensor(0.9971, device='cuda:0') alpha_t_s tensor(0.9999, device='cuda:0') sigma_t tensor(0.0776, device='cuda:0') sigma_s tensor(0.0762, device='cuda:0') sigma_t_s tensor(0.0146, device='cuda:0') sigma_t_to_s tensor(0.0144, device='cuda:0') aux tensor(0.0028, device='cuda:0')\n",
      "tensor([[    nan,     nan,     nan,     nan,  0.0000, -0.4460],\n",
      "        [    nan,     nan,     nan,     nan,  0.0000, -0.4460]],\n",
      "       device='cuda:0', grad_fn=<SliceBackward0>)\n",
      "alpha_t tensor(0.9969, device='cuda:0') alpha_s tensor(0.9970, device='cuda:0') alpha_t_s tensor(0.9999, device='cuda:0') sigma_t tensor(0.0790, device='cuda:0') sigma_s tensor(0.0776, device='cuda:0') sigma_t_s tensor(0.0148, device='cuda:0') sigma_t_to_s tensor(0.0145, device='cuda:0') aux tensor(0.0028, device='cuda:0')\n",
      "tensor([[    nan,     nan,     nan,     nan,  0.0000, -0.4450],\n",
      "        [    nan,     nan,     nan,     nan,  0.0000, -0.4450]],\n",
      "       device='cuda:0', grad_fn=<SliceBackward0>)\n",
      "alpha_t tensor(0.9968, device='cuda:0') alpha_s tensor(0.9969, device='cuda:0') alpha_t_s tensor(0.9999, device='cuda:0') sigma_t tensor(0.0804, device='cuda:0') sigma_s tensor(0.0790, device='cuda:0') sigma_t_s tensor(0.0149, device='cuda:0') sigma_t_to_s tensor(0.0147, device='cuda:0') aux tensor(0.0028, device='cuda:0')\n",
      "tensor([[    nan,     nan,     nan,     nan,  0.0000, -0.4440],\n",
      "        [    nan,     nan,     nan,     nan,  0.0000, -0.4440]],\n",
      "       device='cuda:0', grad_fn=<SliceBackward0>)\n",
      "alpha_t tensor(0.9967, device='cuda:0') alpha_s tensor(0.9968, device='cuda:0') alpha_t_s tensor(0.9999, device='cuda:0') sigma_t tensor(0.0818, device='cuda:0') sigma_s tensor(0.0804, device='cuda:0') sigma_t_s tensor(0.0151, device='cuda:0') sigma_t_to_s tensor(0.0148, device='cuda:0') aux tensor(0.0028, device='cuda:0')\n",
      "tensor([[    nan,     nan,     nan,     nan,  0.0000, -0.4430],\n",
      "        [    nan,     nan,     nan,     nan,  0.0000, -0.4430]],\n",
      "       device='cuda:0', grad_fn=<SliceBackward0>)\n",
      "alpha_t tensor(0.9965, device='cuda:0') alpha_s tensor(0.9967, device='cuda:0') alpha_t_s tensor(0.9999, device='cuda:0') sigma_t tensor(0.0832, device='cuda:0') sigma_s tensor(0.0818, device='cuda:0') sigma_t_s tensor(0.0152, device='cuda:0') sigma_t_to_s tensor(0.0149, device='cuda:0') aux tensor(0.0028, device='cuda:0')\n",
      "tensor([[    nan,     nan,     nan,     nan,  0.0000, -0.4420],\n",
      "        [    nan,     nan,     nan,     nan,  0.0000, -0.4420]],\n",
      "       device='cuda:0', grad_fn=<SliceBackward0>)\n",
      "alpha_t tensor(0.9964, device='cuda:0') alpha_s tensor(0.9965, device='cuda:0') alpha_t_s tensor(0.9999, device='cuda:0') sigma_t tensor(0.0845, device='cuda:0') sigma_s tensor(0.0832, device='cuda:0') sigma_t_s tensor(0.0153, device='cuda:0') sigma_t_to_s tensor(0.0151, device='cuda:0') aux tensor(0.0028, device='cuda:0')\n",
      "tensor([[    nan,     nan,     nan,     nan,  0.0000, -0.4410],\n",
      "        [    nan,     nan,     nan,     nan,  0.0000, -0.4410]],\n",
      "       device='cuda:0', grad_fn=<SliceBackward0>)\n",
      "alpha_t tensor(0.9963, device='cuda:0') alpha_s tensor(0.9964, device='cuda:0') alpha_t_s tensor(0.9999, device='cuda:0') sigma_t tensor(0.0859, device='cuda:0') sigma_s tensor(0.0845, device='cuda:0') sigma_t_s tensor(0.0155, device='cuda:0') sigma_t_to_s tensor(0.0152, device='cuda:0') aux tensor(0.0028, device='cuda:0')\n",
      "tensor([[    nan,     nan,     nan,     nan,  0.0000, -0.4400],\n",
      "        [    nan,     nan,     nan,     nan,  0.0000, -0.4400]],\n",
      "       device='cuda:0', grad_fn=<SliceBackward0>)\n",
      "alpha_t tensor(0.9962, device='cuda:0') alpha_s tensor(0.9963, device='cuda:0') alpha_t_s tensor(0.9999, device='cuda:0') sigma_t tensor(0.0873, device='cuda:0') sigma_s tensor(0.0859, device='cuda:0') sigma_t_s tensor(0.0156, device='cuda:0') sigma_t_to_s tensor(0.0153, device='cuda:0') aux tensor(0.0028, device='cuda:0')\n",
      "tensor([[    nan,     nan,     nan,     nan,  0.0000, -0.4390],\n",
      "        [    nan,     nan,     nan,     nan,  0.0000, -0.4390]],\n",
      "       device='cuda:0', grad_fn=<SliceBackward0>)\n",
      "alpha_t tensor(0.9961, device='cuda:0') alpha_s tensor(0.9962, device='cuda:0') alpha_t_s tensor(0.9999, device='cuda:0') sigma_t tensor(0.0887, device='cuda:0') sigma_s tensor(0.0873, device='cuda:0') sigma_t_s tensor(0.0157, device='cuda:0') sigma_t_to_s tensor(0.0155, device='cuda:0') aux tensor(0.0028, device='cuda:0')\n",
      "tensor([[    nan,     nan,     nan,     nan,  0.0000, -0.4380],\n",
      "        [    nan,     nan,     nan,     nan,  0.0000, -0.4380]],\n",
      "       device='cuda:0', grad_fn=<SliceBackward0>)\n",
      "alpha_t tensor(0.9959, device='cuda:0') alpha_s tensor(0.9961, device='cuda:0') alpha_t_s tensor(0.9999, device='cuda:0') sigma_t tensor(0.0901, device='cuda:0') sigma_s tensor(0.0887, device='cuda:0') sigma_t_s tensor(0.0158, device='cuda:0') sigma_t_to_s tensor(0.0156, device='cuda:0') aux tensor(0.0028, device='cuda:0')\n",
      "tensor([[    nan,     nan,     nan,     nan,  0.0000, -0.4370],\n",
      "        [    nan,     nan,     nan,     nan,  0.0000, -0.4370]],\n",
      "       device='cuda:0', grad_fn=<SliceBackward0>)\n",
      "alpha_t tensor(0.9958, device='cuda:0') alpha_s tensor(0.9959, device='cuda:0') alpha_t_s tensor(0.9999, device='cuda:0') sigma_t tensor(0.0915, device='cuda:0') sigma_s tensor(0.0901, device='cuda:0') sigma_t_s tensor(0.0160, device='cuda:0') sigma_t_to_s tensor(0.0157, device='cuda:0') aux tensor(0.0028, device='cuda:0')\n",
      "tensor([[    nan,     nan,     nan,     nan,  0.0000, -0.4360],\n",
      "        [    nan,     nan,     nan,     nan,  0.0000, -0.4360]],\n",
      "       device='cuda:0', grad_fn=<SliceBackward0>)\n",
      "alpha_t tensor(0.9957, device='cuda:0') alpha_s tensor(0.9958, device='cuda:0') alpha_t_s tensor(0.9999, device='cuda:0') sigma_t tensor(0.0929, device='cuda:0') sigma_s tensor(0.0915, device='cuda:0') sigma_t_s tensor(0.0161, device='cuda:0') sigma_t_to_s tensor(0.0159, device='cuda:0') aux tensor(0.0028, device='cuda:0')\n",
      "tensor([[    nan,     nan,     nan,     nan,  0.0000, -0.4350],\n",
      "        [    nan,     nan,     nan,     nan,  0.0000, -0.4350]],\n",
      "       device='cuda:0', grad_fn=<SliceBackward0>)\n",
      "alpha_t tensor(0.9955, device='cuda:0') alpha_s tensor(0.9957, device='cuda:0') alpha_t_s tensor(0.9999, device='cuda:0') sigma_t tensor(0.0943, device='cuda:0') sigma_s tensor(0.0929, device='cuda:0') sigma_t_s tensor(0.0162, device='cuda:0') sigma_t_to_s tensor(0.0160, device='cuda:0') aux tensor(0.0028, device='cuda:0')\n",
      "tensor([[    nan,     nan,     nan,     nan,  0.0000, -0.4340],\n",
      "        [    nan,     nan,     nan,     nan,  0.0000, -0.4340]],\n",
      "       device='cuda:0', grad_fn=<SliceBackward0>)\n",
      "alpha_t tensor(0.9954, device='cuda:0') alpha_s tensor(0.9955, device='cuda:0') alpha_t_s tensor(0.9999, device='cuda:0') sigma_t tensor(0.0957, device='cuda:0') sigma_s tensor(0.0943, device='cuda:0') sigma_t_s tensor(0.0163, device='cuda:0') sigma_t_to_s tensor(0.0161, device='cuda:0') aux tensor(0.0028, device='cuda:0')\n",
      "tensor([[    nan,     nan,     nan,     nan,  0.0000, -0.4330],\n",
      "        [    nan,     nan,     nan,     nan,  0.0000, -0.4330]],\n",
      "       device='cuda:0', grad_fn=<SliceBackward0>)\n",
      "alpha_t tensor(0.9953, device='cuda:0') alpha_s tensor(0.9954, device='cuda:0') alpha_t_s tensor(0.9999, device='cuda:0') sigma_t tensor(0.0971, device='cuda:0') sigma_s tensor(0.0957, device='cuda:0') sigma_t_s tensor(0.0165, device='cuda:0') sigma_t_to_s tensor(0.0162, device='cuda:0') aux tensor(0.0028, device='cuda:0')\n",
      "tensor([[    nan,     nan,     nan,     nan,  0.0000, -0.4320],\n",
      "        [    nan,     nan,     nan,     nan,  0.0000, -0.4320]],\n",
      "       device='cuda:0', grad_fn=<SliceBackward0>)\n",
      "alpha_t tensor(0.9951, device='cuda:0') alpha_s tensor(0.9953, device='cuda:0') alpha_t_s tensor(0.9999, device='cuda:0') sigma_t tensor(0.0985, device='cuda:0') sigma_s tensor(0.0971, device='cuda:0') sigma_t_s tensor(0.0166, device='cuda:0') sigma_t_to_s tensor(0.0164, device='cuda:0') aux tensor(0.0028, device='cuda:0')\n",
      "tensor([[    nan,     nan,     nan,     nan,  0.0000, -0.4310],\n",
      "        [    nan,     nan,     nan,     nan,  0.0000, -0.4310]],\n",
      "       device='cuda:0', grad_fn=<SliceBackward0>)\n",
      "alpha_t tensor(0.9950, device='cuda:0') alpha_s tensor(0.9951, device='cuda:0') alpha_t_s tensor(0.9999, device='cuda:0') sigma_t tensor(0.0999, device='cuda:0') sigma_s tensor(0.0985, device='cuda:0') sigma_t_s tensor(0.0167, device='cuda:0') sigma_t_to_s tensor(0.0165, device='cuda:0') aux tensor(0.0028, device='cuda:0')\n",
      "tensor([[    nan,     nan,     nan,     nan,  0.0000, -0.4300],\n",
      "        [    nan,     nan,     nan,     nan,  0.0000, -0.4300]],\n",
      "       device='cuda:0', grad_fn=<SliceBackward0>)\n",
      "alpha_t tensor(0.9949, device='cuda:0') alpha_s tensor(0.9950, device='cuda:0') alpha_t_s tensor(0.9999, device='cuda:0') sigma_t tensor(0.1013, device='cuda:0') sigma_s tensor(0.0999, device='cuda:0') sigma_t_s tensor(0.0168, device='cuda:0') sigma_t_to_s tensor(0.0166, device='cuda:0') aux tensor(0.0028, device='cuda:0')\n",
      "tensor([[    nan,     nan,     nan,     nan,  0.0000, -0.4290],\n",
      "        [    nan,     nan,     nan,     nan,  0.0000, -0.4290]],\n",
      "       device='cuda:0', grad_fn=<SliceBackward0>)\n",
      "alpha_t tensor(0.9947, device='cuda:0') alpha_s tensor(0.9949, device='cuda:0') alpha_t_s tensor(0.9999, device='cuda:0') sigma_t tensor(0.1027, device='cuda:0') sigma_s tensor(0.1013, device='cuda:0') sigma_t_s tensor(0.0170, device='cuda:0') sigma_t_to_s tensor(0.0167, device='cuda:0') aux tensor(0.0028, device='cuda:0')\n",
      "tensor([[    nan,     nan,     nan,     nan,  0.0000, -0.4280],\n",
      "        [    nan,     nan,     nan,     nan,  0.0000, -0.4280]],\n",
      "       device='cuda:0', grad_fn=<SliceBackward0>)\n",
      "alpha_t tensor(0.9946, device='cuda:0') alpha_s tensor(0.9947, device='cuda:0') alpha_t_s tensor(0.9999, device='cuda:0') sigma_t tensor(0.1040, device='cuda:0') sigma_s tensor(0.1027, device='cuda:0') sigma_t_s tensor(0.0171, device='cuda:0') sigma_t_to_s tensor(0.0168, device='cuda:0') aux tensor(0.0028, device='cuda:0')\n",
      "tensor([[    nan,     nan,     nan,     nan,  0.0000, -0.4270],\n",
      "        [    nan,     nan,     nan,     nan,  0.0000, -0.4270]],\n",
      "       device='cuda:0', grad_fn=<SliceBackward0>)\n",
      "alpha_t tensor(0.9944, device='cuda:0') alpha_s tensor(0.9946, device='cuda:0') alpha_t_s tensor(0.9999, device='cuda:0') sigma_t tensor(0.1054, device='cuda:0') sigma_s tensor(0.1040, device='cuda:0') sigma_t_s tensor(0.0172, device='cuda:0') sigma_t_to_s tensor(0.0170, device='cuda:0') aux tensor(0.0028, device='cuda:0')\n",
      "tensor([[    nan,     nan,     nan,     nan,  0.0000, -0.4260],\n",
      "        [    nan,     nan,     nan,     nan,  0.0000, -0.4260]],\n",
      "       device='cuda:0', grad_fn=<SliceBackward0>)\n",
      "alpha_t tensor(0.9943, device='cuda:0') alpha_s tensor(0.9944, device='cuda:0') alpha_t_s tensor(0.9999, device='cuda:0') sigma_t tensor(0.1068, device='cuda:0') sigma_s tensor(0.1054, device='cuda:0') sigma_t_s tensor(0.0173, device='cuda:0') sigma_t_to_s tensor(0.0171, device='cuda:0') aux tensor(0.0028, device='cuda:0')\n",
      "tensor([[    nan,     nan,     nan,     nan,  0.0000, -0.4250],\n",
      "        [    nan,     nan,     nan,     nan,  0.0000, -0.4250]],\n",
      "       device='cuda:0', grad_fn=<SliceBackward0>)\n",
      "alpha_t tensor(0.9941, device='cuda:0') alpha_s tensor(0.9943, device='cuda:0') alpha_t_s tensor(0.9998, device='cuda:0') sigma_t tensor(0.1082, device='cuda:0') sigma_s tensor(0.1068, device='cuda:0') sigma_t_s tensor(0.0174, device='cuda:0') sigma_t_to_s tensor(0.0172, device='cuda:0') aux tensor(0.0028, device='cuda:0')\n",
      "tensor([[    nan,     nan,     nan,     nan,  0.0000, -0.4240],\n",
      "        [    nan,     nan,     nan,     nan,  0.0000, -0.4240]],\n",
      "       device='cuda:0', grad_fn=<SliceBackward0>)\n",
      "alpha_t tensor(0.9940, device='cuda:0') alpha_s tensor(0.9941, device='cuda:0') alpha_t_s tensor(0.9998, device='cuda:0') sigma_t tensor(0.1096, device='cuda:0') sigma_s tensor(0.1082, device='cuda:0') sigma_t_s tensor(0.0175, device='cuda:0') sigma_t_to_s tensor(0.0173, device='cuda:0') aux tensor(0.0028, device='cuda:0')\n",
      "tensor([[    nan,     nan,     nan,     nan,  0.0000, -0.4230],\n",
      "        [    nan,     nan,     nan,     nan,  0.0000, -0.4230]],\n",
      "       device='cuda:0', grad_fn=<SliceBackward0>)\n",
      "alpha_t tensor(0.9938, device='cuda:0') alpha_s tensor(0.9940, device='cuda:0') alpha_t_s tensor(0.9998, device='cuda:0') sigma_t tensor(0.1110, device='cuda:0') sigma_s tensor(0.1096, device='cuda:0') sigma_t_s tensor(0.0177, device='cuda:0') sigma_t_to_s tensor(0.0174, device='cuda:0') aux tensor(0.0028, device='cuda:0')\n",
      "tensor([[    nan,     nan,     nan,     nan,  0.0000, -0.4220],\n",
      "        [    nan,     nan,     nan,     nan,  0.0000, -0.4220]],\n",
      "       device='cuda:0', grad_fn=<SliceBackward0>)\n",
      "alpha_t tensor(0.9937, device='cuda:0') alpha_s tensor(0.9938, device='cuda:0') alpha_t_s tensor(0.9998, device='cuda:0') sigma_t tensor(0.1124, device='cuda:0') sigma_s tensor(0.1110, device='cuda:0') sigma_t_s tensor(0.0178, device='cuda:0') sigma_t_to_s tensor(0.0176, device='cuda:0') aux tensor(0.0028, device='cuda:0')\n",
      "tensor([[    nan,     nan,     nan,     nan,  0.0000, -0.4210],\n",
      "        [    nan,     nan,     nan,     nan,  0.0000, -0.4210]],\n",
      "       device='cuda:0', grad_fn=<SliceBackward0>)\n",
      "alpha_t tensor(0.9935, device='cuda:0') alpha_s tensor(0.9937, device='cuda:0') alpha_t_s tensor(0.9998, device='cuda:0') sigma_t tensor(0.1138, device='cuda:0') sigma_s tensor(0.1124, device='cuda:0') sigma_t_s tensor(0.0179, device='cuda:0') sigma_t_to_s tensor(0.0177, device='cuda:0') aux tensor(0.0028, device='cuda:0')\n",
      "tensor([[    nan,     nan,     nan,     nan,  0.0000, -0.4200],\n",
      "        [    nan,     nan,     nan,     nan,  0.0000, -0.4200]],\n",
      "       device='cuda:0', grad_fn=<SliceBackward0>)\n",
      "alpha_t tensor(0.9933, device='cuda:0') alpha_s tensor(0.9935, device='cuda:0') alpha_t_s tensor(0.9998, device='cuda:0') sigma_t tensor(0.1152, device='cuda:0') sigma_s tensor(0.1138, device='cuda:0') sigma_t_s tensor(0.0180, device='cuda:0') sigma_t_to_s tensor(0.0178, device='cuda:0') aux tensor(0.0028, device='cuda:0')\n",
      "tensor([[    nan,     nan,     nan,     nan,  0.0000, -0.4190],\n",
      "        [    nan,     nan,     nan,     nan,  0.0000, -0.4190]],\n",
      "       device='cuda:0', grad_fn=<SliceBackward0>)\n",
      "alpha_t tensor(0.9932, device='cuda:0') alpha_s tensor(0.9933, device='cuda:0') alpha_t_s tensor(0.9998, device='cuda:0') sigma_t tensor(0.1166, device='cuda:0') sigma_s tensor(0.1152, device='cuda:0') sigma_t_s tensor(0.0181, device='cuda:0') sigma_t_to_s tensor(0.0179, device='cuda:0') aux tensor(0.0028, device='cuda:0')\n",
      "tensor([[    nan,     nan,     nan,     nan,  0.0000, -0.4180],\n",
      "        [    nan,     nan,     nan,     nan,  0.0000, -0.4180]],\n",
      "       device='cuda:0', grad_fn=<SliceBackward0>)\n",
      "alpha_t tensor(0.9930, device='cuda:0') alpha_s tensor(0.9932, device='cuda:0') alpha_t_s tensor(0.9998, device='cuda:0') sigma_t tensor(0.1180, device='cuda:0') sigma_s tensor(0.1166, device='cuda:0') sigma_t_s tensor(0.0182, device='cuda:0') sigma_t_to_s tensor(0.0180, device='cuda:0') aux tensor(0.0028, device='cuda:0')\n",
      "tensor([[    nan,     nan,     nan,     nan,  0.0000, -0.4170],\n",
      "        [    nan,     nan,     nan,     nan,  0.0000, -0.4170]],\n",
      "       device='cuda:0', grad_fn=<SliceBackward0>)\n",
      "alpha_t tensor(0.9928, device='cuda:0') alpha_s tensor(0.9930, device='cuda:0') alpha_t_s tensor(0.9998, device='cuda:0') sigma_t tensor(0.1194, device='cuda:0') sigma_s tensor(0.1180, device='cuda:0') sigma_t_s tensor(0.0183, device='cuda:0') sigma_t_to_s tensor(0.0181, device='cuda:0') aux tensor(0.0028, device='cuda:0')\n",
      "tensor([[    nan,     nan,     nan,     nan,  0.0000, -0.4160],\n",
      "        [    nan,     nan,     nan,     nan,  0.0000, -0.4160]],\n",
      "       device='cuda:0', grad_fn=<SliceBackward0>)\n",
      "alpha_t tensor(0.9927, device='cuda:0') alpha_s tensor(0.9928, device='cuda:0') alpha_t_s tensor(0.9998, device='cuda:0') sigma_t tensor(0.1208, device='cuda:0') sigma_s tensor(0.1194, device='cuda:0') sigma_t_s tensor(0.0184, device='cuda:0') sigma_t_to_s tensor(0.0182, device='cuda:0') aux tensor(0.0028, device='cuda:0')\n",
      "tensor([[    nan,     nan,     nan,     nan,  0.0000, -0.4150],\n",
      "        [    nan,     nan,     nan,     nan,  0.0000, -0.4150]],\n",
      "       device='cuda:0', grad_fn=<SliceBackward0>)\n",
      "alpha_t tensor(0.9925, device='cuda:0') alpha_s tensor(0.9927, device='cuda:0') alpha_t_s tensor(0.9998, device='cuda:0') sigma_t tensor(0.1222, device='cuda:0') sigma_s tensor(0.1208, device='cuda:0') sigma_t_s tensor(0.0186, device='cuda:0') sigma_t_to_s tensor(0.0183, device='cuda:0') aux tensor(0.0028, device='cuda:0')\n",
      "tensor([[    nan,     nan,     nan,     nan,  0.0000, -0.4140],\n",
      "        [    nan,     nan,     nan,     nan,  0.0000, -0.4140]],\n",
      "       device='cuda:0', grad_fn=<SliceBackward0>)\n",
      "alpha_t tensor(0.9923, device='cuda:0') alpha_s tensor(0.9925, device='cuda:0') alpha_t_s tensor(0.9998, device='cuda:0') sigma_t tensor(0.1236, device='cuda:0') sigma_s tensor(0.1222, device='cuda:0') sigma_t_s tensor(0.0187, device='cuda:0') sigma_t_to_s tensor(0.0185, device='cuda:0') aux tensor(0.0028, device='cuda:0')\n",
      "tensor([[    nan,     nan,     nan,     nan,  0.0000, -0.4130],\n",
      "        [    nan,     nan,     nan,     nan,  0.0000, -0.4130]],\n",
      "       device='cuda:0', grad_fn=<SliceBackward0>)\n",
      "alpha_t tensor(0.9922, device='cuda:0') alpha_s tensor(0.9923, device='cuda:0') alpha_t_s tensor(0.9998, device='cuda:0') sigma_t tensor(0.1250, device='cuda:0') sigma_s tensor(0.1236, device='cuda:0') sigma_t_s tensor(0.0188, device='cuda:0') sigma_t_to_s tensor(0.0186, device='cuda:0') aux tensor(0.0028, device='cuda:0')\n",
      "tensor([[    nan,     nan,     nan,     nan,  0.0000, -0.4120],\n",
      "        [    nan,     nan,     nan,     nan,  0.0000, -0.4120]],\n",
      "       device='cuda:0', grad_fn=<SliceBackward0>)\n",
      "alpha_t tensor(0.9920, device='cuda:0') alpha_s tensor(0.9922, device='cuda:0') alpha_t_s tensor(0.9998, device='cuda:0') sigma_t tensor(0.1264, device='cuda:0') sigma_s tensor(0.1250, device='cuda:0') sigma_t_s tensor(0.0189, device='cuda:0') sigma_t_to_s tensor(0.0187, device='cuda:0') aux tensor(0.0028, device='cuda:0')\n",
      "tensor([[    nan,     nan,     nan,     nan,  0.0000, -0.4110],\n",
      "        [    nan,     nan,     nan,     nan,  0.0000, -0.4110]],\n",
      "       device='cuda:0', grad_fn=<SliceBackward0>)\n",
      "alpha_t tensor(0.9918, device='cuda:0') alpha_s tensor(0.9920, device='cuda:0') alpha_t_s tensor(0.9998, device='cuda:0') sigma_t tensor(0.1278, device='cuda:0') sigma_s tensor(0.1264, device='cuda:0') sigma_t_s tensor(0.0190, device='cuda:0') sigma_t_to_s tensor(0.0188, device='cuda:0') aux tensor(0.0028, device='cuda:0')\n",
      "tensor([[    nan,     nan,     nan,     nan,  0.0000, -0.4100],\n",
      "        [    nan,     nan,     nan,     nan,  0.0000, -0.4100]],\n",
      "       device='cuda:0', grad_fn=<SliceBackward0>)\n",
      "alpha_t tensor(0.9916, device='cuda:0') alpha_s tensor(0.9918, device='cuda:0') alpha_t_s tensor(0.9998, device='cuda:0') sigma_t tensor(0.1292, device='cuda:0') sigma_s tensor(0.1278, device='cuda:0') sigma_t_s tensor(0.0191, device='cuda:0') sigma_t_to_s tensor(0.0189, device='cuda:0') aux tensor(0.0028, device='cuda:0')\n",
      "tensor([[    nan,     nan,     nan,     nan,  0.0000, -0.4090],\n",
      "        [    nan,     nan,     nan,     nan,  0.0000, -0.4090]],\n",
      "       device='cuda:0', grad_fn=<SliceBackward0>)\n",
      "alpha_t tensor(0.9914, device='cuda:0') alpha_s tensor(0.9916, device='cuda:0') alpha_t_s tensor(0.9998, device='cuda:0') sigma_t tensor(0.1306, device='cuda:0') sigma_s tensor(0.1292, device='cuda:0') sigma_t_s tensor(0.0192, device='cuda:0') sigma_t_to_s tensor(0.0190, device='cuda:0') aux tensor(0.0028, device='cuda:0')\n",
      "tensor([[    nan,     nan,     nan,     nan,  0.0000, -0.4080],\n",
      "        [    nan,     nan,     nan,     nan,  0.0000, -0.4080]],\n",
      "       device='cuda:0', grad_fn=<SliceBackward0>)\n",
      "alpha_t tensor(0.9913, device='cuda:0') alpha_s tensor(0.9914, device='cuda:0') alpha_t_s tensor(0.9998, device='cuda:0') sigma_t tensor(0.1320, device='cuda:0') sigma_s tensor(0.1306, device='cuda:0') sigma_t_s tensor(0.0193, device='cuda:0') sigma_t_to_s tensor(0.0191, device='cuda:0') aux tensor(0.0028, device='cuda:0')\n",
      "tensor([[    nan,     nan,     nan,     nan,  0.0000, -0.4070],\n",
      "        [    nan,     nan,     nan,     nan,  0.0000, -0.4070]],\n",
      "       device='cuda:0', grad_fn=<SliceBackward0>)\n",
      "alpha_t tensor(0.9911, device='cuda:0') alpha_s tensor(0.9913, device='cuda:0') alpha_t_s tensor(0.9998, device='cuda:0') sigma_t tensor(0.1334, device='cuda:0') sigma_s tensor(0.1320, device='cuda:0') sigma_t_s tensor(0.0194, device='cuda:0') sigma_t_to_s tensor(0.0192, device='cuda:0') aux tensor(0.0028, device='cuda:0')\n",
      "tensor([[    nan,     nan,     nan,     nan,  0.0000, -0.4060],\n",
      "        [    nan,     nan,     nan,     nan,  0.0000, -0.4060]],\n",
      "       device='cuda:0', grad_fn=<SliceBackward0>)\n",
      "alpha_t tensor(0.9909, device='cuda:0') alpha_s tensor(0.9911, device='cuda:0') alpha_t_s tensor(0.9998, device='cuda:0') sigma_t tensor(0.1348, device='cuda:0') sigma_s tensor(0.1334, device='cuda:0') sigma_t_s tensor(0.0195, device='cuda:0') sigma_t_to_s tensor(0.0193, device='cuda:0') aux tensor(0.0028, device='cuda:0')\n",
      "tensor([[    nan,     nan,     nan,     nan,  0.0000, -0.4050],\n",
      "        [    nan,     nan,     nan,     nan,  0.0000, -0.4050]],\n",
      "       device='cuda:0', grad_fn=<SliceBackward0>)\n",
      "alpha_t tensor(0.9907, device='cuda:0') alpha_s tensor(0.9909, device='cuda:0') alpha_t_s tensor(0.9998, device='cuda:0') sigma_t tensor(0.1362, device='cuda:0') sigma_s tensor(0.1348, device='cuda:0') sigma_t_s tensor(0.0196, device='cuda:0') sigma_t_to_s tensor(0.0194, device='cuda:0') aux tensor(0.0028, device='cuda:0')\n",
      "tensor([[    nan,     nan,     nan,     nan,  0.0000, -0.4040],\n",
      "        [    nan,     nan,     nan,     nan,  0.0000, -0.4040]],\n",
      "       device='cuda:0', grad_fn=<SliceBackward0>)\n",
      "alpha_t tensor(0.9905, device='cuda:0') alpha_s tensor(0.9907, device='cuda:0') alpha_t_s tensor(0.9998, device='cuda:0') sigma_t tensor(0.1376, device='cuda:0') sigma_s tensor(0.1362, device='cuda:0') sigma_t_s tensor(0.0197, device='cuda:0') sigma_t_to_s tensor(0.0195, device='cuda:0') aux tensor(0.0028, device='cuda:0')\n",
      "tensor([[    nan,     nan,     nan,     nan,  0.0000, -0.4030],\n",
      "        [    nan,     nan,     nan,     nan,  0.0000, -0.4030]],\n",
      "       device='cuda:0', grad_fn=<SliceBackward0>)\n",
      "alpha_t tensor(0.9903, device='cuda:0') alpha_s tensor(0.9905, device='cuda:0') alpha_t_s tensor(0.9998, device='cuda:0') sigma_t tensor(0.1390, device='cuda:0') sigma_s tensor(0.1376, device='cuda:0') sigma_t_s tensor(0.0198, device='cuda:0') sigma_t_to_s tensor(0.0196, device='cuda:0') aux tensor(0.0028, device='cuda:0')\n",
      "tensor([[    nan,     nan,     nan,     nan,  0.0000, -0.4020],\n",
      "        [    nan,     nan,     nan,     nan,  0.0000, -0.4020]],\n",
      "       device='cuda:0', grad_fn=<SliceBackward0>)\n",
      "alpha_t tensor(0.9901, device='cuda:0') alpha_s tensor(0.9903, device='cuda:0') alpha_t_s tensor(0.9998, device='cuda:0') sigma_t tensor(0.1404, device='cuda:0') sigma_s tensor(0.1390, device='cuda:0') sigma_t_s tensor(0.0199, device='cuda:0') sigma_t_to_s tensor(0.0197, device='cuda:0') aux tensor(0.0028, device='cuda:0')\n",
      "tensor([[    nan,     nan,     nan,     nan,  0.0000, -0.4010],\n",
      "        [    nan,     nan,     nan,     nan,  0.0000, -0.4010]],\n",
      "       device='cuda:0', grad_fn=<SliceBackward0>)\n",
      "alpha_t tensor(0.9899, device='cuda:0') alpha_s tensor(0.9901, device='cuda:0') alpha_t_s tensor(0.9998, device='cuda:0') sigma_t tensor(0.1418, device='cuda:0') sigma_s tensor(0.1404, device='cuda:0') sigma_t_s tensor(0.0200, device='cuda:0') sigma_t_to_s tensor(0.0198, device='cuda:0') aux tensor(0.0028, device='cuda:0')\n",
      "tensor([[    nan,     nan,     nan,     nan,  0.0000, -0.4000],\n",
      "        [    nan,     nan,     nan,     nan,  0.0000, -0.4000]],\n",
      "       device='cuda:0', grad_fn=<SliceBackward0>)\n",
      "alpha_t tensor(0.9897, device='cuda:0') alpha_s tensor(0.9899, device='cuda:0') alpha_t_s tensor(0.9998, device='cuda:0') sigma_t tensor(0.1431, device='cuda:0') sigma_s tensor(0.1418, device='cuda:0') sigma_t_s tensor(0.0201, device='cuda:0') sigma_t_to_s tensor(0.0200, device='cuda:0') aux tensor(0.0028, device='cuda:0')\n",
      "tensor([[    nan,     nan,     nan,     nan,  0.0000, -0.3990],\n",
      "        [    nan,     nan,     nan,     nan,  0.0000, -0.3990]],\n",
      "       device='cuda:0', grad_fn=<SliceBackward0>)\n",
      "alpha_t tensor(0.9895, device='cuda:0') alpha_s tensor(0.9897, device='cuda:0') alpha_t_s tensor(0.9998, device='cuda:0') sigma_t tensor(0.1445, device='cuda:0') sigma_s tensor(0.1431, device='cuda:0') sigma_t_s tensor(0.0203, device='cuda:0') sigma_t_to_s tensor(0.0201, device='cuda:0') aux tensor(0.0028, device='cuda:0')\n",
      "tensor([[    nan,     nan,     nan,     nan,  0.0000, -0.3980],\n",
      "        [    nan,     nan,     nan,     nan,  0.0000, -0.3980]],\n",
      "       device='cuda:0', grad_fn=<SliceBackward0>)\n",
      "alpha_t tensor(0.9893, device='cuda:0') alpha_s tensor(0.9895, device='cuda:0') alpha_t_s tensor(0.9998, device='cuda:0') sigma_t tensor(0.1459, device='cuda:0') sigma_s tensor(0.1445, device='cuda:0') sigma_t_s tensor(0.0204, device='cuda:0') sigma_t_to_s tensor(0.0202, device='cuda:0') aux tensor(0.0028, device='cuda:0')\n",
      "tensor([[    nan,     nan,     nan,     nan,  0.0000, -0.3970],\n",
      "        [    nan,     nan,     nan,     nan,  0.0000, -0.3970]],\n",
      "       device='cuda:0', grad_fn=<SliceBackward0>)\n",
      "alpha_t tensor(0.9891, device='cuda:0') alpha_s tensor(0.9893, device='cuda:0') alpha_t_s tensor(0.9998, device='cuda:0') sigma_t tensor(0.1473, device='cuda:0') sigma_s tensor(0.1459, device='cuda:0') sigma_t_s tensor(0.0205, device='cuda:0') sigma_t_to_s tensor(0.0203, device='cuda:0') aux tensor(0.0028, device='cuda:0')\n",
      "tensor([[    nan,     nan,     nan,     nan,  0.0000, -0.3960],\n",
      "        [    nan,     nan,     nan,     nan,  0.0000, -0.3960]],\n",
      "       device='cuda:0', grad_fn=<SliceBackward0>)\n",
      "alpha_t tensor(0.9889, device='cuda:0') alpha_s tensor(0.9891, device='cuda:0') alpha_t_s tensor(0.9998, device='cuda:0') sigma_t tensor(0.1487, device='cuda:0') sigma_s tensor(0.1473, device='cuda:0') sigma_t_s tensor(0.0206, device='cuda:0') sigma_t_to_s tensor(0.0204, device='cuda:0') aux tensor(0.0028, device='cuda:0')\n",
      "tensor([[    nan,     nan,     nan,     nan,  0.0000, -0.3950],\n",
      "        [    nan,     nan,     nan,     nan,  0.0000, -0.3950]],\n",
      "       device='cuda:0', grad_fn=<SliceBackward0>)\n",
      "alpha_t tensor(0.9887, device='cuda:0') alpha_s tensor(0.9889, device='cuda:0') alpha_t_s tensor(0.9998, device='cuda:0') sigma_t tensor(0.1501, device='cuda:0') sigma_s tensor(0.1487, device='cuda:0') sigma_t_s tensor(0.0207, device='cuda:0') sigma_t_to_s tensor(0.0205, device='cuda:0') aux tensor(0.0028, device='cuda:0')\n",
      "tensor([[    nan,     nan,     nan,     nan,  0.0000, -0.3940],\n",
      "        [    nan,     nan,     nan,     nan,  0.0000, -0.3940]],\n",
      "       device='cuda:0', grad_fn=<SliceBackward0>)\n",
      "alpha_t tensor(0.9885, device='cuda:0') alpha_s tensor(0.9887, device='cuda:0') alpha_t_s tensor(0.9998, device='cuda:0') sigma_t tensor(0.1515, device='cuda:0') sigma_s tensor(0.1501, device='cuda:0') sigma_t_s tensor(0.0208, device='cuda:0') sigma_t_to_s tensor(0.0206, device='cuda:0') aux tensor(0.0028, device='cuda:0')\n",
      "tensor([[    nan,     nan,     nan,     nan,  0.0000, -0.3930],\n",
      "        [    nan,     nan,     nan,     nan,  0.0000, -0.3930]],\n",
      "       device='cuda:0', grad_fn=<SliceBackward0>)\n",
      "alpha_t tensor(0.9882, device='cuda:0') alpha_s tensor(0.9885, device='cuda:0') alpha_t_s tensor(0.9998, device='cuda:0') sigma_t tensor(0.1529, device='cuda:0') sigma_s tensor(0.1515, device='cuda:0') sigma_t_s tensor(0.0209, device='cuda:0') sigma_t_to_s tensor(0.0207, device='cuda:0') aux tensor(0.0028, device='cuda:0')\n",
      "tensor([[    nan,     nan,     nan,     nan,  0.0000, -0.3920],\n",
      "        [    nan,     nan,     nan,     nan,  0.0000, -0.3920]],\n",
      "       device='cuda:0', grad_fn=<SliceBackward0>)\n",
      "alpha_t tensor(0.9880, device='cuda:0') alpha_s tensor(0.9882, device='cuda:0') alpha_t_s tensor(0.9998, device='cuda:0') sigma_t tensor(0.1543, device='cuda:0') sigma_s tensor(0.1529, device='cuda:0') sigma_t_s tensor(0.0210, device='cuda:0') sigma_t_to_s tensor(0.0208, device='cuda:0') aux tensor(0.0028, device='cuda:0')\n",
      "tensor([[    nan,     nan,     nan,     nan,  0.0000, -0.3910],\n",
      "        [    nan,     nan,     nan,     nan,  0.0000, -0.3910]],\n",
      "       device='cuda:0', grad_fn=<SliceBackward0>)\n"
     ]
    },
    {
     "ename": "OutOfMemoryError",
     "evalue": "CUDA out of memory. Tried to allocate 20.00 MiB. GPU 0 has a total capacity of 23.64 GiB of which 23.12 MiB is free. Process 64486 has 390.70 MiB memory in use. Including non-PyTorch memory, this process has 23.21 GiB memory in use. Of the allocated memory 22.72 GiB is allocated by PyTorch, and 52.54 MiB is reserved by PyTorch but unallocated. If reserved but unallocated memory is large try setting PYTORCH_CUDA_ALLOC_CONF=expandable_segments:True to avoid fragmentation.  See documentation for Memory Management  (https://pytorch.org/docs/stable/notes/cuda.html#environment-variables)",
     "output_type": "error",
     "traceback": [
      "\u001b[0;31m---------------------------------------------------------------------------\u001b[0m",
      "\u001b[0;31mOutOfMemoryError\u001b[0m                          Traceback (most recent call last)",
      "Cell \u001b[0;32mIn[19], line 1\u001b[0m\n\u001b[0;32m----> 1\u001b[0m g_batch_0 \u001b[38;5;241m=\u001b[39m \u001b[43mdenoise\u001b[49m\u001b[43m(\u001b[49m\u001b[43mg_batch_t\u001b[49m\u001b[43m,\u001b[49m\n\u001b[1;32m      2\u001b[0m \u001b[43m                    \u001b[49m\u001b[43mn_t_steps\u001b[49m\u001b[43m,\u001b[49m\u001b[43m \u001b[49m\u001b[43malpha_decay\u001b[49m\u001b[43m,\u001b[49m\n\u001b[1;32m      3\u001b[0m \u001b[43m                    \u001b[49m\u001b[43mnode_model\u001b[49m\u001b[43m,\u001b[49m\u001b[43m \u001b[49m\u001b[43medge_model\u001b[49m\u001b[43m,\u001b[49m\n\u001b[1;32m      4\u001b[0m \u001b[43m                    \u001b[49m\u001b[43mn_features\u001b[49m\u001b[38;5;241;43m=\u001b[39;49m\u001b[43mn_node_features\u001b[49m\u001b[43m)\u001b[49m\n\u001b[1;32m      6\u001b[0m \u001b[38;5;66;03m# Calculate the loss for node features and edge attributes\u001b[39;00m\n\u001b[1;32m      7\u001b[0m node_losses, edge_loss \u001b[38;5;241m=\u001b[39m get_graph_losses(batch_0, g_batch_0)\n",
      "Cell \u001b[0;32mIn[18], line 219\u001b[0m, in \u001b[0;36mdenoise\u001b[0;34m(batch_t, n_t_steps, alpha_decay, node_model, edge_model, plot_steps, n_features)\u001b[0m\n\u001b[1;32m    216\u001b[0m batch_s\u001b[38;5;241m.\u001b[39mx[:, \u001b[38;5;241m-\u001b[39m\u001b[38;5;241m1\u001b[39m] \u001b[38;5;241m=\u001b[39m t_step_std\n\u001b[1;32m    218\u001b[0m \u001b[38;5;66;03m# Predict batch noise at given time step\u001b[39;00m\n\u001b[0;32m--> 219\u001b[0m pred_epsilon_t \u001b[38;5;241m=\u001b[39m \u001b[43mpredict_noise\u001b[49m\u001b[43m(\u001b[49m\u001b[43mbatch_s\u001b[49m\u001b[43m,\u001b[49m\n\u001b[1;32m    220\u001b[0m \u001b[43m                               \u001b[49m\u001b[43mnode_model\u001b[49m\u001b[43m,\u001b[49m\u001b[43m \u001b[49m\u001b[43medge_model\u001b[49m\u001b[43m)\u001b[49m\n\u001b[1;32m    222\u001b[0m \u001b[38;5;66;03m# Check if intermediate steps are plotted; then, plot the NetworkX graph\u001b[39;00m\n\u001b[1;32m    223\u001b[0m \u001b[38;5;28;01mif\u001b[39;00m plot_steps:\n\u001b[1;32m    224\u001b[0m     \u001b[38;5;66;03m# Convert PyTorch graph to NetworkX graph\u001b[39;00m\n",
      "Cell \u001b[0;32mIn[18], line 142\u001b[0m, in \u001b[0;36mpredict_noise\u001b[0;34m(batch_t, node_model, edge_model)\u001b[0m\n\u001b[1;32m    138\u001b[0m x_j \u001b[38;5;241m=\u001b[39m batch_t\u001b[38;5;241m.\u001b[39mx[batch_t\u001b[38;5;241m.\u001b[39medge_index[\u001b[38;5;241m1\u001b[39m]]\n\u001b[1;32m    140\u001b[0m \u001b[38;5;66;03m# Perform a single forward pass for predicting edge attributes\u001b[39;00m\n\u001b[1;32m    141\u001b[0m \u001b[38;5;66;03m# Introduce previous edge attributes as features as well\u001b[39;00m\n\u001b[0;32m--> 142\u001b[0m out_attr \u001b[38;5;241m=\u001b[39m \u001b[43medge_model\u001b[49m\u001b[43m(\u001b[49m\u001b[43mx_i\u001b[49m\u001b[43m,\u001b[49m\u001b[43m \u001b[49m\u001b[43mx_j\u001b[49m\u001b[43m,\u001b[49m\u001b[43m \u001b[49m\u001b[43mbatch_t\u001b[49m\u001b[38;5;241;43m.\u001b[39;49m\u001b[43medge_attr\u001b[49m\u001b[43m)\u001b[49m\u001b[38;5;241m.\u001b[39mravel()\n\u001b[1;32m    144\u001b[0m \u001b[38;5;66;03m# Update node features and edge attributes in g_batch_0 with the predicted out_x and out_attr\u001b[39;00m\n\u001b[1;32m    145\u001b[0m batch_0\u001b[38;5;241m.\u001b[39mx         \u001b[38;5;241m=\u001b[39m out_x\n",
      "File \u001b[0;32m~/cibran/Work/UPC/GenerativeModels/venv/lib/python3.12/site-packages/torch/nn/modules/module.py:1736\u001b[0m, in \u001b[0;36mModule._wrapped_call_impl\u001b[0;34m(self, *args, **kwargs)\u001b[0m\n\u001b[1;32m   1734\u001b[0m     \u001b[38;5;28;01mreturn\u001b[39;00m \u001b[38;5;28mself\u001b[39m\u001b[38;5;241m.\u001b[39m_compiled_call_impl(\u001b[38;5;241m*\u001b[39margs, \u001b[38;5;241m*\u001b[39m\u001b[38;5;241m*\u001b[39mkwargs)  \u001b[38;5;66;03m# type: ignore[misc]\u001b[39;00m\n\u001b[1;32m   1735\u001b[0m \u001b[38;5;28;01melse\u001b[39;00m:\n\u001b[0;32m-> 1736\u001b[0m     \u001b[38;5;28;01mreturn\u001b[39;00m \u001b[38;5;28;43mself\u001b[39;49m\u001b[38;5;241;43m.\u001b[39;49m\u001b[43m_call_impl\u001b[49m\u001b[43m(\u001b[49m\u001b[38;5;241;43m*\u001b[39;49m\u001b[43margs\u001b[49m\u001b[43m,\u001b[49m\u001b[43m \u001b[49m\u001b[38;5;241;43m*\u001b[39;49m\u001b[38;5;241;43m*\u001b[39;49m\u001b[43mkwargs\u001b[49m\u001b[43m)\u001b[49m\n",
      "File \u001b[0;32m~/cibran/Work/UPC/GenerativeModels/venv/lib/python3.12/site-packages/torch/nn/modules/module.py:1747\u001b[0m, in \u001b[0;36mModule._call_impl\u001b[0;34m(self, *args, **kwargs)\u001b[0m\n\u001b[1;32m   1742\u001b[0m \u001b[38;5;66;03m# If we don't have any hooks, we want to skip the rest of the logic in\u001b[39;00m\n\u001b[1;32m   1743\u001b[0m \u001b[38;5;66;03m# this function, and just call forward.\u001b[39;00m\n\u001b[1;32m   1744\u001b[0m \u001b[38;5;28;01mif\u001b[39;00m \u001b[38;5;129;01mnot\u001b[39;00m (\u001b[38;5;28mself\u001b[39m\u001b[38;5;241m.\u001b[39m_backward_hooks \u001b[38;5;129;01mor\u001b[39;00m \u001b[38;5;28mself\u001b[39m\u001b[38;5;241m.\u001b[39m_backward_pre_hooks \u001b[38;5;129;01mor\u001b[39;00m \u001b[38;5;28mself\u001b[39m\u001b[38;5;241m.\u001b[39m_forward_hooks \u001b[38;5;129;01mor\u001b[39;00m \u001b[38;5;28mself\u001b[39m\u001b[38;5;241m.\u001b[39m_forward_pre_hooks\n\u001b[1;32m   1745\u001b[0m         \u001b[38;5;129;01mor\u001b[39;00m _global_backward_pre_hooks \u001b[38;5;129;01mor\u001b[39;00m _global_backward_hooks\n\u001b[1;32m   1746\u001b[0m         \u001b[38;5;129;01mor\u001b[39;00m _global_forward_hooks \u001b[38;5;129;01mor\u001b[39;00m _global_forward_pre_hooks):\n\u001b[0;32m-> 1747\u001b[0m     \u001b[38;5;28;01mreturn\u001b[39;00m \u001b[43mforward_call\u001b[49m\u001b[43m(\u001b[49m\u001b[38;5;241;43m*\u001b[39;49m\u001b[43margs\u001b[49m\u001b[43m,\u001b[49m\u001b[43m \u001b[49m\u001b[38;5;241;43m*\u001b[39;49m\u001b[38;5;241;43m*\u001b[39;49m\u001b[43mkwargs\u001b[49m\u001b[43m)\u001b[49m\n\u001b[1;32m   1749\u001b[0m result \u001b[38;5;241m=\u001b[39m \u001b[38;5;28;01mNone\u001b[39;00m\n\u001b[1;32m   1750\u001b[0m called_always_called_hooks \u001b[38;5;241m=\u001b[39m \u001b[38;5;28mset\u001b[39m()\n",
      "File \u001b[0;32m~/cibran/Work/UPC/GenerativeModels/venv/lib/python3.12/site-packages/torch/nn/parallel/data_parallel.py:191\u001b[0m, in \u001b[0;36mDataParallel.forward\u001b[0;34m(self, *inputs, **kwargs)\u001b[0m\n\u001b[1;32m    188\u001b[0m     module_kwargs \u001b[38;5;241m=\u001b[39m ({},)\n\u001b[1;32m    190\u001b[0m \u001b[38;5;28;01mif\u001b[39;00m \u001b[38;5;28mlen\u001b[39m(\u001b[38;5;28mself\u001b[39m\u001b[38;5;241m.\u001b[39mdevice_ids) \u001b[38;5;241m==\u001b[39m \u001b[38;5;241m1\u001b[39m:\n\u001b[0;32m--> 191\u001b[0m     \u001b[38;5;28;01mreturn\u001b[39;00m \u001b[38;5;28;43mself\u001b[39;49m\u001b[38;5;241;43m.\u001b[39;49m\u001b[43mmodule\u001b[49m\u001b[43m(\u001b[49m\u001b[38;5;241;43m*\u001b[39;49m\u001b[43minputs\u001b[49m\u001b[43m[\u001b[49m\u001b[38;5;241;43m0\u001b[39;49m\u001b[43m]\u001b[49m\u001b[43m,\u001b[49m\u001b[43m \u001b[49m\u001b[38;5;241;43m*\u001b[39;49m\u001b[38;5;241;43m*\u001b[39;49m\u001b[43mmodule_kwargs\u001b[49m\u001b[43m[\u001b[49m\u001b[38;5;241;43m0\u001b[39;49m\u001b[43m]\u001b[49m\u001b[43m)\u001b[49m\n\u001b[1;32m    192\u001b[0m replicas \u001b[38;5;241m=\u001b[39m \u001b[38;5;28mself\u001b[39m\u001b[38;5;241m.\u001b[39mreplicate(\u001b[38;5;28mself\u001b[39m\u001b[38;5;241m.\u001b[39mmodule, \u001b[38;5;28mself\u001b[39m\u001b[38;5;241m.\u001b[39mdevice_ids[: \u001b[38;5;28mlen\u001b[39m(inputs)])\n\u001b[1;32m    193\u001b[0m outputs \u001b[38;5;241m=\u001b[39m \u001b[38;5;28mself\u001b[39m\u001b[38;5;241m.\u001b[39mparallel_apply(replicas, inputs, module_kwargs)\n",
      "File \u001b[0;32m~/cibran/Work/UPC/GenerativeModels/venv/lib/python3.12/site-packages/torch/nn/modules/module.py:1736\u001b[0m, in \u001b[0;36mModule._wrapped_call_impl\u001b[0;34m(self, *args, **kwargs)\u001b[0m\n\u001b[1;32m   1734\u001b[0m     \u001b[38;5;28;01mreturn\u001b[39;00m \u001b[38;5;28mself\u001b[39m\u001b[38;5;241m.\u001b[39m_compiled_call_impl(\u001b[38;5;241m*\u001b[39margs, \u001b[38;5;241m*\u001b[39m\u001b[38;5;241m*\u001b[39mkwargs)  \u001b[38;5;66;03m# type: ignore[misc]\u001b[39;00m\n\u001b[1;32m   1735\u001b[0m \u001b[38;5;28;01melse\u001b[39;00m:\n\u001b[0;32m-> 1736\u001b[0m     \u001b[38;5;28;01mreturn\u001b[39;00m \u001b[38;5;28;43mself\u001b[39;49m\u001b[38;5;241;43m.\u001b[39;49m\u001b[43m_call_impl\u001b[49m\u001b[43m(\u001b[49m\u001b[38;5;241;43m*\u001b[39;49m\u001b[43margs\u001b[49m\u001b[43m,\u001b[49m\u001b[43m \u001b[49m\u001b[38;5;241;43m*\u001b[39;49m\u001b[38;5;241;43m*\u001b[39;49m\u001b[43mkwargs\u001b[49m\u001b[43m)\u001b[49m\n",
      "File \u001b[0;32m~/cibran/Work/UPC/GenerativeModels/venv/lib/python3.12/site-packages/torch/nn/modules/module.py:1747\u001b[0m, in \u001b[0;36mModule._call_impl\u001b[0;34m(self, *args, **kwargs)\u001b[0m\n\u001b[1;32m   1742\u001b[0m \u001b[38;5;66;03m# If we don't have any hooks, we want to skip the rest of the logic in\u001b[39;00m\n\u001b[1;32m   1743\u001b[0m \u001b[38;5;66;03m# this function, and just call forward.\u001b[39;00m\n\u001b[1;32m   1744\u001b[0m \u001b[38;5;28;01mif\u001b[39;00m \u001b[38;5;129;01mnot\u001b[39;00m (\u001b[38;5;28mself\u001b[39m\u001b[38;5;241m.\u001b[39m_backward_hooks \u001b[38;5;129;01mor\u001b[39;00m \u001b[38;5;28mself\u001b[39m\u001b[38;5;241m.\u001b[39m_backward_pre_hooks \u001b[38;5;129;01mor\u001b[39;00m \u001b[38;5;28mself\u001b[39m\u001b[38;5;241m.\u001b[39m_forward_hooks \u001b[38;5;129;01mor\u001b[39;00m \u001b[38;5;28mself\u001b[39m\u001b[38;5;241m.\u001b[39m_forward_pre_hooks\n\u001b[1;32m   1745\u001b[0m         \u001b[38;5;129;01mor\u001b[39;00m _global_backward_pre_hooks \u001b[38;5;129;01mor\u001b[39;00m _global_backward_hooks\n\u001b[1;32m   1746\u001b[0m         \u001b[38;5;129;01mor\u001b[39;00m _global_forward_hooks \u001b[38;5;129;01mor\u001b[39;00m _global_forward_pre_hooks):\n\u001b[0;32m-> 1747\u001b[0m     \u001b[38;5;28;01mreturn\u001b[39;00m \u001b[43mforward_call\u001b[49m\u001b[43m(\u001b[49m\u001b[38;5;241;43m*\u001b[39;49m\u001b[43margs\u001b[49m\u001b[43m,\u001b[49m\u001b[43m \u001b[49m\u001b[38;5;241;43m*\u001b[39;49m\u001b[38;5;241;43m*\u001b[39;49m\u001b[43mkwargs\u001b[49m\u001b[43m)\u001b[49m\n\u001b[1;32m   1749\u001b[0m result \u001b[38;5;241m=\u001b[39m \u001b[38;5;28;01mNone\u001b[39;00m\n\u001b[1;32m   1750\u001b[0m called_always_called_hooks \u001b[38;5;241m=\u001b[39m \u001b[38;5;28mset\u001b[39m()\n",
      "File \u001b[0;32m~/cibran/Work/UPC/GenerativeModels/libraries/model.py:409\u001b[0m, in \u001b[0;36meGCNN.forward\u001b[0;34m(self, x_i, x_j, previous_attr)\u001b[0m\n\u001b[1;32m    407\u001b[0m \u001b[38;5;66;03m# Last linear convolution\u001b[39;00m\n\u001b[1;32m    408\u001b[0m x \u001b[38;5;241m=\u001b[39m \u001b[38;5;28mself\u001b[39m\u001b[38;5;241m.\u001b[39mlinear2(x)\n\u001b[0;32m--> 409\u001b[0m x \u001b[38;5;241m=\u001b[39m \u001b[43mx\u001b[49m\u001b[38;5;241;43m.\u001b[39;49m\u001b[43mrelu\u001b[49m\u001b[43m(\u001b[49m\u001b[43m)\u001b[49m\n\u001b[1;32m    410\u001b[0m x \u001b[38;5;241m=\u001b[39m \u001b[38;5;28mself\u001b[39m\u001b[38;5;241m.\u001b[39mlinear3(x)\n\u001b[1;32m    411\u001b[0m x \u001b[38;5;241m=\u001b[39m \u001b[38;5;28mself\u001b[39m\u001b[38;5;241m.\u001b[39mnorm1(x)  \u001b[38;5;66;03m# Batch normalization\u001b[39;00m\n",
      "\u001b[0;31mOutOfMemoryError\u001b[0m: CUDA out of memory. Tried to allocate 20.00 MiB. GPU 0 has a total capacity of 23.64 GiB of which 23.12 MiB is free. Process 64486 has 390.70 MiB memory in use. Including non-PyTorch memory, this process has 23.21 GiB memory in use. Of the allocated memory 22.72 GiB is allocated by PyTorch, and 52.54 MiB is reserved by PyTorch but unallocated. If reserved but unallocated memory is large try setting PYTORCH_CUDA_ALLOC_CONF=expandable_segments:True to avoid fragmentation.  See documentation for Memory Management  (https://pytorch.org/docs/stable/notes/cuda.html#environment-variables)"
     ]
    }
   ],
   "source": [
    "g_batch_0 = denoise(g_batch_t,\n",
    "                    n_t_steps, alpha_decay,\n",
    "                    node_model, edge_model,\n",
    "                    n_features=n_node_features)\n",
    "\n",
    "# Calculate the loss for node features and edge attributes\n",
    "node_losses, edge_loss = get_graph_losses(batch_0, g_batch_0)\n",
    "\n",
    "# Get items\n",
    "node_loss_cum = np.array([node_loss.item() for node_loss in node_losses])[:n_node_features]\n",
    "edge_loss_cum = edge_loss.item()\n",
    "\n",
    "# Append average losses\n",
    "edge_test_losses += edge_loss_cum\n",
    "node_test_losses += node_loss_cum\n",
    "\n",
    "print_node_loss = ' '.join([f'{node_loss:.4f}' for node_loss in node_loss_cum])\n",
    "print(f'Batch: {batch_idx}, edge loss: {edge_loss_cum:.4f}, node loss: {print_node_loss}')"
   ]
  },
  {
   "cell_type": "code",
   "execution_count": 19,
   "id": "1d31b236-7fb6-465b-806c-b673d75d9deb",
   "metadata": {},
   "outputs": [
    {
     "data": {
      "image/png": "[encoded data removed]",
      "text/plain": [
       "<Figure size 640x480 with 1 Axes>"
      ]
     },
     "metadata": {},
     "output_type": "display_data"
    }
   ],
   "source": [
    "sns.histplot(g_batch_t.edge_attr.cpu().numpy(), stat='density', kde=True)\n",
    "for i in range(4):\n",
    "    sns.histplot(g_batch_t.x[:, i].cpu().numpy(), stat='density', kde=True)"
   ]
  },
  {
   "cell_type": "code",
   "execution_count": 18,
   "id": "7dec1d43c58f6cd3",
   "metadata": {
    "ExecuteTime": {
     "end_time": "2024-06-30T20:07:31.272036444Z",
     "start_time": "2024-06-30T20:07:31.267461134Z"
    },
    "collapsed": false,
    "jupyter": {
     "outputs_hidden": false
    }
   },
   "outputs": [
    {
     "data": {
      "text/plain": [
       "(nan, array([nan, nan, nan, nan]))"
      ]
     },
     "execution_count": 18,
     "metadata": {},
     "output_type": "execute_result"
    }
   ],
   "source": [
    "# Mean loss per noise step on edges and nodes\n",
    "edge_test_losses /= len(test_loader)\n",
    "node_test_losses /= len(test_loader)\n",
    "edge_test_losses, node_test_losses"
   ]
  },
  {
   "cell_type": "markdown",
   "id": "1c910d3fb3556314",
   "metadata": {
    "collapsed": false,
    "jupyter": {
     "outputs_hidden": false
    }
   },
   "source": [
    "# Save results"
   ]
  },
  {
   "cell_type": "code",
   "execution_count": 19,
   "id": "051a35e2-f1e9-4939-b573-757e02e70440",
   "metadata": {
    "ExecuteTime": {
     "end_time": "2024-06-30T20:07:31.279659724Z",
     "start_time": "2024-06-30T20:07:31.270012992Z"
    },
    "collapsed": false,
    "jupyter": {
     "outputs_hidden": false
    }
   },
   "outputs": [],
   "source": [
    "# Create and save as a dictionary\n",
    "model_performance = {\n",
    "    'edge_train_losses': edge_train_losses,\n",
    "    'node_train_losses': np.array(node_train_losses).tolist(),\n",
    "    'edge_test_losses':  edge_test_losses,\n",
    "    'node_test_losses':  node_test_losses.tolist()\n",
    "}\n",
    "\n",
    "# Write the dictionary to the file in JSON format\n",
    "with open(f'{target_folder}/model_performance.json', 'w') as json_file:\n",
    "    json.dump(model_performance, json_file)"
   ]
  }
 ],
 "metadata": {
  "kernelspec": {
   "display_name": "Python 3 (ipykernel)",
   "language": "python",
   "name": "python3"
  },
  "language_info": {
   "codemirror_mode": {
    "name": "ipython",
    "version": 3
   },
   "file_extension": ".py",
   "mimetype": "text/x-python",
   "name": "python",
   "nbconvert_exporter": "python",
   "pygments_lexer": "ipython3",
   "version": "3.12.3"
  }
 },
 "nbformat": 4,
 "nbformat_minor": 5
}
