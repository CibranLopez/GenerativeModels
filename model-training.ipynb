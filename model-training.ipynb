{
 "cells": [
  {
   "cell_type": "code",
   "execution_count": 1,
   "id": "d6cb4ec9b58cab36",
   "metadata": {
    "ExecuteTime": {
     "end_time": "2024-10-25T18:21:52.337547907Z",
     "start_time": "2024-10-25T18:21:50.860763569Z"
    },
    "jupyter": {
     "outputs_hidden": false
    }
   },
   "outputs": [
    {
     "name": "stderr",
     "output_type": "stream",
     "text": [
      "/home/claudio/cibran/Work/UPC/GenerativeModels/venv/lib/python3.12/site-packages/matplotlib/projections/__init__.py:63: UserWarning: Unable to import Axes3D. This may be due to multiple versions of Matplotlib being installed (e.g. as a system package and as a pip package). As a result, the 3D projection is not available.\n",
      "  warnings.warn(\"Unable to import Axes3D. This may be due to multiple versions of \"\n"
     ]
    }
   ],
   "source": [
    "import matplotlib.pyplot as plt\n",
    "import numpy             as np\n",
    "import torch.nn          as nn\n",
    "import seaborn           as sns\n",
    "import torch\n",
    "import json\n",
    "import os\n",
    "import sys\n",
    "\n",
    "from torch_geometric.loader import DataLoader\n",
    "from libraries.model        import nGCNN, eGCNN, diffuse_t_steps, get_graph_losses, add_features_to_graph, predict_noise, denoise, EarlyStopping, get_alpha_t\n",
    "from libraries.dataset      import standardize_dataset, get_datasets\n",
    "\n",
    "# Set colormap\n",
    "cmap = plt.get_cmap('plasma')\n",
    "\n",
    "sns.set_theme()\n",
    "\n",
    "# Checking if pytorch can run in GPU, else CPU\n",
    "device = torch.device('cuda' if torch.cuda.is_available() else 'cpu')"
   ]
  },
  {
   "cell_type": "code",
   "execution_count": 2,
   "id": "d2bd0d03e0d6c4c0",
   "metadata": {
    "ExecuteTime": {
     "end_time": "2024-10-25T18:21:52.340618316Z",
     "start_time": "2024-10-25T18:21:52.338866625Z"
    },
    "jupyter": {
     "outputs_hidden": false
    }
   },
   "outputs": [
    {
     "data": {
      "text/plain": [
       "device(type='cuda')"
      ]
     },
     "execution_count": 2,
     "metadata": {},
     "output_type": "execute_result"
    }
   ],
   "source": [
    "device"
   ]
  },
  {
   "cell_type": "code",
   "execution_count": 3,
   "id": "d4cb0f2aacc0afab",
   "metadata": {
    "ExecuteTime": {
     "end_time": "2024-10-25T18:21:53.904185679Z",
     "start_time": "2024-10-25T18:21:53.901986317Z"
    },
    "jupyter": {
     "outputs_hidden": false
    }
   },
   "outputs": [],
   "source": [
    "# Based on adding and removing noise to graphs, he model is able to learn hidden patterns\n",
    "# It can be conditionally trained with respect to some target property\n",
    "# Although denoising includes noise, I think it is better not to add it when training"
   ]
  },
  {
   "cell_type": "code",
   "execution_count": 4,
   "id": "31459ad11c33a291",
   "metadata": {
    "ExecuteTime": {
     "end_time": "2024-10-25T18:21:54.246580214Z",
     "start_time": "2024-10-25T18:21:54.071379465Z"
    },
    "jupyter": {
     "outputs_hidden": false
    }
   },
   "outputs": [
    {
     "data": {
      "text/plain": [
       "'models/Loaded_MP_bandgap-sphere-images/GM_v5'"
      ]
     },
     "execution_count": 4,
     "metadata": {},
     "output_type": "execute_result"
    }
   ],
   "source": [
    "# Define name of data folder where reference dataset are contained\n",
    "# It shall be consistent with data_folder and data will be moved to models folder\n",
    "data_name = 'Loaded_MP_bandgap-sphere-images'\n",
    "\n",
    "# Define folder in which data is stored\n",
    "data_folder = f'data/{data_name}'\n",
    "\n",
    "# The folder is named as target_folder_vi (eg, target_folder_v0)\n",
    "general_folder = f'models/{data_name}'\n",
    "if not os.path.exists(general_folder):\n",
    "    # Generate new folder\n",
    "    os.system(f'mkdir {general_folder}')\n",
    "\n",
    "target_folder = None\n",
    "if target_folder is None:\n",
    "    # Each new run generates a new folder, with different generations and training most likely (as data might vary as well)\n",
    "    i = 0\n",
    "    while True:\n",
    "        target_folder = f'{general_folder}/GM_v{i}'\n",
    "        if not os.path.exists(target_folder):\n",
    "            # Copy all data\n",
    "            os.system(f'cp -r {data_folder} {target_folder}')\n",
    "            break\n",
    "        i += 1\n",
    "\n",
    "edge_model_name = f'{target_folder}/edge_model.pt'\n",
    "node_model_name = f'{target_folder}/node_model.pt'\n",
    "target_folder"
   ]
  },
  {
   "cell_type": "code",
   "execution_count": 5,
   "id": "6208b4c9c572b6d2",
   "metadata": {
    "ExecuteTime": {
     "end_time": "2024-10-25T18:21:55.107143182Z",
     "start_time": "2024-10-25T18:21:55.004397445Z"
    },
    "jupyter": {
     "outputs_hidden": false
    }
   },
   "outputs": [],
   "source": [
    "# Machine-learning parameters\n",
    "n_epochs      = 100\n",
    "batch_size    = 256\n",
    "learning_rate = 0.0001\n",
    "patience      = n_epochs\n",
    "delta         = 0.2\n",
    "check_labels  = False  # Whether to train-test split attending to labels or not\n",
    "\n",
    "n_eras = 10  # Number of training eras to train the model in denoising steps\n",
    "\n",
    "# Number of diffusing and denoising steps\n",
    "n_t_steps = torch.tensor(1000, dtype=torch.int, device=device)\n",
    "\n",
    "# Decay of parameter alpha\n",
    "alpha_decay = torch.tensor(0.0001, device=device)\n",
    "\n",
    "# Dropouts for node and edge models (independent of each other)\n",
    "dropout_node = 0.1\n",
    "dropout_edge = 0.1\n",
    "\n",
    "# Create and save as a dictionary\n",
    "model_parameters = {\n",
    "    'data_folder':   data_folder,\n",
    "    'n_eras':        n_eras,\n",
    "    'n_epochs':      n_epochs,\n",
    "    'batch_size':    batch_size,\n",
    "    'learning_rate': learning_rate,\n",
    "    'patience':      patience,\n",
    "    'delta':         delta,\n",
    "    'check_labels':  check_labels,\n",
    "    'n_t_steps':     n_t_steps.cpu().numpy().tolist(),\n",
    "    'alpha_decay':   alpha_decay.cpu().numpy().tolist(),\n",
    "    'dropout_node':  dropout_node,\n",
    "    'dropout_edge':  dropout_edge\n",
    "}\n",
    "\n",
    "# Write the dictionary to the file in JSON format\n",
    "with open(f'{target_folder}/model_parameters.json', 'w') as json_file:\n",
    "    json.dump(model_parameters, json_file)"
   ]
  },
  {
   "cell_type": "markdown",
   "id": "2dc757ea2296182",
   "metadata": {
    "jupyter": {
     "outputs_hidden": false
    }
   },
   "source": [
    "# Load of graph database for training"
   ]
  },
  {
   "cell_type": "markdown",
   "id": "4a0c94c5e9672e",
   "metadata": {
    "jupyter": {
     "outputs_hidden": false
    }
   },
   "source": [
    "Load the dataset, already standardized."
   ]
  },
  {
   "cell_type": "code",
   "execution_count": 6,
   "id": "81add81bc5efff72",
   "metadata": {
    "ExecuteTime": {
     "end_time": "2024-10-25T18:22:40.662937118Z",
     "start_time": "2024-10-25T18:21:56.570437488Z"
    },
    "jupyter": {
     "outputs_hidden": false
    }
   },
   "outputs": [],
   "source": [
    "labels_name                 = f'{target_folder}/labels.pt'\n",
    "dataset_name                = f'{target_folder}/dataset.pt'\n",
    "dataset_name_std            = f'{target_folder}/standardized_dataset.pt'\n",
    "labels_name_std             = f'{target_folder}/standardized_labels.pt'\n",
    "dataset_parameters_name_std = f'{target_folder}/standardized_parameters.json'  # Parameters for rescaling the predictions\n",
    "\n",
    "if os.path.exists(dataset_name_std) and os.path.exists(dataset_parameters_name_std) and os.path.exists(labels_name_std):\n",
    "    # Load the standardized dataset, with corresponding labels and parameters\n",
    "    dataset = torch.load(dataset_name_std, weights_only=False)\n",
    "    labels  = torch.load(labels_name_std,  weights_only=False)\n",
    "    \n",
    "    # Load the data from the JSON file\n",
    "    with open(dataset_parameters_name_std, 'r') as json_file:\n",
    "        numpy_dict = json.load(json_file)\n",
    "\n",
    "    # Convert NumPy arrays back to PyTorch tensors\n",
    "    dataset_parameters = {}\n",
    "    for key, value in numpy_dict.items():\n",
    "        try:\n",
    "            dataset_parameters[key] = torch.tensor(value)\n",
    "        except:\n",
    "            dataset_parameters[key] = value\n",
    "\n",
    "elif os.path.exists(dataset_name) and os.path.exists(labels_name):\n",
    "    # Load the raw dataset, with corresponding labels, and standardize it\n",
    "    dataset = torch.load(dataset_name, weights_only=False)\n",
    "    labels  = torch.load(labels_name,  weights_only=False)\n",
    "    \n",
    "    # Standardize dataset\n",
    "    dataset, labels, dataset_parameters = standardize_dataset(dataset, labels,\n",
    "                                                              transformation='inverse-quadratic')\n",
    "    \n",
    "    # Save standardized dataset\n",
    "    torch.save(dataset, dataset_name_std)\n",
    "    torch.save(labels,  labels_name_std)\n",
    "    \n",
    "    # Convert torch tensors to numpy arrays\n",
    "    numpy_dict = {}\n",
    "    for key, value in dataset_parameters.items():\n",
    "        try:\n",
    "            numpy_dict[key] = value.cpu().numpy().tolist()\n",
    "        except:\n",
    "            numpy_dict[key] = value\n",
    "\n",
    "    # Dump the dictionary with numpy arrays to a JSON file\n",
    "    with open(dataset_parameters_name_std, 'w') as json_file:\n",
    "        json.dump(numpy_dict, json_file)\n",
    "\n",
    "else:\n",
    "    sys.exit('Error: the database is not available')\n",
    "\n",
    "# Defining target factor\n",
    "target_factor = dataset_parameters['target_std'] / dataset_parameters['scale']"
   ]
  },
  {
   "cell_type": "markdown",
   "id": "a813e0dc-6328-4bb2-b3a3-ae979e84498d",
   "metadata": {},
   "source": [
    "Include features and prepare shape of dataset for training, considerably reducing CPU-GPU communication."
   ]
  },
  {
   "cell_type": "code",
   "execution_count": 7,
   "id": "9141a8aa0c071000",
   "metadata": {
    "ExecuteTime": {
     "end_time": "2024-10-25T18:22:41.223180138Z",
     "start_time": "2024-10-25T18:22:41.002003720Z"
    },
    "jupyter": {
     "outputs_hidden": false
    }
   },
   "outputs": [],
   "source": [
    "# Determine number of graphs in dataset\n",
    "n_graphs = len(dataset)\n",
    "\n",
    "# Determine number of node-level features in dataset\n",
    "n_node_features = dataset[0].num_node_features\n",
    "\n",
    "# Determine the number of graph-level features to be predicted\n",
    "n_graph_features = len(dataset[0].y)\n",
    "\n",
    "# Make room for n_graph_features and t_steps in the dataset\n",
    "for idx in range(n_graphs):\n",
    "    dataset[idx] = add_features_to_graph(dataset[idx],\n",
    "                                         torch.tensor([dataset[idx].y, 0]))"
   ]
  },
  {
   "cell_type": "markdown",
   "id": "cdcd0afbf5b67ea7",
   "metadata": {
    "jupyter": {
     "outputs_hidden": false
    }
   },
   "source": [
    "Split in train, validation and test sets"
   ]
  },
  {
   "cell_type": "code",
   "execution_count": 8,
   "id": "f051cc1bf95d4aae",
   "metadata": {
    "ExecuteTime": {
     "end_time": "2024-10-25T18:22:56.683866473Z",
     "start_time": "2024-10-25T18:22:41.225372318Z"
    },
    "jupyter": {
     "outputs_hidden": false
    }
   },
   "outputs": [
    {
     "name": "stdout",
     "output_type": "stream",
     "text": [
      "Number of training   graphs: 130579\n",
      "Number of validation graphs: 1333\n",
      "Number of testing    graphs: 1332\n"
     ]
    }
   ],
   "source": [
    "train_ratio = 0.98\n",
    "test_ratio  = 0.01\n",
    "\n",
    "# Check if data has been already split, else do it randomly\n",
    "path_to_train_labels = f'{target_folder}/train_labels.txt'\n",
    "path_to_val_labels   = f'{target_folder}/validation_labels.txt'\n",
    "path_to_test_labels  = f'{target_folder}/test_labels.txt'\n",
    "\n",
    "# Copy labels\n",
    "material_labels = labels.copy()\n",
    "\n",
    "if check_labels:\n",
    "    if os.path.exists(path_to_train_labels) and os.path.exists(path_to_val_labels) and os.path.exists(path_to_test_labels):\n",
    "        # Read labels splitting (which are strings)\n",
    "        train_labels = np.genfromtxt(path_to_train_labels, dtype='str').tolist()\n",
    "        val_labels   = np.genfromtxt(path_to_val_labels,   dtype='str').tolist()\n",
    "        test_labels  = np.genfromtxt(path_to_test_labels,  dtype='str').tolist()\n",
    "    else:\n",
    "        # Splitting into train-test sets considering that Fvs from the same materials must be in the same dataset\n",
    "        material_labels = [label.split()[0] for label in material_labels]\n",
    "        \n",
    "        # Define unique labels\n",
    "        unique_labels = np.unique(material_labels)\n",
    "        \n",
    "        # Shuffle the list of unique labels\n",
    "        np.random.shuffle(unique_labels)\n",
    "    \n",
    "        # Define the sizes of the train and test sets\n",
    "        # Corresponds to the size wrt the number of unique materials in the dataset\n",
    "        train_size = int(train_ratio * len(unique_labels))\n",
    "        test_size  = int(test_ratio  * len(unique_labels))\n",
    "        \n",
    "        train_labels = unique_labels[:train_size]\n",
    "        val_labels   = unique_labels[train_size:-test_size]\n",
    "        test_labels  = unique_labels[-test_size:]\n",
    "    \n",
    "        # Save this splitting for transfer-learning approaches\n",
    "        np.savetxt(path_to_train_labels, train_labels, fmt='%s')\n",
    "        np.savetxt(path_to_val_labels,   val_labels,   fmt='%s')\n",
    "        np.savetxt(path_to_test_labels,  test_labels,  fmt='%s')\n",
    "\n",
    "    # Use the computed indexes to generate train and test sets\n",
    "    # We iteratively check where labels equals a unique train/test labels and append the index to a list\n",
    "    train_dataset = get_datasets(train_labels, material_labels, dataset)\n",
    "    val_dataset   = get_datasets(val_labels,   material_labels, dataset)\n",
    "    test_dataset  = get_datasets(test_labels,  material_labels, dataset)\n",
    "else:\n",
    "    # Define the sizes of the train and test sets\n",
    "    # Corresponds to the size wrt the number of unique materials in the dataset\n",
    "    train_size = int(train_ratio * len(dataset))\n",
    "    test_size  = int(test_ratio  * len(dataset))\n",
    "\n",
    "    np.random.shuffle(dataset)\n",
    "    # Random, fast splitting\n",
    "    train_dataset = dataset[:train_size]\n",
    "    val_dataset   = dataset[train_size:-test_size]\n",
    "    test_dataset  = dataset[-test_size:]\n",
    "\n",
    "del dataset  # Free up CUDA memory\n",
    "\n",
    "print(f'Number of training   graphs: {len(train_dataset)}')\n",
    "print(f'Number of validation graphs: {len(val_dataset)}')\n",
    "print(f'Number of testing    graphs: {len(test_dataset)}')"
   ]
  },
  {
   "cell_type": "markdown",
   "id": "b2f25e2999d4d5ab",
   "metadata": {
    "jupyter": {
     "outputs_hidden": false
    }
   },
   "source": [
    "Define data loaders."
   ]
  },
  {
   "cell_type": "code",
   "execution_count": 9,
   "id": "86226627fd660ca4",
   "metadata": {
    "ExecuteTime": {
     "end_time": "2024-10-25T18:22:56.684414643Z",
     "start_time": "2024-10-25T18:22:56.683788707Z"
    },
    "jupyter": {
     "outputs_hidden": false
    }
   },
   "outputs": [],
   "source": [
    "train_loader = DataLoader(train_dataset, batch_size=batch_size, shuffle=True, num_workers=16, pin_memory=True)\n",
    "val_loader   = DataLoader(val_dataset,   batch_size=batch_size, shuffle=True, num_workers=16, pin_memory=True)\n",
    "test_loader  = DataLoader(test_dataset,  batch_size=batch_size, shuffle=True, num_workers=16, pin_memory=True)\n",
    "del train_dataset, val_dataset, test_dataset  # Free up CUDA memory"
   ]
  },
  {
   "cell_type": "markdown",
   "id": "95db14b7003fd1f8",
   "metadata": {
    "jupyter": {
     "outputs_hidden": false
    }
   },
   "source": [
    "# Definition of the model"
   ]
  },
  {
   "cell_type": "code",
   "execution_count": 10,
   "id": "7ead2e3b00e44faf",
   "metadata": {
    "ExecuteTime": {
     "end_time": "2024-10-25T18:22:56.698384348Z",
     "start_time": "2024-10-25T18:22:56.683874819Z"
    },
    "jupyter": {
     "outputs_hidden": false
    }
   },
   "outputs": [
    {
     "name": "stdout",
     "output_type": "stream",
     "text": [
      "\n",
      "Node GCNN:\n",
      "DataParallel(\n",
      "  (module): nGCNN(\n",
      "    (conv1): GraphConv(6, 256)\n",
      "    (conv2): GraphConv(256, 512)\n",
      "    (conv3): GraphConv(512, 256)\n",
      "    (conv4): GraphConv(256, 4)\n",
      "    (norm1): BatchNorm1d(256, eps=1e-05, momentum=0.1, affine=True, track_running_stats=True)\n",
      "  )\n",
      ")\n",
      "\n",
      "Edge GCNN:\n",
      "DataParallel(\n",
      "  (module): eGCNN(\n",
      "    (linear1): Linear(in_features=7, out_features=128, bias=True)\n",
      "    (linear2): Linear(in_features=128, out_features=256, bias=True)\n",
      "    (linear3): Linear(in_features=256, out_features=64, bias=True)\n",
      "    (linear4): Linear(in_features=64, out_features=1, bias=True)\n",
      "    (norm1): BatchNorm1d(64, eps=1e-05, momentum=0.1, affine=True, track_running_stats=True)\n",
      "  )\n",
      ")\n"
     ]
    }
   ],
   "source": [
    "# Instantiate the models for nodes and edges, considering the t_step information; n_graph_features+1 for accounting for the time step\n",
    "node_model = nGCNN(n_node_features, n_graph_features+1, dropout_node).to(device)\n",
    "edge_model = eGCNN(n_node_features, n_graph_features+1, dropout_edge).to(device)\n",
    "\n",
    "# Load previous model if available\n",
    "try:\n",
    "    # Load and evaluate model state\n",
    "    node_model.load_state_dict(torch.load(node_model_name, map_location=torch.device(device), weights_only=False))\n",
    "    node_model.eval()\n",
    "    edge_model.load_state_dict(torch.load(edge_model_name, map_location=torch.device(device), weights_only=False))\n",
    "    edge_model.eval()\n",
    "except FileNotFoundError:\n",
    "    pass\n",
    "\n",
    "# Allow data parallelization among multi-GPU\n",
    "node_model= nn.DataParallel(node_model)\n",
    "edge_model= nn.DataParallel(edge_model)\n",
    "\n",
    "print('\\nNode GCNN:')\n",
    "print(node_model)\n",
    "print('\\nEdge GCNN:')\n",
    "print(edge_model)"
   ]
  },
  {
   "cell_type": "markdown",
   "id": "2ca0f4a07f1c8daa",
   "metadata": {
    "jupyter": {
     "outputs_hidden": false
    }
   },
   "source": [
    "# Training of the model"
   ]
  },
  {
   "cell_type": "code",
   "execution_count": null,
   "id": "da315ecb-cda2-4c12-a1af-990c2e50d053",
   "metadata": {
    "ExecuteTime": {
     "end_time": "2024-10-25T18:22:57.625570410Z",
     "start_time": "2024-10-25T18:22:56.703077598Z"
    },
    "jupyter": {
     "outputs_hidden": false
    }
   },
   "outputs": [],
   "source": [
    "node_attributes_list = ['edge_attr', 'atomic_mass', 'charge', 'electronegativity', 'ionization_energy']\n",
    "\n",
    "# Initialize the optimizers\n",
    "node_optimizer = torch.optim.Adam(node_model.parameters(), lr=learning_rate)\n",
    "edge_optimizer = torch.optim.Adam(edge_model.parameters(), lr=learning_rate)\n",
    "\n",
    "# Initialize early stopping\n",
    "node_early_stopping = EarlyStopping(patience=patience, delta=delta, model_name=node_model_name)\n",
    "edge_early_stopping = EarlyStopping(patience=patience, delta=delta, model_name=edge_model_name)\n",
    "\n",
    "# Training loop\n",
    "edge_train_losses = []\n",
    "node_train_losses = []\n",
    "for epoch in range(n_epochs):\n",
    "    # Initialize train loss variable\n",
    "    edge_loss_cum = 0\n",
    "    node_loss_cum = np.zeros(n_node_features, dtype=float)\n",
    "    ground_truth = {k: [] for k in node_attributes_list}\n",
    "    prediction   = {k: [] for k in node_attributes_list}\n",
    "    \n",
    "    fig, ax = plt.subplots(1, len(node_attributes_list), figsize=(10, 2))\n",
    "\n",
    "    for batch_idx, batch_0 in enumerate(train_loader):\n",
    "        # Clone batch of graphs and move to device\n",
    "        g_batch_0 = batch_0.clone().to(device)\n",
    "\n",
    "        # Start denoising-diffusing process\n",
    "        for _ in range(n_eras):\n",
    "            # Generate a random t step\n",
    "            t_step = torch.randint(0, n_t_steps, (1,))[0]\n",
    "\n",
    "            # Initialize the gradient of the optimizers\n",
    "            node_optimizer.zero_grad()\n",
    "            edge_optimizer.zero_grad()\n",
    "            \n",
    "            # Standard normalization for the time step, which is added to node-level graph embeddings after \n",
    "            t_step_std = t_step / n_t_steps - 0.5 \n",
    "            \n",
    "            # Diffuse the entire batch of graphs with Gaussian noise\n",
    "            # Vectorized version of diffusion_step for batching\n",
    "            g_batch_t, e_batch_t = diffuse_t_steps(g_batch_0,\n",
    "                                                   t_step, n_t_steps, alpha_decay,\n",
    "                                                   n_features=n_node_features)\n",
    "            \n",
    "            # Stack time step across batch dimension \n",
    "            g_batch_t.x[:, -1] = t_step_std\n",
    "            \n",
    "            # Predict batch noise at given time step\n",
    "            pred_epsilon_t = predict_noise(g_batch_t, node_model, edge_model)\n",
    "\n",
    "            # Calculate the losses for node features and edge attributes\n",
    "            node_losses, edge_loss = get_graph_losses(e_batch_t, pred_epsilon_t)\n",
    "            \n",
    "            # Combine losses for each attribute tensors\n",
    "            node_loss = torch.stack(node_losses).sum()\n",
    "            \n",
    "            # Get items\n",
    "            node_loss_cum += np.array([node_loss.item() for node_loss in node_losses])\n",
    "            edge_loss_cum += edge_loss.item()\n",
    "            \n",
    "            # Backpropagate and optimize node loss\n",
    "            if not node_early_stopping.early_stop:\n",
    "                node_loss.backward(retain_graph=True)\n",
    "                torch.nn.utils.clip_grad_norm_(node_model.parameters(), max_norm=2.0)\n",
    "                node_optimizer.step()\n",
    "\n",
    "            # Backpropagate and optimize edge loss\n",
    "            if not edge_early_stopping.early_stop:\n",
    "                edge_loss.backward(retain_graph=True)\n",
    "                torch.nn.utils.clip_grad_norm_(edge_model.parameters(), max_norm=2.0)\n",
    "                edge_optimizer.step()\n",
    "\n",
    "            # Randomly sample batches to store data\n",
    "            if not t_step%1 and batch_idx == 0:\n",
    "                for key, idx in zip(node_attributes_list, range(n_node_features+1)):\n",
    "                    # In this order: edge_attr, x0, x1, x2, x3, ... to lists\n",
    "                    gt_value   = (     e_batch_t.edge_attr if not idx else      e_batch_t.x[:, idx-1]).cpu().detach().numpy().tolist()\n",
    "                    pred_value = (pred_epsilon_t.edge_attr if not idx else pred_epsilon_t.x[:, idx-1]).cpu().detach().numpy().tolist()\n",
    "\n",
    "                    # Append to dictionaries\n",
    "                    ground_truth[key].append(gt_value)\n",
    "                    prediction[key].append(pred_value)\n",
    "\n",
    "                    ax[idx].plot(gt_value, pred_value, '.', color=cmap(((t_step + 1) / n_t_steps).cpu().detach().numpy()))\n",
    "    \n",
    "    # Plot once per epoch\n",
    "    for idx, item in enumerate(ground_truth):\n",
    "        gt_values   = np.concatenate(ground_truth[item])\n",
    "        pred_values = np.concatenate(prediction[item])\n",
    "        \n",
    "        _min, _max = min(gt_values.min(), pred_values.min()), max(gt_values.max(), pred_values.max())\n",
    "        ax[idx].plot([_min, _max], [_min, _max], '-r')\n",
    "    plt.show()\n",
    "\n",
    "    # Compute the average train loss over n_t_steps\n",
    "    node_loss_cum /= (n_eras * len(train_loader))\n",
    "    edge_loss_cum /= (n_eras * len(train_loader))\n",
    "\n",
    "    # Append average losses\n",
    "    node_train_losses.append(node_loss_cum)\n",
    "    edge_train_losses.append(edge_loss_cum)\n",
    "\n",
    "    # Check early stopping criteria\n",
    "    node_early_stopping(node_loss_cum.sum(), node_model)\n",
    "    edge_early_stopping(edge_loss_cum,       edge_model)\n",
    "\n",
    "    if node_early_stopping.early_stop and edge_early_stopping.early_stop:\n",
    "        print('Early stopping')\n",
    "        break\n",
    "\n",
    "    print_node_loss = ' '.join([f'{node_loss:.4f}' for node_loss in node_loss_cum])\n",
    "    print(f'Epoch: {epoch+1}, edge loss: {edge_loss_cum:.4f}, node loss: {print_node_loss}')"
   ]
  },
  {
   "cell_type": "code",
   "execution_count": 12,
   "id": "64005213-eece-4e4b-8ee6-2e4913e847c1",
   "metadata": {},
   "outputs": [
    {
     "data": {
      "text/plain": [
       "array([0.06742437, 0.06724854, 0.06712717, 0.06705988, 0.06700566,\n",
       "       0.06700953, 0.06700201, 0.06695667, 0.06696848, 0.06696092,\n",
       "       0.06695736, 0.06695576, 0.06693584, 0.06694591, 0.06693044,\n",
       "       0.06692292, 0.0669214 , 0.06692542, 0.06692503, 0.0669416 ,\n",
       "       0.06691505, 0.06690178, 0.06692321, 0.066919  , 0.06692605,\n",
       "       0.06691117, 0.06692127, 0.06690678, 0.06692204, 0.06688679,\n",
       "       0.06688367, 0.06688882, 0.06689573, 0.06688323, 0.06688832,\n",
       "       0.06689528, 0.06689891, 0.06689705, 0.06688009, 0.06687566,\n",
       "       0.06689123, 0.06688439, 0.06689324, 0.06689194, 0.06688007,\n",
       "       0.06690568, 0.0668667 , 0.06689873, 0.06690015, 0.06688002,\n",
       "       0.06687936, 0.06689852, 0.06688142, 0.06688978, 0.06688407,\n",
       "       0.0668779 , 0.06689308, 0.06690527, 0.06687158, 0.06687911,\n",
       "       0.06687492, 0.06688365, 0.06688998, 0.06686107, 0.06688178,\n",
       "       0.06687371, 0.06688542, 0.06686107, 0.06688652, 0.06687309,\n",
       "       0.06688842, 0.06687871, 0.06687751, 0.06688186, 0.06687572,\n",
       "       0.0668848 , 0.06686993, 0.06688754, 0.06687403, 0.06687333,\n",
       "       0.06688208, 0.06685117, 0.06689551, 0.06688006, 0.06687475,\n",
       "       0.06687587, 0.06686851, 0.06687988, 0.06685597, 0.06688936,\n",
       "       0.06687142, 0.06684619, 0.06686485, 0.06686212, 0.06686336,\n",
       "       0.06685855, 0.06686813, 0.06688459, 0.06686203, 0.0668537 ])"
      ]
     },
     "execution_count": 12,
     "metadata": {},
     "output_type": "execute_result"
    }
   ],
   "source": [
    "rescaled_edge_train_losses = np.sqrt(edge_train_losses) * dataset_parameters['edge_std'].numpy() + dataset_parameters['edge_mean'].numpy()\n",
    "rescaled_edge_train_losses"
   ]
  },
  {
   "cell_type": "code",
   "execution_count": 13,
   "id": "8bfb8249-2ad7-47cb-84e9-d8549c6717f9",
   "metadata": {
    "ExecuteTime": {
     "end_time": "2024-06-30T20:03:31.369806601Z",
     "start_time": "2024-06-30T20:03:31.366148559Z"
    },
    "jupyter": {
     "outputs_hidden": false
    }
   },
   "outputs": [
    {
     "data": {
      "text/plain": [
       "array([[59.38974912, 25.77282153,  2.36243855, 10.01878774],\n",
       "       [59.23261763, 25.67315443,  2.35910683, 10.00767563],\n",
       "       [59.23101718, 25.6725501 ,  2.35904466, 10.00745397],\n",
       "       [59.23005972, 25.67215339,  2.35903844, 10.00745519],\n",
       "       [59.22979375, 25.67222143,  2.35903499, 10.00746169],\n",
       "       [59.23019051, 25.67214629,  2.35903539, 10.00746201],\n",
       "       [59.23018538, 25.67213785,  2.35902415, 10.0074417 ],\n",
       "       [59.23056289, 25.67211557,  2.35904109, 10.00748134],\n",
       "       [59.23017446, 25.67208061,  2.35903095, 10.0074886 ],\n",
       "       [59.22961343, 25.67201442,  2.35903166, 10.00745334],\n",
       "       [59.22982536, 25.67226724,  2.35903257, 10.00743365],\n",
       "       [59.23030713, 25.67214261,  2.35902665, 10.00742828],\n",
       "       [59.23140959, 25.67270383,  2.35902552, 10.00740113],\n",
       "       [59.23029733, 25.67218348,  2.35902231, 10.00740491],\n",
       "       [59.22927863, 25.67166899,  2.35901923, 10.00739304],\n",
       "       [59.22595275, 25.67056871,  2.35901941, 10.00743537],\n",
       "       [59.22183689, 25.66926026,  2.35901992, 10.00737793],\n",
       "       [59.22067925, 25.66801703,  2.35902241, 10.00740811],\n",
       "       [59.2168042 , 25.66683577,  2.35902149, 10.00738465],\n",
       "       [59.21288582, 25.66561729,  2.35902276, 10.00741723],\n",
       "       [59.20827052, 25.66341839,  2.35902998, 10.00743171],\n",
       "       [59.20429628, 25.66174183,  2.35902995, 10.00739471],\n",
       "       [59.20190975, 25.66092708,  2.35903161, 10.00740027],\n",
       "       [59.19455993, 25.65896243,  2.35903526, 10.00745665],\n",
       "       [59.19159095, 25.6585753 ,  2.35902839, 10.00741843],\n",
       "       [59.18320728, 25.65563128,  2.35903294, 10.00744879],\n",
       "       [59.18128851, 25.65517241,  2.35903569, 10.00743764],\n",
       "       [59.17716121, 25.65431296,  2.35903498, 10.00743298],\n",
       "       [59.17260338, 25.65246642,  2.35903534, 10.00748311],\n",
       "       [59.16762377, 25.65084294,  2.35903603, 10.00746454],\n",
       "       [59.16420861, 25.64949097,  2.3590382 , 10.00743309],\n",
       "       [59.15861988, 25.64781699,  2.35903553, 10.00750943],\n",
       "       [59.15675785, 25.64709034,  2.35903308, 10.00746611],\n",
       "       [59.15355344, 25.64594413,  2.35903848, 10.00747231],\n",
       "       [59.15469276, 25.64578833,  2.35903964, 10.00744693],\n",
       "       [59.15211657, 25.64523933,  2.35904235, 10.00741954],\n",
       "       [59.1497594 , 25.64557786,  2.35903845, 10.00748193],\n",
       "       [59.14943506, 25.64440364,  2.35902682, 10.0074415 ],\n",
       "       [59.14306814, 25.64355871,  2.35902615, 10.00738872],\n",
       "       [59.13796773, 25.64075687,  2.35902366, 10.00733034],\n",
       "       [59.13888784, 25.64148145,  2.35903252, 10.00724944],\n",
       "       [59.13728522, 25.64054485,  2.35900228, 10.00714918],\n",
       "       [59.13480345, 25.63989846,  2.3589708 , 10.00702302],\n",
       "       [59.13481749, 25.63960245,  2.35894384, 10.00692774],\n",
       "       [59.12926982, 25.63803998,  2.35892056, 10.00686869],\n",
       "       [59.13170462, 25.63848879,  2.35892368, 10.00678039],\n",
       "       [59.12643026, 25.63716481,  2.35895211, 10.00667039],\n",
       "       [59.12772303, 25.63781812,  2.35889942, 10.0067085 ],\n",
       "       [59.12594654, 25.63699251,  2.35888127, 10.00656939],\n",
       "       [59.11986653, 25.63477334,  2.35885501, 10.00649711],\n",
       "       [59.11908725, 25.63462446,  2.35881649, 10.00639835],\n",
       "       [59.11967806, 25.63460957,  2.35881345, 10.00641027],\n",
       "       [59.11417965, 25.63276513,  2.35878768, 10.00623443],\n",
       "       [59.1123661 , 25.63218558,  2.35875822, 10.00621916],\n",
       "       [59.10767167, 25.63046588,  2.35875273, 10.00609201],\n",
       "       [59.10390589, 25.62938211,  2.3586815 , 10.0059282 ],\n",
       "       [59.10281159, 25.6290227 ,  2.3586504 , 10.00583156],\n",
       "       [59.10431883, 25.62943951,  2.35861702, 10.00585112],\n",
       "       [59.09469267, 25.62578049,  2.35852111, 10.0054298 ],\n",
       "       [59.09339883, 25.62520179,  2.35847695, 10.00541476],\n",
       "       [59.09214572, 25.62525588,  2.35843066, 10.00523375],\n",
       "       [59.08820269, 25.62321644,  2.35840524, 10.00519154],\n",
       "       [59.08607013, 25.62289337,  2.35833789, 10.00512106],\n",
       "       [59.07888894, 25.62028   ,  2.35823555, 10.00478828],\n",
       "       [59.07716784, 25.61921266,  2.35819673, 10.00473827],\n",
       "       [59.07478295, 25.6186758 ,  2.35815973, 10.00456402],\n",
       "       [59.06870417, 25.61652713,  2.3580779 , 10.00443368],\n",
       "       [59.06556288, 25.61554056,  2.35798353, 10.00413001],\n",
       "       [59.06381451, 25.61387331,  2.35794925, 10.00404328],\n",
       "       [59.05868781, 25.61161635,  2.35787579, 10.00385327],\n",
       "       [59.05832154, 25.61127709,  2.35783899, 10.00368017],\n",
       "       [59.05314415, 25.60972236,  2.3577368 , 10.00336893],\n",
       "       [59.04956282, 25.60816808,  2.35768848, 10.00319629],\n",
       "       [59.04979732, 25.60733351,  2.35777862, 10.00318228],\n",
       "       [59.04703187, 25.60674474,  2.35760347, 10.00288732],\n",
       "       [59.04078481, 25.60560405,  2.35755896, 10.00277733],\n",
       "       [59.03788915, 25.60287992,  2.35751357, 10.00252982],\n",
       "       [59.04002727, 25.6042631 ,  2.35753237, 10.00248225],\n",
       "       [59.03447277, 25.60179255,  2.35742155, 10.00221889],\n",
       "       [59.02870619, 25.60012161,  2.35736313, 10.00201046],\n",
       "       [59.03154291, 25.60081364,  2.35735575, 10.00190813],\n",
       "       [59.02369284, 25.59812261,  2.35730025, 10.00154066],\n",
       "       [59.02941005, 25.60014528,  2.35731082, 10.00165565],\n",
       "       [59.02534521, 25.59819777,  2.35723752, 10.00139425],\n",
       "       [59.02146791, 25.59731506,  2.35720097, 10.00121958],\n",
       "       [59.02288337, 25.59765194,  2.35717238, 10.00109485],\n",
       "       [59.01700159, 25.59561048,  2.35708116, 10.00078822],\n",
       "       [59.01851199, 25.5959078 ,  2.35707612, 10.0007209 ],\n",
       "       [59.01158412, 25.59316956,  2.35697446, 10.00027651],\n",
       "       [59.01445229, 25.594707  ,  2.35698646, 10.00028711],\n",
       "       [59.01374899, 25.59398611,  2.35693211, 10.000059  ],\n",
       "       [59.00817957, 25.59150767,  2.3568461 ,  9.99972639],\n",
       "       [59.00948998, 25.59192553,  2.35680685,  9.99957171],\n",
       "       [59.00744005, 25.59147454,  2.3567514 ,  9.99949782],\n",
       "       [59.00117582, 25.58903602,  2.35666407,  9.99914428],\n",
       "       [59.00302675, 25.5892987 ,  2.35665363,  9.99903364],\n",
       "       [59.00495308, 25.58975844,  2.35665355,  9.99899015],\n",
       "       [59.00423596, 25.58990903,  2.35660364,  9.99882827],\n",
       "       [58.99848504, 25.58810016,  2.35650535,  9.9985989 ],\n",
       "       [58.99878644, 25.58829032,  2.35650077,  9.99844328]])"
      ]
     },
     "execution_count": 13,
     "metadata": {},
     "output_type": "execute_result"
    }
   ],
   "source": [
    "node_train_losses = np.array(node_train_losses)\n",
    "rescaled_node_loss_cum = np.sqrt(node_train_losses) * dataset_parameters['feat_std'].numpy() + dataset_parameters['feat_mean'].numpy()\n",
    "rescaled_node_loss_cum"
   ]
  },
  {
   "cell_type": "code",
   "execution_count": 14,
   "id": "c7d426ca-ff59-45c3-8cb2-2b0472170e70",
   "metadata": {
    "ExecuteTime": {
     "end_time": "2024-06-30T20:03:31.433903110Z",
     "start_time": "2024-06-30T20:03:31.371026869Z"
    },
    "jupyter": {
     "outputs_hidden": false
    }
   },
   "outputs": [
    {
     "data": {
      "image/png": "[encoded data removed]",
      "text/plain": [
       "<Figure size 640x480 with 1 Axes>"
      ]
     },
     "metadata": {},
     "output_type": "display_data"
    }
   ],
   "source": [
    "plt.plot(np.log(edge_train_losses), label='Edge')\n",
    "plt.xlabel('Epoch')\n",
    "plt.ylabel('Loss function')\n",
    "plt.legend(loc='best')\n",
    "plt.show()"
   ]
  },
  {
   "cell_type": "code",
   "execution_count": 15,
   "id": "9fa583ac-d357-497a-8f61-75f49754191f",
   "metadata": {
    "ExecuteTime": {
     "end_time": "2024-06-30T20:03:31.807704623Z",
     "start_time": "2024-06-30T20:03:31.486950285Z"
    },
    "jupyter": {
     "outputs_hidden": false
    }
   },
   "outputs": [
    {
     "name": "stderr",
     "output_type": "stream",
     "text": [
      "The PostScript backend does not support transparency; partially transparent artists will be rendered opaque.\n"
     ]
    },
    {
     "data": {
      "image/png": "[encoded data removed]",
      "text/plain": [
       "<Figure size 640x480 with 1 Axes>"
      ]
     },
     "metadata": {},
     "output_type": "display_data"
    }
   ],
   "source": [
    "plt.plot(np.log(np.array(node_train_losses)[:, 0]), label=f'Atomic mass')\n",
    "plt.plot(np.log(np.array(node_train_losses)[:, 1]), label=f'Charge')\n",
    "plt.plot(np.log(np.array(node_train_losses)[:, 2]), label=f'Electronegativity')\n",
    "plt.plot(np.log(np.array(node_train_losses)[:, 3]), label=f'Ionization energy')\n",
    "plt.xlabel('Epoch')\n",
    "plt.ylabel('Loss function')\n",
    "plt.legend(loc='best')\n",
    "plt.savefig('Losses.eps', dpi=50, bbox_inches='tight')\n",
    "plt.show()"
   ]
  },
  {
   "cell_type": "markdown",
   "id": "792c339357d9b80",
   "metadata": {
    "jupyter": {
     "outputs_hidden": false
    }
   },
   "source": [
    "# Test of the model"
   ]
  },
  {
   "cell_type": "code",
   "execution_count": 16,
   "id": "ebfaa164497b70e3",
   "metadata": {
    "ExecuteTime": {
     "end_time": "2024-06-30T20:07:31.265017721Z",
     "start_time": "2024-06-30T20:03:31.809107806Z"
    },
    "jupyter": {
     "outputs_hidden": false
    }
   },
   "outputs": [
    {
     "name": "stdout",
     "output_type": "stream",
     "text": [
      "Batch: 0, edge loss: nan, node loss: nan nan nan nan\n",
      "Batch: 1, edge loss: nan, node loss: nan nan nan nan\n",
      "Batch: 2, edge loss: nan, node loss: nan nan nan nan\n",
      "Batch: 3, edge loss: nan, node loss: nan nan nan nan\n",
      "Batch: 4, edge loss: nan, node loss: nan nan nan nan\n",
      "Batch: 5, edge loss: nan, node loss: nan nan nan nan\n"
     ]
    }
   ],
   "source": [
    "# Training loop\n",
    "edge_test_losses = 0\n",
    "node_test_losses = np.zeros(n_node_features, dtype=float)\n",
    "with torch.no_grad():\n",
    "    for batch_idx, batch_s in enumerate(test_loader):\n",
    "        # Move batch to device\n",
    "        batch_0 = batch_0.to(device)\n",
    "        \n",
    "        # Clone batch of graphs and move to device\n",
    "        g_batch_0 = batch_0.clone()\n",
    "        \n",
    "        # Diffuse batch\n",
    "        g_batch_t, _ = diffuse_t_steps(g_batch_0,\n",
    "                                       n_t_steps, n_t_steps, alpha_decay,\n",
    "                                       n_features=n_node_features)\n",
    "        \n",
    "        # Denoise batch\n",
    "        g_batch_0 = denoise(g_batch_t,\n",
    "                            n_t_steps, alpha_decay,\n",
    "                            node_model, edge_model,\n",
    "\n",
    "                            n_features=n_node_features)\n",
    "        \n",
    "        # Calculate the loss for node features and edge attributes\n",
    "        node_losses, edge_loss = get_graph_losses(batch_0, g_batch_0)\n",
    "        \n",
    "        # Get items\n",
    "        node_loss_cum = np.array([node_loss.item() for node_loss in node_losses])[:n_node_features]\n",
    "        edge_loss_cum = edge_loss.item()\n",
    "        \n",
    "        # Append average losses\n",
    "        edge_test_losses += edge_loss_cum\n",
    "        node_test_losses += node_loss_cum\n",
    "        \n",
    "        print_node_loss = ' '.join([f'{node_loss:.4f}' for node_loss in node_loss_cum])\n",
    "        print(f'Batch: {batch_idx}, edge loss: {edge_loss_cum:.4f}, node loss: {print_node_loss}')"
   ]
  },
  {
   "cell_type": "code",
   "execution_count": 17,
   "id": "1d31b236-7fb6-465b-806c-b673d75d9deb",
   "metadata": {},
   "outputs": [
    {
     "data": {
      "image/png": "[encoded data removed]",
      "text/plain": [
       "<Figure size 640x480 with 1 Axes>"
      ]
     },
     "metadata": {},
     "output_type": "display_data"
    }
   ],
   "source": [
    "sns.histplot(g_batch_t.edge_attr.cpu().numpy(), stat='density', kde=True)\n",
    "for i in range(4):\n",
    "    sns.histplot(g_batch_t.x[:, i].cpu().numpy(), stat='density', kde=True)"
   ]
  },
  {
   "cell_type": "code",
   "execution_count": 18,
   "id": "7dec1d43c58f6cd3",
   "metadata": {
    "ExecuteTime": {
     "end_time": "2024-06-30T20:07:31.272036444Z",
     "start_time": "2024-06-30T20:07:31.267461134Z"
    },
    "jupyter": {
     "outputs_hidden": false
    }
   },
   "outputs": [
    {
     "data": {
      "text/plain": [
       "(nan, array([nan, nan, nan, nan]))"
      ]
     },
     "execution_count": 18,
     "metadata": {},
     "output_type": "execute_result"
    }
   ],
   "source": [
    "# Mean loss per noise step on edges and nodes\n",
    "edge_test_losses /= len(test_loader)\n",
    "node_test_losses /= len(test_loader)\n",
    "edge_test_losses, node_test_losses"
   ]
  },
  {
   "cell_type": "markdown",
   "id": "1c910d3fb3556314",
   "metadata": {
    "jupyter": {
     "outputs_hidden": false
    }
   },
   "source": [
    "# Save results"
   ]
  },
  {
   "cell_type": "code",
   "execution_count": 19,
   "id": "051a35e2-f1e9-4939-b573-757e02e70440",
   "metadata": {
    "ExecuteTime": {
     "end_time": "2024-06-30T20:07:31.279659724Z",
     "start_time": "2024-06-30T20:07:31.270012992Z"
    },
    "jupyter": {
     "outputs_hidden": false
    }
   },
   "outputs": [],
   "source": [
    "# Create and save as a dictionary\n",
    "model_performance = {\n",
    "    'edge_train_losses': edge_train_losses,\n",
    "    'node_train_losses': np.array(node_train_losses).tolist(),\n",
    "    'edge_test_losses':  edge_test_losses,\n",
    "    'node_test_losses':  node_test_losses.tolist()\n",
    "}\n",
    "\n",
    "# Write the dictionary to the file in JSON format\n",
    "with open(f'{target_folder}/model_performance.json', 'w') as json_file:\n",
    "    json.dump(model_performance, json_file)"
   ]
  }
 ],
 "metadata": {
  "kernelspec": {
   "display_name": "Python 3 (ipykernel)",
   "language": "python",
   "name": "python3"
  },
  "language_info": {
   "codemirror_mode": {
    "name": "ipython",
    "version": 3
   },
   "file_extension": ".py",
   "mimetype": "text/x-python",
   "name": "python",
   "nbconvert_exporter": "python",
   "pygments_lexer": "ipython3",
   "version": "3.11.1"
  }
 },
 "nbformat": 4,
 "nbformat_minor": 5
}
