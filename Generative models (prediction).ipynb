{
 "cells": [
  {
   "cell_type": "code",
   "execution_count": 1,
   "id": "6a69f99f",
   "metadata": {},
   "outputs": [],
   "source": [
    "import torch.nn   as nn\n",
    "import GM_library as GML\n",
    "import numpy      as np\n",
    "import torch\n",
    "import json\n",
    "\n",
    "from os                   import path, listdir\n",
    "from torch_geometric.data import Data\n",
    "\n",
    "import sys\n",
    "sys.path.append('../')\n",
    "import MP.MP_library as MPL\n",
    "\n",
    "# Checking if pytorch can run in GPU, else CPU\n",
    "device = torch.device('cuda' if torch.cuda.is_available() else 'cpu')"
   ]
  },
  {
   "cell_type": "code",
   "execution_count": 2,
   "id": "24741239",
   "metadata": {},
   "outputs": [],
   "source": [
    "# Read the file in JSON format to a dictionary\n",
    "with open('model_parameters.json', 'r') as json_file:\n",
    "    model_parameters = json.load(json_file)\n",
    "\n",
    "# Number of graphs to predict\n",
    "N_predictions = 10\n",
    "\n",
    "# Number of diffusing and denoising steps\n",
    "n_t_steps = model_parameters['n_t_steps']\n",
    "\n",
    "# Decay of parameter alpha\n",
    "noise_contribution = model_parameters['noise_contribution']\n",
    "alpha_decay = 0.5 * (1 - noise_contribution**2)\n",
    "\n",
    "# Dropouts for node and edge models (independent of each other)\n",
    "dropout_node = model_parameters['dropout_node']\n",
    "dropout_edge = model_parameters['dropout_edge']\n",
    "\n",
    "# Define box shape\n",
    "L = model_parameters['L']\n",
    "\n",
    "# Target to generate new crystals\n",
    "target = 'GM_EPA'\n",
    "\n",
    "# In case database is created from scratch (otherwise, it is not being used)\n",
    "DB_path = '../MP/Loaded_EMP'\n",
    "\n",
    "input_folder    = 'models'\n",
    "target_folder   = f'{input_folder}/{target}'\n",
    "edge_model_name = f'{target_folder}/edge_model.pt'\n",
    "node_model_name = f'{target_folder}/node_model.pt'"
   ]
  },
  {
   "cell_type": "code",
   "execution_count": 3,
   "id": "75aa6001",
   "metadata": {},
   "outputs": [],
   "source": [
    "# Number of graphs to predict\n",
    "N_predictions = 10\n",
    "\n",
    "# Number of diffusing and denoising steps, which can be different\n",
    "n_denoising_steps = 2\n",
    "\n",
    "# Dropouts for node and edge models (independent of each other)\n",
    "dropout_node = 0.2\n",
    "dropout_edge = 0.2\n",
    "\n",
    "# Define box shape\n",
    "L = [20, 20, 20]\n",
    "\n",
    "# Target to generate new crystals\n",
    "target = 'GM_EPA'\n",
    "\n",
    "# In case database is created from scratch (otherwise, it is not being used)\n",
    "DB_path = '../MP/Loaded_EMP'\n",
    "\n",
    "input_folder    = 'models'\n",
    "target_folder   = f'{input_folder}/{target}'\n",
    "edge_model_name = f'{target_folder}/edge_model.pt'\n",
    "node_model_name = f'{target_folder}/node_model.pt'"
   ]
  },
  {
   "cell_type": "markdown",
   "id": "4946b2e8",
   "metadata": {},
   "source": [
    "# Generation of graph database for training"
   ]
  },
  {
   "cell_type": "markdown",
   "id": "9b5cbe57",
   "metadata": {},
   "source": [
    "Load the datasets, already standarized if possible."
   ]
  },
  {
   "cell_type": "code",
   "execution_count": 4,
   "id": "b3d1809a",
   "metadata": {},
   "outputs": [],
   "source": [
    "labels_name         = f'{target_folder}/labels.pt'\n",
    "dataset_name        = f'{target_folder}/dataset.pt'\n",
    "dataset_name_std    = f'{target_folder}/standardized_dataset.pt'\n",
    "parameters_name_std = f'{target_folder}/standardized_parameters.pt'  # Parameters for rescaling the predictions\n",
    "\n",
    "# Load the standardized dataset, with corresponding labels and parameters\n",
    "dataset    = torch.load(dataset_name_std)\n",
    "parameters = torch.load(parameters_name_std)\n",
    "\n",
    "# Assigning parameters accordingly\n",
    "target_mean, feat_mean, edge_mean, target_std, edge_std, feat_std, scale = parameters\n",
    "\n",
    "# Defining target factor\n",
    "target_factor = target_std / scale"
   ]
  },
  {
   "cell_type": "code",
   "execution_count": 5,
   "id": "cc056792",
   "metadata": {},
   "outputs": [
    {
     "data": {
      "text/plain": [
       "(620.1802978515625, 163.6297149658203)"
      ]
     },
     "execution_count": 5,
     "metadata": {},
     "output_type": "execute_result"
    }
   ],
   "source": [
    "# Calculate the mean and standard deviation of the number of nodes\n",
    "total_nodes = torch.tensor([data.num_nodes for data in dataset])\n",
    "mean_nodes  = torch.mean(total_nodes.float()).item()\n",
    "std_nodes   = torch.std(total_nodes.float()).item()\n",
    "\n",
    "mean_nodes, std_nodes"
   ]
  },
  {
   "cell_type": "markdown",
   "id": "31a76fc0",
   "metadata": {},
   "source": [
    "# Loading the model"
   ]
  },
  {
   "cell_type": "code",
   "execution_count": 6,
   "id": "d1aa0ba5",
   "metadata": {},
   "outputs": [
    {
     "name": "stdout",
     "output_type": "stream",
     "text": [
      "\n",
      "Node GCNN:\n",
      "nGCNN(\n",
      "  (conv1): GraphConv(5, 256)\n",
      "  (conv2): GraphConv(256, 256)\n",
      "  (conv3): GraphConv(256, 5)\n",
      ")\n",
      "\n",
      "Edge GCNN:\n",
      "eGCNN(\n",
      "  (linear1): Linear(in_features=6, out_features=32, bias=True)\n",
      "  (linear2): Linear(in_features=32, out_features=64, bias=True)\n",
      "  (linear3): Linear(in_features=64, out_features=1, bias=True)\n",
      ")\n"
     ]
    }
   ],
   "source": [
    "# Determine number of features in dataset, considering the t_step information\n",
    "n_features = dataset[0].num_node_features + 1\n",
    "\n",
    "# Instantiate the models for nodes and edges\n",
    "node_model = GML.nGCNN(n_features, dropout_node).to(device)\n",
    "node_model.load_state_dict(torch.load(node_model_name))\n",
    "node_model.eval()\n",
    "\n",
    "edge_model = GML.eGCNN(n_features, dropout_edge).to(device)\n",
    "edge_model.load_state_dict(torch.load(edge_model_name))\n",
    "edge_model.eval()\n",
    "\n",
    "print('\\nNode GCNN:')\n",
    "print(node_model)\n",
    "print('\\nEdge GCNN:')\n",
    "print(edge_model)"
   ]
  },
  {
   "cell_type": "markdown",
   "id": "963a0f21",
   "metadata": {},
   "source": [
    "# Generating new cystals"
   ]
  },
  {
   "cell_type": "code",
   "execution_count": 7,
   "id": "e9f5788d",
   "metadata": {},
   "outputs": [
    {
     "data": {
      "text/plain": [
       "[Data(x=[994, 4], edge_index=[2, 493521], edge_attr=[493521]),\n",
       " Data(x=[698, 4], edge_index=[2, 243253], edge_attr=[243253]),\n",
       " Data(x=[565, 4], edge_index=[2, 159330], edge_attr=[159330]),\n",
       " Data(x=[556, 4], edge_index=[2, 154290], edge_attr=[154290]),\n",
       " Data(x=[333, 4], edge_index=[2, 55278], edge_attr=[55278]),\n",
       " Data(x=[547, 4], edge_index=[2, 149331], edge_attr=[149331]),\n",
       " Data(x=[803, 4], edge_index=[2, 322003], edge_attr=[322003]),\n",
       " Data(x=[716, 4], edge_index=[2, 255970], edge_attr=[255970]),\n",
       " Data(x=[466, 4], edge_index=[2, 108345], edge_attr=[108345]),\n",
       " Data(x=[742, 4], edge_index=[2, 274911], edge_attr=[274911])]"
      ]
     },
     "execution_count": 7,
     "metadata": {},
     "output_type": "execute_result"
    }
   ],
   "source": [
    "# Predicting loop\n",
    "predicted_dataset = []\n",
    "with torch.no_grad():\n",
    "    for i in range(N_predictions):\n",
    "        # Get random number of nodes\n",
    "        n_nodes = int(np.random.normal(mean_nodes, std_nodes))\n",
    "        \n",
    "        # Diffuse the graph with some noise\n",
    "        diffused_graph = GML.get_random_graph(n_nodes, n_features-1)\n",
    "        \n",
    "        # Denoise the diffused graph\n",
    "        #print(f'Denoising...')\n",
    "        denoised_graph, _ = GML.denoise(diffused_graph, n_t_steps, node_model, edge_model,\n",
    "                                        s=alpha_decay)\n",
    "        \n",
    "        # Append generated graph\n",
    "        predicted_dataset.append(denoised_graph)\n",
    "\n",
    "# Revert stardadization\n",
    "denoised_graphs = GML.revert_standardize_dataset(predicted_dataset, parameters)\n",
    "denoised_graphs"
   ]
  },
  {
   "cell_type": "code",
   "execution_count": 18,
   "id": "b3a0b886",
   "metadata": {},
   "outputs": [],
   "source": [
    "denoised_graphs[3].edge_attr[denoised_graphs[3].edge_attr <= 0] = 0.1"
   ]
  },
  {
   "cell_type": "code",
   "execution_count": 9,
   "id": "1fbcf7d2",
   "metadata": {},
   "outputs": [
    {
     "data": {
      "text/plain": [
       "(array([4.1000e+01, 6.4000e+02, 4.7000e+03, 1.8430e+04, 4.0587e+04,\n",
       "        4.8178e+04, 3.0776e+04, 9.4670e+03, 1.3760e+03, 9.5000e+01]),\n",
       " array([-8.382902  , -4.251014  , -0.11912613,  4.012762  ,  8.1446495 ,\n",
       "        12.276538  , 16.408426  , 20.540314  , 24.672201  , 28.80409   ,\n",
       "        32.935978  ], dtype=float32),\n",
       " <BarContainer object of 10 artists>)"
      ]
     },
     "execution_count": 9,
     "metadata": {},
     "output_type": "execute_result"
    },
    {
     "data": {
      "image/png": "[encoded data removed]",
      "text/plain": [
       "<Figure size 640x480 with 1 Axes>"
      ]
     },
     "metadata": {},
     "output_type": "display_data"
    }
   ],
   "source": [
    "import matplotlib.pyplot as plt\n",
    "plt.hist(denoised_graphs[3].edge_attr)"
   ]
  },
  {
   "cell_type": "code",
   "execution_count": 12,
   "id": "2c55970a",
   "metadata": {},
   "outputs": [
    {
     "data": {
      "text/plain": [
       "<module 'GM_library' from '/home/cibran.lopez/Work/UPC/GenerativeModels/GM_library.py'>"
      ]
     },
     "execution_count": 12,
     "metadata": {},
     "output_type": "execute_result"
    }
   ],
   "source": [
    "import importlib\n",
    "importlib.reload(GML)"
   ]
  },
  {
   "cell_type": "code",
   "execution_count": 13,
   "id": "57947938",
   "metadata": {},
   "outputs": [
    {
     "name": "stdout",
     "output_type": "stream",
     "text": [
      "Invalid graph, atoms overlapping. Applying brute force :)\n"
     ]
    },
    {
     "name": "stderr",
     "output_type": "stream",
     "text": [
      "/home/cibran.lopez/Work/UPC/GenerativeModels/GM_library.py:1048: RuntimeWarning: invalid value encountered in sqrt\n",
      "  # Calculate the area using Heron's formula\n"
     ]
    },
    {
     "name": "stdout",
     "output_type": "stream",
     "text": [
      "0 2 20 20.472637 21.375732 24.352652 6.911644243319265 20.227484035969223\n",
      "Invalid graph, atoms overlapping. Applying brute force :)\n",
      "0 15 226 21.240791 21.421904 21.881697 10.151705583602915 18.863743743748447\n",
      "Invalid graph, atoms overlapping. Applying brute force :)\n",
      "0 22 32 27.321661 25.194637 19.201286 18.530233431650565 17.070448077766997\n",
      "Invalid graph, atoms overlapping. Applying brute force :)\n",
      "0 3 11 23.303768 20.546724 21.801765 10.5115299576348 17.65433709346101\n",
      "Invalid graph, atoms overlapping. Applying brute force :)\n",
      "0 7 99 20.832262 22.211594 21.532875 11.128732057403036 19.222544428009957\n",
      "Invalid graph, atoms overlapping. Applying brute force :)\n",
      "0 20 53 19.11492 23.781229 24.042595 9.230502759245686 21.916766925656145\n",
      "Invalid graph, atoms overlapping. Applying brute force :)\n",
      "0 8 52 27.041447 21.436113 19.829964 14.746240175178901 15.558128312024351\n",
      "Invalid graph, atoms overlapping. Applying brute force :)\n",
      "0 5 187 18.375935 24.990116 23.386774 11.298464106870245 22.290146084898122\n",
      "Invalid graph, atoms overlapping. Applying brute force :)\n",
      "0 2 202 19.359417 23.89339 24.837727 8.491177199561593 22.333697114065554\n",
      "Invalid graph, atoms overlapping. Applying brute force :)\n",
      "0 6 78 20.020994 24.262112 24.01118 10.313010922780794 21.96114450783918\n"
     ]
    }
   ],
   "source": [
    "for i in range(N_predictions):\n",
    "    graph = denoised_graphs[i].clone()\n",
    "    try:\n",
    "        GML.POSCAR_graph_encoding(graph, L, file_name=f'POSCAR-{i}', POSCAR_directory='./')\n",
    "    except SystemExit:\n",
    "        continue"
   ]
  },
  {
   "cell_type": "code",
   "execution_count": null,
   "id": "c466ef6c",
   "metadata": {},
   "outputs": [],
   "source": []
  },
  {
   "cell_type": "code",
   "execution_count": null,
   "id": "c4181d59",
   "metadata": {},
   "outputs": [],
   "source": []
  },
  {
   "cell_type": "code",
   "execution_count": 78,
   "id": "cccb4964",
   "metadata": {},
   "outputs": [
    {
     "name": "stdout",
     "output_type": "stream",
     "text": [
      "Data(x=[2413, 4], edge_index=[2, 2910078], edge_attr=[2910078], y=[1, 1])\n"
     ]
    }
   ],
   "source": [
    "# Generate the raw dataset from scratch, and standardize it\n",
    "L = [40, 40, 40]\n",
    "path_to_POSCAR = '.'\n",
    "\n",
    "# Extract parameters from POSCAR\n",
    "cell, composition, concentration, positions = MPL.information_from_VASPfile(path_to_POSCAR,\n",
    "                                                                            'POSCAR')\n",
    "\n",
    "# Generate POSCAR covering the box\n",
    "nodes, edges, attributes, all_nodes, all_positions, all_species = GML.graph_POSCAR_encoding(cell,\n",
    "                                                              composition,\n",
    "                                                              concentration,\n",
    "                                                              positions,\n",
    "                                                              L)\n",
    "\n",
    "# Load ground state energy per atom\n",
    "gs_energy = float(np.loadtxt(f'{path_to_POSCAR}/EPA'))\n",
    "\n",
    "# Construct temporal graph structure\n",
    "graph = Data(x=nodes,\n",
    "             edge_index=edges,\n",
    "             edge_attr=attributes,\n",
    "             y=torch.tensor([[gs_energy]], dtype=torch.float)\n",
    "            )\n",
    "print(graph)\n",
    "dataset.append(graph)"
   ]
  },
  {
   "cell_type": "code",
   "execution_count": 85,
   "id": "00586a21",
   "metadata": {},
   "outputs": [
    {
     "data": {
      "text/plain": [
       "(['Ba', 'Na', 'Si'], [345, 715, 1353])"
      ]
     },
     "execution_count": 85,
     "metadata": {},
     "output_type": "execute_result"
    }
   ],
   "source": [
    "composition, concentration, positions_sorted = GML.composition_concentration_from_keys(all_species,\n",
    "                                                                                       np.array(all_positions))\n",
    "np.savetxt('CONTCAR', positions_sorted)\n",
    "composition, concentration"
   ]
  },
  {
   "cell_type": "code",
   "execution_count": null,
   "id": "4a625a5f",
   "metadata": {},
   "outputs": [],
   "source": []
  },
  {
   "cell_type": "code",
   "execution_count": 98,
   "id": "cb5c7100",
   "metadata": {},
   "outputs": [
    {
     "data": {
      "text/plain": [
       "(tensor(0.), tensor(8.4791e-14))"
      ]
     },
     "execution_count": 98,
     "metadata": {},
     "output_type": "execute_result"
    }
   ],
   "source": [
    "graph_0               = graph.clone()\n",
    "graph_std, parameters = GML.standardize_dataset([graph_0])\n",
    "graph_dstd            = GML.revert_standardize_dataset(graph_std, parameters)[0]\n",
    "\n",
    "node_loss, edge_loss = GML.get_graph_losses(graph_0, graph_dstd)\n",
    "node_loss, edge_loss"
   ]
  },
  {
   "cell_type": "code",
   "execution_count": null,
   "id": "5fdc940e",
   "metadata": {},
   "outputs": [],
   "source": []
  },
  {
   "cell_type": "code",
   "execution_count": 114,
   "id": "d7d29a10",
   "metadata": {},
   "outputs": [
    {
     "data": {
      "text/plain": [
       "<module 'GM_library' from '/Users/cibran/Work/UPC/GenerativeModels/GM_library.py'>"
      ]
     },
     "execution_count": 114,
     "metadata": {},
     "output_type": "execute_result"
    }
   ],
   "source": [
    "import importlib\n",
    "importlib.reload(GML)"
   ]
  },
  {
   "cell_type": "code",
   "execution_count": 113,
   "id": "1e92ecc5",
   "metadata": {},
   "outputs": [
    {
     "name": "stderr",
     "output_type": "stream",
     "text": [
      "/Users/cibran/Work/UPC/GenerativeModels/GM_library.py:1051: RuntimeWarning: invalid value encountered in sqrt\n",
      "  # Calculate the area using Heron's formula\n"
     ]
    },
    {
     "name": "stdout",
     "output_type": "stream",
     "text": [
      "0 33 1492 40.763695 55.582813 51.303658 25.99203380784781 49.131082918601486\n"
     ]
    },
    {
     "data": {
      "text/plain": [
       "<_io.TextIOWrapper name='.//POSCAR' mode='w' encoding='UTF-8'>"
      ]
     },
     "execution_count": 113,
     "metadata": {},
     "output_type": "execute_result"
    }
   ],
   "source": [
    "GML.POSCAR_graph_encoding(graph, L, POSCAR_name=None, POSCAR_directory='./')"
   ]
  }
 ],
 "metadata": {
  "kernelspec": {
   "display_name": "Python 3 (ipykernel)",
   "language": "python",
   "name": "python3"
  },
  "language_info": {
   "codemirror_mode": {
    "name": "ipython",
    "version": 3
   },
   "file_extension": ".py",
   "mimetype": "text/x-python",
   "name": "python",
   "nbconvert_exporter": "python",
   "pygments_lexer": "ipython3",
   "version": "3.10.12"
  }
 },
 "nbformat": 4,
 "nbformat_minor": 5
}
