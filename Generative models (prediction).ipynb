{
 "cells": [
  {
   "cell_type": "code",
   "execution_count": 1,
   "id": "6a69f99f",
   "metadata": {},
   "outputs": [],
   "source": [
    "import torch.nn   as nn\n",
    "import GM_library as GML\n",
    "import numpy      as np\n",
    "import torch\n",
    "import json\n",
    "\n",
    "from os                   import path, listdir\n",
    "from torch_geometric.data import Data\n",
    "\n",
    "import sys\n",
    "sys.path.append('../')\n",
    "import MP.MP_library as MPL\n",
    "\n",
    "# Checking if pytorch can run in GPU, else CPU\n",
    "device = torch.device('cuda' if torch.cuda.is_available() else 'cpu')"
   ]
  },
  {
   "cell_type": "code",
   "execution_count": 2,
   "id": "d83ca3ae",
   "metadata": {},
   "outputs": [],
   "source": [
    "# Target to generate new crystals\n",
    "target = 'GM_EPA'\n",
    "\n",
    "# In case database is created from scratch (otherwise, it is not being used)\n",
    "DB_path = '../MP/Loaded_EMP'\n",
    "\n",
    "input_folder    = 'models'\n",
    "target_folder   = f'{input_folder}/{target}'\n",
    "edge_model_name = f'{target_folder}/edge_model.pt'\n",
    "node_model_name = f'{target_folder}/node_model.pt'"
   ]
  },
  {
   "cell_type": "code",
   "execution_count": 3,
   "id": "24741239",
   "metadata": {},
   "outputs": [],
   "source": [
    "# Read the file in JSON format to a dictionary\n",
    "with open(f'{target_folder}/model_parameters.json', 'r') as json_file:\n",
    "    model_parameters = json.load(json_file)\n",
    "\n",
    "# Number of graphs to predict\n",
    "N_predictions = 10\n",
    "\n",
    "# Number of diffusing and denoising steps\n",
    "n_t_steps = model_parameters['n_t_steps']\n",
    "\n",
    "# Decay of parameter alpha\n",
    "noise_contribution = model_parameters['noise_contribution']\n",
    "alpha_decay = 0.5 * (1 - noise_contribution**2)\n",
    "\n",
    "# Dropouts for node and edge models (independent of each other)\n",
    "dropout_node = model_parameters['dropout_node']\n",
    "dropout_edge = model_parameters['dropout_edge']\n",
    "\n",
    "# Define box shape\n",
    "L = model_parameters['L']"
   ]
  },
  {
   "cell_type": "markdown",
   "id": "4946b2e8",
   "metadata": {},
   "source": [
    "# Generation of graph database for training"
   ]
  },
  {
   "cell_type": "markdown",
   "id": "9b5cbe57",
   "metadata": {},
   "source": [
    "Load the datasets, already standarized if possible."
   ]
  },
  {
   "cell_type": "code",
   "execution_count": 4,
   "id": "b3d1809a",
   "metadata": {},
   "outputs": [],
   "source": [
    "labels_name         = f'{target_folder}/labels.pt'\n",
    "dataset_name        = f'{target_folder}/dataset.pt'\n",
    "dataset_name_std    = f'{target_folder}/standardized_dataset.pt'\n",
    "parameters_name_std = f'{target_folder}/standardized_parameters.pt'  # Parameters for rescaling the predictions\n",
    "\n",
    "# Load the standardized dataset, with corresponding labels and parameters\n",
    "dataset    = torch.load(dataset_name_std)\n",
    "parameters = torch.load(parameters_name_std)\n",
    "\n",
    "# Assigning parameters accordingly\n",
    "target_mean, feat_mean, edge_mean, target_std, edge_std, feat_std, scale = parameters\n",
    "\n",
    "# Defining target factor\n",
    "target_factor = target_std / scale"
   ]
  },
  {
   "cell_type": "code",
   "execution_count": 5,
   "id": "cc056792",
   "metadata": {},
   "outputs": [
    {
     "data": {
      "text/plain": [
       "(554.6327514648438, 179.89730834960938)"
      ]
     },
     "execution_count": 5,
     "metadata": {},
     "output_type": "execute_result"
    }
   ],
   "source": [
    "# Calculate the mean and standard deviation of the number of nodes\n",
    "total_nodes = torch.tensor([data.num_nodes for data in dataset])\n",
    "mean_nodes  = torch.mean(total_nodes.float()).item()\n",
    "std_nodes   = torch.std(total_nodes.float()).item()\n",
    "\n",
    "mean_nodes, std_nodes"
   ]
  },
  {
   "cell_type": "markdown",
   "id": "31a76fc0",
   "metadata": {},
   "source": [
    "# Loading the model"
   ]
  },
  {
   "cell_type": "code",
   "execution_count": 6,
   "id": "d1aa0ba5",
   "metadata": {},
   "outputs": [
    {
     "name": "stdout",
     "output_type": "stream",
     "text": [
      "\n",
      "Node GCNN:\n",
      "nGCNN(\n",
      "  (conv1): GraphConv(5, 256)\n",
      "  (conv2): GraphConv(256, 256)\n",
      "  (conv3): GraphConv(256, 5)\n",
      ")\n",
      "\n",
      "Edge GCNN:\n",
      "eGCNN(\n",
      "  (linear1): Linear(in_features=6, out_features=32, bias=True)\n",
      "  (linear2): Linear(in_features=32, out_features=64, bias=True)\n",
      "  (linear3): Linear(in_features=64, out_features=1, bias=True)\n",
      ")\n"
     ]
    }
   ],
   "source": [
    "# Determine number of features in dataset, considering the t_step information\n",
    "n_features = dataset[0].num_node_features + 1\n",
    "\n",
    "# Instantiate the models for nodes and edges\n",
    "node_model = GML.nGCNN(n_features, dropout_node).to(device)\n",
    "node_model.load_state_dict(torch.load(node_model_name))\n",
    "node_model.eval()\n",
    "\n",
    "edge_model = GML.eGCNN(n_features, dropout_edge).to(device)\n",
    "edge_model.load_state_dict(torch.load(edge_model_name))\n",
    "edge_model.eval()\n",
    "\n",
    "print('\\nNode GCNN:')\n",
    "print(node_model)\n",
    "print('\\nEdge GCNN:')\n",
    "print(edge_model)"
   ]
  },
  {
   "cell_type": "markdown",
   "id": "963a0f21",
   "metadata": {},
   "source": [
    "# Generating new cystals"
   ]
  },
  {
   "cell_type": "code",
   "execution_count": 7,
   "id": "e9f5788d",
   "metadata": {},
   "outputs": [
    {
     "data": {
      "text/plain": [
       "[Data(x=[463, 4], edge_index=[2, 106953], edge_attr=[106953]),\n",
       " Data(x=[318, 4], edge_index=[2, 50403], edge_attr=[50403]),\n",
       " Data(x=[481, 4], edge_index=[2, 115440], edge_attr=[115440]),\n",
       " Data(x=[305, 4], edge_index=[2, 46360], edge_attr=[46360]),\n",
       " Data(x=[557, 4], edge_index=[2, 154846], edge_attr=[154846]),\n",
       " Data(x=[607, 4], edge_index=[2, 183921], edge_attr=[183921]),\n",
       " Data(x=[484, 4], edge_index=[2, 116886], edge_attr=[116886]),\n",
       " Data(x=[632, 4], edge_index=[2, 199396], edge_attr=[199396]),\n",
       " Data(x=[623, 4], edge_index=[2, 193753], edge_attr=[193753]),\n",
       " Data(x=[1012, 4], edge_index=[2, 511566], edge_attr=[511566])]"
      ]
     },
     "execution_count": 7,
     "metadata": {},
     "output_type": "execute_result"
    }
   ],
   "source": [
    "# Predicting loop\n",
    "predicted_dataset = []\n",
    "with torch.no_grad():\n",
    "    for i in range(N_predictions):\n",
    "        # Get random number of nodes\n",
    "        n_nodes = int(np.random.normal(mean_nodes, std_nodes))\n",
    "        \n",
    "        # Diffuse the graph with some noise\n",
    "        diffused_graph = GML.get_random_graph(n_nodes, n_features-1)\n",
    "        \n",
    "        # Denoise the diffused graph\n",
    "        #print(f'Denoising...')\n",
    "        denoised_graph, _ = GML.denoise(diffused_graph, n_t_steps, node_model, edge_model,\n",
    "                                        s=alpha_decay)\n",
    "        \n",
    "        # Append generated graph\n",
    "        predicted_dataset.append(denoised_graph)\n",
    "\n",
    "# Revert stardadization\n",
    "denoised_graphs = GML.revert_standardize_dataset(predicted_dataset, parameters)\n",
    "denoised_graphs"
   ]
  },
  {
   "cell_type": "code",
   "execution_count": 8,
   "id": "57947938",
   "metadata": {},
   "outputs": [
    {
     "name": "stdout",
     "output_type": "stream",
     "text": [
      "Invalid graph, atoms overlapping. Applying brute force :)\n"
     ]
    },
    {
     "name": "stderr",
     "output_type": "stream",
     "text": [
      "/home/cibran/Work/UPC/GenerativeModels/GM_library.py:1048: RuntimeWarning: invalid value encountered in sqrt\n",
      "  area = np.sqrt(s * (s - a) * (s - b) * (s - c))\n"
     ]
    },
    {
     "name": "stdout",
     "output_type": "stream",
     "text": [
      "0 15 32 19.489489 20.746012 29.056068 -0.8727253937743874 20.727647074733103\n",
      "Invalid graph, atoms overlapping. Applying brute force :)\n",
      "0 4 40 21.348904 21.022003 29.17965 1.083155583383329 20.99407991369532\n",
      "Invalid graph, atoms overlapping. Applying brute force :)\n",
      "0 3 71 20.378431 23.299988 24.351856 8.9593989487687 21.508570422724404\n",
      "Invalid graph, atoms overlapping. Applying brute force :)\n",
      "0 6 139 21.148945 23.96177 25.776806 8.440149810273859 22.426106433657413\n",
      "Invalid graph, atoms overlapping. Applying brute force :)\n",
      "0 2 344 19.34664 23.736185 24.501827 8.718811515964148 22.07688401041395\n",
      "Invalid graph, atoms overlapping. Applying brute force :)\n",
      "0 1 390 18.661749 23.336548 23.669731 8.911253894260138 21.56812508449216\n",
      "Invalid graph, atoms overlapping. Applying brute force :)\n",
      "0 9 366 19.882797 23.476297 23.177288 10.292200794778958 21.09993226068741\n",
      "Invalid graph, atoms overlapping. Applying brute force :)\n",
      "0 14 33 21.594126 24.692616 21.179533 14.52846289114611 19.96619710153983\n",
      "Invalid graph, atoms overlapping. Applying brute force :)\n",
      "0 3 169 18.08909 23.334452 25.017418 6.795273313792694 22.323102284027115\n",
      "Invalid graph, atoms overlapping. Applying brute force :)\n",
      "0 1 816 18.952885 21.20627 27.756653 1.0153060667811196 21.181951046708598\n"
     ]
    }
   ],
   "source": [
    "for i in range(N_predictions):\n",
    "    graph = denoised_graphs[i].clone()\n",
    "    try:\n",
    "        GML.POSCAR_graph_encoding(graph, L, file_name=f'POSCAR-{i}', POSCAR_directory='./')\n",
    "    except SystemExit:\n",
    "        continue"
   ]
  }
 ],
 "metadata": {
  "kernelspec": {
   "display_name": "Python 3 (ipykernel)",
   "language": "python",
   "name": "python3"
  },
  "language_info": {
   "codemirror_mode": {
    "name": "ipython",
    "version": 3
   },
   "file_extension": ".py",
   "mimetype": "text/x-python",
   "name": "python",
   "nbconvert_exporter": "python",
   "pygments_lexer": "ipython3",
   "version": "3.10.12"
  }
 },
 "nbformat": 4,
 "nbformat_minor": 5
}
