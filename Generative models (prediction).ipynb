{
 "cells": [
  {
   "cell_type": "code",
   "execution_count": 1,
   "id": "6a69f99f",
   "metadata": {},
   "outputs": [],
   "source": [
    "import torch.nn   as nn\n",
    "import GM_library as GML\n",
    "import numpy      as np\n",
    "import torch\n",
    "\n",
    "from os                   import path, listdir\n",
    "from torch_geometric.data import Data\n",
    "\n",
    "import sys\n",
    "sys.path.append('../')\n",
    "import MP.MP_library as MPL\n",
    "\n",
    "# Checking if pytorch can run in GPU, else CPU\n",
    "device = torch.device('cuda' if torch.cuda.is_available() else 'cpu')"
   ]
  },
  {
   "cell_type": "code",
   "execution_count": 3,
   "id": "75aa6001",
   "metadata": {},
   "outputs": [],
   "source": [
    "# Number of graphs to predict\n",
    "N_predictions = 10\n",
    "\n",
    "# Number of diffusing and denoising steps, which can be different\n",
    "n_denoising_steps = 10\n",
    "\n",
    "# Dropouts for node and edge models (independent of each other)\n",
    "dropout_node = 0.2\n",
    "dropout_edge = 0.2\n",
    "\n",
    "# Define box shape\n",
    "L = [20, 20, 20]\n",
    "\n",
    "# Target to generate new crystals\n",
    "target = 'GM_EPA'\n",
    "\n",
    "# In case database is created from scratch (otherwise, it is not being used)\n",
    "DB_path = '../MP/Loaded_EMP'\n",
    "\n",
    "input_folder    = 'models'\n",
    "target_folder   = f'{input_folder}/{target}'\n",
    "edge_model_name = f'{target_folder}/edge_model.pt'\n",
    "node_model_name = f'{target_folder}/node_model.pt'"
   ]
  },
  {
   "cell_type": "markdown",
   "id": "4946b2e8",
   "metadata": {},
   "source": [
    "# Generation of graph database for training"
   ]
  },
  {
   "cell_type": "markdown",
   "id": "9b5cbe57",
   "metadata": {},
   "source": [
    "Load the datasets, already standarized if possible."
   ]
  },
  {
   "cell_type": "code",
   "execution_count": 4,
   "id": "b3d1809a",
   "metadata": {},
   "outputs": [],
   "source": [
    "labels_name         = f'{target_folder}/labels.pt'\n",
    "dataset_name        = f'{target_folder}/dataset.pt'\n",
    "dataset_name_std    = f'{target_folder}/standardized_dataset.pt'\n",
    "parameters_name_std = f'{target_folder}/standardized_parameters.pt'  # Parameters for rescaling the predictions\n",
    "\n",
    "# Load the standardized dataset, with corresponding labels and parameters\n",
    "dataset    = torch.load(dataset_name_std)\n",
    "parameters = torch.load(parameters_name_std)\n",
    "\n",
    "# Assigning parameters accordingly\n",
    "target_mean, feat_mean, edge_mean, target_std, edge_std, feat_std, scale = parameters\n",
    "\n",
    "# Defining target factor\n",
    "target_factor = target_std / scale"
   ]
  },
  {
   "cell_type": "code",
   "execution_count": 21,
   "id": "3b4ff5f4",
   "metadata": {},
   "outputs": [
    {
     "data": {
      "text/plain": [
       "(144.71099853515625, 50.02598190307617)"
      ]
     },
     "execution_count": 21,
     "metadata": {},
     "output_type": "execute_result"
    }
   ],
   "source": [
    "# Calculate the mean and standard deviation of the number of nodes\n",
    "total_nodes = torch.tensor([data.num_nodes for data in dataset])\n",
    "mean_nodes  = torch.mean(total_nodes.float()).item()\n",
    "std_nodes   = torch.std(total_nodes.float()).item()\n",
    "\n",
    "mean_nodes, std_nodes"
   ]
  },
  {
   "cell_type": "markdown",
   "id": "31a76fc0",
   "metadata": {},
   "source": [
    "# Loading the model"
   ]
  },
  {
   "cell_type": "code",
   "execution_count": 10,
   "id": "d1aa0ba5",
   "metadata": {},
   "outputs": [
    {
     "name": "stdout",
     "output_type": "stream",
     "text": [
      "\n",
      "Node GCNN:\n",
      "nGCNN(\n",
      "  (conv1): GraphConv(4, 64)\n",
      "  (conv2): GraphConv(64, 64)\n",
      "  (conv3): GraphConv(64, 4)\n",
      ")\n",
      "\n",
      "Edge GCNN:\n",
      "eGCNN(\n",
      "  (linear1): Linear(in_features=4, out_features=32, bias=True)\n",
      "  (linear2): Linear(in_features=32, out_features=1, bias=True)\n",
      ")\n"
     ]
    }
   ],
   "source": [
    "# Determine number of features in dataset\n",
    "n_features = dataset[0].num_node_features\n",
    "\n",
    "# Instantiate the models for nodes and edges\n",
    "node_model = GML.nGCNN(n_features, dropout_node).to(device)\n",
    "node_model.load_state_dict(torch.load(node_model_name))\n",
    "node_model.eval()\n",
    "\n",
    "edge_model = GML.eGCNN(n_features, dropout_edge).to(device)\n",
    "edge_model.load_state_dict(torch.load(edge_model_name))\n",
    "edge_model.eval()\n",
    "\n",
    "print('\\nNode GCNN:')\n",
    "print(node_model)\n",
    "print('\\nEdge GCNN:')\n",
    "print(edge_model)"
   ]
  },
  {
   "cell_type": "markdown",
   "id": "963a0f21",
   "metadata": {},
   "source": [
    "# Generating new cystals"
   ]
  },
  {
   "cell_type": "code",
   "execution_count": 75,
   "id": "1eca1a4c",
   "metadata": {},
   "outputs": [
    {
     "data": {
      "text/plain": [
       "<module 'GM_library' from '/Users/cibran/Work/UPC/GenerativeModels/GM_library.py'>"
      ]
     },
     "execution_count": 75,
     "metadata": {},
     "output_type": "execute_result"
    }
   ],
   "source": [
    "import importlib\n",
    "importlib.reload(GML)"
   ]
  },
  {
   "cell_type": "code",
   "execution_count": 76,
   "id": "8e2aa22f",
   "metadata": {},
   "outputs": [],
   "source": [
    "# Predicting loop\n",
    "predicted_dataset = []\n",
    "with torch.no_grad():\n",
    "    for i in range(N_predictions):\n",
    "        # Get random number of nodes\n",
    "        n_nodes = int(np.random.normal(mean_nodes, std_nodes))\n",
    "        \n",
    "        # Diffuse the graph with some noise\n",
    "        diffused_graph = GML.get_random_graph(n_nodes, n_features)  # CHECK THIS FUNCTION\n",
    "\n",
    "        # Denoise the diffused graph\n",
    "        denoised_graph = diffused_graph.clone()\n",
    "        for t in range(n_denoising_steps):\n",
    "            \n",
    "            # Perform a single forward pass for predicting node features\n",
    "            out_x = node_model(diffused_graph.x, \n",
    "                               diffused_graph.edge_index,\n",
    "                               diffused_graph.edge_attr)\n",
    "\n",
    "            # Define x_i and x_j as features of every corresponding pair of nodes (same order than attributes)\n",
    "            x_i = diffused_graph.x[diffused_graph.edge_index[0]]\n",
    "            x_j = diffused_graph.x[diffused_graph.edge_index[1]]\n",
    "\n",
    "            # Perform a single forward pass for predicting edge attributes\n",
    "            out_attr = edge_model(x_i, x_j)\n",
    "\n",
    "            # Construct noise graph\n",
    "            noise_graph = Data(x=out_x, edge_index=diffused_graph.edge_index, edge_attr=out_attr.ravel())\n",
    "\n",
    "            # Denoise the graph with the predicted noise\n",
    "            denoised_graph = GML.denoising_step(denoised_graph, noise_graph, t, n_denoising_steps)\n",
    "\n",
    "        # Append generated graph\n",
    "        predicted_dataset.append(denoised_graph)"
   ]
  },
  {
   "cell_type": "code",
   "execution_count": 77,
   "id": "e8a30179",
   "metadata": {},
   "outputs": [
    {
     "data": {
      "text/plain": [
       "[Data(x=[141, 4], edge_index=[2, 10010], edge_attr=[10010]),\n",
       " Data(x=[224, 4], edge_index=[2, 25199], edge_attr=[25199]),\n",
       " Data(x=[122, 4], edge_index=[2, 7502], edge_attr=[7502]),\n",
       " Data(x=[199, 4], edge_index=[2, 19899], edge_attr=[19899]),\n",
       " Data(x=[176, 4], edge_index=[2, 15575], edge_attr=[15575]),\n",
       " Data(x=[80, 4], edge_index=[2, 3239], edge_attr=[3239]),\n",
       " Data(x=[88, 4], edge_index=[2, 3915], edge_attr=[3915]),\n",
       " Data(x=[150, 4], edge_index=[2, 11324], edge_attr=[11324]),\n",
       " Data(x=[120, 4], edge_index=[2, 7259], edge_attr=[7259]),\n",
       " Data(x=[189, 4], edge_index=[2, 17954], edge_attr=[17954])]"
      ]
     },
     "execution_count": 77,
     "metadata": {},
     "output_type": "execute_result"
    }
   ],
   "source": [
    "predicted_dataset"
   ]
  }
 ],
 "metadata": {
  "kernelspec": {
   "display_name": "Python 3 (ipykernel)",
   "language": "python",
   "name": "python3"
  },
  "language_info": {
   "codemirror_mode": {
    "name": "ipython",
    "version": 3
   },
   "file_extension": ".py",
   "mimetype": "text/x-python",
   "name": "python",
   "nbconvert_exporter": "python",
   "pygments_lexer": "ipython3",
   "version": "3.11.1"
  }
 },
 "nbformat": 4,
 "nbformat_minor": 5
}
