{
 "cells": [
  {
   "cell_type": "code",
   "execution_count": 1,
   "id": "6a69f99f",
   "metadata": {},
   "source": [
    "import torch.nn          as nn\n",
    "import torch.optim       as optim\n",
    "import numpy             as np\n",
    "import matplotlib.pyplot as plt\n",
    "import torch\n",
    "\n",
    "from libraries.graph         import POSCAR_graph_encoding, graph_POSCAR_encoding\n",
    "from libraries.model         import get_random_graph, diffuse\n",
    "from os                      import path, listdir\n",
    "from torch.utils.data        import random_split\n",
    "from torch_geometric.data    import Data, Batch\n",
    "from pymatgen.core.structure import Structure\n",
    "\n",
    "# Checking if pytorch can run in GPU, else CPU\n",
    "device = torch.device('cuda' if torch.cuda.is_available() else 'cpu')"
   ],
   "outputs": []
  },
  {
   "cell_type": "code",
   "execution_count": 2,
   "id": "75aa6001",
   "metadata": {},
   "source": [
    "# Machine-learning parameters\n",
    "n_epochs      = 1000\n",
    "batch_size    = 128\n",
    "learning_rate = 0.0001\n",
    "\n",
    "# Number of diffusing and denoising steps\n",
    "n_t_steps = 10\n",
    "\n",
    "# Decay of parameter alpha\n",
    "noise_contribution = 0.05\n",
    "alpha_decay = 0.5 * (1 - noise_contribution**2)\n",
    "\n",
    "# Dropouts for node and edge models (independent of each other)\n",
    "dropout_node = 0.2\n",
    "dropout_edge = 0.2"
   ],
   "outputs": []
  },
  {
   "cell_type": "markdown",
   "id": "649757cf",
   "metadata": {},
   "source": [
    "# Diffusion"
   ]
  },
  {
   "cell_type": "code",
   "execution_count": 3,
   "id": "f2a6fd5a",
   "metadata": {},
   "source": [
    "#graph = get_random_graph(5, 1)\n",
    "\n",
    "temp_structure = Structure.from_file('POSCAR')\n",
    "\n",
    "nodes, edges, attributes = graph_POSCAR_encoding(temp_structure)\n",
    "\n",
    "# Construct temporal graph structure\n",
    "graph = Data(x=nodes,\n",
    "             edge_index=edges.t().contiguous(),\n",
    "             edge_attr=attributes.ravel(),\n",
    "             y=torch.tensor([0], dtype=torch.float)             \n",
    "             )\n",
    "\n",
    "graph.x         = torch.abs(graph.x)\n",
    "graph.edge_attr = torch.abs(graph.edge_attr)"
   ],
   "outputs": []
  },
  {
   "cell_type": "code",
   "execution_count": 4,
   "id": "e0df8893",
   "metadata": {
    "scrolled": true
   },
   "source": [
    "batch_t = Batch.from_data_list([graph]).to(device)\n",
    "\n",
    "\n",
    "diffused_grap = diffuse(batch_t, n_t_steps,\n",
    "                        s=alpha_decay, plot_steps=True)"
   ],
   "outputs": []
  },
  {
   "cell_type": "code",
   "execution_count": 6,
   "id": "275e7762",
   "metadata": {},
   "source": [
    "# Extract features and attributes from each graph\n",
    "all_xs    = []\n",
    "all_attrs = []\n",
    "for graph in all_graphs:\n",
    "    all_xs.append(graph.x)\n",
    "    all_attrs.append(graph.edge_attr)\n",
    "\n",
    "# Each row corresponds to a different feature/edge\n",
    "all_xs_concat    = torch.hstack(all_xs)\n",
    "all_attrs_concat = torch.vstack(all_attrs).T"
   ],
   "outputs": []
  },
  {
   "cell_type": "code",
   "execution_count": 7,
   "id": "8aab50b0",
   "metadata": {},
   "source": [
    "# Plot the evolution of features\n",
    "for feature in all_xs_concat:\n",
    "    feature_evolution = feature.detach().cpu().numpy()\n",
    "    plt.plot(feature_evolution)\n",
    "plt.show()\n",
    "\n",
    "# Plot the evolution of edge attributes\n",
    "for attribute in all_attrs_concat:\n",
    "    attribute_evolution = attribute.detach().cpu().numpy()\n",
    "    plt.plot(attribute_evolution)\n",
    "plt.show()"
   ],
   "outputs": []
  },
  {
   "cell_type": "code",
   "execution_count": 8,
   "id": "43629680",
   "metadata": {},
   "source": [
    "# Plot alpha_t parameter\n",
    "alphas = GML.get_alpha_t(np.arange(1, n_t_steps+1), n_t_steps, s=alpha_decay)\n",
    "plt.plot(alphas)"
   ],
   "outputs": []
  }
 ],
 "metadata": {
  "kernelspec": {
   "display_name": "Python 3 (ipykernel)",
   "language": "python",
   "name": "python3"
  },
  "language_info": {
   "codemirror_mode": {
    "name": "ipython",
    "version": 3
   },
   "file_extension": ".py",
   "mimetype": "text/x-python",
   "name": "python",
   "nbconvert_exporter": "python",
   "pygments_lexer": "ipython3",
   "version": "3.10.12"
  }
 },
 "nbformat": 4,
 "nbformat_minor": 5
}
