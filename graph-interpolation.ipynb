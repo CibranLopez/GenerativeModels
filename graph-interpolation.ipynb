{
 "cells": [
  {
   "cell_type": "code",
   "execution_count": null,
   "id": "6a69f99f",
   "metadata": {},
   "outputs": [],
   "source": [
    "import torch\n",
    "import json\n",
    "\n",
    "from libraries.model   import nGCNN, eGCNN, diffuse, denoise, interpolate_graphs\n",
    "from libraries.dataset import revert_standardize_dataset\n",
    "from libraries.graph   import POSCAR_graph_encoding\n",
    "\n",
    "# Checking if pytorch can run in GPU, else CPU\n",
    "device = torch.device('cuda' if torch.cuda.is_available() else 'cpu')"
   ]
  },
  {
   "cell_type": "code",
   "execution_count": null,
   "id": "54a1b064",
   "metadata": {},
   "outputs": [],
   "source": [
    "# Instead of generating new graphs from random noise, we interpolate\n",
    "# already-existing graphs in noisy space and denoise them\n",
    "# A target property can be seeked with this approach as well"
   ]
  },
  {
   "cell_type": "code",
   "execution_count": null,
   "id": "05339e3b",
   "metadata": {},
   "outputs": [],
   "source": [
    "# Define folder in which all data will be stored\n",
    "target_folder    = 'models/GM_BiSI'\n",
    "edge_model_name = f'{target_folder}/edge_model.pt'\n",
    "node_model_name = f'{target_folder}/node_model.pt'\n",
    "\n",
    "# Number of graphs to predict\n",
    "N_predictions = 10\n",
    "\n",
    "# Amount of noise for the generative process\n",
    "sigma = 0.1\n",
    "\n",
    "# Define target to be generated\n",
    "target_tensor = None"
   ]
  },
  {
   "cell_type": "markdown",
   "id": "a9cc66bb",
   "metadata": {},
   "source": [
    "# Load model data"
   ]
  },
  {
   "cell_type": "code",
   "execution_count": null,
   "id": "966996d8",
   "metadata": {},
   "outputs": [],
   "source": [
    "# Read the file in JSON format to a dictionary\n",
    "with open(f'{target_folder}/model_parameters.json', 'r') as json_file:\n",
    "    model_parameters = json.load(json_file)\n",
    "\n",
    "# Number of diffusing and denoising steps\n",
    "n_t_steps = model_parameters['n_t_steps']\n",
    "\n",
    "# Decay of parameter alpha\n",
    "noise_contribution = model_parameters['noise_contribution']\n",
    "alpha_decay = 0.5 * (1 - noise_contribution**2)\n",
    "\n",
    "# Dropouts for node and edge models (independent of each other)\n",
    "dropout_node = model_parameters['dropout_node']\n",
    "dropout_edge = model_parameters['dropout_edge']"
   ]
  },
  {
   "cell_type": "markdown",
   "id": "4946b2e8",
   "metadata": {},
   "source": [
    "# Generation of graph database for training"
   ]
  },
  {
   "cell_type": "markdown",
   "id": "9b5cbe57",
   "metadata": {},
   "source": [
    "Load the datasets, already standarized if possible."
   ]
  },
  {
   "cell_type": "code",
   "execution_count": null,
   "id": "3ee5478e",
   "metadata": {},
   "outputs": [],
   "source": [
    "labels_name         = f'{target_folder}/labels.pt'\n",
    "dataset_name        = f'{target_folder}/dataset.pt'\n",
    "dataset_name_std    = f'{target_folder}/standardized_dataset.pt'\n",
    "parameters_name_std = f'{target_folder}/standardized_parameters.json'  # Parameters for rescaling the predictions\n",
    "\n",
    "# Load the standardized dataset, with corresponding labels and parameters\n",
    "dataset = torch.load(dataset_name_std)\n",
    "labels  = torch.load(labels_name)\n",
    "\n",
    "# Read the file in JSON format to a dictionary\n",
    "with open(parameters_name_std, 'r') as json_file:\n",
    "    dataset_parameters = json.load(json_file)"
   ]
  },
  {
   "cell_type": "code",
   "execution_count": null,
   "id": "b39db697",
   "metadata": {},
   "outputs": [],
   "source": [
    "# Calculate the mean and standard deviation of the number of nodes\n",
    "total_nodes = torch.tensor([data.num_nodes for data in dataset])\n",
    "mean_nodes  = torch.mean(total_nodes.float()).item()\n",
    "std_nodes   = torch.std(total_nodes.float()).item()\n",
    "\n",
    "mean_nodes, std_nodes"
   ]
  },
  {
   "cell_type": "markdown",
   "id": "31a76fc0",
   "metadata": {},
   "source": [
    "# Loading the model"
   ]
  },
  {
   "cell_type": "code",
   "execution_count": null,
   "id": "8f86aed2",
   "metadata": {},
   "outputs": [],
   "source": [
    "# Determine number of features in dataset, considering the t_step information\n",
    "n_features = dataset[0].num_node_features + 1\n",
    "\n",
    "# Instantiate the models for nodes and edges\n",
    "node_model = nGCNN(n_features, dropout_node).to(device)\n",
    "node_model.load_state_dict(torch.load(node_model_name))\n",
    "node_model.eval()\n",
    "\n",
    "edge_model = eGCNN(n_features, dropout_edge).to(device)\n",
    "edge_model.load_state_dict(torch.load(edge_model_name))\n",
    "edge_model.eval()\n",
    "\n",
    "print('\\nNode GCNN:')\n",
    "print(node_model)\n",
    "print('\\nEdge GCNN:')\n",
    "print(edge_model)"
   ]
  },
  {
   "cell_type": "markdown",
   "id": "a5f1052c",
   "metadata": {},
   "source": [
    "# Interpolating known cystals"
   ]
  },
  {
   "cell_type": "code",
   "execution_count": null,
   "id": "eb3c0ae5",
   "metadata": {},
   "outputs": [],
   "source": [
    "## Diffuse the initial dataset\n",
    "dataset_t = []\n",
    "for graph in dataset:\n",
    "    # Diffuse the graph with some noise\n",
    "    #print()\n",
    "    #print('Diffusing...')\n",
    "    graph_t, _ = diffuse(graph, n_t_steps,\n",
    "                         s=alpha_decay)\n",
    "    dataset_t.append(graph_t)\n",
    "\n",
    "# Get random number of nodes\n",
    "n_nodes = int(np.random.normal(mean_nodes, std_nodes))  ???"
   ]
  },
  {
   "cell_type": "code",
   "execution_count": null,
   "id": "8e4ad10f",
   "metadata": {},
   "outputs": [],
   "source": [
    "# Interpolate the noisy version of the dataset into a new, diffused graph\n",
    "diffused_graph = interpolate_graphs(dataset_t)  # Does not work so far\n",
    "\n",
    "# Interpolation loop\n",
    "predicted_dataset = []\n",
    "with torch.no_grad():\n",
    "    for i in range(N_predictions):\n",
    "        # Denoise the diffused graph\n",
    "        #print(f'Denoising...')\n",
    "        denoised_graph, _ = denoise(diffused_graph, n_t_steps, node_model, edge_model,\n",
    "                                    s=alpha_decay, sigma=sigma, target=target_tensor)\n",
    "        \n",
    "        # Append generated graph\n",
    "        predicted_dataset.append(denoised_graph)\n",
    "\n",
    "# Revert standardization\n",
    "denoised_graphs = revert_standardize_dataset(predicted_dataset, dataset_parameters)\n",
    "denoised_graphs"
   ]
  },
  {
   "cell_type": "code",
   "execution_count": null,
   "id": "778c6c9b",
   "metadata": {},
   "outputs": [],
   "source": [
    "for i in range(N_predictions):\n",
    "    print()\n",
    "    print(i+1)\n",
    "    graph = denoised_graphs[i].clone()\n",
    "    try:\n",
    "        POSCAR_graph_encoding(graph, file_name=f'POSCAR-{i}', POSCAR_directory='./')\n",
    "    except SystemExit:\n",
    "        continue"
   ]
  }
 ],
 "metadata": {
  "kernelspec": {
   "display_name": "Python 3 (ipykernel)",
   "language": "python",
   "name": "python3"
  },
  "language_info": {
   "codemirror_mode": {
    "name": "ipython",
    "version": 3
   },
   "file_extension": ".py",
   "mimetype": "text/x-python",
   "name": "python",
   "nbconvert_exporter": "python",
   "pygments_lexer": "ipython3",
   "version": "3.10.12"
  }
 },
 "nbformat": 4,
 "nbformat_minor": 5
}
