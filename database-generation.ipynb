{
 "cells": [
  {
   "cell_type": "code",
   "execution_count": 1,
   "id": "6a69f99f",
   "metadata": {
    "ExecuteTime": {
     "end_time": "2024-03-28T13:05:30.344189325Z",
     "start_time": "2024-03-28T13:05:28.682941337Z"
    }
   },
   "outputs": [],
   "source": [
    "import numpy as np\n",
    "import torch\n",
    "import json\n",
    "import os\n",
    "\n",
    "from libraries.dataset        import standardize_dataset, check_extend_POSCAR\n",
    "from libraries.graph          import graph_POSCAR_encoding\n",
    "from libraries.structure      import compute_diffraction_pattern\n",
    "from torch_geometric.data     import Data\n",
    "from pymatgen.core            import Structure\n",
    "\n",
    "# Checking if pytorch can run in GPU, else CPU\n",
    "device = torch.device('cuda' if torch.cuda.is_available() else 'cpu')"
   ]
  },
  {
   "cell_type": "code",
   "outputs": [],
   "source": [
    "# In case database is created from scratch (otherwise, it is not being used)\n",
    "data_path = '../MP/Loaded_PT'\n",
    "\n",
    "# Define diffraction type ('neutron', 'xrd' or 'EPA')\n",
    "target = 'EPA'\n",
    "\n",
    "# Define folder in which all data will be stored\n",
    "data_folder = f'data/GM_molecules'\n",
    "\n",
    "# Define name for storing dataset basic description\n",
    "dataset_parameters_name = f'{data_folder}/dataset_parameters.json'\n",
    "\n",
    "encoding_type      = 'voronoi'  # 'voronoi' or 'sphere-images'\n",
    "distance_threshold = 6  # Used in general\n",
    "\n",
    "minimum_lattice_vector = 3 * distance_threshold  # Allowing three convolutions\n",
    "\n",
    "# Define basic dataset parameters for tracking data\n",
    "dataset_parameters = {\n",
    "    'input_folder': data_path,\n",
    "    'output_folder': data_folder,\n",
    "    'target': target,\n",
    "    'encoding_type': encoding_type,\n",
    "    'distance_threshold': distance_threshold,\n",
    "    'minimum_lattice_vector': minimum_lattice_vector\n",
    "}\n",
    "\n",
    "if not os.path.exists(data_folder):\n",
    "    os.system(f'mkdir {data_folder}')\n",
    "\n",
    "# Dump the dictionary with numpy arrays to a JSON file\n",
    "with open(dataset_parameters_name, 'w') as json_file:\n",
    "    json.dump(dataset_parameters, json_file)"
   ],
   "metadata": {
    "collapsed": false
   },
   "id": "87e9c0c85579db94"
  },
  {
   "cell_type": "markdown",
   "source": [
    "# Generation of graph database for training"
   ],
   "metadata": {
    "collapsed": false
   },
   "id": "f4118e7c81dc9ba3"
  },
  {
   "cell_type": "markdown",
   "source": [
    "Load the datasets, already standardized if possible."
   ],
   "metadata": {
    "collapsed": false
   },
   "id": "d14155aab014776a"
  },
  {
   "cell_type": "code",
   "outputs": [],
   "source": [
    "# Generate the raw dataset from scratch, and standardize it\n",
    "\n",
    "# Read all materials within the database\n",
    "materials = os.listdir(data_path)\n",
    "\n",
    "dataset = []\n",
    "labels  = []\n",
    "for material in materials[:1000]:\n",
    "    try:\n",
    "        # Try to read the polymorphs\n",
    "        polymorphs = os.listdir(f'{data_path}/{material}')\n",
    "    except:\n",
    "        continue\n",
    "    \n",
    "    print(material)\n",
    "    for polymorf in polymorphs:\n",
    "        # Path to folder containing the POSCAR\n",
    "        path_to_POSCAR = f'{data_path}/{material}/{polymorf}'\n",
    "        \n",
    "        # Check that the folder is valid\n",
    "        if os.path.exists(path_to_POSCAR):\n",
    "            print(f'\\t{polymorf}')\n",
    "            \n",
    "            try:\n",
    "                # Load pymatgen structure object\n",
    "                structure = Structure.from_file(f'{path_to_POSCAR}/POSCAR')\n",
    "                \n",
    "                # Check that POSCAR is big enough, otherwise extend it where necessary\n",
    "                structure = check_extend_POSCAR(structure, minimum_lattice_vector)\n",
    "                \n",
    "                nodes, edges, attributes = graph_POSCAR_encoding(structure,\n",
    "                                                                 encoding_type=encoding_type,\n",
    "                                                                 distance_threshold=distance_threshold)\n",
    "            except:\n",
    "                print(f'Error: {material} {polymorf} not loaded')\n",
    "                continue\n",
    "            \n",
    "            if target == 'EPA':\n",
    "                # Load ground state energy per atom\n",
    "                extracted_target = [float(np.loadtxt(f'{path_to_POSCAR}/EPA'))]\n",
    "            elif (target == 'neutron') or (target == 'xrd'):\n",
    "                # Compute diffraction pattern from given structure\n",
    "                extracted_target = compute_diffraction_pattern(structure, diffraction=target)\n",
    "            else:\n",
    "                # Do not extract anything\n",
    "                extracted_target = [0]\n",
    "            \n",
    "            # Construct temporal graph structure\n",
    "            graph = Data(x=nodes,\n",
    "                         edge_index=edges.t().contiguous(),\n",
    "                         edge_attr=attributes.ravel(),\n",
    "                         y=torch.tensor(extracted_target, dtype=torch.float)\n",
    "                        )\n",
    "\n",
    "            # Append to dataset and labels\n",
    "            dataset.append(graph)\n",
    "            labels.append(f'{material}-{polymorf}')"
   ],
   "metadata": {
    "collapsed": false
   },
   "id": "43129468841c5603"
  },
  {
   "cell_type": "code",
   "outputs": [],
   "source": [
    "# Standardize dataset\n",
    "dataset_std, dataset_parameters = standardize_dataset(dataset, transformation='inverse-quadratic')"
   ],
   "metadata": {
    "collapsed": false
   },
   "id": "f2cba29cab841e5e"
  },
  {
   "cell_type": "markdown",
   "id": "64167d60-b767-42cd-881f-dba4f0a102cb",
   "metadata": {},
   "source": [
    "# Save dataset"
   ]
  },
  {
   "cell_type": "code",
   "outputs": [],
   "source": [
    "labels_name                 = f'{data_folder}/labels.pt'\n",
    "dataset_name                = f'{data_folder}/dataset.pt'\n",
    "dataset_name_std            = f'{data_folder}/standardized_dataset.pt'\n",
    "dataset_parameters_name_std = f'{data_folder}/standardized_parameters.json'  # Parameters for rescaling the predictions\n",
    "\n",
    "torch.save(labels,      labels_name)\n",
    "torch.save(dataset,     dataset_name)\n",
    "torch.save(dataset_std, dataset_name_std)\n",
    "\n",
    "# Convert torch tensors to numpy arrays\n",
    "numpy_dict = {key: value.cpu().numpy().tolist() for key, value in dataset_parameters.items()}\n",
    "\n",
    "# Dump the dictionary with numpy arrays to a JSON file\n",
    "with open(dataset_parameters_name_std, 'w') as json_file:\n",
    "    json.dump(numpy_dict, json_file)"
   ],
   "metadata": {
    "collapsed": false,
    "is_executing": true
   },
   "id": "e4233942ef25f557",
   "execution_count": null
  }
 ],
 "metadata": {
  "kernelspec": {
   "display_name": "Python 3 (ipykernel)",
   "language": "python",
   "name": "python3"
  },
  "language_info": {
   "codemirror_mode": {
    "name": "ipython",
    "version": 3
   },
   "file_extension": ".py",
   "mimetype": "text/x-python",
   "name": "python",
   "nbconvert_exporter": "python",
   "pygments_lexer": "ipython3",
   "version": "3.10.12"
  }
 },
 "nbformat": 4,
 "nbformat_minor": 5
}
