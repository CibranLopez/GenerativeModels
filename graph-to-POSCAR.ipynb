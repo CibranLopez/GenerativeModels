{
 "cells": [
  {
   "cell_type": "code",
   "execution_count": 1,
   "id": "6a69f99f",
   "metadata": {
    "is_executing": true
   },
   "outputs": [],
   "source": [
    "import numpy as np\n",
    "import torch\n",
    "\n",
    "from scipy.optimize       import minimize\n",
    "from libraries.graph      import graph_POSCAR_encoding, find_closest_key, composition_concentration_from_keys\n",
    "from torch_geometric.data import Data\n",
    "from pymatgen.core        import Structure"
   ]
  },
  {
   "cell_type": "markdown",
   "id": "d156edb5",
   "metadata": {},
   "source": [
    "# Graph embedding"
   ]
  },
  {
   "cell_type": "code",
   "execution_count": 2,
   "id": "8f2fc7cd",
   "metadata": {
    "ExecuteTime": {
     "end_time": "2024-04-02T10:00:26.797155Z",
     "start_time": "2024-04-02T10:00:20.862829Z"
    }
   },
   "outputs": [
    {
     "data": {
      "text/plain": [
       "Data(x=[72, 4], edge_index=[2, 601], edge_attr=[601], y=[1])"
      ]
     },
     "execution_count": 2,
     "metadata": {},
     "output_type": "execute_result"
    }
   ],
   "source": [
    "distance_threshold = 5\n",
    "y = 1\n",
    "\n",
    "# Whether to care about lattice vectors or not\n",
    "is_molecule = False\n",
    "\n",
    "structure = Structure.from_file('POSCAR')\n",
    "\n",
    "nodes, edges, attributes = graph_POSCAR_encoding(structure,\n",
    "                                                 distance_threshold=distance_threshold,\n",
    "                                                 encoding_type='sphere-images')\n",
    "temp = Data(x=nodes,\n",
    "            edge_index=edges.t().contiguous(),\n",
    "            edge_attr=attributes.flatten(),\n",
    "            y=torch.tensor([y], dtype=torch.float)\n",
    "           )\n",
    "temp"
   ]
  },
  {
   "cell_type": "code",
   "execution_count": 3,
   "id": "76948902b363d0e1",
   "metadata": {
    "ExecuteTime": {
     "end_time": "2024-04-02T10:00:26.798597Z",
     "start_time": "2024-04-02T10:00:26.777358Z"
    }
   },
   "outputs": [],
   "source": [
    "edges   = temp.edge_index.detach().cpu().numpy().T\n",
    "weights = temp.edge_attr.detach().cpu().numpy()"
   ]
  },
  {
   "cell_type": "code",
   "execution_count": 4,
   "id": "af8c1c6539c7318d",
   "metadata": {
    "ExecuteTime": {
     "end_time": "2024-04-02T10:00:26.881292Z",
     "start_time": "2024-04-02T10:00:26.792127Z"
    }
   },
   "outputs": [],
   "source": [
    "coordinates = []\n",
    "for s in structure:\n",
    "    coordinates.append(s.coords)\n",
    "coordinates = np.array(coordinates)"
   ]
  },
  {
   "cell_type": "code",
   "execution_count": 5,
   "id": "4918c25dd40e5c1b",
   "metadata": {
    "ExecuteTime": {
     "end_time": "2024-04-02T10:00:26.882391Z",
     "start_time": "2024-04-02T10:00:26.808985Z"
    }
   },
   "outputs": [
    {
     "data": {
      "text/plain": [
       "array([[ 1.26111574e+01,  1.12000000e-06,  4.49000000e-05],\n",
       "       [ 1.73000000e-06,  1.71582865e+01, -2.53000000e-06],\n",
       "       [ 3.68000000e-05, -1.57000000e-06,  1.02820259e+01]])"
      ]
     },
     "execution_count": 5,
     "metadata": {},
     "output_type": "execute_result"
    }
   ],
   "source": [
    "lattice_vectors = structure.lattice.matrix\n",
    "lattice_vectors"
   ]
  },
  {
   "cell_type": "code",
   "execution_count": 6,
   "id": "5959b6d1",
   "metadata": {},
   "outputs": [],
   "source": [
    "def worst_identification(edges, attributes):\n",
    "    n_particles = np.unique(edges)\n",
    "\n",
    "    particle_errors = []\n",
    "    for particle in range(n_particles):\n",
    "        # Get those edge indexes where particle has a connection\n",
    "        particle_connections = np.where((edges[:, 0] == idx) | (edges[:, 1] == idx))\n",
    "\n",
    "        particle_error = 0\n",
    "        for idx in particle_connections:\n",
    "            # Load indexes in edge\n",
    "            edge = edges[idx]\n",
    "\n",
    "            # Load reference attribute\n",
    "            attr = attributes[idx]\n",
    "\n",
    "            # Load expected attribute\n",
    "            p1 = positions[edge[0]]\n",
    "            p2 = positions[edge[1]]\n",
    "\n",
    "            # Compute distance\n",
    "            distance = np.linalg.norm(p2 - p1)\n",
    "\n",
    "            # Add error\n",
    "            particle_errors += distance\n",
    "\n",
    "        # Average over the conection of the node\n",
    "        particle_error /= len(particle_connections)\n",
    "\n",
    "        # Append particle error\n",
    "        particle_errors.append(particle_errors)\n",
    "    \n",
    "    return np.argmax(particle_errors), np.max(particle_errors)"
   ]
  },
  {
   "cell_type": "markdown",
   "id": "459520a6245d5379",
   "metadata": {},
   "source": [
    "## Molecules"
   ]
  },
  {
   "cell_type": "code",
   "execution_count": 7,
   "id": "c6f554e2959ecedf",
   "metadata": {
    "ExecuteTime": {
     "end_time": "2024-04-02T10:00:29.209402Z",
     "start_time": "2024-04-02T10:00:29.187518Z"
    }
   },
   "outputs": [],
   "source": [
    "if is_molecule:\n",
    "    # Initial guess for the positions\n",
    "    #initial_positions = np.random.rand(len(edges) * 3)  # Initialize all points at origin, 1D array\n",
    "    initial_positions = coordinates.reshape(-1, 1).ravel()\n",
    "    \n",
    "    # Function to calculate the squared difference between distances and weights\n",
    "    def objective(solution_attempt, edges, weights):\n",
    "        positions = solution_attempt.reshape(-1, 3)  # Reshape to 2D array\n",
    "        errors = 0\n",
    "        for edge, weight in zip(edges, weights):\n",
    "            p1 = positions[edge[0]]\n",
    "            p2 = positions[edge[1]]\n",
    "            distance = np.linalg.norm(p2 - p1)\n",
    "            errors += np.power(distance - weight, 2)\n",
    "        print(errors)\n",
    "        return errors"
   ]
  },
  {
   "cell_type": "markdown",
   "id": "af2bf9b41a9d0ac7",
   "metadata": {},
   "source": [
    "## Crystals"
   ]
  },
  {
   "cell_type": "code",
   "execution_count": 8,
   "id": "b5de1e75c159c4e",
   "metadata": {
    "ExecuteTime": {
     "end_time": "2024-04-02T10:01:31.082028Z",
     "start_time": "2024-04-02T10:01:31.065668Z"
    }
   },
   "outputs": [],
   "source": [
    "if not is_molecule:\n",
    "    # Initial guess for the lattice parameters\n",
    "    lattice_vectors = np.array([[10, 0,   0],\n",
    "                                [0,   10, 0],\n",
    "                                [0,   0,   10]])\n",
    "    \n",
    "    # Initial guess for the positions\n",
    "    solution = np.random.rand(len(edges) * 3)*10  # Initialize all points at origin, 1D array\n",
    "    #initial_positions = coordinates.reshape(-1, 1).ravel()\n",
    "    #initial_positions = np.concatenate([lattice_vectors.ravel(), initial_positions])\n",
    "    \n",
    "    # Function to calculate the squared difference between distances and weights\n",
    "    def objective(solution_attempt, edges, weights):\n",
    "        solution_attempt = solution_attempt.reshape(-1, 3)  # Reshape to 2D array\n",
    "        \n",
    "        lattice_vectors = solution_attempt[:3]\n",
    "        positions       = solution_attempt[3:]\n",
    "        \n",
    "        errors = 0\n",
    "        for edge, weight in zip(edges, weights):\n",
    "            p1 = positions[edge[0]]\n",
    "            p2 = positions[edge[1]]\n",
    "            \n",
    "            trial_errors = [] \n",
    "            for i in [-1, 0, 1]:\n",
    "                for j in [-1, 0, 1]:\n",
    "                    for k in [-1, 0, 1]:\n",
    "                        # i*lattice_vectors[0] + j*lattice_vectors[1] + k*lattice_vectors[2]\n",
    "                        ijk_lattice_vectors = np.sum([i, j, k] * lattice_vectors.T, axis=1)\n",
    "                        \n",
    "                        # Compute error\n",
    "                        distance = np.linalg.norm(p2 - p1 + ijk_lattice_vectors)\n",
    "                        \n",
    "                        # Apend to trial errors for differente atom images\n",
    "                        trial_errors.append(np.power(distance - weight, 2))\n",
    "            errors += np.min(trial_errors)\n",
    "        print(errors)\n",
    "        return errors"
   ]
  },
  {
   "cell_type": "code",
   "execution_count": 12,
   "id": "9c91d1502eb0f96d",
   "metadata": {
    "ExecuteTime": {
     "end_time": "2024-04-02T12:58:02.652520Z",
     "start_time": "2024-04-02T10:03:50.103080Z"
    },
    "scrolled": true
   },
   "outputs": [
    {
     "name": "stdout",
     "output_type": "stream",
     "text": [
      "\n",
      "Attempt 0\n",
      "1609.6305335030613\n",
      "1609.6305335030613\n",
      "1865.8657991915911\n",
      "1150.949801845291\n",
      "822.0681958133782\n",
      "810.9925095977491\n",
      "807.1114911596407\n",
      "806.4286747904052\n",
      "806.4286747904052\n",
      "890.828416035841\n",
      "856.1105447275444\n"
     ]
    },
    {
     "ename": "KeyboardInterrupt",
     "evalue": "",
     "output_type": "error",
     "traceback": [
      "\u001b[0;31m---------------------------------------------------------------------------\u001b[0m",
      "\u001b[0;31mKeyboardInterrupt\u001b[0m                         Traceback (most recent call last)",
      "Cell \u001b[0;32mIn[12], line 6\u001b[0m\n\u001b[1;32m      4\u001b[0m \u001b[38;5;28mprint\u001b[39m()\n\u001b[1;32m      5\u001b[0m \u001b[38;5;28mprint\u001b[39m(\u001b[38;5;124mf\u001b[39m\u001b[38;5;124m'\u001b[39m\u001b[38;5;124mAttempt \u001b[39m\u001b[38;5;132;01m{\u001b[39;00mattempt\u001b[38;5;132;01m}\u001b[39;00m\u001b[38;5;124m'\u001b[39m)\n\u001b[0;32m----> 6\u001b[0m solution \u001b[38;5;241m=\u001b[39m \u001b[43mminimize\u001b[49m\u001b[43m(\u001b[49m\u001b[43mobjective\u001b[49m\u001b[43m,\u001b[49m\u001b[43m \u001b[49m\u001b[43msolution\u001b[49m\u001b[43m,\u001b[49m\n\u001b[1;32m      7\u001b[0m \u001b[43m                    \u001b[49m\u001b[43margs\u001b[49m\u001b[38;5;241;43m=\u001b[39;49m\u001b[43m(\u001b[49m\u001b[43medges\u001b[49m\u001b[43m,\u001b[49m\u001b[43m \u001b[49m\u001b[43mweights\u001b[49m\u001b[43m)\u001b[49m\u001b[43m,\u001b[49m\n\u001b[1;32m      8\u001b[0m \u001b[43m                    \u001b[49m\u001b[43mmethod\u001b[49m\u001b[38;5;241;43m=\u001b[39;49m\u001b[38;5;124;43m'\u001b[39;49m\u001b[38;5;124;43mPowell\u001b[39;49m\u001b[38;5;124;43m'\u001b[39;49m\u001b[43m,\u001b[49m\n\u001b[1;32m      9\u001b[0m \u001b[43m                   \u001b[49m\u001b[43mtol\u001b[49m\u001b[38;5;241;43m=\u001b[39;49m\u001b[38;5;241;43m1000\u001b[39;49m\u001b[43m)\u001b[49m\n\u001b[1;32m     11\u001b[0m worst_particle, worst_error \u001b[38;5;241m=\u001b[39m worst_identification(edges, attributes)\n\u001b[1;32m     13\u001b[0m \u001b[38;5;28;01mif\u001b[39;00m worst_error \u001b[38;5;241m>\u001b[39m local_error_threshold:\n",
      "File \u001b[0;32m/Library/Frameworks/Python.framework/Versions/3.11/lib/python3.11/site-packages/scipy/optimize/_minimize.py:687\u001b[0m, in \u001b[0;36mminimize\u001b[0;34m(fun, x0, args, method, jac, hess, hessp, bounds, constraints, tol, callback, options)\u001b[0m\n\u001b[1;32m    684\u001b[0m     res \u001b[38;5;241m=\u001b[39m _minimize_neldermead(fun, x0, args, callback, bounds\u001b[38;5;241m=\u001b[39mbounds,\n\u001b[1;32m    685\u001b[0m                                \u001b[38;5;241m*\u001b[39m\u001b[38;5;241m*\u001b[39moptions)\n\u001b[1;32m    686\u001b[0m \u001b[38;5;28;01melif\u001b[39;00m meth \u001b[38;5;241m==\u001b[39m \u001b[38;5;124m'\u001b[39m\u001b[38;5;124mpowell\u001b[39m\u001b[38;5;124m'\u001b[39m:\n\u001b[0;32m--> 687\u001b[0m     res \u001b[38;5;241m=\u001b[39m \u001b[43m_minimize_powell\u001b[49m\u001b[43m(\u001b[49m\u001b[43mfun\u001b[49m\u001b[43m,\u001b[49m\u001b[43m \u001b[49m\u001b[43mx0\u001b[49m\u001b[43m,\u001b[49m\u001b[43m \u001b[49m\u001b[43margs\u001b[49m\u001b[43m,\u001b[49m\u001b[43m \u001b[49m\u001b[43mcallback\u001b[49m\u001b[43m,\u001b[49m\u001b[43m \u001b[49m\u001b[43mbounds\u001b[49m\u001b[43m,\u001b[49m\u001b[43m \u001b[49m\u001b[38;5;241;43m*\u001b[39;49m\u001b[38;5;241;43m*\u001b[39;49m\u001b[43moptions\u001b[49m\u001b[43m)\u001b[49m\n\u001b[1;32m    688\u001b[0m \u001b[38;5;28;01melif\u001b[39;00m meth \u001b[38;5;241m==\u001b[39m \u001b[38;5;124m'\u001b[39m\u001b[38;5;124mcg\u001b[39m\u001b[38;5;124m'\u001b[39m:\n\u001b[1;32m    689\u001b[0m     res \u001b[38;5;241m=\u001b[39m _minimize_cg(fun, x0, args, jac, callback, \u001b[38;5;241m*\u001b[39m\u001b[38;5;241m*\u001b[39moptions)\n",
      "File \u001b[0;32m/Library/Frameworks/Python.framework/Versions/3.11/lib/python3.11/site-packages/scipy/optimize/_optimize.py:3346\u001b[0m, in \u001b[0;36m_minimize_powell\u001b[0;34m(func, x0, args, callback, bounds, xtol, ftol, maxiter, maxfev, disp, direc, return_all, **unknown_options)\u001b[0m\n\u001b[1;32m   3344\u001b[0m direc1 \u001b[38;5;241m=\u001b[39m direc[i]\n\u001b[1;32m   3345\u001b[0m fx2 \u001b[38;5;241m=\u001b[39m fval\n\u001b[0;32m-> 3346\u001b[0m fval, x, direc1 \u001b[38;5;241m=\u001b[39m \u001b[43m_linesearch_powell\u001b[49m\u001b[43m(\u001b[49m\u001b[43mfunc\u001b[49m\u001b[43m,\u001b[49m\u001b[43m \u001b[49m\u001b[43mx\u001b[49m\u001b[43m,\u001b[49m\u001b[43m \u001b[49m\u001b[43mdirec1\u001b[49m\u001b[43m,\u001b[49m\n\u001b[1;32m   3347\u001b[0m \u001b[43m                                     \u001b[49m\u001b[43mtol\u001b[49m\u001b[38;5;241;43m=\u001b[39;49m\u001b[43mxtol\u001b[49m\u001b[43m \u001b[49m\u001b[38;5;241;43m*\u001b[39;49m\u001b[43m \u001b[49m\u001b[38;5;241;43m100\u001b[39;49m\u001b[43m,\u001b[49m\n\u001b[1;32m   3348\u001b[0m \u001b[43m                                     \u001b[49m\u001b[43mlower_bound\u001b[49m\u001b[38;5;241;43m=\u001b[39;49m\u001b[43mlower_bound\u001b[49m\u001b[43m,\u001b[49m\n\u001b[1;32m   3349\u001b[0m \u001b[43m                                     \u001b[49m\u001b[43mupper_bound\u001b[49m\u001b[38;5;241;43m=\u001b[39;49m\u001b[43mupper_bound\u001b[49m\u001b[43m,\u001b[49m\n\u001b[1;32m   3350\u001b[0m \u001b[43m                                     \u001b[49m\u001b[43mfval\u001b[49m\u001b[38;5;241;43m=\u001b[39;49m\u001b[43mfval\u001b[49m\u001b[43m)\u001b[49m\n\u001b[1;32m   3351\u001b[0m \u001b[38;5;28;01mif\u001b[39;00m (fx2 \u001b[38;5;241m-\u001b[39m fval) \u001b[38;5;241m>\u001b[39m delta:\n\u001b[1;32m   3352\u001b[0m     delta \u001b[38;5;241m=\u001b[39m fx2 \u001b[38;5;241m-\u001b[39m fval\n",
      "File \u001b[0;32m/Library/Frameworks/Python.framework/Versions/3.11/lib/python3.11/site-packages/scipy/optimize/_optimize.py:3025\u001b[0m, in \u001b[0;36m_linesearch_powell\u001b[0;34m(func, p, xi, tol, lower_bound, upper_bound, fval)\u001b[0m\n\u001b[1;32m   3022\u001b[0m     \u001b[38;5;28;01mreturn\u001b[39;00m ((fval, p, xi) \u001b[38;5;28;01mif\u001b[39;00m fval \u001b[38;5;129;01mis\u001b[39;00m \u001b[38;5;129;01mnot\u001b[39;00m \u001b[38;5;28;01mNone\u001b[39;00m \u001b[38;5;28;01melse\u001b[39;00m (func(p), p, xi))\n\u001b[1;32m   3023\u001b[0m \u001b[38;5;28;01melif\u001b[39;00m lower_bound \u001b[38;5;129;01mis\u001b[39;00m \u001b[38;5;28;01mNone\u001b[39;00m \u001b[38;5;129;01mand\u001b[39;00m upper_bound \u001b[38;5;129;01mis\u001b[39;00m \u001b[38;5;28;01mNone\u001b[39;00m:\n\u001b[1;32m   3024\u001b[0m     \u001b[38;5;66;03m# non-bounded minimization\u001b[39;00m\n\u001b[0;32m-> 3025\u001b[0m     alpha_min, fret, _, _ \u001b[38;5;241m=\u001b[39m \u001b[43mbrent\u001b[49m\u001b[43m(\u001b[49m\u001b[43mmyfunc\u001b[49m\u001b[43m,\u001b[49m\u001b[43m \u001b[49m\u001b[43mfull_output\u001b[49m\u001b[38;5;241;43m=\u001b[39;49m\u001b[38;5;241;43m1\u001b[39;49m\u001b[43m,\u001b[49m\u001b[43m \u001b[49m\u001b[43mtol\u001b[49m\u001b[38;5;241;43m=\u001b[39;49m\u001b[43mtol\u001b[49m\u001b[43m)\u001b[49m\n\u001b[1;32m   3026\u001b[0m     xi \u001b[38;5;241m=\u001b[39m alpha_min \u001b[38;5;241m*\u001b[39m xi\n\u001b[1;32m   3027\u001b[0m     \u001b[38;5;28;01mreturn\u001b[39;00m squeeze(fret), p \u001b[38;5;241m+\u001b[39m xi, xi\n",
      "File \u001b[0;32m/Library/Frameworks/Python.framework/Versions/3.11/lib/python3.11/site-packages/scipy/optimize/_optimize.py:2569\u001b[0m, in \u001b[0;36mbrent\u001b[0;34m(func, args, brack, tol, full_output, maxiter)\u001b[0m\n\u001b[1;32m   2498\u001b[0m \u001b[38;5;250m\u001b[39m\u001b[38;5;124;03m\"\"\"\u001b[39;00m\n\u001b[1;32m   2499\u001b[0m \u001b[38;5;124;03mGiven a function of one variable and a possible bracket, return\u001b[39;00m\n\u001b[1;32m   2500\u001b[0m \u001b[38;5;124;03mthe local minimum of the function isolated to a fractional precision\u001b[39;00m\n\u001b[0;32m   (...)\u001b[0m\n\u001b[1;32m   2565\u001b[0m \n\u001b[1;32m   2566\u001b[0m \u001b[38;5;124;03m\"\"\"\u001b[39;00m\n\u001b[1;32m   2567\u001b[0m options \u001b[38;5;241m=\u001b[39m {\u001b[38;5;124m'\u001b[39m\u001b[38;5;124mxtol\u001b[39m\u001b[38;5;124m'\u001b[39m: tol,\n\u001b[1;32m   2568\u001b[0m            \u001b[38;5;124m'\u001b[39m\u001b[38;5;124mmaxiter\u001b[39m\u001b[38;5;124m'\u001b[39m: maxiter}\n\u001b[0;32m-> 2569\u001b[0m res \u001b[38;5;241m=\u001b[39m \u001b[43m_minimize_scalar_brent\u001b[49m\u001b[43m(\u001b[49m\u001b[43mfunc\u001b[49m\u001b[43m,\u001b[49m\u001b[43m \u001b[49m\u001b[43mbrack\u001b[49m\u001b[43m,\u001b[49m\u001b[43m \u001b[49m\u001b[43margs\u001b[49m\u001b[43m,\u001b[49m\u001b[43m \u001b[49m\u001b[38;5;241;43m*\u001b[39;49m\u001b[38;5;241;43m*\u001b[39;49m\u001b[43moptions\u001b[49m\u001b[43m)\u001b[49m\n\u001b[1;32m   2570\u001b[0m \u001b[38;5;28;01mif\u001b[39;00m full_output:\n\u001b[1;32m   2571\u001b[0m     \u001b[38;5;28;01mreturn\u001b[39;00m res[\u001b[38;5;124m'\u001b[39m\u001b[38;5;124mx\u001b[39m\u001b[38;5;124m'\u001b[39m], res[\u001b[38;5;124m'\u001b[39m\u001b[38;5;124mfun\u001b[39m\u001b[38;5;124m'\u001b[39m], res[\u001b[38;5;124m'\u001b[39m\u001b[38;5;124mnit\u001b[39m\u001b[38;5;124m'\u001b[39m], res[\u001b[38;5;124m'\u001b[39m\u001b[38;5;124mnfev\u001b[39m\u001b[38;5;124m'\u001b[39m]\n",
      "File \u001b[0;32m/Library/Frameworks/Python.framework/Versions/3.11/lib/python3.11/site-packages/scipy/optimize/_optimize.py:2606\u001b[0m, in \u001b[0;36m_minimize_scalar_brent\u001b[0;34m(func, brack, args, xtol, maxiter, disp, **unknown_options)\u001b[0m\n\u001b[1;32m   2603\u001b[0m brent \u001b[38;5;241m=\u001b[39m Brent(func\u001b[38;5;241m=\u001b[39mfunc, args\u001b[38;5;241m=\u001b[39margs, tol\u001b[38;5;241m=\u001b[39mtol,\n\u001b[1;32m   2604\u001b[0m               full_output\u001b[38;5;241m=\u001b[39m\u001b[38;5;28;01mTrue\u001b[39;00m, maxiter\u001b[38;5;241m=\u001b[39mmaxiter, disp\u001b[38;5;241m=\u001b[39mdisp)\n\u001b[1;32m   2605\u001b[0m brent\u001b[38;5;241m.\u001b[39mset_bracket(brack)\n\u001b[0;32m-> 2606\u001b[0m \u001b[43mbrent\u001b[49m\u001b[38;5;241;43m.\u001b[39;49m\u001b[43moptimize\u001b[49m\u001b[43m(\u001b[49m\u001b[43m)\u001b[49m\n\u001b[1;32m   2607\u001b[0m x, fval, nit, nfev \u001b[38;5;241m=\u001b[39m brent\u001b[38;5;241m.\u001b[39mget_result(full_output\u001b[38;5;241m=\u001b[39m\u001b[38;5;28;01mTrue\u001b[39;00m)\n\u001b[1;32m   2609\u001b[0m success \u001b[38;5;241m=\u001b[39m nit \u001b[38;5;241m<\u001b[39m maxiter \u001b[38;5;129;01mand\u001b[39;00m \u001b[38;5;129;01mnot\u001b[39;00m (np\u001b[38;5;241m.\u001b[39misnan(x) \u001b[38;5;129;01mor\u001b[39;00m np\u001b[38;5;241m.\u001b[39misnan(fval))\n",
      "File \u001b[0;32m/Library/Frameworks/Python.framework/Versions/3.11/lib/python3.11/site-packages/scipy/optimize/_optimize.py:2449\u001b[0m, in \u001b[0;36mBrent.optimize\u001b[0;34m(self)\u001b[0m\n\u001b[1;32m   2447\u001b[0m \u001b[38;5;28;01melse\u001b[39;00m:\n\u001b[1;32m   2448\u001b[0m     u \u001b[38;5;241m=\u001b[39m x \u001b[38;5;241m+\u001b[39m rat\n\u001b[0;32m-> 2449\u001b[0m fu \u001b[38;5;241m=\u001b[39m \u001b[43mfunc\u001b[49m\u001b[43m(\u001b[49m\u001b[38;5;241;43m*\u001b[39;49m\u001b[43m(\u001b[49m\u001b[43m(\u001b[49m\u001b[43mu\u001b[49m\u001b[43m,\u001b[49m\u001b[43m)\u001b[49m\u001b[43m \u001b[49m\u001b[38;5;241;43m+\u001b[39;49m\u001b[43m \u001b[49m\u001b[38;5;28;43mself\u001b[39;49m\u001b[38;5;241;43m.\u001b[39;49m\u001b[43margs\u001b[49m\u001b[43m)\u001b[49m\u001b[43m)\u001b[49m      \u001b[38;5;66;03m# calculate new output value\u001b[39;00m\n\u001b[1;32m   2450\u001b[0m funcalls \u001b[38;5;241m+\u001b[39m\u001b[38;5;241m=\u001b[39m \u001b[38;5;241m1\u001b[39m\n\u001b[1;32m   2452\u001b[0m \u001b[38;5;28;01mif\u001b[39;00m (fu \u001b[38;5;241m>\u001b[39m fx):                 \u001b[38;5;66;03m# if it's bigger than current\u001b[39;00m\n",
      "File \u001b[0;32m/Library/Frameworks/Python.framework/Versions/3.11/lib/python3.11/site-packages/scipy/optimize/_optimize.py:3018\u001b[0m, in \u001b[0;36m_linesearch_powell.<locals>.myfunc\u001b[0;34m(alpha)\u001b[0m\n\u001b[1;32m   3017\u001b[0m \u001b[38;5;28;01mdef\u001b[39;00m \u001b[38;5;21mmyfunc\u001b[39m(alpha):\n\u001b[0;32m-> 3018\u001b[0m     \u001b[38;5;28;01mreturn\u001b[39;00m \u001b[43mfunc\u001b[49m\u001b[43m(\u001b[49m\u001b[43mp\u001b[49m\u001b[43m \u001b[49m\u001b[38;5;241;43m+\u001b[39;49m\u001b[43m \u001b[49m\u001b[43malpha\u001b[49m\u001b[38;5;241;43m*\u001b[39;49m\u001b[43mxi\u001b[49m\u001b[43m)\u001b[49m\n",
      "File \u001b[0;32m/Library/Frameworks/Python.framework/Versions/3.11/lib/python3.11/site-packages/scipy/optimize/_optimize.py:569\u001b[0m, in \u001b[0;36m_wrap_scalar_function_maxfun_validation.<locals>.function_wrapper\u001b[0;34m(x, *wrapper_args)\u001b[0m\n\u001b[1;32m    567\u001b[0m ncalls[\u001b[38;5;241m0\u001b[39m] \u001b[38;5;241m+\u001b[39m\u001b[38;5;241m=\u001b[39m \u001b[38;5;241m1\u001b[39m\n\u001b[1;32m    568\u001b[0m \u001b[38;5;66;03m# A copy of x is sent to the user function (gh13740)\u001b[39;00m\n\u001b[0;32m--> 569\u001b[0m fx \u001b[38;5;241m=\u001b[39m \u001b[43mfunction\u001b[49m\u001b[43m(\u001b[49m\u001b[43mnp\u001b[49m\u001b[38;5;241;43m.\u001b[39;49m\u001b[43mcopy\u001b[49m\u001b[43m(\u001b[49m\u001b[43mx\u001b[49m\u001b[43m)\u001b[49m\u001b[43m,\u001b[49m\u001b[43m \u001b[49m\u001b[38;5;241;43m*\u001b[39;49m\u001b[43m(\u001b[49m\u001b[43mwrapper_args\u001b[49m\u001b[43m \u001b[49m\u001b[38;5;241;43m+\u001b[39;49m\u001b[43m \u001b[49m\u001b[43margs\u001b[49m\u001b[43m)\u001b[49m\u001b[43m)\u001b[49m\n\u001b[1;32m    570\u001b[0m \u001b[38;5;66;03m# Ideally, we'd like to a have a true scalar returned from f(x). For\u001b[39;00m\n\u001b[1;32m    571\u001b[0m \u001b[38;5;66;03m# backwards-compatibility, also allow np.array([1.3]),\u001b[39;00m\n\u001b[1;32m    572\u001b[0m \u001b[38;5;66;03m# np.array([[1.3]]) etc.\u001b[39;00m\n\u001b[1;32m    573\u001b[0m \u001b[38;5;28;01mif\u001b[39;00m \u001b[38;5;129;01mnot\u001b[39;00m np\u001b[38;5;241m.\u001b[39misscalar(fx):\n",
      "Cell \u001b[0;32mIn[8], line 32\u001b[0m, in \u001b[0;36mobjective\u001b[0;34m(solution_attempt, edges, weights)\u001b[0m\n\u001b[1;32m     29\u001b[0m ijk_lattice_vectors \u001b[38;5;241m=\u001b[39m np\u001b[38;5;241m.\u001b[39msum([i, j, k] \u001b[38;5;241m*\u001b[39m lattice_vectors\u001b[38;5;241m.\u001b[39mT, axis\u001b[38;5;241m=\u001b[39m\u001b[38;5;241m1\u001b[39m)\n\u001b[1;32m     31\u001b[0m \u001b[38;5;66;03m# Compute error\u001b[39;00m\n\u001b[0;32m---> 32\u001b[0m distance \u001b[38;5;241m=\u001b[39m \u001b[43mnp\u001b[49m\u001b[38;5;241;43m.\u001b[39;49m\u001b[43mlinalg\u001b[49m\u001b[38;5;241;43m.\u001b[39;49m\u001b[43mnorm\u001b[49m\u001b[43m(\u001b[49m\u001b[43mp2\u001b[49m\u001b[43m \u001b[49m\u001b[38;5;241;43m-\u001b[39;49m\u001b[43m \u001b[49m\u001b[43mp1\u001b[49m\u001b[43m \u001b[49m\u001b[38;5;241;43m+\u001b[39;49m\u001b[43m \u001b[49m\u001b[43mijk_lattice_vectors\u001b[49m\u001b[43m)\u001b[49m\n\u001b[1;32m     34\u001b[0m \u001b[38;5;66;03m# Apend to trial errors for differente atom images\u001b[39;00m\n\u001b[1;32m     35\u001b[0m trial_errors\u001b[38;5;241m.\u001b[39mappend(np\u001b[38;5;241m.\u001b[39mpower(distance \u001b[38;5;241m-\u001b[39m weight, \u001b[38;5;241m2\u001b[39m))\n",
      "File \u001b[0;32m/Library/Frameworks/Python.framework/Versions/3.11/lib/python3.11/site-packages/numpy/linalg/linalg.py:2383\u001b[0m, in \u001b[0;36mnorm\u001b[0;34m(x, ord, axis, keepdims)\u001b[0m\n\u001b[1;32m   2379\u001b[0m \u001b[38;5;28;01mdef\u001b[39;00m \u001b[38;5;21m_norm_dispatcher\u001b[39m(x, \u001b[38;5;28mord\u001b[39m\u001b[38;5;241m=\u001b[39m\u001b[38;5;28;01mNone\u001b[39;00m, axis\u001b[38;5;241m=\u001b[39m\u001b[38;5;28;01mNone\u001b[39;00m, keepdims\u001b[38;5;241m=\u001b[39m\u001b[38;5;28;01mNone\u001b[39;00m):\n\u001b[1;32m   2380\u001b[0m     \u001b[38;5;28;01mreturn\u001b[39;00m (x,)\n\u001b[0;32m-> 2383\u001b[0m \u001b[38;5;129m@array_function_dispatch\u001b[39m(_norm_dispatcher)\n\u001b[1;32m   2384\u001b[0m \u001b[38;5;28;01mdef\u001b[39;00m \u001b[38;5;21mnorm\u001b[39m(x, \u001b[38;5;28mord\u001b[39m\u001b[38;5;241m=\u001b[39m\u001b[38;5;28;01mNone\u001b[39;00m, axis\u001b[38;5;241m=\u001b[39m\u001b[38;5;28;01mNone\u001b[39;00m, keepdims\u001b[38;5;241m=\u001b[39m\u001b[38;5;28;01mFalse\u001b[39;00m):\n\u001b[1;32m   2385\u001b[0m \u001b[38;5;250m    \u001b[39m\u001b[38;5;124;03m\"\"\"\u001b[39;00m\n\u001b[1;32m   2386\u001b[0m \u001b[38;5;124;03m    Matrix or vector norm.\u001b[39;00m\n\u001b[1;32m   2387\u001b[0m \n\u001b[0;32m   (...)\u001b[0m\n\u001b[1;32m   2532\u001b[0m \n\u001b[1;32m   2533\u001b[0m \u001b[38;5;124;03m    \"\"\"\u001b[39;00m\n\u001b[1;32m   2534\u001b[0m     x \u001b[38;5;241m=\u001b[39m asarray(x)\n",
      "\u001b[0;31mKeyboardInterrupt\u001b[0m: "
     ]
    }
   ],
   "source": [
    "local_error_threshold = 1e-5\n",
    "\n",
    "for attempt in range(10):\n",
    "    print()\n",
    "    print(f'Attempt {attempt}')\n",
    "    solution = minimize(objective, solution,\n",
    "                        args=(edges, weights),\n",
    "                        method='Powell')\n",
    "    \n",
    "    worst_particle, worst_error = worst_identification(edges, attributes)\n",
    "    \n",
    "    if worst_error > local_error_threshold:\n",
    "        break\n",
    "    \n",
    "    # Re-initialize that position\n",
    "    idx_0 = 6 + worst_particle\n",
    "    idx_f = 6 + worst_particle + 3\n",
    "    solution[idx_0:idx_f] = np.random.rand(3)\n",
    "\n",
    "# Check convergence status\n",
    "if solution.success:\n",
    "    print(\"Converged to a solution.\")\n",
    "else:\n",
    "    print(\"Failed to converge:\", solution.message)"
   ]
  },
  {
   "cell_type": "code",
   "execution_count": null,
   "id": "e66654b8d5b1b38f",
   "metadata": {
    "ExecuteTime": {
     "end_time": "2024-04-01T17:20:57.281115Z",
     "start_time": "2024-04-01T17:20:57.229764Z"
    }
   },
   "outputs": [],
   "source": [
    "solution_attempt = solution.x.reshape(-1, 3)  # Reshape to 2D array"
   ]
  },
  {
   "cell_type": "markdown",
   "id": "1ca00f8de14d570c",
   "metadata": {},
   "source": [
    "## Molecules"
   ]
  },
  {
   "cell_type": "code",
   "execution_count": null,
   "id": "1294ddc76b5add42",
   "metadata": {},
   "outputs": [],
   "source": [
    "if is_molecule:\n",
    "    # Get the position of each atom in direct coordinates\n",
    "    #direct_positions = graph_to_cartesian_positions(graph)\n",
    "    #cartesian_positions = solution.x.reshape(-1, 3)*mw\n",
    "    #cartesian_positions = solution.x.reshape(-1, 3)\n",
    "    \n",
    "    lattice_vectors     = np.array([[10, 0,   0],\n",
    "                                    [0,   10, 0],\n",
    "                                    [0,   0,   10]])\n",
    "    cartesian_positions = solution_attempt"
   ]
  },
  {
   "cell_type": "markdown",
   "id": "53691e2538879cc5",
   "metadata": {},
   "source": [
    "## Crystals"
   ]
  },
  {
   "cell_type": "code",
   "execution_count": 28,
   "id": "ac0e5e3aaf92f07d",
   "metadata": {
    "ExecuteTime": {
     "end_time": "2024-04-01T17:21:03.879680Z",
     "start_time": "2024-04-01T17:21:03.814404Z"
    }
   },
   "outputs": [],
   "source": [
    "if not is_molecule:\n",
    "    # Get the position of each atom in direct coordinates\n",
    "    #direct_positions = graph_to_cartesian_positions(graph)\n",
    "    #cartesian_positions = solution.x.reshape(-1, 3)*mw\n",
    "    \n",
    "    lattice_vectors     = solution_attempt[:3]\n",
    "    cartesian_positions = solution_attempt[3:]"
   ]
  },
  {
   "cell_type": "code",
   "execution_count": 31,
   "id": "5f779bd46fd1c88b",
   "metadata": {
    "ExecuteTime": {
     "end_time": "2024-04-01T17:21:11.480296Z",
     "start_time": "2024-04-01T17:21:11.398238Z"
    }
   },
   "outputs": [],
   "source": [
    "POSCAR_name = None\n",
    "\n",
    "# Get name for the first line of the POSCAR\n",
    "POSCAR_name = POSCAR_name or 'POSCAR from GenerativeModels'\n",
    "\n",
    "# Clone the input graph to preserve the original structure\n",
    "new_graph = temp.clone()\n",
    "\n",
    "# Load and detach embeddings for the graph nodes\n",
    "data_embeddings = new_graph.x.detach().cpu().numpy()\n",
    "\n",
    "# Loading dictionary of available embeddings for atoms\n",
    "available_embeddings = {}\n",
    "with open('../VASP/atomic_masses.dat', 'r') as atomic_masses_file:\n",
    "    for line in atomic_masses_file:\n",
    "        key, mass, charge, electronegativity, ionization_energy = line.split()\n",
    "\n",
    "        # Check if all information is present\n",
    "        if all(val != 'None' for val in (mass, charge, electronegativity, ionization_energy)):\n",
    "            available_embeddings[key] = np.array([mass, charge, electronegativity, ionization_energy], dtype=float)\n",
    "\n",
    "# Get most similar atoms for each graph node and create a list of keys\n",
    "keys = [find_closest_key(available_embeddings, emb) for emb in data_embeddings]\n",
    "\n",
    "# Get elements' composition, concentration, and positions\n",
    "POSCAR_composition, POSCAR_concentration, POSCAR_positions = composition_concentration_from_keys(keys, cartesian_positions)"
   ]
  },
  {
   "cell_type": "code",
   "execution_count": 32,
   "id": "f809aa30616ac841",
   "metadata": {
    "ExecuteTime": {
     "end_time": "2024-04-01T17:21:12.112939Z",
     "start_time": "2024-04-01T17:21:12.084336Z"
    }
   },
   "outputs": [],
   "source": [
    "# Write file\n",
    "with open('CONTCAR', 'w') as POSCAR_file:\n",
    "    # Delete previous data in the file\n",
    "    POSCAR_file.truncate()\n",
    "    \n",
    "    # Write POSCAR's name\n",
    "    POSCAR_file.write(f'{POSCAR_name}\\n')\n",
    "\n",
    "    # Write scaling factor (assumed to be 1.0)\n",
    "    POSCAR_file.write('1.0\\n')\n",
    "\n",
    "    # Write lattice parameters (assumed to be orthogonal)\n",
    "    np.savetxt(POSCAR_file, lattice_vectors, delimiter=' ')\n",
    "\n",
    "    # Write composition (each different species, previously sorted)\n",
    "    np.savetxt(POSCAR_file, [POSCAR_composition], fmt='%s', delimiter=' ')\n",
    "\n",
    "    # Write concentration (number of each of the previous elements)\n",
    "    np.savetxt(POSCAR_file, [POSCAR_concentration], fmt='%d', delimiter=' ')\n",
    "\n",
    "    # Write position in cartesian form\n",
    "    POSCAR_file.write('Cartesian\\n')\n",
    "    np.savetxt(POSCAR_file, POSCAR_positions, delimiter=' ')"
   ]
  }
 ],
 "metadata": {
  "kernelspec": {
   "display_name": "Python 3 (ipykernel)",
   "language": "python",
   "name": "python3"
  },
  "language_info": {
   "codemirror_mode": {
    "name": "ipython",
    "version": 3
   },
   "file_extension": ".py",
   "mimetype": "text/x-python",
   "name": "python",
   "nbconvert_exporter": "python",
   "pygments_lexer": "ipython3",
   "version": "3.11.1"
  }
 },
 "nbformat": 4,
 "nbformat_minor": 5
}
