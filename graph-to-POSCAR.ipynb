{
 "cells": [
  {
   "cell_type": "code",
   "execution_count": 1,
   "id": "6a69f99f",
   "metadata": {
    "ExecuteTime": {
     "end_time": "2024-04-01T17:04:07.291084Z",
     "start_time": "2024-04-01T17:03:58.475830Z"
    }
   },
   "outputs": [],
   "source": [
    "import numpy as np\n",
    "import torch\n",
    "\n",
    "from scipy.optimize       import minimize\n",
    "from libraries.graph      import graph_POSCAR_encoding, find_closest_key, composition_concentration_from_keys\n",
    "from torch_geometric.data import Data\n",
    "from pymatgen.core        import Structure"
   ]
  },
  {
   "cell_type": "markdown",
   "id": "d156edb5",
   "metadata": {},
   "source": [
    "# Graph embedding"
   ]
  },
  {
   "cell_type": "code",
   "execution_count": 2,
   "id": "8f2fc7cd",
   "metadata": {
    "ExecuteTime": {
     "end_time": "2024-04-01T17:04:18.680514Z",
     "start_time": "2024-04-01T17:04:07.288843Z"
    }
   },
   "outputs": [
    {
     "data": {
      "text/plain": "Data(x=[72, 4], edge_index=[2, 601], edge_attr=[601], y=[1])"
     },
     "execution_count": 2,
     "metadata": {},
     "output_type": "execute_result"
    }
   ],
   "source": [
    "distance_threshold = 5\n",
    "y = 1\n",
    "\n",
    "# Whether to care about lattice vectors or not\n",
    "is_molecule = False\n",
    "\n",
    "structure = Structure.from_file('POSCAR')\n",
    "\n",
    "nodes, edges, attributes = graph_POSCAR_encoding(structure,\n",
    "                                                 distance_threshold=distance_threshold,\n",
    "                                                 encoding_type='sphere-images')\n",
    "temp = Data(x=nodes,\n",
    "            edge_index=edges.t().contiguous(),\n",
    "            edge_attr=attributes.flatten(),\n",
    "            y=torch.tensor([y], dtype=torch.float)\n",
    "           )\n",
    "temp"
   ]
  },
  {
   "cell_type": "code",
   "outputs": [],
   "source": [
    "edges = temp.edge_index.detach().cpu().numpy().T\n",
    "weights = temp.edge_attr.detach().cpu().numpy()"
   ],
   "metadata": {
    "collapsed": false,
    "ExecuteTime": {
     "end_time": "2024-04-01T17:04:18.817787Z",
     "start_time": "2024-04-01T17:04:18.604086Z"
    }
   },
   "id": "76948902b363d0e1",
   "execution_count": 3
  },
  {
   "cell_type": "code",
   "outputs": [],
   "source": [
    "coordinates = []\n",
    "for s in structure:\n",
    "    coordinates.append(s.coords)\n",
    "coordinates = np.array(coordinates)"
   ],
   "metadata": {
    "collapsed": false,
    "ExecuteTime": {
     "end_time": "2024-04-01T17:04:18.849359Z",
     "start_time": "2024-04-01T17:04:18.633781Z"
    }
   },
   "id": "af8c1c6539c7318d",
   "execution_count": 4
  },
  {
   "cell_type": "code",
   "outputs": [
    {
     "data": {
      "text/plain": "array([[ 1.26111574e+01,  1.12000000e-06,  4.49000000e-05],\n       [ 1.73000000e-06,  1.71582865e+01, -2.53000000e-06],\n       [ 3.68000000e-05, -1.57000000e-06,  1.02820259e+01]])"
     },
     "execution_count": 14,
     "metadata": {},
     "output_type": "execute_result"
    }
   ],
   "source": [
    "lattice_vectors = structure.lattice.matrix\n",
    "lattice_vectors"
   ],
   "metadata": {
    "collapsed": false,
    "ExecuteTime": {
     "end_time": "2024-04-01T17:06:16.673383Z",
     "start_time": "2024-04-01T17:06:16.564311Z"
    }
   },
   "id": "4918c25dd40e5c1b",
   "execution_count": 14
  },
  {
   "cell_type": "code",
   "outputs": [],
   "source": [
    "mw = np.max(weights)\n",
    "weights /= mw"
   ],
   "metadata": {
    "collapsed": false
   },
   "id": "59a4866ef1e34f52"
  },
  {
   "cell_type": "markdown",
   "source": [
    "## Molecules"
   ],
   "metadata": {
    "collapsed": false
   },
   "id": "459520a6245d5379"
  },
  {
   "cell_type": "code",
   "outputs": [],
   "source": [
    "if is_molecule:\n",
    "    # Initial guess for the positions\n",
    "    #initial_positions = np.random.rand(len(edges) * 3)  # Initialize all points at origin, 1D array\n",
    "    initial_positions = coordinates.reshape(-1, 1).ravel()\n",
    "    \n",
    "    # Function to calculate the squared difference between distances and weights\n",
    "    def objective(solution_attempt, edges, weights):\n",
    "        positions = solution_attempt.reshape(-1, 3)  # Reshape to 2D array\n",
    "        errors = 0\n",
    "        for edge, weight in zip(edges, weights):\n",
    "            p1 = positions[edge[0]]\n",
    "            p2 = positions[edge[1]]\n",
    "            distance = np.linalg.norm(p2 - p1)\n",
    "            errors += np.power(distance - weight, 2)\n",
    "        print(errors)\n",
    "        return errors"
   ],
   "metadata": {
    "collapsed": false,
    "ExecuteTime": {
     "end_time": "2024-03-28T14:53:47.283648Z",
     "start_time": "2024-03-28T14:53:47.230356Z"
    }
   },
   "id": "c6f554e2959ecedf",
   "execution_count": 36
  },
  {
   "cell_type": "markdown",
   "source": [
    "## Crystals"
   ],
   "metadata": {
    "collapsed": false
   },
   "id": "af2bf9b41a9d0ac7"
  },
  {
   "cell_type": "code",
   "outputs": [],
   "source": [
    "if not is_molecule:\n",
    "    # Initial guess for the lattice parameters\n",
    "    #lattice_vectors = np.array([[10, 0,   0],\n",
    "    #                            [0,   10, 0],\n",
    "    #                            [0,   0,   10]])\n",
    "    \n",
    "    # Initial guess for the positions\n",
    "    #initial_positions = np.random.rand(len(edges) * 3)  # Initialize all points at origin, 1D array\n",
    "    initial_positions = coordinates.reshape(-1, 1).ravel()\n",
    "    initial_positions = np.concatenate([lattice_vectors.ravel(), initial_positions])\n",
    "    \n",
    "    # Function to calculate the squared difference between distances and weights\n",
    "    def objective(solution_attempt, edges, weights):\n",
    "        solution_attempt = solution_attempt.reshape(-1, 3)  # Reshape to 2D array\n",
    "        \n",
    "        lattice_vectors = solution_attempt[:3]\n",
    "        positions       = solution_attempt[3:]\n",
    "        \n",
    "        errors = 0\n",
    "        for edge, weight in zip(edges, weights):\n",
    "            p1 = positions[edge[0]]\n",
    "            p2 = positions[edge[1]]\n",
    "            \n",
    "            trial_errors = [] \n",
    "            for i in [-1, 0, 1]:\n",
    "                for j in [-1, 0, 1]:\n",
    "                    for k in [-1, 0, 1]:\n",
    "                        distance = np.linalg.norm(p2 - p1 + i*lattice_vectors[0] + j*lattice_vectors[1] + k*lattice_vectors[2])\n",
    "                        trial_errors.append(np.power(distance - weight, 2))\n",
    "            errors += np.min(trial_errors)\n",
    "        print(errors)\n",
    "        return errors"
   ],
   "metadata": {
    "collapsed": false,
    "ExecuteTime": {
     "end_time": "2024-04-01T17:15:06.907918Z",
     "start_time": "2024-04-01T17:15:06.827203Z"
    }
   },
   "id": "b5de1e75c159c4e",
   "execution_count": 20
  },
  {
   "cell_type": "code",
   "outputs": [
    {
     "name": "stdout",
     "output_type": "stream",
     "text": [
      "6.604177703993856e-12\n",
      "6.56233627515979e-12\n",
      "6.5948222113814624e-12\n",
      "6.602724742752044e-12\n",
      "6.5932061521974975e-12\n",
      "6.631913271403357e-12\n",
      "6.580616309904989e-12\n",
      "6.584455972164725e-12\n",
      "6.6066484848124674e-12\n",
      "6.600467884021327e-12\n",
      "6.60115417761194e-12\n",
      "6.613532875846068e-12\n",
      "6.606092094869148e-12\n",
      "6.616706697756342e-12\n",
      "6.611462576261172e-12\n",
      "6.612212634042032e-12\n",
      "6.608056616493552e-12\n",
      "6.600515307479737e-12\n",
      "6.601788817892398e-12\n",
      "6.6034179924662375e-12\n",
      "6.619113336698921e-12\n",
      "6.605169394477525e-12\n",
      "6.598668946206259e-12\n",
      "6.616671961563445e-12\n",
      "6.602828742408581e-12\n",
      "6.609609898637243e-12\n",
      "6.590733218734596e-12\n",
      "6.603199488348382e-12\n",
      "6.616641675812487e-12\n",
      "6.603498885774718e-12\n",
      "6.6128776926936525e-12\n",
      "6.589759810335421e-12\n",
      "6.594300272670184e-12\n",
      "6.606228015525815e-12\n",
      "6.593190543566458e-12\n",
      "6.6067064411653425e-12\n",
      "6.607090111909992e-12\n",
      "6.606641691353699e-12\n",
      "6.604984522447734e-12\n",
      "6.600715779893707e-12\n",
      "6.6080317695819766e-12\n",
      "6.60726547355155e-12\n",
      "6.617950072229961e-12\n",
      "6.613821481925049e-12\n",
      "6.599147178451467e-12\n",
      "6.611159261940538e-12\n",
      "6.608312817771691e-12\n",
      "6.6044200213653884e-12\n",
      "6.609045201273665e-12\n",
      "6.599984176295067e-12\n",
      "6.600813420617926e-12\n",
      "6.608584865537037e-12\n",
      "6.604149206755765e-12\n",
      "6.6015863560995465e-12\n",
      "6.607022631252694e-12\n",
      "6.60377066990439e-12\n",
      "6.599688662191693e-12\n",
      "6.600883720110551e-12\n",
      "6.594484753370292e-12\n",
      "6.596857622658994e-12\n",
      "6.60699831935375e-12\n",
      "6.601492124873057e-12\n",
      "6.615248990103468e-12\n",
      "6.60290887217034e-12\n",
      "6.608235920651545e-12\n",
      "6.612195693631514e-12\n",
      "6.613827844023257e-12\n",
      "6.595340136953818e-12\n",
      "6.607677158360829e-12\n",
      "6.612601968097829e-12\n",
      "6.610672567182215e-12\n",
      "6.60461058386792e-12\n",
      "6.616136072616742e-12\n",
      "6.610049444067734e-12\n",
      "6.607063593849989e-12\n",
      "6.588037768008241e-12\n",
      "6.593292931821758e-12\n",
      "6.61118528279328e-12\n",
      "6.606766568197766e-12\n",
      "6.614933550068261e-12\n",
      "6.607746438464531e-12\n",
      "6.606319326836566e-12\n",
      "6.601078843547166e-12\n",
      "6.614753954709749e-12\n",
      "6.605290177841534e-12\n",
      "6.616629680025612e-12\n",
      "6.601632154281286e-12\n",
      "6.601870808599423e-12\n",
      "6.60266266579751e-12\n",
      "6.602105908516487e-12\n",
      "6.612527948012038e-12\n",
      "6.597221486283791e-12\n",
      "6.607537861702297e-12\n",
      "6.610451360584572e-12\n",
      "6.603230177680177e-12\n",
      "6.614863806620485e-12\n",
      "6.606864269508546e-12\n",
      "6.6090336644710925e-12\n",
      "6.60296037581713e-12\n",
      "6.597500439299478e-12\n",
      "6.603055170669838e-12\n",
      "6.60835888025239e-12\n",
      "6.6032886442188455e-12\n",
      "6.589369286639749e-12\n",
      "6.600899131545883e-12\n",
      "6.599524241092259e-12\n",
      "6.591605309948736e-12\n",
      "6.601703036955737e-12\n",
      "6.597345502787276e-12\n",
      "6.61072741726149e-12\n",
      "6.604714499104332e-12\n",
      "6.594475003751168e-12\n",
      "6.609338159338065e-12\n",
      "6.6083714461838455e-12\n",
      "6.612330534379433e-12\n",
      "6.620943990654819e-12\n",
      "6.602507611628868e-12\n",
      "6.614830535399111e-12\n",
      "6.601997874897124e-12\n",
      "6.602766958061355e-12\n",
      "6.608918182681363e-12\n",
      "6.61281212899572e-12\n",
      "6.605002318952716e-12\n",
      "6.595212915746845e-12\n",
      "6.612029063859018e-12\n",
      "6.592543596542594e-12\n",
      "6.607311681032686e-12\n",
      "6.613581592097411e-12\n",
      "6.604851910792875e-12\n",
      "6.601684295871061e-12\n",
      "6.6221146471076505e-12\n",
      "6.597802318231953e-12\n",
      "6.598948124051421e-12\n",
      "6.607524897382229e-12\n",
      "6.604327403791912e-12\n",
      "6.6128451227786675e-12\n",
      "6.598399750073007e-12\n",
      "6.598637171283439e-12\n",
      "6.602072225022372e-12\n",
      "6.608354105252875e-12\n",
      "6.59898690666031e-12\n",
      "6.59955379470706e-12\n",
      "6.601449593709859e-12\n",
      "6.605587733469536e-12\n",
      "6.618203518372474e-12\n",
      "6.596266969275851e-12\n",
      "6.597876979664234e-12\n",
      "6.607642572471124e-12\n",
      "6.599943748935958e-12\n",
      "6.608588339401552e-12\n",
      "6.6006076875010356e-12\n",
      "6.608478325014865e-12\n",
      "6.613911390555746e-12\n",
      "6.616149154790078e-12\n",
      "6.603479877804476e-12\n",
      "6.6096850853250545e-12\n",
      "6.6050088215646136e-12\n",
      "6.61554211254247e-12\n",
      "6.598076082828588e-12\n",
      "6.611782020808092e-12\n",
      "6.595490256157756e-12\n",
      "6.617290809707083e-12\n",
      "6.605642431155134e-12\n",
      "6.616828707983684e-12\n",
      "6.615245673610687e-12\n",
      "6.6077712622079795e-12\n",
      "6.608247910683239e-12\n",
      "6.5911432122758005e-12\n",
      "6.6023112651229084e-12\n",
      "6.600416212362171e-12\n",
      "6.59295428003341e-12\n",
      "6.595852230619363e-12\n",
      "6.6102433267922906e-12\n",
      "6.6059481523570494e-12\n",
      "6.608739280430771e-12\n",
      "6.61536693873709e-12\n",
      "6.6153258566416055e-12\n",
      "6.611764024729302e-12\n",
      "6.611515600898639e-12\n",
      "6.5991698796102604e-12\n",
      "6.5944797740714206e-12\n",
      "6.606961837416876e-12\n",
      "6.599538344445705e-12\n",
      "6.607879267086436e-12\n",
      "6.603080063743244e-12\n",
      "6.6011909081566e-12\n",
      "6.601882548858771e-12\n",
      "6.604674827273692e-12\n",
      "6.608758666999838e-12\n",
      "6.601330600257679e-12\n",
      "6.6016553097151645e-12\n",
      "6.60057682585122e-12\n",
      "6.596705496357639e-12\n",
      "6.600323975129222e-12\n",
      "6.612099903543059e-12\n",
      "6.603474715494915e-12\n",
      "6.6157681163306346e-12\n",
      "6.602432946063285e-12\n",
      "6.620930737715496e-12\n",
      "6.6129835152445796e-12\n",
      "6.601155977418234e-12\n",
      "6.597516638789682e-12\n",
      "6.604288079084954e-12\n",
      "6.609991665960507e-12\n",
      "6.59676857395087e-12\n",
      "6.597689061841771e-12\n",
      "6.613563736818932e-12\n",
      "6.604583267169288e-12\n",
      "6.5953369125745184e-12\n",
      "6.605740893865746e-12\n",
      "6.591324642954525e-12\n",
      "6.593377801427681e-12\n",
      "6.607722745394859e-12\n",
      "6.610387465104729e-12\n",
      "6.6173589260336754e-12\n",
      "6.620349130878312e-12\n",
      "6.610657087637183e-12\n",
      "6.611852571396297e-12\n",
      "6.613557231338473e-12\n",
      "6.593849469780667e-12\n",
      "6.603736640420875e-12\n",
      "6.594830616007908e-12\n",
      "6.612340545980536e-12\n",
      "6.602267421278248e-12\n",
      "6.610759844005531e-12\n",
      "6.6022253190291635e-12\n",
      "Converged to a solution.\n"
     ]
    }
   ],
   "source": [
    "solution = minimize(objective, initial_positions, args=(edges, weights),\n",
    "                    method='BFGS')\n",
    "\n",
    "# Check convergence status\n",
    "if solution.success:\n",
    "    print(\"Converged to a solution.\")\n",
    "else:\n",
    "    print(\"Failed to converge:\", solution.message)"
   ],
   "metadata": {
    "collapsed": false,
    "ExecuteTime": {
     "end_time": "2024-04-01T17:16:32.535162Z",
     "start_time": "2024-04-01T17:15:07.062962Z"
    }
   },
   "id": "9c91d1502eb0f96d",
   "execution_count": 21
  },
  {
   "cell_type": "code",
   "outputs": [],
   "source": [
    "solution_attempt = solution.x.reshape(-1, 3)  # Reshape to 2D array"
   ],
   "metadata": {
    "collapsed": false,
    "ExecuteTime": {
     "end_time": "2024-04-01T17:20:57.281115Z",
     "start_time": "2024-04-01T17:20:57.229764Z"
    }
   },
   "id": "e66654b8d5b1b38f",
   "execution_count": 27
  },
  {
   "cell_type": "markdown",
   "source": [
    "## Molecules"
   ],
   "metadata": {
    "collapsed": false
   },
   "id": "1ca00f8de14d570c"
  },
  {
   "cell_type": "code",
   "outputs": [],
   "source": [
    "if is_molecule:\n",
    "    # Get the position of each atom in direct coordinates\n",
    "    #direct_positions = graph_to_cartesian_positions(graph)\n",
    "    #cartesian_positions = solution.x.reshape(-1, 3)*mw\n",
    "    #cartesian_positions = solution.x.reshape(-1, 3)\n",
    "    \n",
    "    lattice_vectors     = np.array([[10, 0,   0],\n",
    "                                    [0,   10, 0],\n",
    "                                    [0,   0,   10]])\n",
    "    cartesian_positions = solution_attempt"
   ],
   "metadata": {
    "collapsed": false
   },
   "id": "1294ddc76b5add42"
  },
  {
   "cell_type": "markdown",
   "source": [
    "## Crystals"
   ],
   "metadata": {
    "collapsed": false
   },
   "id": "53691e2538879cc5"
  },
  {
   "cell_type": "code",
   "outputs": [],
   "source": [
    "if not is_molecule:\n",
    "    # Get the position of each atom in direct coordinates\n",
    "    #direct_positions = graph_to_cartesian_positions(graph)\n",
    "    #cartesian_positions = solution.x.reshape(-1, 3)*mw\n",
    "    \n",
    "    lattice_vectors     = solution_attempt[:3]\n",
    "    cartesian_positions = solution_attempt[3:]"
   ],
   "metadata": {
    "collapsed": false,
    "ExecuteTime": {
     "end_time": "2024-04-01T17:21:03.879680Z",
     "start_time": "2024-04-01T17:21:03.814404Z"
    }
   },
   "id": "ac0e5e3aaf92f07d",
   "execution_count": 28
  },
  {
   "cell_type": "code",
   "outputs": [],
   "source": [
    "POSCAR_name = None\n",
    "\n",
    "# Get name for the first line of the POSCAR\n",
    "POSCAR_name = POSCAR_name or 'POSCAR from GenerativeModels'\n",
    "\n",
    "# Clone the input graph to preserve the original structure\n",
    "new_graph = temp.clone()\n",
    "\n",
    "# Load and detach embeddings for the graph nodes\n",
    "data_embeddings = new_graph.x.detach().cpu().numpy()\n",
    "\n",
    "# Loading dictionary of available embeddings for atoms\n",
    "available_embeddings = {}\n",
    "with open('../VASP/atomic_masses.dat', 'r') as atomic_masses_file:\n",
    "    for line in atomic_masses_file:\n",
    "        key, mass, charge, electronegativity, ionization_energy = line.split()\n",
    "\n",
    "        # Check if all information is present\n",
    "        if all(val != 'None' for val in (mass, charge, electronegativity, ionization_energy)):\n",
    "            available_embeddings[key] = np.array([mass, charge, electronegativity, ionization_energy], dtype=float)\n",
    "\n",
    "# Get most similar atoms for each graph node and create a list of keys\n",
    "keys = [find_closest_key(available_embeddings, emb) for emb in data_embeddings]\n",
    "\n",
    "# Get elements' composition, concentration, and positions\n",
    "POSCAR_composition, POSCAR_concentration, POSCAR_positions = composition_concentration_from_keys(keys, cartesian_positions)"
   ],
   "metadata": {
    "collapsed": false,
    "ExecuteTime": {
     "end_time": "2024-04-01T17:21:11.480296Z",
     "start_time": "2024-04-01T17:21:11.398238Z"
    }
   },
   "id": "5f779bd46fd1c88b",
   "execution_count": 31
  },
  {
   "cell_type": "code",
   "outputs": [],
   "source": [
    "# Write file\n",
    "with open('CONTCAR', 'w') as POSCAR_file:\n",
    "    # Delete previous data in the file\n",
    "    POSCAR_file.truncate()\n",
    "    \n",
    "    # Write POSCAR's name\n",
    "    POSCAR_file.write(f'{POSCAR_name}\\n')\n",
    "\n",
    "    # Write scaling factor (assumed to be 1.0)\n",
    "    POSCAR_file.write('1.0\\n')\n",
    "\n",
    "    # Write lattice parameters (assumed to be orthogonal)\n",
    "    np.savetxt(POSCAR_file, lattice_vectors, delimiter=' ')\n",
    "\n",
    "    # Write composition (each different species, previously sorted)\n",
    "    np.savetxt(POSCAR_file, [POSCAR_composition], fmt='%s', delimiter=' ')\n",
    "\n",
    "    # Write concentration (number of each of the previous elements)\n",
    "    np.savetxt(POSCAR_file, [POSCAR_concentration], fmt='%d', delimiter=' ')\n",
    "\n",
    "    # Write position in cartesian form\n",
    "    POSCAR_file.write('Cartesian\\n')\n",
    "    np.savetxt(POSCAR_file, POSCAR_positions, delimiter=' ')"
   ],
   "metadata": {
    "collapsed": false,
    "ExecuteTime": {
     "end_time": "2024-04-01T17:21:12.112939Z",
     "start_time": "2024-04-01T17:21:12.084336Z"
    }
   },
   "id": "f809aa30616ac841",
   "execution_count": 32
  }
 ],
 "metadata": {
  "kernelspec": {
   "display_name": "Python 3 (ipykernel)",
   "language": "python",
   "name": "python3"
  },
  "language_info": {
   "codemirror_mode": {
    "name": "ipython",
    "version": 3
   },
   "file_extension": ".py",
   "mimetype": "text/x-python",
   "name": "python",
   "nbconvert_exporter": "python",
   "pygments_lexer": "ipython3",
   "version": "3.11.1"
  }
 },
 "nbformat": 4,
 "nbformat_minor": 5
}
