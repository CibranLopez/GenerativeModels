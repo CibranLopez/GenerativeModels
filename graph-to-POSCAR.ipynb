{
 "cells": [
  {
   "cell_type": "code",
   "execution_count": 1,
   "id": "6a69f99f",
   "metadata": {
    "ExecuteTime": {
     "end_time": "2024-04-30T08:04:04.063930053Z",
     "start_time": "2024-04-30T08:04:00.850037323Z"
    }
   },
   "outputs": [],
   "source": [
    "import numpy as np\n",
    "import torch\n",
    "\n",
    "from scipy.optimize       import minimize\n",
    "from libraries.graph      import graph_POSCAR_encoding, find_closest_key, composition_concentration_from_keys\n",
    "from torch_geometric.data import Data\n",
    "from pymatgen.core        import Structure"
   ]
  },
  {
   "cell_type": "markdown",
   "id": "d156edb5",
   "metadata": {},
   "source": [
    "# Graph embedding"
   ]
  },
  {
   "cell_type": "code",
   "execution_count": 2,
   "id": "8f2fc7cd",
   "metadata": {
    "ExecuteTime": {
     "end_time": "2024-04-30T08:04:05.331023921Z",
     "start_time": "2024-04-30T08:04:04.064512223Z"
    }
   },
   "outputs": [
    {
     "data": {
      "text/plain": "Data(x=[12, 4], edge_index=[2, 116], edge_attr=[116], y=[1])"
     },
     "execution_count": 2,
     "metadata": {},
     "output_type": "execute_result"
    }
   ],
   "source": [
    "distance_threshold = 5\n",
    "y = 1\n",
    "\n",
    "# Whether to care about lattice vectors or not\n",
    "is_molecule = False\n",
    "\n",
    "structure = Structure.from_file('POSCAR')\n",
    "\n",
    "nodes, edges, attributes = graph_POSCAR_encoding(structure,\n",
    "                                                 distance_threshold=distance_threshold,\n",
    "                                                 encoding_type='sphere-images')\n",
    "temp = Data(x=nodes,\n",
    "            edge_index=edges.t().contiguous(),\n",
    "            edge_attr=attributes.flatten(),\n",
    "            y=torch.tensor([y], dtype=torch.float)\n",
    "           )\n",
    "temp"
   ]
  },
  {
   "cell_type": "code",
   "execution_count": 3,
   "id": "76948902b363d0e1",
   "metadata": {
    "ExecuteTime": {
     "end_time": "2024-04-30T08:04:05.332009889Z",
     "start_time": "2024-04-30T08:04:05.312576564Z"
    }
   },
   "outputs": [],
   "source": [
    "edges   = temp.edge_index.detach().cpu().numpy().T\n",
    "weights = temp.edge_attr.detach().cpu().numpy()"
   ]
  },
  {
   "cell_type": "code",
   "execution_count": 4,
   "id": "af8c1c6539c7318d",
   "metadata": {
    "ExecuteTime": {
     "end_time": "2024-04-30T08:04:05.332847987Z",
     "start_time": "2024-04-30T08:04:05.319626241Z"
    }
   },
   "outputs": [],
   "source": [
    "coordinates = []\n",
    "for s in structure:\n",
    "    coordinates.append(s.coords)\n",
    "coordinates = np.array(coordinates)"
   ]
  },
  {
   "cell_type": "code",
   "outputs": [
    {
     "data": {
      "text/plain": "array([[4.09533151e+00, 0.00000000e+00, 3.00000000e-16],\n       [1.00000000e-15, 8.61134159e+00, 5.00000000e-16],\n       [0.00000000e+00, 0.00000000e+00, 1.04710589e+01]])"
     },
     "execution_count": 5,
     "metadata": {},
     "output_type": "execute_result"
    }
   ],
   "source": [
    "lattice_vectors = structure.lattice.matrix\n",
    "lattice_vectors"
   ],
   "metadata": {
    "ExecuteTime": {
     "end_time": "2024-04-30T08:04:05.372203356Z",
     "start_time": "2024-04-30T08:04:05.326467642Z"
    }
   },
   "id": "4918c25dd40e5c1b",
   "execution_count": 5
  },
  {
   "cell_type": "code",
   "outputs": [],
   "source": [
    "def worst_identification(edges, attributes, solution_attempt):\n",
    "    solution_attempt = solution_attempt.reshape(-1, 3)  # Reshape to 2D array\n",
    "    \n",
    "    lattice_vectors = solution_attempt[:3]\n",
    "    positions       = solution_attempt[3:]\n",
    "    \n",
    "    particle_errors = []\n",
    "    for particle in np.unique(edges):\n",
    "        # Get those edge indexes where particle has a connection\n",
    "        particle_connections = np.where((edges[:, 0] == particle) | (edges[:, 1] == particle))\n",
    "\n",
    "        particle_error = 0\n",
    "        for idx in particle_connections[0]:\n",
    "            # Load indexes in edge\n",
    "            edge = edges[idx]\n",
    "            \n",
    "            # Load expected attribute\n",
    "            p1 = positions[edge[0]]\n",
    "            p2 = positions[edge[1]]\n",
    "\n",
    "            # Load reference attribute\n",
    "            weight = attributes[idx].item()\n",
    "            \n",
    "            trial_errors = [] \n",
    "            for i in [-1, 0, 1]:\n",
    "                for j in [-1, 0, 1]:\n",
    "                    for k in [-1, 0, 1]:\n",
    "                        # i*lattice_vectors[0] + j*lattice_vectors[1] + k*lattice_vectors[2]\n",
    "                        ijk_lattice_vectors = np.sum([i, j, k] * lattice_vectors.T, axis=1)\n",
    "                        \n",
    "                        # Compute error\n",
    "                        distance = np.linalg.norm(p2 - p1 + ijk_lattice_vectors)\n",
    "                        \n",
    "                        # Apend to trial errors for differente atom images\n",
    "                        trial_errors.append(np.power(distance - weight, 2))\n",
    "            \n",
    "            # Add error\n",
    "            particle_error += np.linalg.norm(np.min(trial_errors) - weight)\n",
    "\n",
    "        # Average over the connection of the node\n",
    "        particle_error /= len(particle_connections[0])\n",
    "\n",
    "        # Append particle error\n",
    "        particle_errors.append(particle_error)\n",
    "    \n",
    "    return np.argmax(particle_errors), np.max(particle_errors)"
   ],
   "metadata": {
    "ExecuteTime": {
     "end_time": "2024-04-30T08:04:05.444234616Z",
     "start_time": "2024-04-30T08:04:05.338040043Z"
    }
   },
   "id": "5959b6d1",
   "execution_count": 6
  },
  {
   "cell_type": "markdown",
   "source": [
    "## Molecules"
   ],
   "metadata": {},
   "id": "459520a6245d5379"
  },
  {
   "cell_type": "code",
   "outputs": [],
   "source": [
    "if is_molecule:\n",
    "    # Initial guess for the positions\n",
    "    solution = np.random.rand(len(nodes) * 3)  # Initialize all points at origin, 1D array\n",
    "    #solution = coordinates.reshape(-1, 1).ravel()\n",
    "    \n",
    "    # Function to calculate the squared difference between distances and weights\n",
    "    def objective(solution_attempt, edges, weights):\n",
    "        positions = solution_attempt.reshape(-1, 3)  # Reshape to 2D array\n",
    "        errors = 0\n",
    "        for edge, weight in zip(edges, weights):\n",
    "            p1 = positions[edge[0]]\n",
    "            p2 = positions[edge[1]]\n",
    "            distance = np.linalg.norm(p2 - p1)\n",
    "            errors += np.power(distance - weight, 2)\n",
    "        print(errors)\n",
    "        return errors"
   ],
   "metadata": {
    "ExecuteTime": {
     "end_time": "2024-04-30T08:04:05.445106951Z",
     "start_time": "2024-04-30T08:04:05.390126790Z"
    }
   },
   "id": "c6f554e2959ecedf",
   "execution_count": 7
  },
  {
   "cell_type": "markdown",
   "source": [
    "## Crystals"
   ],
   "metadata": {},
   "id": "af2bf9b41a9d0ac7"
  },
  {
   "cell_type": "code",
   "outputs": [],
   "source": [
    "if not is_molecule:\n",
    "    # Initial guess for the lattice parameters\n",
    "    lattice_vectors = np.array([[10, 0,   0],\n",
    "                                [0,   10, 0],\n",
    "                                [0,   0,   10]])\n",
    "    \n",
    "    # Initial guess for the positions\n",
    "    initial_positions = np.random.rand(len(nodes) * 3)  # Initialize all points at origin, 1D array\n",
    "    #initial_positions = coordinates.reshape(-1, 1).ravel()\n",
    "    solution = np.concatenate([lattice_vectors.ravel(), initial_positions])\n",
    "    \n",
    "    # Function to calculate the squared difference between distances and weights\n",
    "    def objective(solution_attempt, edges, weights):\n",
    "        solution_attempt = solution_attempt.reshape(-1, 3)  # Reshape to 2D array\n",
    "        \n",
    "        lattice_vectors = solution_attempt[:3]\n",
    "        positions       = solution_attempt[3:]\n",
    "        \n",
    "        errors = 0\n",
    "        for edge, weight in zip(edges, weights):\n",
    "            p1 = positions[edge[0]]\n",
    "            p2 = positions[edge[1]]\n",
    "            \n",
    "            trial_errors = [] \n",
    "            for i in [-1, 0, 1]:\n",
    "                for j in [-1, 0, 1]:\n",
    "                    for k in [-1, 0, 1]:\n",
    "                        # i*lattice_vectors[0] + j*lattice_vectors[1] + k*lattice_vectors[2]\n",
    "                        ijk_lattice_vectors = np.sum([i, j, k] * lattice_vectors.T, axis=1)\n",
    "                        \n",
    "                        # Compute error\n",
    "                        distance = np.linalg.norm(p2 - p1 + ijk_lattice_vectors)\n",
    "                        \n",
    "                        # Apend to trial errors for differente atom images\n",
    "                        trial_errors.append(np.power(distance - weight, 2))\n",
    "            errors += np.min(trial_errors)\n",
    "        return errors"
   ],
   "metadata": {
    "ExecuteTime": {
     "end_time": "2024-04-30T08:04:05.445859487Z",
     "start_time": "2024-04-30T08:04:05.390281316Z"
    }
   },
   "id": "b5de1e75c159c4e",
   "execution_count": 8
  },
  {
   "cell_type": "code",
   "execution_count": null,
   "id": "9c91d1502eb0f96d",
   "metadata": {
    "scrolled": true,
    "is_executing": true,
    "ExecuteTime": {
     "start_time": "2024-04-30T08:04:21.212992890Z"
    }
   },
   "outputs": [
    {
     "name": "stdout",
     "output_type": "stream",
     "text": [
      "\n",
      "Attempt 0\n",
      "Total: 2.76485275709325 and local 4.00137443109645 errors\n",
      "\n",
      "Attempt 1\n",
      "Total: 2.2341035897184343 and local 3.994024370607576 errors\n",
      "\n",
      "Attempt 2\n",
      "Total: 1.4450496354266011 and local 3.9985553794376756 errors\n",
      "\n",
      "Attempt 3\n",
      "Total: 0.12861284619340496 and local 4.009931885829582 errors\n",
      "\n",
      "Attempt 4\n",
      "Total: 0.14391460204700537 and local 4.010071225282052 errors\n",
      "\n",
      "Attempt 5\n",
      "Total: 0.1462723285002639 and local 4.0099647181418305 errors\n",
      "\n",
      "Attempt 6\n",
      "Total: 0.12782108845383724 and local 4.009940843052882 errors\n",
      "\n",
      "Attempt 7\n",
      "Total: 0.12371454152753633 and local 4.0100321058775625 errors\n",
      "\n",
      "Attempt 8\n",
      "Total: 0.23753218700440842 and local 4.0083727993244445 errors\n",
      "\n",
      "Attempt 9\n",
      "Total: 0.20042472803160163 and local 4.0101934726714275 errors\n",
      "\n",
      "Attempt 10\n",
      "Total: 0.15054911572645707 and local 4.0098226247710675 errors\n",
      "\n",
      "Attempt 11\n",
      "Total: 0.12244850747818584 and local 4.01012655985725 errors\n",
      "\n",
      "Attempt 12\n",
      "Total: 0.10184039894321083 and local 4.010238767136587 errors\n",
      "\n",
      "Attempt 13\n",
      "Total: 0.06745782579445662 and local 4.010364335968326 errors\n",
      "\n",
      "Attempt 14\n",
      "Total: 0.13855000524222238 and local 4.009696655913952 errors\n",
      "\n",
      "Attempt 15\n",
      "Total: 0.1312010001745796 and local 4.010214380970121 errors\n",
      "\n",
      "Attempt 16\n",
      "Total: 0.21723033248741966 and local 4.009571484202492 errors\n",
      "\n",
      "Attempt 17\n",
      "Total: 0.09114603519604556 and local 4.009972438168045 errors\n",
      "\n",
      "Attempt 18\n",
      "Total: 0.08470884985632995 and local 4.010003962686426 errors\n",
      "\n",
      "Attempt 19\n",
      "Total: 0.051999414182721276 and local 4.010159204496031 errors\n",
      "\n",
      "Attempt 20\n",
      "Total: 0.05199786484538153 and local 4.010155970633502 errors\n",
      "\n",
      "Attempt 21\n",
      "Total: 0.08610662222048537 and local 4.010111597823613 errors\n",
      "\n",
      "Attempt 22\n",
      "Total: 0.11626697215928017 and local 4.010041653431108 errors\n",
      "\n",
      "Attempt 23\n",
      "Total: 0.07728356926780604 and local 4.010027163625198 errors\n",
      "\n",
      "Attempt 24\n",
      "Total: 0.10362328890161689 and local 4.010360812584455 errors\n",
      "\n",
      "Attempt 25\n",
      "Total: 0.09383957625749492 and local 4.010483153123776 errors\n",
      "\n",
      "Attempt 26\n",
      "Total: 0.035024506405215566 and local 4.010455174843838 errors\n",
      "\n",
      "Attempt 27\n",
      "Total: 0.0800409266016849 and local 4.010269751383422 errors\n",
      "\n",
      "Attempt 28\n",
      "Total: 0.05212517600577456 and local 4.01031865592952 errors\n",
      "\n",
      "Attempt 29\n",
      "Total: 0.058844588688217216 and local 4.010285979736994 errors\n",
      "\n",
      "Attempt 30\n"
     ]
    }
   ],
   "source": [
    "error_threshold = 1e-5\n",
    "\n",
    "for attempt in range(100):\n",
    "    print()\n",
    "    print(f'Attempt {attempt}')\n",
    "    solution = minimize(objective, solution,\n",
    "                        args=(edges, weights),\n",
    "                        method='Powell')\n",
    "    \n",
    "    is_success       = solution.success\n",
    "    solution_message = solution.message\n",
    "    worst_particle, worst_error = worst_identification(edges, attributes, solution.x)\n",
    "    \n",
    "    attempt_error = objective(solution.x, edges, weights)\n",
    "    print(f'Total: {attempt_error} and local {worst_error} errors')\n",
    "    \n",
    "    if attempt_error < error_threshold:\n",
    "        break\n",
    "    \n",
    "    solution = solution.x.reshape(-1, 3)  # Reshape to 2D array\n",
    "    \n",
    "    # Re-initialize that position\n",
    "    solution[worst_particle+3] = np.random.rand(3)\n",
    "    \n",
    "    solution = solution.flatten()\n",
    "\n",
    "# Check convergence status\n",
    "if is_success:\n",
    "    print('Converged to a solution.')\n",
    "else:\n",
    "    print(f'Failed to converge: {solution_message}')"
   ]
  },
  {
   "cell_type": "code",
   "outputs": [],
   "source": [
    "solution = solution.reshape(-1, 3)"
   ],
   "metadata": {
    "collapsed": false,
    "is_executing": true
   },
   "id": "8635ff4fc37bfc69",
   "execution_count": null
  },
  {
   "cell_type": "markdown",
   "id": "1ca00f8de14d570c",
   "metadata": {},
   "source": [
    "## Molecules"
   ]
  },
  {
   "cell_type": "code",
   "execution_count": null,
   "id": "1294ddc76b5add42",
   "metadata": {
    "is_executing": true
   },
   "outputs": [],
   "source": [
    "if is_molecule:\n",
    "    # Get the position of each atom in direct coordinates\n",
    "    #direct_positions = graph_to_cartesian_positions(graph)\n",
    "    #cartesian_positions = solution.x.reshape(-1, 3)*mw\n",
    "    #cartesian_positions = solution.x.reshape(-1, 3)\n",
    "    \n",
    "    lattice_vectors     = np.array([[10, 0,   0],\n",
    "                                    [0,   10, 0],\n",
    "                                    [0,   0,   10]])\n",
    "    cartesian_positions = solution"
   ]
  },
  {
   "cell_type": "markdown",
   "id": "53691e2538879cc5",
   "metadata": {},
   "source": [
    "## Crystals"
   ]
  },
  {
   "cell_type": "code",
   "execution_count": null,
   "id": "ac0e5e3aaf92f07d",
   "metadata": {
    "is_executing": true
   },
   "outputs": [],
   "source": [
    "if not is_molecule:\n",
    "    # Get the position of each atom in direct coordinates\n",
    "    #direct_positions = graph_to_cartesian_positions(graph)\n",
    "    #cartesian_positions = solution.x.reshape(-1, 3)*mw\n",
    "    \n",
    "    lattice_vectors     = solution[:3]\n",
    "    cartesian_positions = solution[3:]"
   ]
  },
  {
   "cell_type": "code",
   "execution_count": null,
   "id": "5f779bd46fd1c88b",
   "metadata": {
    "is_executing": true
   },
   "outputs": [],
   "source": [
    "POSCAR_name = None\n",
    "\n",
    "# Get name for the first line of the POSCAR\n",
    "POSCAR_name = POSCAR_name or 'POSCAR from GenerativeModels'\n",
    "\n",
    "# Clone the input graph to preserve the original structure\n",
    "new_graph = temp.clone()\n",
    "\n",
    "# Load and detach embeddings for the graph nodes\n",
    "data_embeddings = new_graph.x.detach().cpu().numpy()\n",
    "\n",
    "# Loading dictionary of available embeddings for atoms\n",
    "available_embeddings = {}\n",
    "with open('../VASP/atomic_masses.dat', 'r') as atomic_masses_file:\n",
    "    for line in atomic_masses_file:\n",
    "        key, mass, charge, electronegativity, ionization_energy = line.split()\n",
    "\n",
    "        # Check if all information is present\n",
    "        if all(val != 'None' for val in (mass, charge, electronegativity, ionization_energy)):\n",
    "            available_embeddings[key] = np.array([mass, charge, electronegativity, ionization_energy], dtype=float)\n",
    "\n",
    "# Get most similar atoms for each graph node and create a list of keys\n",
    "keys = [find_closest_key(available_embeddings, emb) for emb in data_embeddings]\n",
    "\n",
    "# Get elements' composition, concentration, and positions\n",
    "POSCAR_composition, POSCAR_concentration, POSCAR_positions = composition_concentration_from_keys(keys, cartesian_positions)"
   ]
  },
  {
   "cell_type": "code",
   "execution_count": null,
   "id": "f809aa30616ac841",
   "metadata": {
    "is_executing": true
   },
   "outputs": [],
   "source": [
    "# Write file\n",
    "with open('CONTCAR', 'w') as POSCAR_file:\n",
    "    # Delete previous data in the file\n",
    "    POSCAR_file.truncate()\n",
    "    \n",
    "    # Write POSCAR's name\n",
    "    POSCAR_file.write(f'{POSCAR_name}\\n')\n",
    "\n",
    "    # Write scaling factor (assumed to be 1.0)\n",
    "    POSCAR_file.write('1.0\\n')\n",
    "\n",
    "    # Write lattice parameters (assumed to be orthogonal)\n",
    "    np.savetxt(POSCAR_file, lattice_vectors, delimiter=' ')\n",
    "\n",
    "    # Write composition (each different species, previously sorted)\n",
    "    np.savetxt(POSCAR_file, [POSCAR_composition], fmt='%s', delimiter=' ')\n",
    "\n",
    "    # Write concentration (number of each of the previous elements)\n",
    "    np.savetxt(POSCAR_file, [POSCAR_concentration], fmt='%d', delimiter=' ')\n",
    "\n",
    "    # Write position in cartesian form\n",
    "    POSCAR_file.write('Cartesian\\n')\n",
    "    np.savetxt(POSCAR_file, POSCAR_positions, delimiter=' ')"
   ]
  }
 ],
 "metadata": {
  "kernelspec": {
   "display_name": "Python 3 (ipykernel)",
   "language": "python",
   "name": "python3"
  },
  "language_info": {
   "codemirror_mode": {
    "name": "ipython",
    "version": 3
   },
   "file_extension": ".py",
   "mimetype": "text/x-python",
   "name": "python",
   "nbconvert_exporter": "python",
   "pygments_lexer": "ipython3",
   "version": "3.11.1"
  }
 },
 "nbformat": 4,
 "nbformat_minor": 5
}
