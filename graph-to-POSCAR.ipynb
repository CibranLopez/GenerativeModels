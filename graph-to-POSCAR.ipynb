{
 "cells": [
  {
   "cell_type": "code",
   "execution_count": 1,
   "id": "6a69f99f",
   "metadata": {
    "ExecuteTime": {
     "end_time": "2024-03-20T10:55:11.424554Z",
     "start_time": "2024-03-20T10:55:02.871433Z"
    }
   },
   "outputs": [],
   "source": [
    "import numpy as np\n",
    "import torch\n",
    "import sys\n",
    "\n",
    "from libraries.graph      import graph_POSCAR_encoding\n",
    "from torch_geometric.data import Data\n",
    "from pymatgen.core        import Structure"
   ]
  },
  {
   "cell_type": "markdown",
   "id": "d156edb5",
   "metadata": {},
   "source": [
    "# Graph embedding"
   ]
  },
  {
   "cell_type": "code",
   "execution_count": 2,
   "id": "8f2fc7cd",
   "metadata": {
    "ExecuteTime": {
     "end_time": "2024-03-20T10:55:15.997036Z",
     "start_time": "2024-03-20T10:55:11.434800Z"
    }
   },
   "outputs": [
    {
     "data": {
      "text/plain": "Data(x=[32, 4], edge_index=[2, 313], edge_attr=[313], y=[1])"
     },
     "execution_count": 2,
     "metadata": {},
     "output_type": "execute_result"
    }
   ],
   "source": [
    "distance_threshold = 5\n",
    "y = 1\n",
    "\n",
    "structure = Structure.from_file('POSCAR')\n",
    "\n",
    "nodes, edges, attributes = graph_POSCAR_encoding(structure,\n",
    "                                                 distance_threshold=distance_threshold,\n",
    "                                                 encoding_type='sphere-images')\n",
    "#attributes = attributes * 100\n",
    "temp = Data(x=nodes,\n",
    "            edge_index=edges.t().contiguous(),\n",
    "            edge_attr=attributes.flatten(),\n",
    "            y=torch.tensor([y], dtype=torch.float)\n",
    "           )\n",
    "temp"
   ]
  },
  {
   "cell_type": "code",
   "execution_count": 5,
   "id": "8c37422e",
   "metadata": {
    "ExecuteTime": {
     "end_time": "2024-03-20T10:57:30.273506Z",
     "start_time": "2024-03-20T10:57:30.133443Z"
    }
   },
   "outputs": [],
   "source": [
    "def allocate_atom_4n(P1, P2, P3, P4, r1, r2, r3, r4):\n",
    "    # Calculate vector representations of the reference points\n",
    "    p1 = np.array([0, 0, 0])\n",
    "    p2 = np.array([P2[0] - P1[0], P2[1] - P1[1], P2[2] - P1[2]])\n",
    "    p3 = np.array([P3[0] - P1[0], P3[1] - P1[1], P3[2] - P1[2]])\n",
    "\n",
    "    # Calculate vectors representing the directions from the first reference point\n",
    "    # to the second and third reference points\n",
    "    v1 = p2 - p1\n",
    "    v2 = p3 - p1\n",
    "\n",
    "    # Calculate unit vectors in the Xn, Yn, and Zn directions\n",
    "    Xn = v1 / np.linalg.norm(v1)\n",
    "    tmp = np.cross(v1, v2)\n",
    "    Zn = tmp / np.linalg.norm(tmp)\n",
    "    Yn = np.cross(Xn, Zn)\n",
    "\n",
    "    # Calculate dot products and distances\n",
    "    i = np.dot(Xn, v2)\n",
    "    d = np.dot(Xn, v1)\n",
    "    j = np.dot(Yn, v2)\n",
    "\n",
    "    # Calculate coordinates of the unknown point in two possible solutions\n",
    "    X = (np.power(r1, 2) - np.power(r2, 2) + np.power(d, 2)) / (2 * d)\n",
    "    Y = (np.power(r1, 2) - np.power(r3, 2) + np.power(i, 2) + np.power(j, 2)) / (2 * j) - X * i / j    \n",
    "    Z1 = np.sqrt(max(0, np.power(r1, 2) - np.power(X, 2) - np.power(Y, 2)))\n",
    "    Z2 = -Z1\n",
    "\n",
    "    # Calculate the coordinates of the unknown point for both solutions\n",
    "    K1 = P1 + X * Xn + Y * Yn + Z1 * Zn\n",
    "    K2 = P1 + X * Xn + Y * Yn + Z2 * Zn\n",
    "    \n",
    "    fourth_threshold = 1e-4\n",
    "    \n",
    "    if np.abs(np.linalg.norm(K1 - P4) - r4) < fourth_threshold:\n",
    "        return K1\n",
    "    elif np.abs(np.linalg.norm(K2 - P4) - r4) < fourth_threshold:\n",
    "        return K2\n",
    "    return None\n",
    "\n",
    "\n",
    "def allocate_atom_3n(P1, P2, P3, r1, r2, r3):\n",
    "    # Calculate vector representations of the reference points\n",
    "    p1 = np.array([0, 0, 0])\n",
    "    p2 = np.array([P2[0] - P1[0], P2[1] - P1[1], P2[2] - P1[2]])\n",
    "    p3 = np.array([P3[0] - P1[0], P3[1] - P1[1], P3[2] - P1[2]])\n",
    "\n",
    "    # Calculate vectors representing the directions from the first reference point\n",
    "    # to the second and third reference points\n",
    "    v1 = p2 - p1\n",
    "    v2 = p3 - p1\n",
    "\n",
    "    # Calculate unit vectors in the Xn, Yn, and Zn directions\n",
    "    Xn = v1 / np.linalg.norm(v1)\n",
    "    tmp = np.cross(v1, v2)\n",
    "    Zn = tmp / np.linalg.norm(tmp)\n",
    "    Yn = np.cross(Xn, Zn)\n",
    "\n",
    "    # Calculate dot products and distances\n",
    "    i = np.dot(Xn, v2)\n",
    "    d = np.dot(Xn, v1)\n",
    "    j = np.dot(Yn, v2)\n",
    "\n",
    "    # Calculate coordinates of the unknown point in two possible solutions\n",
    "    X = (np.power(r1, 2) - np.power(r2, 2) + np.power(d, 2)) / (2 * d)\n",
    "    Y = (np.power(r1, 2) - np.power(r3, 2) + np.power(i, 2) + np.power(j, 2)) / (2 * j) - X * i / j\n",
    "    Z1_square = np.power(r1, 2) - np.power(X, 2) - np.power(Y, 2)\n",
    "    \n",
    "    if Z1_square < -1e-4:\n",
    "        return None\n",
    "    \n",
    "    Z1 = np.sqrt(max(0, Z1_square))\n",
    "    #Z2 = -Z1\n",
    "\n",
    "    # Calculate the coordinates of the unknown point for both solutions\n",
    "    K1 = P1 + X * Xn + Y * Yn + Z1 * Zn\n",
    "    #K2 = P1 + X * Xn + Y * Yn + Z2 * Zn\n",
    "    return K1"
   ]
  },
  {
   "cell_type": "code",
   "execution_count": 6,
   "id": "00506b1e",
   "metadata": {
    "ExecuteTime": {
     "end_time": "2024-03-20T10:57:30.868193Z",
     "start_time": "2024-03-20T10:57:30.749462Z"
    }
   },
   "outputs": [],
   "source": [
    "def get_n_connected(idx_0, cartesian_positions, edge_indexes, edge_attributes):\n",
    "    n_connected = 0\n",
    "    idx_connected = []\n",
    "    for idx_t in list(cartesian_positions.keys()):\n",
    "        if get_distance_attribute(idx_0, idx_t, edge_indexes, edge_attributes) is not None:\n",
    "            n_connected += 1\n",
    "            idx_connected.append(idx_t)\n",
    "    \n",
    "    return n_connected, idx_connected\n",
    "\n",
    "\n",
    "def are_4_points_collinear(point1, point2, point3, point4, ratio_threshold=1e-3):\n",
    "    # Calculate vectors formed by the points\n",
    "    vector1 = [(point2[i] - point1[i]) for i in range(3)]\n",
    "    vector2 = [(point3[i] - point2[i]) for i in range(3)]\n",
    "    vector3 = [(point4[i] - point3[i]) for i in range(3)]\n",
    "\n",
    "    # Calculate cross products\n",
    "    cross_product1 = [\n",
    "        vector1[1] * vector2[2] - vector1[2] * vector2[1],\n",
    "        vector1[2] * vector2[0] - vector1[0] * vector2[2],\n",
    "        vector1[0] * vector2[1] - vector1[1] * vector2[0]\n",
    "    ]\n",
    "\n",
    "    cross_product2 = [\n",
    "        vector2[1] * vector3[2] - vector2[2] * vector3[1],\n",
    "        vector2[2] * vector3[0] - vector2[0] * vector3[2],\n",
    "        vector2[0] * vector3[1] - vector2[1] * vector3[0]\n",
    "    ]\n",
    "\n",
    "    # Check if the cross products are proportional\n",
    "    for i in range(3):\n",
    "        if cross_product2[i] != 0:\n",
    "            ratio = np.abs(cross_product1[i] / cross_product2[i])\n",
    "            if ratio > ratio_threshold:\n",
    "                return False\n",
    "\n",
    "    return True\n",
    "\n",
    "\n",
    "def are_3_points_collinear(point1, point2, point3, ratio_threshold=1e-3):\n",
    "    # Calculate vectors formed by the points\n",
    "    vector1 = [(point2[i] - point1[i]) for i in range(3)]\n",
    "    vector2 = [(point3[i] - point2[i]) for i in range(3)]\n",
    "\n",
    "    # Calculate cross product\n",
    "    cross_product = [\n",
    "        vector1[1] * vector2[2] - vector1[2] * vector2[1],\n",
    "        vector1[2] * vector2[0] - vector1[0] * vector2[2],\n",
    "        vector1[0] * vector2[1] - vector1[1] * vector2[0]\n",
    "    ]\n",
    "\n",
    "    # Check if the cross product is zero\n",
    "    return all(component < ratio_threshold for component in cross_product)\n",
    "\n",
    "\n",
    "def get_distance_attribute(index0, index1, edge_indexes, edge_attributes):\n",
    "    # Create a mask to find matching edges\n",
    "    mask_direct  = (edge_indexes[0] == index0) & (edge_indexes[1] == index1)\n",
    "    mask_reverse = (edge_indexes[0] == index1) & (edge_indexes[1] == index0)\n",
    "    \n",
    "    # Check if any edge satisfies the conditions\n",
    "    matching_edge_indices = np.where(mask_direct | mask_reverse)[0]\n",
    "    \n",
    "    if len(matching_edge_indices) == 0:\n",
    "        return None  # The pair is not linked\n",
    "    \n",
    "    # Get the distance attribute from the first matching edge\n",
    "    distance_attribute = edge_attributes[matching_edge_indices[0]]\n",
    "    \n",
    "    return distance_attribute\n",
    "\n",
    "\n",
    "def find_initial_basis(total_particles, edge_indexes, edge_attributes):\n",
    "    for idx_0 in range(total_particles):\n",
    "        for idx_1 in np.arange(idx_0+1, total_particles):\n",
    "            for idx_2 in np.arange(idx_1+1, total_particles):\n",
    "                cdn_01 = (get_distance_attribute(idx_0, idx_1, edge_indexes, edge_attributes) is not None)\n",
    "                cdn_12 = (get_distance_attribute(idx_1, idx_2, edge_indexes, edge_attributes) is not None)\n",
    "                cdn_02 = (get_distance_attribute(idx_0, idx_2, edge_indexes, edge_attributes) is not None)\n",
    "                if cdn_01 and cdn_12 and cdn_02:\n",
    "                    # Get necessary distances\n",
    "                    d_01 = get_distance_attribute(idx_0, idx_1, edge_indexes, edge_attributes)\n",
    "                    d_02 = get_distance_attribute(idx_0, idx_2, edge_indexes, edge_attributes)\n",
    "                    d_12 = get_distance_attribute(idx_1, idx_2, edge_indexes, edge_attributes)\n",
    "\n",
    "                    # Reference the first three atoms\n",
    "                    x2 = (np.power(d_01, 2) + np.power(d_02, 2) - np.power(d_12, 2)) / (2 * d_01)\n",
    "                    y2 = np.sqrt(np.power(d_02, 2) - np.power(x2, 2))\n",
    "\n",
    "                    r0 = np.array([0,    0,  0])\n",
    "                    r1 = np.array([d_01, 0,  0])\n",
    "                    r2 = np.array([x2,   y2, 0])\n",
    "\n",
    "                    # Check non-collinearity\n",
    "                    if not are_3_points_collinear(r0, r1, r2):\n",
    "                        return idx_0, idx_1, idx_2, r0, r1, r2\n",
    "\n",
    "\n",
    "def find_valid_reference(n_connected, idx_connected, edge_indexes, edge_attributes):\n",
    "    if n_connected >= 4:\n",
    "        for i in range(n_connected):\n",
    "            for j in np.arange(i+1, n_connected):\n",
    "                for k in np.arange(j+1, n_connected):\n",
    "                    for l in np.arange(k+1, n_connected):\n",
    "                        idx_0 = idx_connected[i]\n",
    "                        idx_1 = idx_connected[j]\n",
    "                        idx_2 = idx_connected[k]\n",
    "                        idx_3 = idx_connected[l]\n",
    "\n",
    "                        r0 = cartesian_positions[idx_0]\n",
    "                        r1 = cartesian_positions[idx_1]\n",
    "                        r2 = cartesian_positions[idx_2]\n",
    "                        r3 = cartesian_positions[idx_3]\n",
    "\n",
    "                        # Get necessary distances\n",
    "                        d_0n = get_distance_attribute(idx_0, idx, edge_indexes, edge_attributes)\n",
    "                        d_1n = get_distance_attribute(idx_1, idx, edge_indexes, edge_attributes)\n",
    "                        d_2n = get_distance_attribute(idx_2, idx, edge_indexes, edge_attributes)\n",
    "                        d_3n = get_distance_attribute(idx_3, idx, edge_indexes, edge_attributes)\n",
    "\n",
    "                        temp_position = allocate_atom_4n(r0, r1, r2, r3, d_0n, d_1n, d_2n, d_3n)\n",
    "\n",
    "                        if temp_position is not None:\n",
    "                            return temp_position\n",
    "    elif n_connected == 3:\n",
    "        for i in range(n_connected):\n",
    "            for j in np.arange(i+1, n_connected):\n",
    "                for k in np.arange(j+1, n_connected):\n",
    "                    idx_0 = idx_connected[i]\n",
    "                    idx_1 = idx_connected[j]\n",
    "                    idx_2 = idx_connected[k]\n",
    "\n",
    "                    r0 = cartesian_positions[idx_0]\n",
    "                    r1 = cartesian_positions[idx_1]\n",
    "                    r2 = cartesian_positions[idx_2]\n",
    "\n",
    "                    # Get necessary distances\n",
    "                    d_0n = get_distance_attribute(idx_0, idx, edge_indexes, edge_attributes)\n",
    "                    d_1n = get_distance_attribute(idx_1, idx, edge_indexes, edge_attributes)\n",
    "                    d_2n = get_distance_attribute(idx_2, idx, edge_indexes, edge_attributes)\n",
    "\n",
    "                    temp_position = allocate_atom_3n(r0, r1, r2, d_0n, d_1n, d_2n)\n",
    "\n",
    "                    if temp_position is not None:\n",
    "                        return temp_position\n",
    "    else:\n",
    "        sys.exit(f'Error: only {n_connected} particles, not enough.')"
   ]
  },
  {
   "cell_type": "markdown",
   "id": "3ba0fbc2",
   "metadata": {},
   "source": [
    "### Fix 1, 2, 3"
   ]
  },
  {
   "cell_type": "code",
   "execution_count": 7,
   "id": "8d9066f1",
   "metadata": {
    "ExecuteTime": {
     "end_time": "2024-03-20T10:57:33.758433Z",
     "start_time": "2024-03-20T10:57:33.573863Z"
    }
   },
   "outputs": [
    {
     "data": {
      "text/plain": "{0: array([0, 0, 0]),\n 1: array([1.44056427, 0.        , 0.        ]),\n 2: array([2.24985811, 1.10528389, 0.        ])}"
     },
     "execution_count": 7,
     "metadata": {},
     "output_type": "execute_result"
    }
   ],
   "source": [
    "# Extract indexes and attributes from the graph\n",
    "edge_indexes    = edges.T.detach().cpu().numpy().copy()\n",
    "edge_attributes = attributes.detach().cpu().numpy().copy().flatten()\n",
    "\n",
    "# Define the number of atoms in the graph\n",
    "total_particles = len(nodes)\n",
    "\n",
    "# Select three initial particles which are interconnected (non-collinearity is checked)\n",
    "idx_0, idx_1, idx_2, r0, r1, r2 = find_initial_basis(total_particles, edge_indexes, edge_attributes)\n",
    "\n",
    "# Fix three particles at the beginning\n",
    "cartesian_positions = {\n",
    "    idx_0: r0,\n",
    "    idx_1: r1,\n",
    "    idx_2: r2\n",
    "}\n",
    "\n",
    "all_idxs = np.delete(np.arange(total_particles),\n",
    "                     [idx_0, idx_1, idx_2])\n",
    "cartesian_positions"
   ]
  },
  {
   "cell_type": "markdown",
   "id": "3ffd3524",
   "metadata": {},
   "source": [
    "### Impose 4"
   ]
  },
  {
   "cell_type": "code",
   "execution_count": 8,
   "id": "32072023",
   "metadata": {
    "ExecuteTime": {
     "end_time": "2024-03-20T10:57:42.944045Z",
     "start_time": "2024-03-20T10:57:42.866899Z"
    }
   },
   "outputs": [
    {
     "data": {
      "text/plain": "{0: array([0, 0, 0]),\n 1: array([1.44056427, 0.        , 0.        ]),\n 2: array([2.24985811, 1.10528389, 0.        ]),\n 3: array([3.525796  , 0.7735941 , 0.00462409])}"
     },
     "execution_count": 8,
     "metadata": {},
     "output_type": "execute_result"
    }
   ],
   "source": [
    "# Impose a fourth particle\n",
    "cartesian_positions_list = cartesian_positions.values()\n",
    "for idx_3 in all_idxs:\n",
    "    n_connected, _ = get_n_connected(idx_3, cartesian_positions, edge_indexes, edge_attributes)\n",
    "    if n_connected >= 3:\n",
    "        # Get necessary distances\n",
    "        d_0n = get_distance_attribute(idx_0, idx_3, edge_indexes, edge_attributes)\n",
    "        d_1n = get_distance_attribute(idx_1, idx_3, edge_indexes, edge_attributes)\n",
    "        d_2n = get_distance_attribute(idx_2, idx_3, edge_indexes, edge_attributes)\n",
    "        if (d_0n is not None) and (d_1n is not None) and (d_2n is not None):\n",
    "            temp_position = allocate_atom_3n(r0, r1, r2, d_0n, d_1n, d_2n)\n",
    "            \n",
    "            # Check non-collinearity\n",
    "            if not are_4_points_collinear(r0, r1, r2, temp_position):\n",
    "                # Generate temporal dictionary with the cartesian coordinates\n",
    "                temp_dict = {\n",
    "                    idx_3: temp_position\n",
    "                }\n",
    "\n",
    "                # Update general dictionary with cartesian coordinates\n",
    "                cartesian_positions.update(temp_dict)\n",
    "                break\n",
    "        \n",
    "all_idxs = np.delete(all_idxs,\n",
    "                     [idx_3])\n",
    "\n",
    "n_connected_list = all_idxs.tolist()\n",
    "cartesian_positions"
   ]
  },
  {
   "cell_type": "markdown",
   "id": "25389e33",
   "metadata": {},
   "source": [
    "### Main loop"
   ]
  },
  {
   "cell_type": "code",
   "outputs": [],
   "source": [
    "def are_correctly_unconnected(temp_position, unconnected_cartesian_positions, distance_threshold):\n",
    "    \"\"\"\n",
    "    Check if a temporary position is correctly unconnected from a set of other positions.\n",
    "\n",
    "    Args:\n",
    "        temp_position (numpy.ndarray): The temporary position to check.\n",
    "        unconnected_cartesian_positions (dict): Dictionary containing unconnected positions.\n",
    "        distance_threshold (float): Threshold for Euclidean distance.\n",
    "\n",
    "    Returns:\n",
    "        bool: True if temp_position is correctly unconnected, False otherwise.\n",
    "    \"\"\"\n",
    "    # Optimized implementation:\n",
    "    #return all(np.linalg.norm(temp_position - point) > distance_threshold for point in unconnected_cartesian_positions.values())\n",
    "    return True\n"
   ],
   "metadata": {
    "collapsed": false,
    "ExecuteTime": {
     "end_time": "2024-03-20T11:08:57.019653Z",
     "start_time": "2024-03-20T11:08:56.953062Z"
    }
   },
   "id": "9926a1cd607ec67d",
   "execution_count": 21
  },
  {
   "cell_type": "code",
   "execution_count": 25,
   "id": "66d335a7",
   "metadata": {
    "ExecuteTime": {
     "end_time": "2024-03-20T11:11:13.351056Z",
     "start_time": "2024-03-20T11:11:12.883929Z"
    }
   },
   "outputs": [
    {
     "name": "stdout",
     "output_type": "stream",
     "text": [
      "\n",
      "12\n",
      "[12, 13, 14, 15, 16, 17, 18, 19, 20, 21, 22, 23, 24, 25, 26, 27, 28, 29, 30, 31]\n"
     ]
    },
    {
     "ename": "TypeError",
     "evalue": "unsupported operand type(s) for -: 'float' and 'NoneType'",
     "output_type": "error",
     "traceback": [
      "\u001B[0;31m---------------------------------------------------------------------------\u001B[0m",
      "\u001B[0;31mTypeError\u001B[0m                                 Traceback (most recent call last)",
      "Cell \u001B[0;32mIn[25], line 18\u001B[0m\n\u001B[1;32m     15\u001B[0m \u001B[38;5;66;03m# Set idx in cartesian_positions or else add it to n_connected_list\u001B[39;00m\n\u001B[1;32m     16\u001B[0m \u001B[38;5;28;01mif\u001B[39;00m n_connected \u001B[38;5;241m>\u001B[39m\u001B[38;5;241m=\u001B[39m \u001B[38;5;241m3\u001B[39m:\n\u001B[1;32m     17\u001B[0m     \u001B[38;5;66;03m# Extract the cartesian coordinates of idx\u001B[39;00m\n\u001B[0;32m---> 18\u001B[0m     temp_position \u001B[38;5;241m=\u001B[39m \u001B[43mfind_valid_reference\u001B[49m\u001B[43m(\u001B[49m\u001B[43mn_connected\u001B[49m\u001B[43m,\u001B[49m\u001B[43m \u001B[49m\u001B[43midx_connected\u001B[49m\u001B[43m,\u001B[49m\u001B[43m \u001B[49m\u001B[43medge_indexes\u001B[49m\u001B[43m,\u001B[49m\u001B[43m \u001B[49m\u001B[43medge_attributes\u001B[49m\u001B[43m)\u001B[49m\n\u001B[1;32m     20\u001B[0m     \u001B[38;5;66;03m# Check unconnections\u001B[39;00m\n\u001B[1;32m     21\u001B[0m     \u001B[38;5;28;01mif\u001B[39;00m are_correctly_unconnected(temp_position, unconnected_cartesian_positions, distance_threshold):\n\u001B[1;32m     22\u001B[0m         \u001B[38;5;66;03m# Generate temporal dictionary with the cartesian coordinates\u001B[39;00m\n",
      "Cell \u001B[0;32mIn[6], line 122\u001B[0m, in \u001B[0;36mfind_valid_reference\u001B[0;34m(n_connected, idx_connected, edge_indexes, edge_attributes)\u001B[0m\n\u001B[1;32m    119\u001B[0m d_2n \u001B[38;5;241m=\u001B[39m get_distance_attribute(idx_2, idx, edge_indexes, edge_attributes)\n\u001B[1;32m    120\u001B[0m d_3n \u001B[38;5;241m=\u001B[39m get_distance_attribute(idx_3, idx, edge_indexes, edge_attributes)\n\u001B[0;32m--> 122\u001B[0m temp_position \u001B[38;5;241m=\u001B[39m \u001B[43mallocate_atom_4n\u001B[49m\u001B[43m(\u001B[49m\u001B[43mr0\u001B[49m\u001B[43m,\u001B[49m\u001B[43m \u001B[49m\u001B[43mr1\u001B[49m\u001B[43m,\u001B[49m\u001B[43m \u001B[49m\u001B[43mr2\u001B[49m\u001B[43m,\u001B[49m\u001B[43m \u001B[49m\u001B[43mr3\u001B[49m\u001B[43m,\u001B[49m\u001B[43m \u001B[49m\u001B[43md_0n\u001B[49m\u001B[43m,\u001B[49m\u001B[43m \u001B[49m\u001B[43md_1n\u001B[49m\u001B[43m,\u001B[49m\u001B[43m \u001B[49m\u001B[43md_2n\u001B[49m\u001B[43m,\u001B[49m\u001B[43m \u001B[49m\u001B[43md_3n\u001B[49m\u001B[43m)\u001B[49m\n\u001B[1;32m    124\u001B[0m \u001B[38;5;28;01mif\u001B[39;00m temp_position \u001B[38;5;129;01mis\u001B[39;00m \u001B[38;5;129;01mnot\u001B[39;00m \u001B[38;5;28;01mNone\u001B[39;00m:\n\u001B[1;32m    125\u001B[0m     \u001B[38;5;28;01mreturn\u001B[39;00m temp_position\n",
      "Cell \u001B[0;32mIn[5], line 35\u001B[0m, in \u001B[0;36mallocate_atom_4n\u001B[0;34m(P1, P2, P3, P4, r1, r2, r3, r4)\u001B[0m\n\u001B[1;32m     31\u001B[0m K2 \u001B[38;5;241m=\u001B[39m P1 \u001B[38;5;241m+\u001B[39m X \u001B[38;5;241m*\u001B[39m Xn \u001B[38;5;241m+\u001B[39m Y \u001B[38;5;241m*\u001B[39m Yn \u001B[38;5;241m+\u001B[39m Z2 \u001B[38;5;241m*\u001B[39m Zn\n\u001B[1;32m     33\u001B[0m fourth_threshold \u001B[38;5;241m=\u001B[39m \u001B[38;5;241m1e-4\u001B[39m\n\u001B[0;32m---> 35\u001B[0m \u001B[38;5;28;01mif\u001B[39;00m np\u001B[38;5;241m.\u001B[39mabs(np\u001B[38;5;241m.\u001B[39mlinalg\u001B[38;5;241m.\u001B[39mnorm(\u001B[43mK1\u001B[49m\u001B[43m \u001B[49m\u001B[38;5;241;43m-\u001B[39;49m\u001B[43m \u001B[49m\u001B[43mP4\u001B[49m) \u001B[38;5;241m-\u001B[39m r4) \u001B[38;5;241m<\u001B[39m fourth_threshold:\n\u001B[1;32m     36\u001B[0m     \u001B[38;5;28;01mreturn\u001B[39;00m K1\n\u001B[1;32m     37\u001B[0m \u001B[38;5;28;01melif\u001B[39;00m np\u001B[38;5;241m.\u001B[39mabs(np\u001B[38;5;241m.\u001B[39mlinalg\u001B[38;5;241m.\u001B[39mnorm(K2 \u001B[38;5;241m-\u001B[39m P4) \u001B[38;5;241m-\u001B[39m r4) \u001B[38;5;241m<\u001B[39m fourth_threshold:\n",
      "\u001B[0;31mTypeError\u001B[0m: unsupported operand type(s) for -: 'float' and 'NoneType'"
     ]
    }
   ],
   "source": [
    "while len(n_connected_list):  # Goes until all particles have been studied\n",
    "    # Using a first-one-first-out approach\n",
    "    idx = n_connected_list[0]\n",
    "\n",
    "    n_connected, idx_connected = get_n_connected(idx, cartesian_positions, edge_indexes, edge_attributes)\n",
    "    unconnected_cartesian_positions = {key: value for key, value in cartesian_positions.items() if key not in idx_connected}\n",
    "    \n",
    "    print()\n",
    "    print(idx)\n",
    "    print(n_connected_list)\n",
    "\n",
    "    # Remove idx from connected_dict\n",
    "    n_connected_list.remove(idx)\n",
    "    \n",
    "    # Set idx in cartesian_positions or else add it to n_connected_list\n",
    "    if n_connected >= 3:\n",
    "        # Extract the cartesian coordinates of idx\n",
    "        temp_position = find_valid_reference(n_connected, idx_connected, edge_indexes, edge_attributes)\n",
    "\n",
    "        # Check unconnections\n",
    "        if are_correctly_unconnected(temp_position, unconnected_cartesian_positions, distance_threshold):\n",
    "            # Generate temporal dictionary with the cartesian coordinates\n",
    "            temp_dict = {\n",
    "                idx: temp_position\n",
    "            }\n",
    "\n",
    "            # Update general dictionary with cartesian coordinates\n",
    "            cartesian_positions.update(temp_dict)\n",
    "        else:\n",
    "            # n_connected_list is updated adding idx where it belongs to\n",
    "            n_connected_list.append(idx)\n",
    "    else:\n",
    "        # n_connected_list is updated adding idx where it belongs to\n",
    "        n_connected_list.append(idx)"
   ]
  },
  {
   "cell_type": "code",
   "execution_count": null,
   "id": "4a29095d",
   "metadata": {},
   "outputs": [],
   "source": [
    "for i in range(total_particles):\n",
    "    print(cartesian_positions[i])"
   ]
  }
 ],
 "metadata": {
  "kernelspec": {
   "display_name": "Python 3 (ipykernel)",
   "language": "python",
   "name": "python3"
  },
  "language_info": {
   "codemirror_mode": {
    "name": "ipython",
    "version": 3
   },
   "file_extension": ".py",
   "mimetype": "text/x-python",
   "name": "python",
   "nbconvert_exporter": "python",
   "pygments_lexer": "ipython3",
   "version": "3.11.1"
  }
 },
 "nbformat": 4,
 "nbformat_minor": 5
}
